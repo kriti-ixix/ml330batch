{
 "cells": [
  {
   "cell_type": "code",
   "execution_count": 2,
   "id": "489eb617",
   "metadata": {},
   "outputs": [],
   "source": [
    "import seaborn as sns\n",
    "import matplotlib.pyplot as plt\n",
    "\n",
    "%matplotlib inline"
   ]
  },
  {
   "cell_type": "code",
   "execution_count": 3,
   "id": "e2d123bc",
   "metadata": {},
   "outputs": [],
   "source": [
    "from sklearn.datasets import make_blobs"
   ]
  },
  {
   "cell_type": "code",
   "execution_count": 4,
   "id": "177115de",
   "metadata": {},
   "outputs": [
    {
     "data": {
      "text/plain": [
       "<function sklearn.datasets._samples_generator.make_blobs(n_samples=100, n_features=2, *, centers=None, cluster_std=1.0, center_box=(-10.0, 10.0), shuffle=True, random_state=None, return_centers=False)>"
      ]
     },
     "execution_count": 4,
     "metadata": {},
     "output_type": "execute_result"
    }
   ],
   "source": [
    "make_blobs"
   ]
  },
  {
   "cell_type": "code",
   "execution_count": 33,
   "id": "41e72a8e",
   "metadata": {},
   "outputs": [],
   "source": [
    "data = make_blobs(n_samples=200, n_features=2, centers=2, cluster_std=1.0, random_state=101)"
   ]
  },
  {
   "cell_type": "code",
   "execution_count": 34,
   "id": "a3b3dff5",
   "metadata": {},
   "outputs": [
    {
     "data": {
      "text/plain": [
       "(array([[-10.26167723,  -7.06350819],\n",
       "        [ -2.40902204,   2.93591385],\n",
       "        [ -7.76150458,  -5.08941917],\n",
       "        [-11.14547808,  -5.21952108],\n",
       "        [-10.51163375,  -6.56992184],\n",
       "        [  0.67151174,   1.60962705],\n",
       "        [ -9.31137051,  -5.90385229],\n",
       "        [  0.51509708,   0.68050659],\n",
       "        [  0.56609951,   3.41000402],\n",
       "        [  0.85678605,   0.8243512 ],\n",
       "        [ -8.07870843,  -6.312384  ],\n",
       "        [  1.235942  ,   1.91717749],\n",
       "        [-10.71183576,  -5.29283543],\n",
       "        [  0.3694325 ,   1.00229633],\n",
       "        [  1.13567847,   1.48631141],\n",
       "        [  0.12218026,   3.90734192],\n",
       "        [  0.20259175,   0.46776361],\n",
       "        [ -7.63152559,  -7.88242054],\n",
       "        [ -8.56691987,  -7.64615738],\n",
       "        [ -0.75249891,   2.31574949],\n",
       "        [ -0.24060881,   2.82068999],\n",
       "        [  0.93682985,   1.69982473],\n",
       "        [  0.04846234,   2.47606215],\n",
       "        [ -9.33981673,  -5.24785153],\n",
       "        [ -9.61241916,  -7.17280234],\n",
       "        [ -0.52010443,   2.01931709],\n",
       "        [-10.01089845,  -5.36053959],\n",
       "        [ -8.56686995,  -7.29630753],\n",
       "        [  1.32054601,   2.60559237],\n",
       "        [-10.72207465,  -5.56856467],\n",
       "        [  0.29681207,   3.35328405],\n",
       "        [  0.88674196,   2.43816202],\n",
       "        [ -1.05494754,   2.89584723],\n",
       "        [-10.85146495,  -6.24790729],\n",
       "        [-10.51795136,  -9.1373338 ],\n",
       "        [ -8.44174263,  -6.05573415],\n",
       "        [ -9.44649023,  -8.00269747],\n",
       "        [ -8.87772115,  -6.76007802],\n",
       "        [ -9.16430869,  -6.15698671],\n",
       "        [  1.19213743,  -0.14757971],\n",
       "        [ -6.6455058 ,  -5.04581642],\n",
       "        [ -0.80867204,   1.41371822],\n",
       "        [-10.83964115,  -5.69865986],\n",
       "        [ -8.88635623,  -5.87127114],\n",
       "        [  0.71400287,   3.49737027],\n",
       "        [ -9.39692509,  -6.78977481],\n",
       "        [-11.48307839,  -6.73621299],\n",
       "        [ -1.64463255,   0.5464667 ],\n",
       "        [ -0.47667896,   1.66689978],\n",
       "        [ -9.56242161,  -7.90465861],\n",
       "        [  1.93475242,   0.29764177],\n",
       "        [ -0.05528558,   1.00403325],\n",
       "        [-11.98317573,  -6.60149385],\n",
       "        [  0.51876688,   3.39210906],\n",
       "        [ -1.13954147,   0.91925638],\n",
       "        [ -8.22877144,  -7.39003004],\n",
       "        [ -8.52768961,  -7.10747603],\n",
       "        [ -9.72895121,  -6.5404254 ],\n",
       "        [  0.38163401,  -0.70176136],\n",
       "        [ -0.05213095,  -0.25270744],\n",
       "        [  1.46167554,   1.94153847],\n",
       "        [-10.46009263,  -8.09442241],\n",
       "        [  0.50598165,   0.78654633],\n",
       "        [  1.04876015,   0.1902697 ],\n",
       "        [ -0.65480344,   3.64490698],\n",
       "        [ -8.65854543,  -6.27535025],\n",
       "        [ -0.97850975,  -0.21957226],\n",
       "        [-11.02968613,  -8.63840323],\n",
       "        [  1.13010192,  -0.25418504],\n",
       "        [ -0.61543385,   1.89810338],\n",
       "        [  0.0760756 ,   0.83523148],\n",
       "        [ -9.31593459,  -6.93805437],\n",
       "        [  0.52549654,   3.716339  ],\n",
       "        [-10.82203453,  -6.4220804 ],\n",
       "        [-10.21650206,  -5.58839743],\n",
       "        [ -9.41699606,  -8.72605453],\n",
       "        [-11.31432419,  -7.88370905],\n",
       "        [  0.9790905 ,   1.09403369],\n",
       "        [ -0.52722349,   2.95534215],\n",
       "        [ -8.4903952 ,  -5.82334566],\n",
       "        [ -0.21928733,   1.91007869],\n",
       "        [-10.19644555,  -5.60726771],\n",
       "        [ -1.69019569,   2.15347379],\n",
       "        [  0.29639341,   2.06317757],\n",
       "        [  1.00918185,   2.44847681],\n",
       "        [-12.16697992,  -7.55471973],\n",
       "        [  1.00550767,   1.43945722],\n",
       "        [  1.30369223,   1.02511304],\n",
       "        [  1.1112886 ,   0.704398  ],\n",
       "        [ -8.17757184,  -7.61791421],\n",
       "        [ -0.04854612,   1.64368808],\n",
       "        [ -0.64342001,  -0.10898114],\n",
       "        [ -9.87638825,  -5.88369311],\n",
       "        [-10.9729082 ,  -7.39067645],\n",
       "        [-10.6252148 ,  -6.71479817],\n",
       "        [ -9.24503648,  -7.56358517],\n",
       "        [  1.28943071,  -0.72786055],\n",
       "        [ -1.057406  ,   0.08369168],\n",
       "        [ -0.42735279,   1.06693323],\n",
       "        [  0.96977807,   0.50825184],\n",
       "        [ -9.58579122,  -7.58279489],\n",
       "        [  0.16543782,   1.89916047],\n",
       "        [ -0.90764171,   0.61492378],\n",
       "        [ -8.76948627,  -6.90248768],\n",
       "        [  1.08209399,   0.64131109],\n",
       "        [  0.72143331,   0.7828451 ],\n",
       "        [ -0.60526466,   2.36840825],\n",
       "        [-10.15998181,  -7.28967662],\n",
       "        [ -6.82927538,  -7.18211884],\n",
       "        [ -7.67850105,  -5.87402015],\n",
       "        [  0.29354092,   2.10176016],\n",
       "        [ -9.89927176,  -5.70946984],\n",
       "        [ -7.92076846,  -6.39488367],\n",
       "        [ -9.98139147,  -5.6275219 ],\n",
       "        [ -8.9711724 ,  -5.98405419],\n",
       "        [ -0.5979017 ,   3.27621588],\n",
       "        [ -9.20042843,  -5.95090888],\n",
       "        [  0.21119924,   3.31510653],\n",
       "        [ -9.5717817 ,  -6.48403807],\n",
       "        [ -0.80584461,   2.02382964],\n",
       "        [ -9.27685464,  -6.40192863],\n",
       "        [ -8.02332663,  -6.50859607],\n",
       "        [  2.93393983,   2.09686062],\n",
       "        [  0.63360407,   1.65652935],\n",
       "        [ -9.12346959,  -6.03963994],\n",
       "        [-10.28821176,  -6.94306206],\n",
       "        [-10.28881968,  -6.79177712],\n",
       "        [ -9.1989063 ,  -6.41415498],\n",
       "        [ -1.37811338,   0.25423232],\n",
       "        [ -0.06311641,   3.15682868],\n",
       "        [ -0.76972047,  -0.49465708],\n",
       "        [ -9.62621816,  -7.22168634],\n",
       "        [ -7.34539957,  -6.86138854],\n",
       "        [ -8.5099903 ,  -5.22042935],\n",
       "        [ -7.26509435,  -7.83680705],\n",
       "        [  0.72046137,   1.63484242],\n",
       "        [  0.65581729,   2.08783692],\n",
       "        [-10.3587203 ,  -5.72266298],\n",
       "        [  0.56496818,   1.61413221],\n",
       "        [ -8.42319134,  -6.23978322],\n",
       "        [-10.24742172,  -6.44728027],\n",
       "        [-10.40586482,  -7.62441747],\n",
       "        [  0.47499933,   0.9339037 ],\n",
       "        [ -0.20449797,   3.53107912],\n",
       "        [ -8.67477327,  -4.81144513],\n",
       "        [ -9.73898718,  -7.41163337],\n",
       "        [ -9.80837696,  -4.61414699],\n",
       "        [ -8.96708797,  -8.77600892],\n",
       "        [  0.630638  ,   3.10707466],\n",
       "        [ -9.02292902,  -5.76172413],\n",
       "        [ -0.06318407,   2.4416449 ],\n",
       "        [ -9.48171833,  -7.0086949 ],\n",
       "        [ -7.84470308,  -5.63990903],\n",
       "        [ -8.54148459,  -8.40882774],\n",
       "        [ -8.42645932,  -5.53765102],\n",
       "        [  0.99429187,   0.87511711],\n",
       "        [-10.98018657,  -6.13431395],\n",
       "        [  0.19313183,   1.80387958],\n",
       "        [ -0.67721436,   0.67156203],\n",
       "        [  0.91481985,  -0.20799609],\n",
       "        [ -9.01310364,  -5.29629752],\n",
       "        [  0.96675957,   1.74299804],\n",
       "        [ -9.21628128,  -6.81007682],\n",
       "        [ -7.57554831,  -6.06731654],\n",
       "        [ -9.92543294,  -6.4977969 ],\n",
       "        [-10.35911774,  -4.85361671],\n",
       "        [  0.49487719,   1.5978536 ],\n",
       "        [-10.85727399,  -5.30909143],\n",
       "        [ -9.56632798,  -7.28023388],\n",
       "        [ -0.16913147,   0.65928204],\n",
       "        [ -9.65039702,  -6.27677174],\n",
       "        [ -8.14028554,  -8.04788624],\n",
       "        [  0.65883817,   0.35030284],\n",
       "        [ -9.71577224,  -4.47902773],\n",
       "        [ -8.78538309,  -6.86720396],\n",
       "        [  1.05699629,   0.55026047],\n",
       "        [  0.48975374,   2.24638106],\n",
       "        [ -9.30442973,  -6.10352273],\n",
       "        [  0.9771203 ,   1.77229226],\n",
       "        [  0.42160054,   2.65416435],\n",
       "        [ -1.3503111 ,   1.74732484],\n",
       "        [  1.45799061,   2.31114805],\n",
       "        [  0.28229607,   1.42577273],\n",
       "        [  2.482819  ,   0.80309288],\n",
       "        [  0.40949591,   0.99816062],\n",
       "        [ -8.17061178,  -7.01746523],\n",
       "        [ -8.59616095,  -6.70999871],\n",
       "        [-10.93155671,  -5.51120995],\n",
       "        [  0.15391601,   2.19349145],\n",
       "        [  0.51666786,   0.65447968],\n",
       "        [ -9.51981391,  -5.87100047],\n",
       "        [-10.23335864,  -6.82304626],\n",
       "        [ -1.07031712,   1.19404102],\n",
       "        [ -0.66529095,   1.61015124],\n",
       "        [ -0.44335605,   1.52382915],\n",
       "        [ -0.71880698,   2.70611631],\n",
       "        [  1.35395671,   1.25675383],\n",
       "        [ -8.63638696,  -5.2098549 ],\n",
       "        [  2.35751674,   0.36699335],\n",
       "        [-10.28537537,  -4.96675134]]),\n",
       " array([1, 0, 1, 1, 1, 0, 1, 0, 0, 0, 1, 0, 1, 0, 0, 0, 0, 1, 1, 0, 0, 0,\n",
       "        0, 1, 1, 0, 1, 1, 0, 1, 0, 0, 0, 1, 1, 1, 1, 1, 1, 0, 1, 0, 1, 1,\n",
       "        0, 1, 1, 0, 0, 1, 0, 0, 1, 0, 0, 1, 1, 1, 0, 0, 0, 1, 0, 0, 0, 1,\n",
       "        0, 1, 0, 0, 0, 1, 0, 1, 1, 1, 1, 0, 0, 1, 0, 1, 0, 0, 0, 1, 0, 0,\n",
       "        0, 1, 0, 0, 1, 1, 1, 1, 0, 0, 0, 0, 1, 0, 0, 1, 0, 0, 0, 1, 1, 1,\n",
       "        0, 1, 1, 1, 1, 0, 1, 0, 1, 0, 1, 1, 0, 0, 1, 1, 1, 1, 0, 0, 0, 1,\n",
       "        1, 1, 1, 0, 0, 1, 0, 1, 1, 1, 0, 0, 1, 1, 1, 1, 0, 1, 0, 1, 1, 1,\n",
       "        1, 0, 1, 0, 0, 0, 1, 0, 1, 1, 1, 1, 0, 1, 1, 0, 1, 1, 0, 1, 1, 0,\n",
       "        0, 1, 0, 0, 0, 0, 0, 0, 0, 1, 1, 1, 0, 0, 1, 1, 0, 0, 0, 0, 0, 1,\n",
       "        0, 1]))"
      ]
     },
     "execution_count": 34,
     "metadata": {},
     "output_type": "execute_result"
    }
   ],
   "source": [
    "data"
   ]
  },
  {
   "cell_type": "code",
   "execution_count": 35,
   "id": "a7f5550a",
   "metadata": {},
   "outputs": [
    {
     "data": {
      "text/plain": [
       "2"
      ]
     },
     "execution_count": 35,
     "metadata": {},
     "output_type": "execute_result"
    }
   ],
   "source": [
    "len(data)"
   ]
  },
  {
   "cell_type": "code",
   "execution_count": 36,
   "id": "3499acb2",
   "metadata": {},
   "outputs": [
    {
     "data": {
      "text/plain": [
       "(200, 2)"
      ]
     },
     "execution_count": 36,
     "metadata": {},
     "output_type": "execute_result"
    }
   ],
   "source": [
    "data[0].shape"
   ]
  },
  {
   "cell_type": "code",
   "execution_count": 37,
   "id": "a0d8b3d4",
   "metadata": {},
   "outputs": [
    {
     "data": {
      "text/plain": [
       "array([1, 0, 1, 1, 1, 0, 1, 0, 0, 0, 1, 0, 1, 0, 0, 0, 0, 1, 1, 0, 0, 0,\n",
       "       0, 1, 1, 0, 1, 1, 0, 1, 0, 0, 0, 1, 1, 1, 1, 1, 1, 0, 1, 0, 1, 1,\n",
       "       0, 1, 1, 0, 0, 1, 0, 0, 1, 0, 0, 1, 1, 1, 0, 0, 0, 1, 0, 0, 0, 1,\n",
       "       0, 1, 0, 0, 0, 1, 0, 1, 1, 1, 1, 0, 0, 1, 0, 1, 0, 0, 0, 1, 0, 0,\n",
       "       0, 1, 0, 0, 1, 1, 1, 1, 0, 0, 0, 0, 1, 0, 0, 1, 0, 0, 0, 1, 1, 1,\n",
       "       0, 1, 1, 1, 1, 0, 1, 0, 1, 0, 1, 1, 0, 0, 1, 1, 1, 1, 0, 0, 0, 1,\n",
       "       1, 1, 1, 0, 0, 1, 0, 1, 1, 1, 0, 0, 1, 1, 1, 1, 0, 1, 0, 1, 1, 1,\n",
       "       1, 0, 1, 0, 0, 0, 1, 0, 1, 1, 1, 1, 0, 1, 1, 0, 1, 1, 0, 1, 1, 0,\n",
       "       0, 1, 0, 0, 0, 0, 0, 0, 0, 1, 1, 1, 0, 0, 1, 1, 0, 0, 0, 0, 0, 1,\n",
       "       0, 1])"
      ]
     },
     "execution_count": 37,
     "metadata": {},
     "output_type": "execute_result"
    }
   ],
   "source": [
    "data[1]"
   ]
  },
  {
   "cell_type": "code",
   "execution_count": 38,
   "id": "969ab02e",
   "metadata": {},
   "outputs": [
    {
     "data": {
      "text/plain": [
       "<matplotlib.collections.PathCollection at 0x7f8eebc141c0>"
      ]
     },
     "execution_count": 38,
     "metadata": {},
     "output_type": "execute_result"
    },
    {
     "data": {
      "image/png": "[encoded data removed]",
      "text/plain": [
       "<Figure size 432x288 with 1 Axes>"
      ]
     },
     "metadata": {
      "needs_background": "light"
     },
     "output_type": "display_data"
    }
   ],
   "source": [
    "plt.scatter(data[0][:,0], data[0][:,1], c=data[1])"
   ]
  },
  {
   "cell_type": "code",
   "execution_count": 39,
   "id": "82416057",
   "metadata": {},
   "outputs": [],
   "source": [
    "from sklearn.cluster import KMeans"
   ]
  },
  {
   "cell_type": "code",
   "execution_count": 40,
   "id": "9eb1c455",
   "metadata": {},
   "outputs": [],
   "source": [
    "kFour = KMeans(n_clusters=4)"
   ]
  },
  {
   "cell_type": "code",
   "execution_count": 41,
   "id": "6d9af9c4",
   "metadata": {},
   "outputs": [
    {
     "data": {
      "text/plain": [
       "KMeans(n_clusters=4)"
      ]
     },
     "execution_count": 41,
     "metadata": {},
     "output_type": "execute_result"
    }
   ],
   "source": [
    "kFour.fit(data[0])"
   ]
  },
  {
   "cell_type": "code",
   "execution_count": 42,
   "id": "8b4477b1",
   "metadata": {},
   "outputs": [
    {
     "data": {
      "text/plain": [
       "array([[ -8.55980611,  -6.56514704],\n",
       "       [  0.53466632,   0.78864221],\n",
       "       [-10.36684853,  -6.4659496 ],\n",
       "       [ -0.10358835,   2.53834271]])"
      ]
     },
     "execution_count": 42,
     "metadata": {},
     "output_type": "execute_result"
    }
   ],
   "source": [
    "kFour.cluster_centers_"
   ]
  },
  {
   "cell_type": "code",
   "execution_count": 43,
   "id": "b0dd6eed",
   "metadata": {},
   "outputs": [
    {
     "data": {
      "text/plain": [
       "array([2, 3, 0, 2, 2, 1, 0, 1, 3, 1, 0, 1, 2, 1, 1, 3, 1, 0, 0, 3, 3, 1,\n",
       "       3, 0, 2, 3, 2, 0, 3, 2, 3, 3, 3, 2, 2, 0, 0, 0, 0, 1, 0, 3, 2, 0,\n",
       "       3, 0, 2, 1, 3, 2, 1, 1, 2, 3, 1, 0, 0, 2, 1, 1, 1, 2, 1, 1, 3, 0,\n",
       "       1, 2, 1, 3, 1, 0, 3, 2, 2, 0, 2, 1, 3, 0, 3, 2, 3, 3, 3, 2, 1, 1,\n",
       "       1, 0, 3, 1, 2, 2, 2, 0, 1, 1, 1, 1, 2, 3, 1, 0, 1, 1, 3, 2, 0, 0,\n",
       "       3, 2, 0, 2, 0, 3, 0, 3, 2, 3, 0, 0, 1, 1, 0, 2, 2, 0, 1, 3, 1, 2,\n",
       "       0, 0, 0, 1, 3, 2, 1, 0, 2, 2, 1, 3, 0, 2, 2, 0, 3, 0, 3, 0, 0, 0,\n",
       "       0, 1, 2, 3, 1, 1, 0, 1, 0, 0, 2, 2, 1, 2, 2, 1, 2, 0, 1, 2, 0, 1,\n",
       "       3, 0, 1, 3, 3, 3, 1, 1, 1, 0, 0, 2, 3, 1, 2, 2, 1, 3, 3, 3, 1, 0,\n",
       "       1, 2], dtype=int32)"
      ]
     },
     "execution_count": 43,
     "metadata": {},
     "output_type": "execute_result"
    }
   ],
   "source": [
    "kFour.labels_"
   ]
  },
  {
   "cell_type": "code",
   "execution_count": 44,
   "id": "0b981680",
   "metadata": {},
   "outputs": [
    {
     "data": {
      "text/plain": [
       "<matplotlib.collections.PathCollection at 0x7f8eebbba1c0>"
      ]
     },
     "execution_count": 44,
     "metadata": {},
     "output_type": "execute_result"
    },
    {
     "data": {
      "image/png": "[encoded data removed]",
      "text/plain": [
       "<Figure size 432x288 with 1 Axes>"
      ]
     },
     "metadata": {
      "needs_background": "light"
     },
     "output_type": "display_data"
    }
   ],
   "source": [
    "plt.scatter(data[0][:,0], data[0][:,1], c=kFour.labels_)"
   ]
  },
  {
   "cell_type": "code",
   "execution_count": null,
   "id": "f155082d",
   "metadata": {},
   "outputs": [],
   "source": []
  }
 ],
 "metadata": {
  "kernelspec": {
   "display_name": "Python 3",
   "language": "python",
   "name": "python3"
  },
  "language_info": {
   "codemirror_mode": {
    "name": "ipython",
    "version": 3
   },
   "file_extension": ".py",
   "mimetype": "text/x-python",
   "name": "python",
   "nbconvert_exporter": "python",
   "pygments_lexer": "ipython3",
   "version": "3.8.8"
  }
 },
 "nbformat": 4,
 "nbformat_minor": 5
}

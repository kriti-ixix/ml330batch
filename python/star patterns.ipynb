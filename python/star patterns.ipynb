{
 "cells": [
  {
   "cell_type": "code",
   "execution_count": 15,
   "metadata": {},
   "outputs": [
    {
     "name": "stdout",
     "output_type": "stream",
     "text": [
      "        *\n",
      "       **\n",
      "      ***\n",
      "     ****\n",
      "    *****\n",
      "   ******\n",
      "  *******\n",
      " ********\n",
      "*********\n"
     ]
    }
   ],
   "source": [
    "j = 8\n",
    "k = 1\n",
    "\n",
    "for row in range(9):\n",
    "    \n",
    "    #Empty triangle\n",
    "    for e in range(j):\n",
    "        #print(\"e\"+str(e), end=\"\")\n",
    "        print(\" \", end=\"\")\n",
    "        \n",
    "    j -= 1\n",
    "    \n",
    "    #Star triangle\n",
    "    for s in range(k):\n",
    "        #print('s' + str(s), end=\"\")\n",
    "        print(\"*\", end=\"\")\n",
    "        \n",
    "    k += 1\n",
    "    \n",
    "    print(\"\")"
   ]
  },
  {
   "cell_type": "code",
   "execution_count": 18,
   "metadata": {
    "scrolled": true
   },
   "outputs": [
    {
     "name": "stdout",
     "output_type": "stream",
     "text": [
      "        *\n",
      "       **\n",
      "      ***\n",
      "     ****\n",
      "    *****\n",
      "   ******\n",
      "  *******\n",
      " ********\n",
      "*********\n"
     ]
    }
   ],
   "source": [
    "j = 8\n",
    "k = 1\n",
    "\n",
    "for row in range(9):\n",
    "    \n",
    "    #Empty triangle\n",
    "    print(\" \"*j, end=\"\")\n",
    "    #end is used to stop the cursor from going to the next line\n",
    "    \n",
    "    #Decreasing the number of empty spaces to print\n",
    "    j -= 1\n",
    "    \n",
    "    #Star triangle\n",
    "    print(\"*\"*k)\n",
    "    \n",
    "    #Increasing the number of stars to print\n",
    "    k += 1\n"
   ]
  },
  {
   "cell_type": "code",
   "execution_count": 19,
   "metadata": {},
   "outputs": [
    {
     "name": "stdout",
     "output_type": "stream",
     "text": [
      "        *\n",
      "       ***\n",
      "      *****\n",
      "     *******\n",
      "    *********\n",
      "   ***********\n",
      "  *************\n",
      " ***************\n",
      "*****************\n"
     ]
    }
   ],
   "source": [
    "j = 8\n",
    "k = 1\n",
    "\n",
    "for row in range(9):\n",
    "    \n",
    "    #Empty triangle\n",
    "    print(\" \"*j, end=\"\")\n",
    "        \n",
    "    j -= 1\n",
    "    \n",
    "    #Star triangle\n",
    "    print(\"*\"*k, end=\"\")\n",
    "        \n",
    "    k += 1\n",
    "    \n",
    "    print(\"*\"*row)"
   ]
  },
  {
   "cell_type": "code",
   "execution_count": 1,
   "metadata": {},
   "outputs": [
    {
     "name": "stdout",
     "output_type": "stream",
     "text": [
      "        *\n",
      "       ***\n",
      "      *****\n",
      "     *******\n",
      "    *********\n",
      "   ***********\n",
      "  *************\n",
      " ***************\n",
      "*****************\n"
     ]
    }
   ],
   "source": [
    "j = 8\n",
    "k = 1\n",
    "\n",
    "for row in range(9):\n",
    "    \n",
    "    #Empty triangle\n",
    "    print(\" \"*j, end=\"\")\n",
    "    #end is used to stop the cursor from going to the next line\n",
    "    \n",
    "    #Decreasing the number of empty spaces to print\n",
    "    j -= 1\n",
    "    \n",
    "    #Star triangle\n",
    "    print(\"*\"*k)\n",
    "    \n",
    "    #Increasing the number of stars to print\n",
    "    k += 2"
   ]
  },
  {
   "cell_type": "code",
   "execution_count": 32,
   "metadata": {},
   "outputs": [
    {
     "name": "stdout",
     "output_type": "stream",
     "text": [
      "        *\n",
      "       ***\n",
      "      *****\n",
      "     *******\n",
      "    *********\n",
      "   ***********\n",
      "  *************\n",
      " ***************\n",
      "*****************\n",
      "*****************\n",
      " ***************\n",
      "  *************\n",
      "   ***********\n",
      "    *********\n",
      "     *******\n",
      "      *****\n",
      "       ***\n",
      "        *\n"
     ]
    }
   ],
   "source": [
    "j = 8\n",
    "k = 1\n",
    "\n",
    "for row in range(9):\n",
    "    \n",
    "    #Empty triangle\n",
    "    print(\" \"*j, end=\"\")\n",
    "        \n",
    "    j -= 1\n",
    "    \n",
    "    #One side of star triangle\n",
    "    print(\"*\"*k, end=\"\")\n",
    "        \n",
    "    k += 1\n",
    "    \n",
    "    #Other side of star triangle\n",
    "    print(\"*\"*row)\n",
    "    \n",
    "l = 8\n",
    "m = 0\n",
    "n = 9\n",
    "\n",
    "for row in range(9):\n",
    "    \n",
    "    #Empty triangle\n",
    "    print(\" \"*m, end=\"\")\n",
    "        \n",
    "    m += 1\n",
    "    \n",
    "    #One side of star triangle\n",
    "    print(\"*\"*l, end=\"\")\n",
    "        \n",
    "    l -= 1\n",
    "    \n",
    "    #Other side of star triangle\n",
    "    print(\"*\"*n)\n",
    "    \n",
    "    n -= 1"
   ]
  },
  {
   "cell_type": "code",
   "execution_count": 37,
   "metadata": {},
   "outputs": [
    {
     "name": "stdout",
     "output_type": "stream",
     "text": [
      "****************\n",
      "*******  *******\n",
      "******    ******\n",
      "*****      *****\n",
      "****        ****\n",
      "***          ***\n",
      "**            **\n",
      "*              *\n",
      "                \n"
     ]
    }
   ],
   "source": [
    "j = 8\n",
    "k = 0\n",
    "\n",
    "for row in range(9):\n",
    "\n",
    "    #Left star traingle\n",
    "    print(\"*\"*j, end=\"\")\n",
    "    \n",
    "    #One side empty triangle\n",
    "    print(\" \"*k, end=\"\")\n",
    "    \n",
    "    #Other side empty triangle\n",
    "    print(\" \"*k, end=\"\")\n",
    "    k+=1\n",
    "    \n",
    "    #Right star triangle\n",
    "    print(\"*\"*j)\n",
    "    j-=1"
   ]
  },
  {
   "cell_type": "code",
   "execution_count": 43,
   "metadata": {},
   "outputs": [
    {
     "name": "stdout",
     "output_type": "stream",
     "text": [
      "****************\n",
      "*******  *******\n",
      "******    ******\n",
      "*****      *****\n",
      "****        ****\n",
      "***          ***\n",
      "**            **\n",
      "*              *\n",
      "                \n",
      "                \n",
      "*              *\n",
      "**            **\n",
      "***          ***\n",
      "****        ****\n",
      "*****      *****\n",
      "******    ******\n",
      "*******  *******\n",
      "****************\n"
     ]
    }
   ],
   "source": [
    "j = 8\n",
    "k = 0\n",
    "\n",
    "for row in range(9):\n",
    "\n",
    "    #Left star triangle\n",
    "    print(\"*\"*j, end=\"\")\n",
    "    \n",
    "    #One side empty triangle\n",
    "    print(\" \"*k, end=\"\")\n",
    "    \n",
    "    #Other side empty triangle\n",
    "    print(\" \"*k, end=\"\")\n",
    "    k+=1\n",
    "    \n",
    "    #Right star triangle\n",
    "    print(\"*\"*j)\n",
    "    j-=1\n",
    " \n",
    "\n",
    "m = 8\n",
    "n = 0\n",
    "\n",
    "for row in range(9):\n",
    "\n",
    "    #Left star traingle\n",
    "    print(\"*\"*n, end=\"\")\n",
    "    \n",
    "    #One side empty triangle\n",
    "    print(\" \"*m, end=\"\")\n",
    "    \n",
    "    #Other side empty triangle\n",
    "    print(\" \"*m, end=\"\")\n",
    "    m-=1\n",
    "    \n",
    "    #Right star triangle\n",
    "    print(\"*\"*n)\n",
    "    n+=1"
   ]
  },
  {
   "cell_type": "code",
   "execution_count": 1,
   "metadata": {},
   "outputs": [
    {
     "name": "stdout",
     "output_type": "stream",
     "text": [
      "***********\n"
     ]
    },
    {
     "data": {
      "text/plain": [
       "'\\nfor row in range(10):\\n    stars = int(init/2)\\n    c = s[:stars+1]\\n    \\n    if s[c] \\n'"
      ]
     },
     "execution_count": 1,
     "metadata": {},
     "output_type": "execute_result"
    }
   ],
   "source": [
    "init = 11\n",
    "s = \"*\"*init\n",
    "print(s)\n",
    "\n",
    "for row in range(10):\n",
    "    stars = int(init/2)\n",
    "    c = s[:stars+1]\n",
    "    \n",
    "    if s[] \n",
    "    "
   ]
  },
  {
   "cell_type": "code",
   "execution_count": null,
   "metadata": {},
   "outputs": [],
   "source": []
  }
 ],
 "metadata": {
  "kernelspec": {
   "display_name": "Python 3",
   "language": "python",
   "name": "python3"
  },
  "language_info": {
   "codemirror_mode": {
    "name": "ipython",
    "version": 3
   },
   "file_extension": ".py",
   "mimetype": "text/x-python",
   "name": "python",
   "nbconvert_exporter": "python",
   "pygments_lexer": "ipython3",
   "version": "3.8.2"
  }
 },
 "nbformat": 4,
 "nbformat_minor": 4
}

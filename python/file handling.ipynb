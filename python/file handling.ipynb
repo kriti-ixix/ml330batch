{
 "cells": [
  {
   "cell_type": "markdown",
   "metadata": {},
   "source": [
    "**Opening a file:**\n",
    "\n",
    "open(filename, mode)\n",
    "\n",
    "**Python has three modes to open a file:**\n",
    "\n",
    "r - Reading a file\n",
    "\n",
    "w - Writing to a file (Overwrites in case the file already exists)\n",
    "\n",
    "a - Appending to a file (Does not overwrite the file)\n",
    "\n",
    "r+/w+ - To both read and write to a file"
   ]
  },
  {
   "cell_type": "code",
   "execution_count": null,
   "metadata": {},
   "outputs": [],
   "source": [
    "#Writing a list to a file\n",
    "\n",
    "VacationPlaces = [\"London\", \"Paris\", \"New York\", \"Switzerland\", \"Rome\"]\n",
    "\n",
    "VacationFile = open(\"MyVacation.txt\", \"w\")\n",
    "\n",
    "for x in VacationPlaces:\n",
    "    VacationFile.write(x + \" \")\n",
    "    \n",
    "VacationFile.close()"
   ]
  },
  {
   "cell_type": "code",
   "execution_count": 10,
   "metadata": {},
   "outputs": [],
   "source": [
    "#Writing a dictionary to a file\n",
    "\n",
    "myDict = {'a':1, 'b':2, 'c':3}\n",
    "\n",
    "myFile = open(\"MyFile.txt\",\"w\")\n",
    "\n",
    "for (x,y) in myDict.items():\n",
    "    myFile.write(x + \":\" + str(y) + \"\\n\")\n",
    "    \n",
    "myFile.close()"
   ]
  },
  {
   "cell_type": "code",
   "execution_count": 12,
   "metadata": {},
   "outputs": [
    {
     "name": "stdout",
     "output_type": "stream",
     "text": [
      "London \n",
      "\n",
      "Paris \n",
      "\n",
      "New York \n",
      "\n",
      "Switzerland \n",
      "\n",
      "Rome \n"
     ]
    }
   ],
   "source": [
    "#Reading from a file\n",
    "\n",
    "readingFile = open(\"MyVacation.txt\", \"r\")\n",
    "#print(readingFile.read())\n",
    "\n",
    "#This loop is used to read the file line by line\n",
    "for line in readingFile:\n",
    "    print(line)\n",
    "    \n",
    "readingFile.close()"
   ]
  },
  {
   "cell_type": "code",
   "execution_count": 16,
   "metadata": {},
   "outputs": [
    {
     "name": "stdout",
     "output_type": "stream",
     "text": [
      "London \n",
      "\n",
      "Paris \n",
      "\n"
     ]
    }
   ],
   "source": [
    "#Reading only first two lines\n",
    "\n",
    "readingFile = open(\"MyVacation.txt\", \"r\")\n",
    "\n",
    "firstLine = readingFile.readline()\n",
    "print(firstLine)\n",
    "\n",
    "secondLine = readingFile.readline()\n",
    "print(secondLine)"
   ]
  },
  {
   "cell_type": "code",
   "execution_count": 1,
   "metadata": {},
   "outputs": [
    {
     "name": "stdout",
     "output_type": "stream",
     "text": [
      "What would you like to add? Thailand\n"
     ]
    }
   ],
   "source": [
    "#Appending to the file\n",
    "\n",
    "myFile = open(\"MyVacations.txt\",\"a\")\n",
    "\n",
    "final = input(\"What would you like to add? \")\n",
    "myFile.write(\"\\n\" + final)\n",
    "myFile.close()"
   ]
  },
  {
   "cell_type": "code",
   "execution_count": null,
   "metadata": {},
   "outputs": [],
   "source": []
  }
 ],
 "metadata": {
  "kernelspec": {
   "display_name": "Python 3",
   "language": "python",
   "name": "python3"
  },
  "language_info": {
   "codemirror_mode": {
    "name": "ipython",
    "version": 3
   },
   "file_extension": ".py",
   "mimetype": "text/x-python",
   "name": "python",
   "nbconvert_exporter": "python",
   "pygments_lexer": "ipython3",
   "version": "3.8.2"
  }
 },
 "nbformat": 4,
 "nbformat_minor": 4
}

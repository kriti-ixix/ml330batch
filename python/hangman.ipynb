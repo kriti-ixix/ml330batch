{
 "cells": [
  {
   "cell_type": "code",
   "execution_count": 1,
   "metadata": {},
   "outputs": [
    {
     "name": "stderr",
     "output_type": "stream",
     "text": [
      "ic| movieChosen: 'KNIGHT AND DAY'\n",
      "ic| movieChars: ['K', 'N', 'I', 'G', 'H', 'T', ' ', 'A', 'N', 'D', ' ', 'D', 'A', 'Y']\n",
      "ic| uniqueList: ['K', 'N', 'I', 'G', 'H', 'T', 'A', 'D', 'Y']\n",
      "ic| charsChosen: ['I', 'A', 'T']\n"
     ]
    },
    {
     "name": "stdout",
     "output_type": "stream",
     "text": [
      "_ _ I _ _ T  A _ _  _ A _ "
     ]
    }
   ],
   "source": [
    "from icecream import ic\n",
    "import random as r\n",
    "\n",
    "def uniqueChars(movieChars):\n",
    "    uniqueList = []\n",
    "    \n",
    "    for char in movieChars:\n",
    "        if char==\" \":\n",
    "            continue\n",
    "        if char not in uniqueList:\n",
    "            uniqueList.append(char)\n",
    "            \n",
    "    return uniqueList\n",
    "\n",
    "\n",
    "listOfMovies = ['SPIDERMAN', 'THOR RAGNAROK', 'JUSTICE LEAGUE', 'KNIGHT AND DAY', 'MEAN GIRLS']\n",
    "movieChosen = r.choice(listOfMovies)\n",
    "ic (movieChosen)\n",
    "\n",
    "movieChars = list(movieChosen)\n",
    "ic (movieChars)\n",
    "\n",
    "uniqueList = uniqueChars(movieChars)\n",
    "ic (uniqueList)\n",
    "\n",
    "charsChosen = r.sample(uniqueList, k=3)\n",
    "ic (charsChosen)\n",
    "\n",
    "for x in movieChosen:\n",
    "    if x==\" \":\n",
    "        print(\" \", end=\"\")\n",
    "    elif x in charsChosen:\n",
    "        print(x, end=\" \")\n",
    "    elif x not in charsChosen:\n",
    "        print(\"_\", end=\" \")"
   ]
  },
  {
   "cell_type": "code",
   "execution_count": 10,
   "metadata": {},
   "outputs": [
    {
     "name": "stderr",
     "output_type": "stream",
     "text": [
      "ic| movieChosen: 'SPIDERMAN'\n",
      "ic| charsGuessed: ['A', 'P', 'D']\n"
     ]
    },
    {
     "name": "stdout",
     "output_type": "stream",
     "text": [
      "\n",
      "_ P _ D _ _ _ A _ Guesses Left: 10\n",
      "Enter your guess: S\n"
     ]
    },
    {
     "name": "stderr",
     "output_type": "stream",
     "text": [
      "ic| charsGuessed: ['A', 'P', 'D', 'S']\n"
     ]
    },
    {
     "name": "stdout",
     "output_type": "stream",
     "text": [
      "You guessed correctly!\n",
      "\n",
      "S P _ D _ _ _ A _ Guesses Left: 9\n",
      "Enter your guess: X\n"
     ]
    },
    {
     "name": "stderr",
     "output_type": "stream",
     "text": [
      "ic| charsGuessed: ['A', 'P', 'D', 'S']\n"
     ]
    },
    {
     "name": "stdout",
     "output_type": "stream",
     "text": [
      "Oops! Wrong guess\n",
      "\n",
      "S P _ D _ _ _ A _ Guesses Left: 8\n",
      "Enter your guess: S\n"
     ]
    },
    {
     "name": "stderr",
     "output_type": "stream",
     "text": [
      "ic| charsGuessed: ['A', 'P', 'D', 'S']\n"
     ]
    },
    {
     "name": "stdout",
     "output_type": "stream",
     "text": [
      "\n",
      "You guessed that already\n",
      "\n",
      "S P _ D _ _ _ A _ Guesses Left: 8\n",
      "Enter your guess: I\n"
     ]
    },
    {
     "name": "stderr",
     "output_type": "stream",
     "text": [
      "ic| charsGuessed: ['A', 'P', 'D', 'S', 'I']\n"
     ]
    },
    {
     "name": "stdout",
     "output_type": "stream",
     "text": [
      "You guessed correctly!\n",
      "\n",
      "S P I D _ _ _ A _ Guesses Left: 7\n",
      "Enter your guess: E\n"
     ]
    },
    {
     "name": "stderr",
     "output_type": "stream",
     "text": [
      "ic| charsGuessed: ['A', 'P', 'D', 'S', 'I', 'E']\n"
     ]
    },
    {
     "name": "stdout",
     "output_type": "stream",
     "text": [
      "You guessed correctly!\n",
      "\n",
      "S P I D E _ _ A _ Guesses Left: 6\n",
      "Enter your guess: R\n"
     ]
    },
    {
     "name": "stderr",
     "output_type": "stream",
     "text": [
      "ic| charsGuessed: ['A', 'P', 'D', 'S', 'I', 'E', 'R']\n"
     ]
    },
    {
     "name": "stdout",
     "output_type": "stream",
     "text": [
      "You guessed correctly!\n",
      "\n",
      "S P I D E R _ A _ Guesses Left: 5\n",
      "Enter your guess: M\n"
     ]
    },
    {
     "name": "stderr",
     "output_type": "stream",
     "text": [
      "ic| charsGuessed: ['A', 'P', 'D', 'S', 'I', 'E', 'R', 'M']\n"
     ]
    },
    {
     "name": "stdout",
     "output_type": "stream",
     "text": [
      "You guessed correctly!\n",
      "\n",
      "S P I D E R M A _ Guesses Left: 4\n",
      "Enter your guess: N\n"
     ]
    },
    {
     "name": "stderr",
     "output_type": "stream",
     "text": [
      "ic| charsGuessed: ['A', 'P', 'D', 'S', 'I', 'E', 'R', 'M', 'N']\n"
     ]
    },
    {
     "name": "stdout",
     "output_type": "stream",
     "text": [
      "You guessed correctly!\n",
      "\n",
      "S P I D E R M A N \n",
      "Congratulations! You guessed it correctly with 3 guesses left\n"
     ]
    }
   ],
   "source": [
    "from icecream import ic\n",
    "import random as r\n",
    "\n",
    "def uniqueChars(movieChars):\n",
    "    uniqueList = []\n",
    "    \n",
    "    for char in movieChars:\n",
    "        if char==\" \":\n",
    "            continue\n",
    "        if char not in uniqueList:\n",
    "            uniqueList.append(char)\n",
    "            \n",
    "    return uniqueList\n",
    "\n",
    "def printMovie():\n",
    "    print('')\n",
    "    for x in movieChosen:\n",
    "        if x==\" \":\n",
    "            print(\" \", end=\"\")\n",
    "        elif x in charsGuessed:\n",
    "            print(x, end=\" \")\n",
    "        elif x not in charsGuessed:\n",
    "            print(\"_\", end=\" \")\n",
    "\n",
    "listOfMovies = ['SPIDERMAN', 'THOR RAGNAROK', 'JUSTICE LEAGUE', 'KNIGHT AND DAY', 'MEAN GIRLS']\n",
    "movieChosen = r.choice(listOfMovies)\n",
    "ic (movieChosen)\n",
    "\n",
    "movieChars = list(movieChosen)\n",
    "#ic (movieChars)\n",
    "\n",
    "uniqueList = uniqueChars(movieChars)\n",
    "#ic (uniqueList)\n",
    "\n",
    "charsChosen = r.sample(uniqueList, k=3)\n",
    "#ic (charsChosen)\n",
    "\n",
    "charsGuessed = []\n",
    "charsGuessed.extend(charsChosen)\n",
    "#ic(charsGuessed)\n",
    "\n",
    "guessesLeft = 10\n",
    "\n",
    "while True:\n",
    "    printMovie()\n",
    "    ic (charsGuessed)\n",
    "    if guessesLeft==0:\n",
    "        print(\"\\nYou ran out of guesses. Sorry!\")\n",
    "        break\n",
    "        \n",
    "    if len(charsGuessed)==len(uniqueList):\n",
    "        print(\"\\nCongratulations! You guessed it correctly with {} guesses left\".format(guessesLeft))\n",
    "        break\n",
    "        \n",
    "    charPicked = input(\"Guesses Left: {}\\nEnter your guess: \".format(guessesLeft))\n",
    "    charPicked = charPicked.upper()\n",
    "    if charPicked in charsGuessed:\n",
    "        print(\"\\nYou guessed that already\")\n",
    "        continue\n",
    "        \n",
    "    if charPicked not in uniqueList:\n",
    "        print(\"Oops! Wrong guess\")\n",
    "    elif charPicked in uniqueList:\n",
    "        print(\"You guessed correctly!\")\n",
    "        charsGuessed.append(charPicked)\n",
    "        \n",
    "    guessesLeft -= 1 "
   ]
  },
  {
   "cell_type": "code",
   "execution_count": null,
   "metadata": {},
   "outputs": [],
   "source": []
  }
 ],
 "metadata": {
  "kernelspec": {
   "display_name": "Python 3",
   "language": "python",
   "name": "python3"
  },
  "language_info": {
   "codemirror_mode": {
    "name": "ipython",
    "version": 3
   },
   "file_extension": ".py",
   "mimetype": "text/x-python",
   "name": "python",
   "nbconvert_exporter": "python",
   "pygments_lexer": "ipython3",
   "version": "3.8.2"
  }
 },
 "nbformat": 4,
 "nbformat_minor": 4
}

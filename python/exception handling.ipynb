{
 "cells": [
  {
   "cell_type": "code",
   "execution_count": null,
   "metadata": {},
   "outputs": [],
   "source": [
    "try:\n",
    "    myList = [1,2,3,4,5]\n",
    "    #raise KeyError\n",
    "    raise IndexError\n",
    "    #print(myList[5])\n",
    "\n",
    "except IndexError:\n",
    "    print(\"Index not found\")\n",
    "    \n",
    "except KeyError:\n",
    "    print(\"Key not found\")\n",
    "\n",
    "except:\n",
    "    print(\"Error\")\n",
    "\n",
    "finally:\n",
    "    print(\"Execution complete\")"
   ]
  },
  {
   "cell_type": "code",
   "execution_count": null,
   "metadata": {},
   "outputs": [],
   "source": [
    "class Error(Exception):\n",
    "    pass\n",
    "\n",
    "class EmailError(Error):\n",
    "    pass\n",
    "\n",
    "class PasswordError(Error):\n",
    "    pass\n",
    "\n",
    "try:\n",
    "    while True:\n",
    "        \n",
    "        email = input(\"Enter your email: \")\n",
    "        password = input(\"Enter your password: \")\n",
    "        \n",
    "        if '@' and '.com' not in email:\n",
    "            raise EmailError\n",
    "        elif len(password)<6:\n",
    "            raise PasswordError\n",
    "        else:\n",
    "            print(\"Login Successful!\")\n",
    "            break\n",
    "            \n",
    "except EmailError:\n",
    "    print(\"Invalid email\")\n",
    "    \n",
    "except PasswordError:\n",
    "    print(\"Password too short\")\n",
    "    \n",
    "except:\n",
    "    print(\"Error\")"
   ]
  },
  {
   "cell_type": "code",
   "execution_count": null,
   "metadata": {},
   "outputs": [],
   "source": []
  },
  {
   "cell_type": "code",
   "execution_count": null,
   "metadata": {},
   "outputs": [],
   "source": []
  }
 ],
 "metadata": {
  "kernelspec": {
   "display_name": "Python 3",
   "language": "python",
   "name": "python3"
  },
  "language_info": {
   "codemirror_mode": {
    "name": "ipython",
    "version": 3
   },
   "file_extension": ".py",
   "mimetype": "text/x-python",
   "name": "python",
   "nbconvert_exporter": "python",
   "pygments_lexer": "ipython3",
   "version": "3.8.2"
  }
 },
 "nbformat": 4,
 "nbformat_minor": 4
}

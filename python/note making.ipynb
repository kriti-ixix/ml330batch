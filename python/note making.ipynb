{
 "cells": [
  {
   "cell_type": "code",
   "execution_count": 15,
   "metadata": {},
   "outputs": [
    {
     "name": "stdout",
     "output_type": "stream",
     "text": [
      "Enter a filename: Hello\n",
      "Do you want to read the file or write to the file? (r/w) r\n",
      "1. Read the whole file\n",
      "2.Read only one line\n",
      "Your choice: 1\n",
      "\n",
      "Note 1: Hi\n",
      "Note 2: How're\n",
      "Note 3: You\n",
      "\n",
      "Time taken:  7.859119892120361\n"
     ]
    }
   ],
   "source": [
    "import time\n",
    "\n",
    "startTime = time.time()\n",
    "filename = input(\"Enter a filename: \") + \".txt\"\n",
    "\n",
    "choice = input(\"Do you want to read the file or write to the file? (r/w) \")\n",
    "\n",
    "if (choice=='r'):\n",
    "    myFile = open(filename, 'r')\n",
    "    rChoice = int(input(\"1. Read the whole file\\n2.Read only one line\\nYour choice: \"))\n",
    "    \n",
    "    if (rChoice==1):\n",
    "        print(\"\")\n",
    "        print(myFile.read())\n",
    "        \n",
    "    elif (rChoice==2):\n",
    "        line = \"Note \" + input(\"Which note do you want to read? \")\n",
    "        \n",
    "        for x in myFile:\n",
    "            if line in x:\n",
    "                print(x)\n",
    "    \n",
    "    else:\n",
    "        print(\"Invalid choice\")\n",
    "    \n",
    "    myFile.close()\n",
    "    \n",
    "elif (choice=='w'):\n",
    "    myFile = open(filename, 'w')\n",
    "    notes = int(input(\"How many notes do you want to write? \"))\n",
    "    \n",
    "    for i in range(notes):\n",
    "        myLine = \"Note \" + str(i+1) + \": \" + input(\"Enter the note: \") + \"\\n\"\n",
    "        myFile.write(myLine)\n",
    "        \n",
    "    myFile.close()\n",
    "    \n",
    "else:\n",
    "    print(\"Invalid option\")\n",
    "    \n",
    "stopTime = time.time()\n",
    "print(\"Time taken: \", stopTime-startTime)"
   ]
  },
  {
   "cell_type": "code",
   "execution_count": null,
   "metadata": {},
   "outputs": [],
   "source": []
  }
 ],
 "metadata": {
  "kernelspec": {
   "display_name": "Python 3",
   "language": "python",
   "name": "python3"
  },
  "language_info": {
   "codemirror_mode": {
    "name": "ipython",
    "version": 3
   },
   "file_extension": ".py",
   "mimetype": "text/x-python",
   "name": "python",
   "nbconvert_exporter": "python",
   "pygments_lexer": "ipython3",
   "version": "3.8.2"
  }
 },
 "nbformat": 4,
 "nbformat_minor": 4
}

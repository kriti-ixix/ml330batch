{
 "cells": [
  {
   "cell_type": "code",
   "execution_count": null,
   "metadata": {},
   "outputs": [],
   "source": [
    "#pip install chart_studio\n",
    "#pip install cufflinks"
   ]
  },
  {
   "cell_type": "code",
   "execution_count": 3,
   "metadata": {},
   "outputs": [],
   "source": [
    "import pandas as pd\n",
    "import numpy as np\n",
    "\n",
    "%matplotlib inline"
   ]
  },
  {
   "cell_type": "code",
   "execution_count": 6,
   "metadata": {},
   "outputs": [],
   "source": [
    "import plotly.offline"
   ]
  },
  {
   "cell_type": "code",
   "execution_count": 8,
   "metadata": {},
   "outputs": [
    {
     "data": {
      "text/html": [
       "        <script type=\"text/javascript\">\n",
       "        window.PlotlyConfig = {MathJaxConfig: 'local'};\n",
       "        if (window.MathJax) {MathJax.Hub.Config({SVG: {font: \"STIX-Web\"}});}\n",
       "        if (typeof require !== 'undefined') {\n",
       "        require.undef(\"plotly\");\n",
       "        requirejs.config({\n",
       "            paths: {\n",
       "                'plotly': ['https://cdn.plot.ly/plotly-latest.min']\n",
       "            }\n",
       "        });\n",
       "        require(['plotly'], function(Plotly) {\n",
       "            window._Plotly = Plotly;\n",
       "        });\n",
       "        }\n",
       "        </script>\n",
       "        "
      ]
     },
     "metadata": {},
     "output_type": "display_data"
    },
    {
     "data": {
      "text/html": [
       "        <script type=\"text/javascript\">\n",
       "        window.PlotlyConfig = {MathJaxConfig: 'local'};\n",
       "        if (window.MathJax) {MathJax.Hub.Config({SVG: {font: \"STIX-Web\"}});}\n",
       "        if (typeof require !== 'undefined') {\n",
       "        require.undef(\"plotly\");\n",
       "        requirejs.config({\n",
       "            paths: {\n",
       "                'plotly': ['https://cdn.plot.ly/plotly-latest.min']\n",
       "            }\n",
       "        });\n",
       "        require(['plotly'], function(Plotly) {\n",
       "            window._Plotly = Plotly;\n",
       "        });\n",
       "        }\n",
       "        </script>\n",
       "        "
      ]
     },
     "metadata": {},
     "output_type": "display_data"
    }
   ],
   "source": [
    "import cufflinks as cf\n",
    "\n",
    "plotly.offline.init_notebook_mode(connected=True)\n",
    "cf.go_offline()"
   ]
  },
  {
   "cell_type": "code",
   "execution_count": 9,
   "metadata": {},
   "outputs": [],
   "source": [
    "df = pd.DataFrame(np.random.randn(100, 4), columns='A B C D'.split())"
   ]
  },
  {
   "cell_type": "code",
   "execution_count": 10,
   "metadata": {},
   "outputs": [
    {
     "data": {
      "text/html": [
       "<div>\n",
       "<style scoped>\n",
       "    .dataframe tbody tr th:only-of-type {\n",
       "        vertical-align: middle;\n",
       "    }\n",
       "\n",
       "    .dataframe tbody tr th {\n",
       "        vertical-align: top;\n",
       "    }\n",
       "\n",
       "    .dataframe thead th {\n",
       "        text-align: right;\n",
       "    }\n",
       "</style>\n",
       "<table border=\"1\" class=\"dataframe\">\n",
       "  <thead>\n",
       "    <tr style=\"text-align: right;\">\n",
       "      <th></th>\n",
       "      <th>A</th>\n",
       "      <th>B</th>\n",
       "      <th>C</th>\n",
       "      <th>D</th>\n",
       "    </tr>\n",
       "  </thead>\n",
       "  <tbody>\n",
       "    <tr>\n",
       "      <th>0</th>\n",
       "      <td>-0.253108</td>\n",
       "      <td>0.269225</td>\n",
       "      <td>0.984543</td>\n",
       "      <td>-1.187376</td>\n",
       "    </tr>\n",
       "    <tr>\n",
       "      <th>1</th>\n",
       "      <td>0.444729</td>\n",
       "      <td>2.541457</td>\n",
       "      <td>1.426455</td>\n",
       "      <td>-0.212729</td>\n",
       "    </tr>\n",
       "    <tr>\n",
       "      <th>2</th>\n",
       "      <td>-0.688074</td>\n",
       "      <td>-1.384768</td>\n",
       "      <td>1.818522</td>\n",
       "      <td>-0.333740</td>\n",
       "    </tr>\n",
       "    <tr>\n",
       "      <th>3</th>\n",
       "      <td>-0.323897</td>\n",
       "      <td>1.027960</td>\n",
       "      <td>0.287624</td>\n",
       "      <td>-0.269565</td>\n",
       "    </tr>\n",
       "    <tr>\n",
       "      <th>4</th>\n",
       "      <td>-0.210667</td>\n",
       "      <td>0.321786</td>\n",
       "      <td>-0.152739</td>\n",
       "      <td>-1.765962</td>\n",
       "    </tr>\n",
       "  </tbody>\n",
       "</table>\n",
       "</div>"
      ],
      "text/plain": [
       "          A         B         C         D\n",
       "0 -0.253108  0.269225  0.984543 -1.187376\n",
       "1  0.444729  2.541457  1.426455 -0.212729\n",
       "2 -0.688074 -1.384768  1.818522 -0.333740\n",
       "3 -0.323897  1.027960  0.287624 -0.269565\n",
       "4 -0.210667  0.321786 -0.152739 -1.765962"
      ]
     },
     "execution_count": 10,
     "metadata": {},
     "output_type": "execute_result"
    }
   ],
   "source": [
    "df.head()"
   ]
  },
  {
   "cell_type": "code",
   "execution_count": 11,
   "metadata": {},
   "outputs": [
    {
     "data": {
      "text/html": [
       "<div>\n",
       "<style scoped>\n",
       "    .dataframe tbody tr th:only-of-type {\n",
       "        vertical-align: middle;\n",
       "    }\n",
       "\n",
       "    .dataframe tbody tr th {\n",
       "        vertical-align: top;\n",
       "    }\n",
       "\n",
       "    .dataframe thead th {\n",
       "        text-align: right;\n",
       "    }\n",
       "</style>\n",
       "<table border=\"1\" class=\"dataframe\">\n",
       "  <thead>\n",
       "    <tr style=\"text-align: right;\">\n",
       "      <th></th>\n",
       "      <th>Category</th>\n",
       "      <th>Values</th>\n",
       "    </tr>\n",
       "  </thead>\n",
       "  <tbody>\n",
       "    <tr>\n",
       "      <th>0</th>\n",
       "      <td>A</td>\n",
       "      <td>32</td>\n",
       "    </tr>\n",
       "    <tr>\n",
       "      <th>1</th>\n",
       "      <td>B</td>\n",
       "      <td>43</td>\n",
       "    </tr>\n",
       "    <tr>\n",
       "      <th>2</th>\n",
       "      <td>C</td>\n",
       "      <td>50</td>\n",
       "    </tr>\n",
       "  </tbody>\n",
       "</table>\n",
       "</div>"
      ],
      "text/plain": [
       "  Category  Values\n",
       "0        A      32\n",
       "1        B      43\n",
       "2        C      50"
      ]
     },
     "execution_count": 11,
     "metadata": {},
     "output_type": "execute_result"
    }
   ],
   "source": [
    "df2 = pd.DataFrame({'Category':['A','B','C'], 'Values':[32, 43, 50]})\n",
    "df2.head()"
   ]
  },
  {
   "cell_type": "code",
   "execution_count": 12,
   "metadata": {},
   "outputs": [
    {
     "data": {
      "text/plain": [
       "<AxesSubplot:>"
      ]
     },
     "execution_count": 12,
     "metadata": {},
     "output_type": "execute_result"
    },
    {
     "data": {
      "image/png": "[encoded data removed]",
      "text/plain": [
       "<Figure size 432x288 with 1 Axes>"
      ]
     },
     "metadata": {
      "needs_background": "light"
     },
     "output_type": "display_data"
    }
   ],
   "source": [
    "df.plot()"
   ]
  },
  {
   "cell_type": "code",
   "execution_count": 13,
   "metadata": {},
   "outputs": [
    {
     "data": {
      "application/vnd.plotly.v1+json": {
       "config": {
        "linkText": "Export to plot.ly",
        "plotlyServerURL": "https://plot.ly",
        "showLink": true
       },
       "data": [
        {
         "line": {
          "color": "rgba(255, 153, 51, 1.0)",
          "dash": "solid",
          "shape": "linear",
          "width": 1.3
         },
         "mode": "lines",
         "name": "A",
         "text": "",
         "type": "scatter",
         "x": [
          0,
          1,
          2,
          3,
          4,
          5,
          6,
          7,
          8,
          9,
          10,
          11,
          12,
          13,
          14,
          15,
          16,
          17,
          18,
          19,
          20,
          21,
          22,
          23,
          24,
          25,
          26,
          27,
          28,
          29,
          30,
          31,
          32,
          33,
          34,
          35,
          36,
          37,
          38,
          39,
          40,
          41,
          42,
          43,
          44,
          45,
          46,
          47,
          48,
          49,
          50,
          51,
          52,
          53,
          54,
          55,
          56,
          57,
          58,
          59,
          60,
          61,
          62,
          63,
          64,
          65,
          66,
          67,
          68,
          69,
          70,
          71,
          72,
          73,
          74,
          75,
          76,
          77,
          78,
          79,
          80,
          81,
          82,
          83,
          84,
          85,
          86,
          87,
          88,
          89,
          90,
          91,
          92,
          93,
          94,
          95,
          96,
          97,
          98,
          99
         ],
         "y": [
          -0.2531083250970203,
          0.44472867520184695,
          -0.6880739903817269,
          -0.32389688390050336,
          -0.21066679145064116,
          -0.7471305568135573,
          1.4644403155760901,
          -1.5390062758876004,
          -1.5425674761634856,
          0.1845770072180261,
          -1.04983457028772,
          2.958223043449747,
          0.19962163438520358,
          0.6809530686614672,
          0.14535502903675235,
          -0.7188442819492274,
          1.0125690660282616,
          0.05224314033522782,
          -1.8432338689264192,
          -0.3483895528924191,
          -0.3583306084919735,
          0.4761146454202297,
          -0.147129437965505,
          1.5220538503214163,
          -1.3273284502582012,
          0.16507303161167794,
          -0.0560374263769096,
          0.5784265198295464,
          -0.2740863346688317,
          2.143309560747731,
          0.1671101097738608,
          0.5490366739554574,
          0.013215510451084333,
          0.3940727215280942,
          -0.9521217551672523,
          -0.018722957509154415,
          1.43946284679207,
          0.5311864343840943,
          -0.9576730445124143,
          2.615701373800367,
          0.2969248462359406,
          -0.23254471608361083,
          0.02390791000105446,
          -0.5815987415883015,
          0.9797377817160473,
          0.3983322606335077,
          -0.6141282028185352,
          0.23784349161194623,
          -1.3199887141335402,
          0.6996938400462953,
          -0.2868779707094815,
          3.170323023876777,
          0.10997169936554678,
          1.3170088130777606,
          -2.658216644451961,
          -1.7510785196335596,
          0.2911423653054329,
          -0.3146626882337196,
          0.42671812938167997,
          -0.21623347798306392,
          1.3913338101835877,
          0.5186823638813134,
          0.4992351523475857,
          1.068339120041519,
          0.6850632859094586,
          -0.4906088150209769,
          -0.8859045960411523,
          0.3397388469656312,
          1.4342595849975506,
          0.09561282704554233,
          -1.2043279788958634,
          -0.5284463987481448,
          0.21111175740921415,
          0.6765630612537961,
          0.5447339666552157,
          1.9232009065877185,
          0.9311243971960865,
          -0.5857662928038426,
          0.1309340857065233,
          0.6307938743323313,
          -1.3313404549673353,
          0.6918609455835275,
          1.261217754803169,
          0.6246482895871643,
          0.7309726569960078,
          0.030697726306293666,
          -1.9848004838069544,
          -1.6463370700123259,
          1.2178820207045697,
          0.532948814095436,
          0.3317063505971597,
          0.2972599259821757,
          0.5219716784009186,
          -1.3582358763406823,
          -0.3475294045762002,
          0.5304741285949425,
          -0.7712291619711124,
          -0.8534484005792922,
          0.2469690148994338,
          -0.49158233930531514
         ]
        },
        {
         "line": {
          "color": "rgba(55, 128, 191, 1.0)",
          "dash": "solid",
          "shape": "linear",
          "width": 1.3
         },
         "mode": "lines",
         "name": "B",
         "text": "",
         "type": "scatter",
         "x": [
          0,
          1,
          2,
          3,
          4,
          5,
          6,
          7,
          8,
          9,
          10,
          11,
          12,
          13,
          14,
          15,
          16,
          17,
          18,
          19,
          20,
          21,
          22,
          23,
          24,
          25,
          26,
          27,
          28,
          29,
          30,
          31,
          32,
          33,
          34,
          35,
          36,
          37,
          38,
          39,
          40,
          41,
          42,
          43,
          44,
          45,
          46,
          47,
          48,
          49,
          50,
          51,
          52,
          53,
          54,
          55,
          56,
          57,
          58,
          59,
          60,
          61,
          62,
          63,
          64,
          65,
          66,
          67,
          68,
          69,
          70,
          71,
          72,
          73,
          74,
          75,
          76,
          77,
          78,
          79,
          80,
          81,
          82,
          83,
          84,
          85,
          86,
          87,
          88,
          89,
          90,
          91,
          92,
          93,
          94,
          95,
          96,
          97,
          98,
          99
         ],
         "y": [
          0.2692248590674567,
          2.5414565169787684,
          -1.3847684476344624,
          1.0279604222570988,
          0.32178606562036727,
          -0.71414958269869,
          1.3286475415150187,
          -0.18602555159568127,
          -0.6240462160771314,
          -0.013680420743699132,
          0.9216749121898704,
          0.36610989844719927,
          -0.23086136612047775,
          -1.561147103539752,
          -1.55113276236753,
          0.32854251512931804,
          -1.764333635340324,
          -0.7028625061339061,
          -1.435701932428522,
          0.924236301167901,
          0.038138911451752064,
          -0.7590936404033503,
          -0.11749600252730237,
          0.39633006465495496,
          -0.2107745967287429,
          0.5113421067521764,
          1.0929602611219198,
          0.18439027770308478,
          -1.0854390751429883,
          0.5118711694135236,
          0.40958311714195506,
          -0.41240221065986143,
          -0.859034971894161,
          -0.5529096332253796,
          -0.5232120174327071,
          -1.1530761095753999,
          -0.1916230903244878,
          -0.15954320592542995,
          -1.3107503419051287,
          -0.6670439421192467,
          0.16252815279435603,
          0.5864792595105315,
          0.31271069415931163,
          -1.4156239025283626,
          -0.2108067683301323,
          0.4009473642109201,
          -0.2717101826795173,
          -0.41699572886723774,
          -0.30082422068105297,
          0.5047385743026007,
          -1.9787868569877332,
          0.11751434764417365,
          -0.12085350747255721,
          0.34364779893495206,
          -1.8224513199521488,
          -1.2065012656680196,
          -0.7696169392939282,
          -0.5111253785557218,
          -0.3545273834343783,
          0.8978159418460043,
          -0.8157526385378127,
          -0.9572493594332675,
          0.4495184342597558,
          2.3261108979215734,
          -1.089090169046952,
          -0.3542045476423018,
          -0.43072727366645397,
          1.7074628488359203,
          -0.5323631224416054,
          -0.635697712321746,
          0.48855952132870645,
          1.3350182547014884,
          2.3452090589417276,
          0.09012629968942505,
          -1.2522205245484084,
          -0.7845119830949263,
          -0.6424298754383452,
          -1.0645184185886827,
          1.3427868037204183,
          -0.3878916530551524,
          -0.4621215801011234,
          -1.4910175723377412,
          0.002686208823228683,
          -0.5938418999955112,
          0.6179416582649397,
          0.15838027440967178,
          -1.3072408344980595,
          -0.14037572981081717,
          0.08944578304891387,
          0.40371386655793834,
          -1.2090705967400097,
          -0.15988167399899386,
          -0.7102046276701807,
          -1.474292195815174,
          -0.9781606303475665,
          -1.2263315181857672,
          1.131136855389624,
          1.0786752573396445,
          -1.305477163909878,
          0.2421897939764603
         ]
        },
        {
         "line": {
          "color": "rgba(50, 171, 96, 1.0)",
          "dash": "solid",
          "shape": "linear",
          "width": 1.3
         },
         "mode": "lines",
         "name": "C",
         "text": "",
         "type": "scatter",
         "x": [
          0,
          1,
          2,
          3,
          4,
          5,
          6,
          7,
          8,
          9,
          10,
          11,
          12,
          13,
          14,
          15,
          16,
          17,
          18,
          19,
          20,
          21,
          22,
          23,
          24,
          25,
          26,
          27,
          28,
          29,
          30,
          31,
          32,
          33,
          34,
          35,
          36,
          37,
          38,
          39,
          40,
          41,
          42,
          43,
          44,
          45,
          46,
          47,
          48,
          49,
          50,
          51,
          52,
          53,
          54,
          55,
          56,
          57,
          58,
          59,
          60,
          61,
          62,
          63,
          64,
          65,
          66,
          67,
          68,
          69,
          70,
          71,
          72,
          73,
          74,
          75,
          76,
          77,
          78,
          79,
          80,
          81,
          82,
          83,
          84,
          85,
          86,
          87,
          88,
          89,
          90,
          91,
          92,
          93,
          94,
          95,
          96,
          97,
          98,
          99
         ],
         "y": [
          0.9845430614354537,
          1.4264547784811157,
          1.8185224615598867,
          0.2876235743837417,
          -0.15273863053357983,
          1.0672640673775675,
          0.36889847295683714,
          1.7582131837067485,
          0.6283354504314319,
          -0.16167766207986853,
          -0.2872649632996048,
          0.8215961640829661,
          0.480498537217956,
          0.02075013750145252,
          -1.1453851914667532,
          0.07800081841057309,
          0.5186564001148111,
          1.5079513777650961,
          -1.1656941375386918,
          -0.8055939069969118,
          -0.2696350033683586,
          -0.8286847723236382,
          -0.6522682365336133,
          1.081691162805879,
          0.1831095123488363,
          -0.5682789533346162,
          0.9928132158925893,
          1.8871253715982468,
          0.4336963940136164,
          0.8274590332282141,
          -1.3676126517313532,
          0.3625391579203631,
          -0.4198420834785065,
          -1.7522618013398874,
          -1.0943409743490962,
          1.5930933519180994,
          -0.3809535745932166,
          -0.07132020664631916,
          0.21094772772557083,
          1.4262956770952393,
          -0.18750703633071464,
          -1.7317701836166697,
          1.0554110904290748,
          0.7863549983579504,
          0.3144640312460261,
          -2.694341451993742,
          -1.7842572579759883,
          0.04072541689088181,
          1.1849237957676644,
          1.8613265763690219,
          -0.02870588501015,
          0.024582987754410042,
          2.255838657736544,
          -0.8234897901997741,
          -0.46085879890447956,
          0.7779373045120065,
          -0.3275359819714058,
          -0.7620853715885492,
          0.2266976150558581,
          -1.6665125148994269,
          -0.3403661546390149,
          2.163774530063942,
          -0.17569776103107237,
          0.0017418393701614686,
          -0.3863220961175093,
          -0.23254668193074243,
          0.600094182920535,
          1.4454255232328954,
          -0.07411531823787712,
          -0.4590766181330314,
          1.2483873746197836,
          0.6937370335745796,
          0.304054615850903,
          0.1282050670190241,
          -0.9963476782052268,
          0.7573250780041975,
          1.030235018977501,
          0.45788355206083126,
          0.2179323611002476,
          -1.2765176224547714,
          -0.05091228211186459,
          0.7872875248289407,
          -1.3727816638752337,
          -0.24429024354267057,
          0.2848800017257363,
          -0.9488131295734892,
          1.2207557940326388,
          -0.150187321056821,
          0.8319794732355743,
          -1.4875074618912505,
          -0.08982822957118794,
          -0.18921291714367677,
          -0.40016951985406524,
          -1.2794571246527122,
          -1.094534487829649,
          -0.4642133831026465,
          -0.35582950036557914,
          0.7179682389790413,
          0.30336413427558834,
          -1.7437205498720163
         ]
        },
        {
         "line": {
          "color": "rgba(128, 0, 128, 1.0)",
          "dash": "solid",
          "shape": "linear",
          "width": 1.3
         },
         "mode": "lines",
         "name": "D",
         "text": "",
         "type": "scatter",
         "x": [
          0,
          1,
          2,
          3,
          4,
          5,
          6,
          7,
          8,
          9,
          10,
          11,
          12,
          13,
          14,
          15,
          16,
          17,
          18,
          19,
          20,
          21,
          22,
          23,
          24,
          25,
          26,
          27,
          28,
          29,
          30,
          31,
          32,
          33,
          34,
          35,
          36,
          37,
          38,
          39,
          40,
          41,
          42,
          43,
          44,
          45,
          46,
          47,
          48,
          49,
          50,
          51,
          52,
          53,
          54,
          55,
          56,
          57,
          58,
          59,
          60,
          61,
          62,
          63,
          64,
          65,
          66,
          67,
          68,
          69,
          70,
          71,
          72,
          73,
          74,
          75,
          76,
          77,
          78,
          79,
          80,
          81,
          82,
          83,
          84,
          85,
          86,
          87,
          88,
          89,
          90,
          91,
          92,
          93,
          94,
          95,
          96,
          97,
          98,
          99
         ],
         "y": [
          -1.1873759401072121,
          -0.21272893173520116,
          -0.3337398117192112,
          -0.26956520378390764,
          -1.7659624936732585,
          -0.6978766429196865,
          1.6725545487313158,
          0.09259338719191819,
          1.6453366231173143,
          -0.3833674186111683,
          1.6989508724793339,
          0.5983377937837228,
          0.5447352846764828,
          0.18099022472462933,
          1.5307594863059593,
          0.23142495576797836,
          -2.239277531098523,
          0.3752910312617037,
          0.2122588488728485,
          -0.9583627400158707,
          -0.026938775072069886,
          0.7131953417154699,
          1.2166546304056043,
          0.5914997911410284,
          0.8470642191414174,
          1.6466958348146044,
          -0.3639331891040234,
          -1.710068176230475,
          -1.5574786150076614,
          -0.6040313136124005,
          2.2301466554883644,
          0.9273061531277372,
          -0.7307650207334397,
          -0.7302001437813028,
          -0.48750578267528044,
          -0.35766261050834985,
          -0.6725031726706149,
          0.421873498857747,
          0.02556409448236915,
          0.4765293982838863,
          -1.2141185724581982,
          -1.639107377789116,
          -1.131724961813166,
          -0.4991893991036096,
          0.8914334239727241,
          0.556560970020493,
          -1.4675191010887423,
          -0.3973202818189989,
          -1.3272951822043146,
          0.13436309845109753,
          0.7554731936109603,
          0.20298422685684478,
          0.013433041100121399,
          -1.6219587781765432,
          -1.2919866455371372,
          1.7156967381957249,
          0.3421105516382237,
          1.2424484347790248,
          -1.0511765365084793,
          -0.26770727452964027,
          0.2996732318982424,
          2.592142105551428,
          -0.42639407320832945,
          2.1374720582633215,
          0.1484491726771624,
          0.09940343462618549,
          -0.5139219798838047,
          -0.8049296505862523,
          -0.4046966330808061,
          -1.3430346983946972,
          -0.06191568728436142,
          -0.4459407604275068,
          0.4540494393224033,
          0.8805770779046518,
          1.9278319180101513,
          -0.27752181605053633,
          -2.0236715828075607,
          0.9811780305866094,
          2.2022300541591475,
          -1.3825108801347603,
          0.97983023674692,
          -2.080809733204436,
          -0.5323966460427149,
          -1.375565887222923,
          0.7640666043568605,
          0.848594647794393,
          -1.1393736168819195,
          0.17793233394983657,
          1.8972293181130444,
          0.959783938955475,
          0.940058256679049,
          0.2807262610225058,
          -1.1588288692589268,
          -1.1965036252006027,
          1.2000502779767896,
          1.0549663172573462,
          -0.6876934291592685,
          0.572388846989946,
          -1.3302273547405212,
          -0.18950379001783332
         ]
        }
       ],
       "layout": {
        "legend": {
         "bgcolor": "#F5F6F9",
         "font": {
          "color": "#4D5663"
         }
        },
        "paper_bgcolor": "#F5F6F9",
        "plot_bgcolor": "#F5F6F9",
        "template": {
         "data": {
          "bar": [
           {
            "error_x": {
             "color": "#2a3f5f"
            },
            "error_y": {
             "color": "#2a3f5f"
            },
            "marker": {
             "line": {
              "color": "#E5ECF6",
              "width": 0.5
             }
            },
            "type": "bar"
           }
          ],
          "barpolar": [
           {
            "marker": {
             "line": {
              "color": "#E5ECF6",
              "width": 0.5
             }
            },
            "type": "barpolar"
           }
          ],
          "carpet": [
           {
            "aaxis": {
             "endlinecolor": "#2a3f5f",
             "gridcolor": "white",
             "linecolor": "white",
             "minorgridcolor": "white",
             "startlinecolor": "#2a3f5f"
            },
            "baxis": {
             "endlinecolor": "#2a3f5f",
             "gridcolor": "white",
             "linecolor": "white",
             "minorgridcolor": "white",
             "startlinecolor": "#2a3f5f"
            },
            "type": "carpet"
           }
          ],
          "choropleth": [
           {
            "colorbar": {
             "outlinewidth": 0,
             "ticks": ""
            },
            "type": "choropleth"
           }
          ],
          "contour": [
           {
            "colorbar": {
             "outlinewidth": 0,
             "ticks": ""
            },
            "colorscale": [
             [
              0,
              "#0d0887"
             ],
             [
              0.1111111111111111,
              "#46039f"
             ],
             [
              0.2222222222222222,
              "#7201a8"
             ],
             [
              0.3333333333333333,
              "#9c179e"
             ],
             [
              0.4444444444444444,
              "#bd3786"
             ],
             [
              0.5555555555555556,
              "#d8576b"
             ],
             [
              0.6666666666666666,
              "#ed7953"
             ],
             [
              0.7777777777777778,
              "#fb9f3a"
             ],
             [
              0.8888888888888888,
              "#fdca26"
             ],
             [
              1,
              "#f0f921"
             ]
            ],
            "type": "contour"
           }
          ],
          "contourcarpet": [
           {
            "colorbar": {
             "outlinewidth": 0,
             "ticks": ""
            },
            "type": "contourcarpet"
           }
          ],
          "heatmap": [
           {
            "colorbar": {
             "outlinewidth": 0,
             "ticks": ""
            },
            "colorscale": [
             [
              0,
              "#0d0887"
             ],
             [
              0.1111111111111111,
              "#46039f"
             ],
             [
              0.2222222222222222,
              "#7201a8"
             ],
             [
              0.3333333333333333,
              "#9c179e"
             ],
             [
              0.4444444444444444,
              "#bd3786"
             ],
             [
              0.5555555555555556,
              "#d8576b"
             ],
             [
              0.6666666666666666,
              "#ed7953"
             ],
             [
              0.7777777777777778,
              "#fb9f3a"
             ],
             [
              0.8888888888888888,
              "#fdca26"
             ],
             [
              1,
              "#f0f921"
             ]
            ],
            "type": "heatmap"
           }
          ],
          "heatmapgl": [
           {
            "colorbar": {
             "outlinewidth": 0,
             "ticks": ""
            },
            "colorscale": [
             [
              0,
              "#0d0887"
             ],
             [
              0.1111111111111111,
              "#46039f"
             ],
             [
              0.2222222222222222,
              "#7201a8"
             ],
             [
              0.3333333333333333,
              "#9c179e"
             ],
             [
              0.4444444444444444,
              "#bd3786"
             ],
             [
              0.5555555555555556,
              "#d8576b"
             ],
             [
              0.6666666666666666,
              "#ed7953"
             ],
             [
              0.7777777777777778,
              "#fb9f3a"
             ],
             [
              0.8888888888888888,
              "#fdca26"
             ],
             [
              1,
              "#f0f921"
             ]
            ],
            "type": "heatmapgl"
           }
          ],
          "histogram": [
           {
            "marker": {
             "colorbar": {
              "outlinewidth": 0,
              "ticks": ""
             }
            },
            "type": "histogram"
           }
          ],
          "histogram2d": [
           {
            "colorbar": {
             "outlinewidth": 0,
             "ticks": ""
            },
            "colorscale": [
             [
              0,
              "#0d0887"
             ],
             [
              0.1111111111111111,
              "#46039f"
             ],
             [
              0.2222222222222222,
              "#7201a8"
             ],
             [
              0.3333333333333333,
              "#9c179e"
             ],
             [
              0.4444444444444444,
              "#bd3786"
             ],
             [
              0.5555555555555556,
              "#d8576b"
             ],
             [
              0.6666666666666666,
              "#ed7953"
             ],
             [
              0.7777777777777778,
              "#fb9f3a"
             ],
             [
              0.8888888888888888,
              "#fdca26"
             ],
             [
              1,
              "#f0f921"
             ]
            ],
            "type": "histogram2d"
           }
          ],
          "histogram2dcontour": [
           {
            "colorbar": {
             "outlinewidth": 0,
             "ticks": ""
            },
            "colorscale": [
             [
              0,
              "#0d0887"
             ],
             [
              0.1111111111111111,
              "#46039f"
             ],
             [
              0.2222222222222222,
              "#7201a8"
             ],
             [
              0.3333333333333333,
              "#9c179e"
             ],
             [
              0.4444444444444444,
              "#bd3786"
             ],
             [
              0.5555555555555556,
              "#d8576b"
             ],
             [
              0.6666666666666666,
              "#ed7953"
             ],
             [
              0.7777777777777778,
              "#fb9f3a"
             ],
             [
              0.8888888888888888,
              "#fdca26"
             ],
             [
              1,
              "#f0f921"
             ]
            ],
            "type": "histogram2dcontour"
           }
          ],
          "mesh3d": [
           {
            "colorbar": {
             "outlinewidth": 0,
             "ticks": ""
            },
            "type": "mesh3d"
           }
          ],
          "parcoords": [
           {
            "line": {
             "colorbar": {
              "outlinewidth": 0,
              "ticks": ""
             }
            },
            "type": "parcoords"
           }
          ],
          "pie": [
           {
            "automargin": true,
            "type": "pie"
           }
          ],
          "scatter": [
           {
            "marker": {
             "colorbar": {
              "outlinewidth": 0,
              "ticks": ""
             }
            },
            "type": "scatter"
           }
          ],
          "scatter3d": [
           {
            "line": {
             "colorbar": {
              "outlinewidth": 0,
              "ticks": ""
             }
            },
            "marker": {
             "colorbar": {
              "outlinewidth": 0,
              "ticks": ""
             }
            },
            "type": "scatter3d"
           }
          ],
          "scattercarpet": [
           {
            "marker": {
             "colorbar": {
              "outlinewidth": 0,
              "ticks": ""
             }
            },
            "type": "scattercarpet"
           }
          ],
          "scattergeo": [
           {
            "marker": {
             "colorbar": {
              "outlinewidth": 0,
              "ticks": ""
             }
            },
            "type": "scattergeo"
           }
          ],
          "scattergl": [
           {
            "marker": {
             "colorbar": {
              "outlinewidth": 0,
              "ticks": ""
             }
            },
            "type": "scattergl"
           }
          ],
          "scattermapbox": [
           {
            "marker": {
             "colorbar": {
              "outlinewidth": 0,
              "ticks": ""
             }
            },
            "type": "scattermapbox"
           }
          ],
          "scatterpolar": [
           {
            "marker": {
             "colorbar": {
              "outlinewidth": 0,
              "ticks": ""
             }
            },
            "type": "scatterpolar"
           }
          ],
          "scatterpolargl": [
           {
            "marker": {
             "colorbar": {
              "outlinewidth": 0,
              "ticks": ""
             }
            },
            "type": "scatterpolargl"
           }
          ],
          "scatterternary": [
           {
            "marker": {
             "colorbar": {
              "outlinewidth": 0,
              "ticks": ""
             }
            },
            "type": "scatterternary"
           }
          ],
          "surface": [
           {
            "colorbar": {
             "outlinewidth": 0,
             "ticks": ""
            },
            "colorscale": [
             [
              0,
              "#0d0887"
             ],
             [
              0.1111111111111111,
              "#46039f"
             ],
             [
              0.2222222222222222,
              "#7201a8"
             ],
             [
              0.3333333333333333,
              "#9c179e"
             ],
             [
              0.4444444444444444,
              "#bd3786"
             ],
             [
              0.5555555555555556,
              "#d8576b"
             ],
             [
              0.6666666666666666,
              "#ed7953"
             ],
             [
              0.7777777777777778,
              "#fb9f3a"
             ],
             [
              0.8888888888888888,
              "#fdca26"
             ],
             [
              1,
              "#f0f921"
             ]
            ],
            "type": "surface"
           }
          ],
          "table": [
           {
            "cells": {
             "fill": {
              "color": "#EBF0F8"
             },
             "line": {
              "color": "white"
             }
            },
            "header": {
             "fill": {
              "color": "#C8D4E3"
             },
             "line": {
              "color": "white"
             }
            },
            "type": "table"
           }
          ]
         },
         "layout": {
          "annotationdefaults": {
           "arrowcolor": "#2a3f5f",
           "arrowhead": 0,
           "arrowwidth": 1
          },
          "autotypenumbers": "strict",
          "coloraxis": {
           "colorbar": {
            "outlinewidth": 0,
            "ticks": ""
           }
          },
          "colorscale": {
           "diverging": [
            [
             0,
             "#8e0152"
            ],
            [
             0.1,
             "#c51b7d"
            ],
            [
             0.2,
             "#de77ae"
            ],
            [
             0.3,
             "#f1b6da"
            ],
            [
             0.4,
             "#fde0ef"
            ],
            [
             0.5,
             "#f7f7f7"
            ],
            [
             0.6,
             "#e6f5d0"
            ],
            [
             0.7,
             "#b8e186"
            ],
            [
             0.8,
             "#7fbc41"
            ],
            [
             0.9,
             "#4d9221"
            ],
            [
             1,
             "#276419"
            ]
           ],
           "sequential": [
            [
             0,
             "#0d0887"
            ],
            [
             0.1111111111111111,
             "#46039f"
            ],
            [
             0.2222222222222222,
             "#7201a8"
            ],
            [
             0.3333333333333333,
             "#9c179e"
            ],
            [
             0.4444444444444444,
             "#bd3786"
            ],
            [
             0.5555555555555556,
             "#d8576b"
            ],
            [
             0.6666666666666666,
             "#ed7953"
            ],
            [
             0.7777777777777778,
             "#fb9f3a"
            ],
            [
             0.8888888888888888,
             "#fdca26"
            ],
            [
             1,
             "#f0f921"
            ]
           ],
           "sequentialminus": [
            [
             0,
             "#0d0887"
            ],
            [
             0.1111111111111111,
             "#46039f"
            ],
            [
             0.2222222222222222,
             "#7201a8"
            ],
            [
             0.3333333333333333,
             "#9c179e"
            ],
            [
             0.4444444444444444,
             "#bd3786"
            ],
            [
             0.5555555555555556,
             "#d8576b"
            ],
            [
             0.6666666666666666,
             "#ed7953"
            ],
            [
             0.7777777777777778,
             "#fb9f3a"
            ],
            [
             0.8888888888888888,
             "#fdca26"
            ],
            [
             1,
             "#f0f921"
            ]
           ]
          },
          "colorway": [
           "#636efa",
           "#EF553B",
           "#00cc96",
           "#ab63fa",
           "#FFA15A",
           "#19d3f3",
           "#FF6692",
           "#B6E880",
           "#FF97FF",
           "#FECB52"
          ],
          "font": {
           "color": "#2a3f5f"
          },
          "geo": {
           "bgcolor": "white",
           "lakecolor": "white",
           "landcolor": "#E5ECF6",
           "showlakes": true,
           "showland": true,
           "subunitcolor": "white"
          },
          "hoverlabel": {
           "align": "left"
          },
          "hovermode": "closest",
          "mapbox": {
           "style": "light"
          },
          "paper_bgcolor": "white",
          "plot_bgcolor": "#E5ECF6",
          "polar": {
           "angularaxis": {
            "gridcolor": "white",
            "linecolor": "white",
            "ticks": ""
           },
           "bgcolor": "#E5ECF6",
           "radialaxis": {
            "gridcolor": "white",
            "linecolor": "white",
            "ticks": ""
           }
          },
          "scene": {
           "xaxis": {
            "backgroundcolor": "#E5ECF6",
            "gridcolor": "white",
            "gridwidth": 2,
            "linecolor": "white",
            "showbackground": true,
            "ticks": "",
            "zerolinecolor": "white"
           },
           "yaxis": {
            "backgroundcolor": "#E5ECF6",
            "gridcolor": "white",
            "gridwidth": 2,
            "linecolor": "white",
            "showbackground": true,
            "ticks": "",
            "zerolinecolor": "white"
           },
           "zaxis": {
            "backgroundcolor": "#E5ECF6",
            "gridcolor": "white",
            "gridwidth": 2,
            "linecolor": "white",
            "showbackground": true,
            "ticks": "",
            "zerolinecolor": "white"
           }
          },
          "shapedefaults": {
           "line": {
            "color": "#2a3f5f"
           }
          },
          "ternary": {
           "aaxis": {
            "gridcolor": "white",
            "linecolor": "white",
            "ticks": ""
           },
           "baxis": {
            "gridcolor": "white",
            "linecolor": "white",
            "ticks": ""
           },
           "bgcolor": "#E5ECF6",
           "caxis": {
            "gridcolor": "white",
            "linecolor": "white",
            "ticks": ""
           }
          },
          "title": {
           "x": 0.05
          },
          "xaxis": {
           "automargin": true,
           "gridcolor": "white",
           "linecolor": "white",
           "ticks": "",
           "title": {
            "standoff": 15
           },
           "zerolinecolor": "white",
           "zerolinewidth": 2
          },
          "yaxis": {
           "automargin": true,
           "gridcolor": "white",
           "linecolor": "white",
           "ticks": "",
           "title": {
            "standoff": 15
           },
           "zerolinecolor": "white",
           "zerolinewidth": 2
          }
         }
        },
        "title": {
         "font": {
          "color": "#4D5663"
         }
        },
        "xaxis": {
         "gridcolor": "#E1E5ED",
         "showgrid": true,
         "tickfont": {
          "color": "#4D5663"
         },
         "title": {
          "font": {
           "color": "#4D5663"
          },
          "text": ""
         },
         "zerolinecolor": "#E1E5ED"
        },
        "yaxis": {
         "gridcolor": "#E1E5ED",
         "showgrid": true,
         "tickfont": {
          "color": "#4D5663"
         },
         "title": {
          "font": {
           "color": "#4D5663"
          },
          "text": ""
         },
         "zerolinecolor": "#E1E5ED"
        }
       }
      },
      "text/html": [
       "<div>                            <div id=\"b37fed06-4d43-44d5-b65d-cf5ddde5301e\" class=\"plotly-graph-div\" style=\"height:525px; width:100%;\"></div>            <script type=\"text/javascript\">                require([\"plotly\"], function(Plotly) {                    window.PLOTLYENV=window.PLOTLYENV || {};\n",
       "                    window.PLOTLYENV.BASE_URL='https://plot.ly';                                    if (document.getElementById(\"b37fed06-4d43-44d5-b65d-cf5ddde5301e\")) {                    Plotly.newPlot(                        \"b37fed06-4d43-44d5-b65d-cf5ddde5301e\",                        [{\"line\": {\"color\": \"rgba(255, 153, 51, 1.0)\", \"dash\": \"solid\", \"shape\": \"linear\", \"width\": 1.3}, \"mode\": \"lines\", \"name\": \"A\", \"text\": \"\", \"type\": \"scatter\", \"x\": [0, 1, 2, 3, 4, 5, 6, 7, 8, 9, 10, 11, 12, 13, 14, 15, 16, 17, 18, 19, 20, 21, 22, 23, 24, 25, 26, 27, 28, 29, 30, 31, 32, 33, 34, 35, 36, 37, 38, 39, 40, 41, 42, 43, 44, 45, 46, 47, 48, 49, 50, 51, 52, 53, 54, 55, 56, 57, 58, 59, 60, 61, 62, 63, 64, 65, 66, 67, 68, 69, 70, 71, 72, 73, 74, 75, 76, 77, 78, 79, 80, 81, 82, 83, 84, 85, 86, 87, 88, 89, 90, 91, 92, 93, 94, 95, 96, 97, 98, 99], \"y\": [-0.2531083250970203, 0.44472867520184695, -0.6880739903817269, -0.32389688390050336, -0.21066679145064116, -0.7471305568135573, 1.4644403155760901, -1.5390062758876004, -1.5425674761634856, 0.1845770072180261, -1.04983457028772, 2.958223043449747, 0.19962163438520358, 0.6809530686614672, 0.14535502903675235, -0.7188442819492274, 1.0125690660282616, 0.05224314033522782, -1.8432338689264192, -0.3483895528924191, -0.3583306084919735, 0.4761146454202297, -0.147129437965505, 1.5220538503214163, -1.3273284502582012, 0.16507303161167794, -0.0560374263769096, 0.5784265198295464, -0.2740863346688317, 2.143309560747731, 0.1671101097738608, 0.5490366739554574, 0.013215510451084333, 0.3940727215280942, -0.9521217551672523, -0.018722957509154415, 1.43946284679207, 0.5311864343840943, -0.9576730445124143, 2.615701373800367, 0.2969248462359406, -0.23254471608361083, 0.02390791000105446, -0.5815987415883015, 0.9797377817160473, 0.3983322606335077, -0.6141282028185352, 0.23784349161194623, -1.3199887141335402, 0.6996938400462953, -0.2868779707094815, 3.170323023876777, 0.10997169936554678, 1.3170088130777606, -2.658216644451961, -1.7510785196335596, 0.2911423653054329, -0.3146626882337196, 0.42671812938167997, -0.21623347798306392, 1.3913338101835877, 0.5186823638813134, 0.4992351523475857, 1.068339120041519, 0.6850632859094586, -0.4906088150209769, -0.8859045960411523, 0.3397388469656312, 1.4342595849975506, 0.09561282704554233, -1.2043279788958634, -0.5284463987481448, 0.21111175740921415, 0.6765630612537961, 0.5447339666552157, 1.9232009065877185, 0.9311243971960865, -0.5857662928038426, 0.1309340857065233, 0.6307938743323313, -1.3313404549673353, 0.6918609455835275, 1.261217754803169, 0.6246482895871643, 0.7309726569960078, 0.030697726306293666, -1.9848004838069544, -1.6463370700123259, 1.2178820207045697, 0.532948814095436, 0.3317063505971597, 0.2972599259821757, 0.5219716784009186, -1.3582358763406823, -0.3475294045762002, 0.5304741285949425, -0.7712291619711124, -0.8534484005792922, 0.2469690148994338, -0.49158233930531514]}, {\"line\": {\"color\": \"rgba(55, 128, 191, 1.0)\", \"dash\": \"solid\", \"shape\": \"linear\", \"width\": 1.3}, \"mode\": \"lines\", \"name\": \"B\", \"text\": \"\", \"type\": \"scatter\", \"x\": [0, 1, 2, 3, 4, 5, 6, 7, 8, 9, 10, 11, 12, 13, 14, 15, 16, 17, 18, 19, 20, 21, 22, 23, 24, 25, 26, 27, 28, 29, 30, 31, 32, 33, 34, 35, 36, 37, 38, 39, 40, 41, 42, 43, 44, 45, 46, 47, 48, 49, 50, 51, 52, 53, 54, 55, 56, 57, 58, 59, 60, 61, 62, 63, 64, 65, 66, 67, 68, 69, 70, 71, 72, 73, 74, 75, 76, 77, 78, 79, 80, 81, 82, 83, 84, 85, 86, 87, 88, 89, 90, 91, 92, 93, 94, 95, 96, 97, 98, 99], \"y\": [0.2692248590674567, 2.5414565169787684, -1.3847684476344624, 1.0279604222570988, 0.32178606562036727, -0.71414958269869, 1.3286475415150187, -0.18602555159568127, -0.6240462160771314, -0.013680420743699132, 0.9216749121898704, 0.36610989844719927, -0.23086136612047775, -1.561147103539752, -1.55113276236753, 0.32854251512931804, -1.764333635340324, -0.7028625061339061, -1.435701932428522, 0.924236301167901, 0.038138911451752064, -0.7590936404033503, -0.11749600252730237, 0.39633006465495496, -0.2107745967287429, 0.5113421067521764, 1.0929602611219198, 0.18439027770308478, -1.0854390751429883, 0.5118711694135236, 0.40958311714195506, -0.41240221065986143, -0.859034971894161, -0.5529096332253796, -0.5232120174327071, -1.1530761095753999, -0.1916230903244878, -0.15954320592542995, -1.3107503419051287, -0.6670439421192467, 0.16252815279435603, 0.5864792595105315, 0.31271069415931163, -1.4156239025283626, -0.2108067683301323, 0.4009473642109201, -0.2717101826795173, -0.41699572886723774, -0.30082422068105297, 0.5047385743026007, -1.9787868569877332, 0.11751434764417365, -0.12085350747255721, 0.34364779893495206, -1.8224513199521488, -1.2065012656680196, -0.7696169392939282, -0.5111253785557218, -0.3545273834343783, 0.8978159418460043, -0.8157526385378127, -0.9572493594332675, 0.4495184342597558, 2.3261108979215734, -1.089090169046952, -0.3542045476423018, -0.43072727366645397, 1.7074628488359203, -0.5323631224416054, -0.635697712321746, 0.48855952132870645, 1.3350182547014884, 2.3452090589417276, 0.09012629968942505, -1.2522205245484084, -0.7845119830949263, -0.6424298754383452, -1.0645184185886827, 1.3427868037204183, -0.3878916530551524, -0.4621215801011234, -1.4910175723377412, 0.002686208823228683, -0.5938418999955112, 0.6179416582649397, 0.15838027440967178, -1.3072408344980595, -0.14037572981081717, 0.08944578304891387, 0.40371386655793834, -1.2090705967400097, -0.15988167399899386, -0.7102046276701807, -1.474292195815174, -0.9781606303475665, -1.2263315181857672, 1.131136855389624, 1.0786752573396445, -1.305477163909878, 0.2421897939764603]}, {\"line\": {\"color\": \"rgba(50, 171, 96, 1.0)\", \"dash\": \"solid\", \"shape\": \"linear\", \"width\": 1.3}, \"mode\": \"lines\", \"name\": \"C\", \"text\": \"\", \"type\": \"scatter\", \"x\": [0, 1, 2, 3, 4, 5, 6, 7, 8, 9, 10, 11, 12, 13, 14, 15, 16, 17, 18, 19, 20, 21, 22, 23, 24, 25, 26, 27, 28, 29, 30, 31, 32, 33, 34, 35, 36, 37, 38, 39, 40, 41, 42, 43, 44, 45, 46, 47, 48, 49, 50, 51, 52, 53, 54, 55, 56, 57, 58, 59, 60, 61, 62, 63, 64, 65, 66, 67, 68, 69, 70, 71, 72, 73, 74, 75, 76, 77, 78, 79, 80, 81, 82, 83, 84, 85, 86, 87, 88, 89, 90, 91, 92, 93, 94, 95, 96, 97, 98, 99], \"y\": [0.9845430614354537, 1.4264547784811157, 1.8185224615598867, 0.2876235743837417, -0.15273863053357983, 1.0672640673775675, 0.36889847295683714, 1.7582131837067485, 0.6283354504314319, -0.16167766207986853, -0.2872649632996048, 0.8215961640829661, 0.480498537217956, 0.02075013750145252, -1.1453851914667532, 0.07800081841057309, 0.5186564001148111, 1.5079513777650961, -1.1656941375386918, -0.8055939069969118, -0.2696350033683586, -0.8286847723236382, -0.6522682365336133, 1.081691162805879, 0.1831095123488363, -0.5682789533346162, 0.9928132158925893, 1.8871253715982468, 0.4336963940136164, 0.8274590332282141, -1.3676126517313532, 0.3625391579203631, -0.4198420834785065, -1.7522618013398874, -1.0943409743490962, 1.5930933519180994, -0.3809535745932166, -0.07132020664631916, 0.21094772772557083, 1.4262956770952393, -0.18750703633071464, -1.7317701836166697, 1.0554110904290748, 0.7863549983579504, 0.3144640312460261, -2.694341451993742, -1.7842572579759883, 0.04072541689088181, 1.1849237957676644, 1.8613265763690219, -0.02870588501015, 0.024582987754410042, 2.255838657736544, -0.8234897901997741, -0.46085879890447956, 0.7779373045120065, -0.3275359819714058, -0.7620853715885492, 0.2266976150558581, -1.6665125148994269, -0.3403661546390149, 2.163774530063942, -0.17569776103107237, 0.0017418393701614686, -0.3863220961175093, -0.23254668193074243, 0.600094182920535, 1.4454255232328954, -0.07411531823787712, -0.4590766181330314, 1.2483873746197836, 0.6937370335745796, 0.304054615850903, 0.1282050670190241, -0.9963476782052268, 0.7573250780041975, 1.030235018977501, 0.45788355206083126, 0.2179323611002476, -1.2765176224547714, -0.05091228211186459, 0.7872875248289407, -1.3727816638752337, -0.24429024354267057, 0.2848800017257363, -0.9488131295734892, 1.2207557940326388, -0.150187321056821, 0.8319794732355743, -1.4875074618912505, -0.08982822957118794, -0.18921291714367677, -0.40016951985406524, -1.2794571246527122, -1.094534487829649, -0.4642133831026465, -0.35582950036557914, 0.7179682389790413, 0.30336413427558834, -1.7437205498720163]}, {\"line\": {\"color\": \"rgba(128, 0, 128, 1.0)\", \"dash\": \"solid\", \"shape\": \"linear\", \"width\": 1.3}, \"mode\": \"lines\", \"name\": \"D\", \"text\": \"\", \"type\": \"scatter\", \"x\": [0, 1, 2, 3, 4, 5, 6, 7, 8, 9, 10, 11, 12, 13, 14, 15, 16, 17, 18, 19, 20, 21, 22, 23, 24, 25, 26, 27, 28, 29, 30, 31, 32, 33, 34, 35, 36, 37, 38, 39, 40, 41, 42, 43, 44, 45, 46, 47, 48, 49, 50, 51, 52, 53, 54, 55, 56, 57, 58, 59, 60, 61, 62, 63, 64, 65, 66, 67, 68, 69, 70, 71, 72, 73, 74, 75, 76, 77, 78, 79, 80, 81, 82, 83, 84, 85, 86, 87, 88, 89, 90, 91, 92, 93, 94, 95, 96, 97, 98, 99], \"y\": [-1.1873759401072121, -0.21272893173520116, -0.3337398117192112, -0.26956520378390764, -1.7659624936732585, -0.6978766429196865, 1.6725545487313158, 0.09259338719191819, 1.6453366231173143, -0.3833674186111683, 1.6989508724793339, 0.5983377937837228, 0.5447352846764828, 0.18099022472462933, 1.5307594863059593, 0.23142495576797836, -2.239277531098523, 0.3752910312617037, 0.2122588488728485, -0.9583627400158707, -0.026938775072069886, 0.7131953417154699, 1.2166546304056043, 0.5914997911410284, 0.8470642191414174, 1.6466958348146044, -0.3639331891040234, -1.710068176230475, -1.5574786150076614, -0.6040313136124005, 2.2301466554883644, 0.9273061531277372, -0.7307650207334397, -0.7302001437813028, -0.48750578267528044, -0.35766261050834985, -0.6725031726706149, 0.421873498857747, 0.02556409448236915, 0.4765293982838863, -1.2141185724581982, -1.639107377789116, -1.131724961813166, -0.4991893991036096, 0.8914334239727241, 0.556560970020493, -1.4675191010887423, -0.3973202818189989, -1.3272951822043146, 0.13436309845109753, 0.7554731936109603, 0.20298422685684478, 0.013433041100121399, -1.6219587781765432, -1.2919866455371372, 1.7156967381957249, 0.3421105516382237, 1.2424484347790248, -1.0511765365084793, -0.26770727452964027, 0.2996732318982424, 2.592142105551428, -0.42639407320832945, 2.1374720582633215, 0.1484491726771624, 0.09940343462618549, -0.5139219798838047, -0.8049296505862523, -0.4046966330808061, -1.3430346983946972, -0.06191568728436142, -0.4459407604275068, 0.4540494393224033, 0.8805770779046518, 1.9278319180101513, -0.27752181605053633, -2.0236715828075607, 0.9811780305866094, 2.2022300541591475, -1.3825108801347603, 0.97983023674692, -2.080809733204436, -0.5323966460427149, -1.375565887222923, 0.7640666043568605, 0.848594647794393, -1.1393736168819195, 0.17793233394983657, 1.8972293181130444, 0.959783938955475, 0.940058256679049, 0.2807262610225058, -1.1588288692589268, -1.1965036252006027, 1.2000502779767896, 1.0549663172573462, -0.6876934291592685, 0.572388846989946, -1.3302273547405212, -0.18950379001783332]}],                        {\"legend\": {\"bgcolor\": \"#F5F6F9\", \"font\": {\"color\": \"#4D5663\"}}, \"paper_bgcolor\": \"#F5F6F9\", \"plot_bgcolor\": \"#F5F6F9\", \"template\": {\"data\": {\"bar\": [{\"error_x\": {\"color\": \"#2a3f5f\"}, \"error_y\": {\"color\": \"#2a3f5f\"}, \"marker\": {\"line\": {\"color\": \"#E5ECF6\", \"width\": 0.5}}, \"type\": \"bar\"}], \"barpolar\": [{\"marker\": {\"line\": {\"color\": \"#E5ECF6\", \"width\": 0.5}}, \"type\": \"barpolar\"}], \"carpet\": [{\"aaxis\": {\"endlinecolor\": \"#2a3f5f\", \"gridcolor\": \"white\", \"linecolor\": \"white\", \"minorgridcolor\": \"white\", \"startlinecolor\": \"#2a3f5f\"}, \"baxis\": {\"endlinecolor\": \"#2a3f5f\", \"gridcolor\": \"white\", \"linecolor\": \"white\", \"minorgridcolor\": \"white\", \"startlinecolor\": \"#2a3f5f\"}, \"type\": \"carpet\"}], \"choropleth\": [{\"colorbar\": {\"outlinewidth\": 0, \"ticks\": \"\"}, \"type\": \"choropleth\"}], \"contour\": [{\"colorbar\": {\"outlinewidth\": 0, \"ticks\": \"\"}, \"colorscale\": [[0.0, \"#0d0887\"], [0.1111111111111111, \"#46039f\"], [0.2222222222222222, \"#7201a8\"], [0.3333333333333333, \"#9c179e\"], [0.4444444444444444, \"#bd3786\"], [0.5555555555555556, \"#d8576b\"], [0.6666666666666666, \"#ed7953\"], [0.7777777777777778, \"#fb9f3a\"], [0.8888888888888888, \"#fdca26\"], [1.0, \"#f0f921\"]], \"type\": \"contour\"}], \"contourcarpet\": [{\"colorbar\": {\"outlinewidth\": 0, \"ticks\": \"\"}, \"type\": \"contourcarpet\"}], \"heatmap\": [{\"colorbar\": {\"outlinewidth\": 0, \"ticks\": \"\"}, \"colorscale\": [[0.0, \"#0d0887\"], [0.1111111111111111, \"#46039f\"], [0.2222222222222222, \"#7201a8\"], [0.3333333333333333, \"#9c179e\"], [0.4444444444444444, \"#bd3786\"], [0.5555555555555556, \"#d8576b\"], [0.6666666666666666, \"#ed7953\"], [0.7777777777777778, \"#fb9f3a\"], [0.8888888888888888, \"#fdca26\"], [1.0, \"#f0f921\"]], \"type\": \"heatmap\"}], \"heatmapgl\": [{\"colorbar\": {\"outlinewidth\": 0, \"ticks\": \"\"}, \"colorscale\": [[0.0, \"#0d0887\"], [0.1111111111111111, \"#46039f\"], [0.2222222222222222, \"#7201a8\"], [0.3333333333333333, \"#9c179e\"], [0.4444444444444444, \"#bd3786\"], [0.5555555555555556, \"#d8576b\"], [0.6666666666666666, \"#ed7953\"], [0.7777777777777778, \"#fb9f3a\"], [0.8888888888888888, \"#fdca26\"], [1.0, \"#f0f921\"]], \"type\": \"heatmapgl\"}], \"histogram\": [{\"marker\": {\"colorbar\": {\"outlinewidth\": 0, \"ticks\": \"\"}}, \"type\": \"histogram\"}], \"histogram2d\": [{\"colorbar\": {\"outlinewidth\": 0, \"ticks\": \"\"}, \"colorscale\": [[0.0, \"#0d0887\"], [0.1111111111111111, \"#46039f\"], [0.2222222222222222, \"#7201a8\"], [0.3333333333333333, \"#9c179e\"], [0.4444444444444444, \"#bd3786\"], [0.5555555555555556, \"#d8576b\"], [0.6666666666666666, \"#ed7953\"], [0.7777777777777778, \"#fb9f3a\"], [0.8888888888888888, \"#fdca26\"], [1.0, \"#f0f921\"]], \"type\": \"histogram2d\"}], \"histogram2dcontour\": [{\"colorbar\": {\"outlinewidth\": 0, \"ticks\": \"\"}, \"colorscale\": [[0.0, \"#0d0887\"], [0.1111111111111111, \"#46039f\"], [0.2222222222222222, \"#7201a8\"], [0.3333333333333333, \"#9c179e\"], [0.4444444444444444, \"#bd3786\"], [0.5555555555555556, \"#d8576b\"], [0.6666666666666666, \"#ed7953\"], [0.7777777777777778, \"#fb9f3a\"], [0.8888888888888888, \"#fdca26\"], [1.0, \"#f0f921\"]], \"type\": \"histogram2dcontour\"}], \"mesh3d\": [{\"colorbar\": {\"outlinewidth\": 0, \"ticks\": \"\"}, \"type\": \"mesh3d\"}], \"parcoords\": [{\"line\": {\"colorbar\": {\"outlinewidth\": 0, \"ticks\": \"\"}}, \"type\": \"parcoords\"}], \"pie\": [{\"automargin\": true, \"type\": \"pie\"}], \"scatter\": [{\"marker\": {\"colorbar\": {\"outlinewidth\": 0, \"ticks\": \"\"}}, \"type\": \"scatter\"}], \"scatter3d\": [{\"line\": {\"colorbar\": {\"outlinewidth\": 0, \"ticks\": \"\"}}, \"marker\": {\"colorbar\": {\"outlinewidth\": 0, \"ticks\": \"\"}}, \"type\": \"scatter3d\"}], \"scattercarpet\": [{\"marker\": {\"colorbar\": {\"outlinewidth\": 0, \"ticks\": \"\"}}, \"type\": \"scattercarpet\"}], \"scattergeo\": [{\"marker\": {\"colorbar\": {\"outlinewidth\": 0, \"ticks\": \"\"}}, \"type\": \"scattergeo\"}], \"scattergl\": [{\"marker\": {\"colorbar\": {\"outlinewidth\": 0, \"ticks\": \"\"}}, \"type\": \"scattergl\"}], \"scattermapbox\": [{\"marker\": {\"colorbar\": {\"outlinewidth\": 0, \"ticks\": \"\"}}, \"type\": \"scattermapbox\"}], \"scatterpolar\": [{\"marker\": {\"colorbar\": {\"outlinewidth\": 0, \"ticks\": \"\"}}, \"type\": \"scatterpolar\"}], \"scatterpolargl\": [{\"marker\": {\"colorbar\": {\"outlinewidth\": 0, \"ticks\": \"\"}}, \"type\": \"scatterpolargl\"}], \"scatterternary\": [{\"marker\": {\"colorbar\": {\"outlinewidth\": 0, \"ticks\": \"\"}}, \"type\": \"scatterternary\"}], \"surface\": [{\"colorbar\": {\"outlinewidth\": 0, \"ticks\": \"\"}, \"colorscale\": [[0.0, \"#0d0887\"], [0.1111111111111111, \"#46039f\"], [0.2222222222222222, \"#7201a8\"], [0.3333333333333333, \"#9c179e\"], [0.4444444444444444, \"#bd3786\"], [0.5555555555555556, \"#d8576b\"], [0.6666666666666666, \"#ed7953\"], [0.7777777777777778, \"#fb9f3a\"], [0.8888888888888888, \"#fdca26\"], [1.0, \"#f0f921\"]], \"type\": \"surface\"}], \"table\": [{\"cells\": {\"fill\": {\"color\": \"#EBF0F8\"}, \"line\": {\"color\": \"white\"}}, \"header\": {\"fill\": {\"color\": \"#C8D4E3\"}, \"line\": {\"color\": \"white\"}}, \"type\": \"table\"}]}, \"layout\": {\"annotationdefaults\": {\"arrowcolor\": \"#2a3f5f\", \"arrowhead\": 0, \"arrowwidth\": 1}, \"autotypenumbers\": \"strict\", \"coloraxis\": {\"colorbar\": {\"outlinewidth\": 0, \"ticks\": \"\"}}, \"colorscale\": {\"diverging\": [[0, \"#8e0152\"], [0.1, \"#c51b7d\"], [0.2, \"#de77ae\"], [0.3, \"#f1b6da\"], [0.4, \"#fde0ef\"], [0.5, \"#f7f7f7\"], [0.6, \"#e6f5d0\"], [0.7, \"#b8e186\"], [0.8, \"#7fbc41\"], [0.9, \"#4d9221\"], [1, \"#276419\"]], \"sequential\": [[0.0, \"#0d0887\"], [0.1111111111111111, \"#46039f\"], [0.2222222222222222, \"#7201a8\"], [0.3333333333333333, \"#9c179e\"], [0.4444444444444444, \"#bd3786\"], [0.5555555555555556, \"#d8576b\"], [0.6666666666666666, \"#ed7953\"], [0.7777777777777778, \"#fb9f3a\"], [0.8888888888888888, \"#fdca26\"], [1.0, \"#f0f921\"]], \"sequentialminus\": [[0.0, \"#0d0887\"], [0.1111111111111111, \"#46039f\"], [0.2222222222222222, \"#7201a8\"], [0.3333333333333333, \"#9c179e\"], [0.4444444444444444, \"#bd3786\"], [0.5555555555555556, \"#d8576b\"], [0.6666666666666666, \"#ed7953\"], [0.7777777777777778, \"#fb9f3a\"], [0.8888888888888888, \"#fdca26\"], [1.0, \"#f0f921\"]]}, \"colorway\": [\"#636efa\", \"#EF553B\", \"#00cc96\", \"#ab63fa\", \"#FFA15A\", \"#19d3f3\", \"#FF6692\", \"#B6E880\", \"#FF97FF\", \"#FECB52\"], \"font\": {\"color\": \"#2a3f5f\"}, \"geo\": {\"bgcolor\": \"white\", \"lakecolor\": \"white\", \"landcolor\": \"#E5ECF6\", \"showlakes\": true, \"showland\": true, \"subunitcolor\": \"white\"}, \"hoverlabel\": {\"align\": \"left\"}, \"hovermode\": \"closest\", \"mapbox\": {\"style\": \"light\"}, \"paper_bgcolor\": \"white\", \"plot_bgcolor\": \"#E5ECF6\", \"polar\": {\"angularaxis\": {\"gridcolor\": \"white\", \"linecolor\": \"white\", \"ticks\": \"\"}, \"bgcolor\": \"#E5ECF6\", \"radialaxis\": {\"gridcolor\": \"white\", \"linecolor\": \"white\", \"ticks\": \"\"}}, \"scene\": {\"xaxis\": {\"backgroundcolor\": \"#E5ECF6\", \"gridcolor\": \"white\", \"gridwidth\": 2, \"linecolor\": \"white\", \"showbackground\": true, \"ticks\": \"\", \"zerolinecolor\": \"white\"}, \"yaxis\": {\"backgroundcolor\": \"#E5ECF6\", \"gridcolor\": \"white\", \"gridwidth\": 2, \"linecolor\": \"white\", \"showbackground\": true, \"ticks\": \"\", \"zerolinecolor\": \"white\"}, \"zaxis\": {\"backgroundcolor\": \"#E5ECF6\", \"gridcolor\": \"white\", \"gridwidth\": 2, \"linecolor\": \"white\", \"showbackground\": true, \"ticks\": \"\", \"zerolinecolor\": \"white\"}}, \"shapedefaults\": {\"line\": {\"color\": \"#2a3f5f\"}}, \"ternary\": {\"aaxis\": {\"gridcolor\": \"white\", \"linecolor\": \"white\", \"ticks\": \"\"}, \"baxis\": {\"gridcolor\": \"white\", \"linecolor\": \"white\", \"ticks\": \"\"}, \"bgcolor\": \"#E5ECF6\", \"caxis\": {\"gridcolor\": \"white\", \"linecolor\": \"white\", \"ticks\": \"\"}}, \"title\": {\"x\": 0.05}, \"xaxis\": {\"automargin\": true, \"gridcolor\": \"white\", \"linecolor\": \"white\", \"ticks\": \"\", \"title\": {\"standoff\": 15}, \"zerolinecolor\": \"white\", \"zerolinewidth\": 2}, \"yaxis\": {\"automargin\": true, \"gridcolor\": \"white\", \"linecolor\": \"white\", \"ticks\": \"\", \"title\": {\"standoff\": 15}, \"zerolinecolor\": \"white\", \"zerolinewidth\": 2}}}, \"title\": {\"font\": {\"color\": \"#4D5663\"}}, \"xaxis\": {\"gridcolor\": \"#E1E5ED\", \"showgrid\": true, \"tickfont\": {\"color\": \"#4D5663\"}, \"title\": {\"font\": {\"color\": \"#4D5663\"}, \"text\": \"\"}, \"zerolinecolor\": \"#E1E5ED\"}, \"yaxis\": {\"gridcolor\": \"#E1E5ED\", \"showgrid\": true, \"tickfont\": {\"color\": \"#4D5663\"}, \"title\": {\"font\": {\"color\": \"#4D5663\"}, \"text\": \"\"}, \"zerolinecolor\": \"#E1E5ED\"}},                        {\"showLink\": true, \"linkText\": \"Export to plot.ly\", \"plotlyServerURL\": \"https://plot.ly\", \"responsive\": true}                    ).then(function(){\n",
       "                            \n",
       "var gd = document.getElementById('b37fed06-4d43-44d5-b65d-cf5ddde5301e');\n",
       "var x = new MutationObserver(function (mutations, observer) {{\n",
       "        var display = window.getComputedStyle(gd).display;\n",
       "        if (!display || display === 'none') {{\n",
       "            console.log([gd, 'removed!']);\n",
       "            Plotly.purge(gd);\n",
       "            observer.disconnect();\n",
       "        }}\n",
       "}});\n",
       "\n",
       "// Listen for the removal of the full notebook cells\n",
       "var notebookContainer = gd.closest('#notebook-container');\n",
       "if (notebookContainer) {{\n",
       "    x.observe(notebookContainer, {childList: true});\n",
       "}}\n",
       "\n",
       "// Listen for the clearing of the current output cell\n",
       "var outputEl = gd.closest('.output');\n",
       "if (outputEl) {{\n",
       "    x.observe(outputEl, {childList: true});\n",
       "}}\n",
       "\n",
       "                        })                };                });            </script>        </div>"
      ]
     },
     "metadata": {},
     "output_type": "display_data"
    }
   ],
   "source": [
    "df.iplot()"
   ]
  },
  {
   "cell_type": "code",
   "execution_count": 17,
   "metadata": {},
   "outputs": [
    {
     "data": {
      "application/vnd.plotly.v1+json": {
       "config": {
        "linkText": "Export to plot.ly",
        "plotlyServerURL": "https://plot.ly",
        "showLink": true
       },
       "data": [
        {
         "line": {
          "color": "rgba(255, 153, 51, 1.0)",
          "dash": "solid",
          "shape": "linear",
          "width": 1.3
         },
         "marker": {
          "size": 10,
          "symbol": "circle"
         },
         "mode": "markers",
         "name": "B",
         "text": "",
         "type": "scatter",
         "x": [
          -0.2531083250970203,
          0.44472867520184695,
          -0.6880739903817269,
          -0.32389688390050336,
          -0.21066679145064116,
          -0.7471305568135573,
          1.4644403155760901,
          -1.5390062758876004,
          -1.5425674761634856,
          0.1845770072180261,
          -1.04983457028772,
          2.958223043449747,
          0.19962163438520358,
          0.6809530686614672,
          0.14535502903675235,
          -0.7188442819492274,
          1.0125690660282616,
          0.05224314033522782,
          -1.8432338689264192,
          -0.3483895528924191,
          -0.3583306084919735,
          0.4761146454202297,
          -0.147129437965505,
          1.5220538503214163,
          -1.3273284502582012,
          0.16507303161167794,
          -0.0560374263769096,
          0.5784265198295464,
          -0.2740863346688317,
          2.143309560747731,
          0.1671101097738608,
          0.5490366739554574,
          0.013215510451084333,
          0.3940727215280942,
          -0.9521217551672523,
          -0.018722957509154415,
          1.43946284679207,
          0.5311864343840943,
          -0.9576730445124143,
          2.615701373800367,
          0.2969248462359406,
          -0.23254471608361083,
          0.02390791000105446,
          -0.5815987415883015,
          0.9797377817160473,
          0.3983322606335077,
          -0.6141282028185352,
          0.23784349161194623,
          -1.3199887141335402,
          0.6996938400462953,
          -0.2868779707094815,
          3.170323023876777,
          0.10997169936554678,
          1.3170088130777606,
          -2.658216644451961,
          -1.7510785196335596,
          0.2911423653054329,
          -0.3146626882337196,
          0.42671812938167997,
          -0.21623347798306392,
          1.3913338101835877,
          0.5186823638813134,
          0.4992351523475857,
          1.068339120041519,
          0.6850632859094586,
          -0.4906088150209769,
          -0.8859045960411523,
          0.3397388469656312,
          1.4342595849975506,
          0.09561282704554233,
          -1.2043279788958634,
          -0.5284463987481448,
          0.21111175740921415,
          0.6765630612537961,
          0.5447339666552157,
          1.9232009065877185,
          0.9311243971960865,
          -0.5857662928038426,
          0.1309340857065233,
          0.6307938743323313,
          -1.3313404549673353,
          0.6918609455835275,
          1.261217754803169,
          0.6246482895871643,
          0.7309726569960078,
          0.030697726306293666,
          -1.9848004838069544,
          -1.6463370700123259,
          1.2178820207045697,
          0.532948814095436,
          0.3317063505971597,
          0.2972599259821757,
          0.5219716784009186,
          -1.3582358763406823,
          -0.3475294045762002,
          0.5304741285949425,
          -0.7712291619711124,
          -0.8534484005792922,
          0.2469690148994338,
          -0.49158233930531514
         ],
         "y": [
          0.2692248590674567,
          2.5414565169787684,
          -1.3847684476344624,
          1.0279604222570988,
          0.32178606562036727,
          -0.71414958269869,
          1.3286475415150187,
          -0.18602555159568127,
          -0.6240462160771314,
          -0.013680420743699132,
          0.9216749121898704,
          0.36610989844719927,
          -0.23086136612047775,
          -1.561147103539752,
          -1.55113276236753,
          0.32854251512931804,
          -1.764333635340324,
          -0.7028625061339061,
          -1.435701932428522,
          0.924236301167901,
          0.038138911451752064,
          -0.7590936404033503,
          -0.11749600252730237,
          0.39633006465495496,
          -0.2107745967287429,
          0.5113421067521764,
          1.0929602611219198,
          0.18439027770308478,
          -1.0854390751429883,
          0.5118711694135236,
          0.40958311714195506,
          -0.41240221065986143,
          -0.859034971894161,
          -0.5529096332253796,
          -0.5232120174327071,
          -1.1530761095753999,
          -0.1916230903244878,
          -0.15954320592542995,
          -1.3107503419051287,
          -0.6670439421192467,
          0.16252815279435603,
          0.5864792595105315,
          0.31271069415931163,
          -1.4156239025283626,
          -0.2108067683301323,
          0.4009473642109201,
          -0.2717101826795173,
          -0.41699572886723774,
          -0.30082422068105297,
          0.5047385743026007,
          -1.9787868569877332,
          0.11751434764417365,
          -0.12085350747255721,
          0.34364779893495206,
          -1.8224513199521488,
          -1.2065012656680196,
          -0.7696169392939282,
          -0.5111253785557218,
          -0.3545273834343783,
          0.8978159418460043,
          -0.8157526385378127,
          -0.9572493594332675,
          0.4495184342597558,
          2.3261108979215734,
          -1.089090169046952,
          -0.3542045476423018,
          -0.43072727366645397,
          1.7074628488359203,
          -0.5323631224416054,
          -0.635697712321746,
          0.48855952132870645,
          1.3350182547014884,
          2.3452090589417276,
          0.09012629968942505,
          -1.2522205245484084,
          -0.7845119830949263,
          -0.6424298754383452,
          -1.0645184185886827,
          1.3427868037204183,
          -0.3878916530551524,
          -0.4621215801011234,
          -1.4910175723377412,
          0.002686208823228683,
          -0.5938418999955112,
          0.6179416582649397,
          0.15838027440967178,
          -1.3072408344980595,
          -0.14037572981081717,
          0.08944578304891387,
          0.40371386655793834,
          -1.2090705967400097,
          -0.15988167399899386,
          -0.7102046276701807,
          -1.474292195815174,
          -0.9781606303475665,
          -1.2263315181857672,
          1.131136855389624,
          1.0786752573396445,
          -1.305477163909878,
          0.2421897939764603
         ]
        }
       ],
       "layout": {
        "legend": {
         "bgcolor": "#F5F6F9",
         "font": {
          "color": "#4D5663"
         }
        },
        "paper_bgcolor": "#F5F6F9",
        "plot_bgcolor": "#F5F6F9",
        "template": {
         "data": {
          "bar": [
           {
            "error_x": {
             "color": "#2a3f5f"
            },
            "error_y": {
             "color": "#2a3f5f"
            },
            "marker": {
             "line": {
              "color": "#E5ECF6",
              "width": 0.5
             }
            },
            "type": "bar"
           }
          ],
          "barpolar": [
           {
            "marker": {
             "line": {
              "color": "#E5ECF6",
              "width": 0.5
             }
            },
            "type": "barpolar"
           }
          ],
          "carpet": [
           {
            "aaxis": {
             "endlinecolor": "#2a3f5f",
             "gridcolor": "white",
             "linecolor": "white",
             "minorgridcolor": "white",
             "startlinecolor": "#2a3f5f"
            },
            "baxis": {
             "endlinecolor": "#2a3f5f",
             "gridcolor": "white",
             "linecolor": "white",
             "minorgridcolor": "white",
             "startlinecolor": "#2a3f5f"
            },
            "type": "carpet"
           }
          ],
          "choropleth": [
           {
            "colorbar": {
             "outlinewidth": 0,
             "ticks": ""
            },
            "type": "choropleth"
           }
          ],
          "contour": [
           {
            "colorbar": {
             "outlinewidth": 0,
             "ticks": ""
            },
            "colorscale": [
             [
              0,
              "#0d0887"
             ],
             [
              0.1111111111111111,
              "#46039f"
             ],
             [
              0.2222222222222222,
              "#7201a8"
             ],
             [
              0.3333333333333333,
              "#9c179e"
             ],
             [
              0.4444444444444444,
              "#bd3786"
             ],
             [
              0.5555555555555556,
              "#d8576b"
             ],
             [
              0.6666666666666666,
              "#ed7953"
             ],
             [
              0.7777777777777778,
              "#fb9f3a"
             ],
             [
              0.8888888888888888,
              "#fdca26"
             ],
             [
              1,
              "#f0f921"
             ]
            ],
            "type": "contour"
           }
          ],
          "contourcarpet": [
           {
            "colorbar": {
             "outlinewidth": 0,
             "ticks": ""
            },
            "type": "contourcarpet"
           }
          ],
          "heatmap": [
           {
            "colorbar": {
             "outlinewidth": 0,
             "ticks": ""
            },
            "colorscale": [
             [
              0,
              "#0d0887"
             ],
             [
              0.1111111111111111,
              "#46039f"
             ],
             [
              0.2222222222222222,
              "#7201a8"
             ],
             [
              0.3333333333333333,
              "#9c179e"
             ],
             [
              0.4444444444444444,
              "#bd3786"
             ],
             [
              0.5555555555555556,
              "#d8576b"
             ],
             [
              0.6666666666666666,
              "#ed7953"
             ],
             [
              0.7777777777777778,
              "#fb9f3a"
             ],
             [
              0.8888888888888888,
              "#fdca26"
             ],
             [
              1,
              "#f0f921"
             ]
            ],
            "type": "heatmap"
           }
          ],
          "heatmapgl": [
           {
            "colorbar": {
             "outlinewidth": 0,
             "ticks": ""
            },
            "colorscale": [
             [
              0,
              "#0d0887"
             ],
             [
              0.1111111111111111,
              "#46039f"
             ],
             [
              0.2222222222222222,
              "#7201a8"
             ],
             [
              0.3333333333333333,
              "#9c179e"
             ],
             [
              0.4444444444444444,
              "#bd3786"
             ],
             [
              0.5555555555555556,
              "#d8576b"
             ],
             [
              0.6666666666666666,
              "#ed7953"
             ],
             [
              0.7777777777777778,
              "#fb9f3a"
             ],
             [
              0.8888888888888888,
              "#fdca26"
             ],
             [
              1,
              "#f0f921"
             ]
            ],
            "type": "heatmapgl"
           }
          ],
          "histogram": [
           {
            "marker": {
             "colorbar": {
              "outlinewidth": 0,
              "ticks": ""
             }
            },
            "type": "histogram"
           }
          ],
          "histogram2d": [
           {
            "colorbar": {
             "outlinewidth": 0,
             "ticks": ""
            },
            "colorscale": [
             [
              0,
              "#0d0887"
             ],
             [
              0.1111111111111111,
              "#46039f"
             ],
             [
              0.2222222222222222,
              "#7201a8"
             ],
             [
              0.3333333333333333,
              "#9c179e"
             ],
             [
              0.4444444444444444,
              "#bd3786"
             ],
             [
              0.5555555555555556,
              "#d8576b"
             ],
             [
              0.6666666666666666,
              "#ed7953"
             ],
             [
              0.7777777777777778,
              "#fb9f3a"
             ],
             [
              0.8888888888888888,
              "#fdca26"
             ],
             [
              1,
              "#f0f921"
             ]
            ],
            "type": "histogram2d"
           }
          ],
          "histogram2dcontour": [
           {
            "colorbar": {
             "outlinewidth": 0,
             "ticks": ""
            },
            "colorscale": [
             [
              0,
              "#0d0887"
             ],
             [
              0.1111111111111111,
              "#46039f"
             ],
             [
              0.2222222222222222,
              "#7201a8"
             ],
             [
              0.3333333333333333,
              "#9c179e"
             ],
             [
              0.4444444444444444,
              "#bd3786"
             ],
             [
              0.5555555555555556,
              "#d8576b"
             ],
             [
              0.6666666666666666,
              "#ed7953"
             ],
             [
              0.7777777777777778,
              "#fb9f3a"
             ],
             [
              0.8888888888888888,
              "#fdca26"
             ],
             [
              1,
              "#f0f921"
             ]
            ],
            "type": "histogram2dcontour"
           }
          ],
          "mesh3d": [
           {
            "colorbar": {
             "outlinewidth": 0,
             "ticks": ""
            },
            "type": "mesh3d"
           }
          ],
          "parcoords": [
           {
            "line": {
             "colorbar": {
              "outlinewidth": 0,
              "ticks": ""
             }
            },
            "type": "parcoords"
           }
          ],
          "pie": [
           {
            "automargin": true,
            "type": "pie"
           }
          ],
          "scatter": [
           {
            "marker": {
             "colorbar": {
              "outlinewidth": 0,
              "ticks": ""
             }
            },
            "type": "scatter"
           }
          ],
          "scatter3d": [
           {
            "line": {
             "colorbar": {
              "outlinewidth": 0,
              "ticks": ""
             }
            },
            "marker": {
             "colorbar": {
              "outlinewidth": 0,
              "ticks": ""
             }
            },
            "type": "scatter3d"
           }
          ],
          "scattercarpet": [
           {
            "marker": {
             "colorbar": {
              "outlinewidth": 0,
              "ticks": ""
             }
            },
            "type": "scattercarpet"
           }
          ],
          "scattergeo": [
           {
            "marker": {
             "colorbar": {
              "outlinewidth": 0,
              "ticks": ""
             }
            },
            "type": "scattergeo"
           }
          ],
          "scattergl": [
           {
            "marker": {
             "colorbar": {
              "outlinewidth": 0,
              "ticks": ""
             }
            },
            "type": "scattergl"
           }
          ],
          "scattermapbox": [
           {
            "marker": {
             "colorbar": {
              "outlinewidth": 0,
              "ticks": ""
             }
            },
            "type": "scattermapbox"
           }
          ],
          "scatterpolar": [
           {
            "marker": {
             "colorbar": {
              "outlinewidth": 0,
              "ticks": ""
             }
            },
            "type": "scatterpolar"
           }
          ],
          "scatterpolargl": [
           {
            "marker": {
             "colorbar": {
              "outlinewidth": 0,
              "ticks": ""
             }
            },
            "type": "scatterpolargl"
           }
          ],
          "scatterternary": [
           {
            "marker": {
             "colorbar": {
              "outlinewidth": 0,
              "ticks": ""
             }
            },
            "type": "scatterternary"
           }
          ],
          "surface": [
           {
            "colorbar": {
             "outlinewidth": 0,
             "ticks": ""
            },
            "colorscale": [
             [
              0,
              "#0d0887"
             ],
             [
              0.1111111111111111,
              "#46039f"
             ],
             [
              0.2222222222222222,
              "#7201a8"
             ],
             [
              0.3333333333333333,
              "#9c179e"
             ],
             [
              0.4444444444444444,
              "#bd3786"
             ],
             [
              0.5555555555555556,
              "#d8576b"
             ],
             [
              0.6666666666666666,
              "#ed7953"
             ],
             [
              0.7777777777777778,
              "#fb9f3a"
             ],
             [
              0.8888888888888888,
              "#fdca26"
             ],
             [
              1,
              "#f0f921"
             ]
            ],
            "type": "surface"
           }
          ],
          "table": [
           {
            "cells": {
             "fill": {
              "color": "#EBF0F8"
             },
             "line": {
              "color": "white"
             }
            },
            "header": {
             "fill": {
              "color": "#C8D4E3"
             },
             "line": {
              "color": "white"
             }
            },
            "type": "table"
           }
          ]
         },
         "layout": {
          "annotationdefaults": {
           "arrowcolor": "#2a3f5f",
           "arrowhead": 0,
           "arrowwidth": 1
          },
          "autotypenumbers": "strict",
          "coloraxis": {
           "colorbar": {
            "outlinewidth": 0,
            "ticks": ""
           }
          },
          "colorscale": {
           "diverging": [
            [
             0,
             "#8e0152"
            ],
            [
             0.1,
             "#c51b7d"
            ],
            [
             0.2,
             "#de77ae"
            ],
            [
             0.3,
             "#f1b6da"
            ],
            [
             0.4,
             "#fde0ef"
            ],
            [
             0.5,
             "#f7f7f7"
            ],
            [
             0.6,
             "#e6f5d0"
            ],
            [
             0.7,
             "#b8e186"
            ],
            [
             0.8,
             "#7fbc41"
            ],
            [
             0.9,
             "#4d9221"
            ],
            [
             1,
             "#276419"
            ]
           ],
           "sequential": [
            [
             0,
             "#0d0887"
            ],
            [
             0.1111111111111111,
             "#46039f"
            ],
            [
             0.2222222222222222,
             "#7201a8"
            ],
            [
             0.3333333333333333,
             "#9c179e"
            ],
            [
             0.4444444444444444,
             "#bd3786"
            ],
            [
             0.5555555555555556,
             "#d8576b"
            ],
            [
             0.6666666666666666,
             "#ed7953"
            ],
            [
             0.7777777777777778,
             "#fb9f3a"
            ],
            [
             0.8888888888888888,
             "#fdca26"
            ],
            [
             1,
             "#f0f921"
            ]
           ],
           "sequentialminus": [
            [
             0,
             "#0d0887"
            ],
            [
             0.1111111111111111,
             "#46039f"
            ],
            [
             0.2222222222222222,
             "#7201a8"
            ],
            [
             0.3333333333333333,
             "#9c179e"
            ],
            [
             0.4444444444444444,
             "#bd3786"
            ],
            [
             0.5555555555555556,
             "#d8576b"
            ],
            [
             0.6666666666666666,
             "#ed7953"
            ],
            [
             0.7777777777777778,
             "#fb9f3a"
            ],
            [
             0.8888888888888888,
             "#fdca26"
            ],
            [
             1,
             "#f0f921"
            ]
           ]
          },
          "colorway": [
           "#636efa",
           "#EF553B",
           "#00cc96",
           "#ab63fa",
           "#FFA15A",
           "#19d3f3",
           "#FF6692",
           "#B6E880",
           "#FF97FF",
           "#FECB52"
          ],
          "font": {
           "color": "#2a3f5f"
          },
          "geo": {
           "bgcolor": "white",
           "lakecolor": "white",
           "landcolor": "#E5ECF6",
           "showlakes": true,
           "showland": true,
           "subunitcolor": "white"
          },
          "hoverlabel": {
           "align": "left"
          },
          "hovermode": "closest",
          "mapbox": {
           "style": "light"
          },
          "paper_bgcolor": "white",
          "plot_bgcolor": "#E5ECF6",
          "polar": {
           "angularaxis": {
            "gridcolor": "white",
            "linecolor": "white",
            "ticks": ""
           },
           "bgcolor": "#E5ECF6",
           "radialaxis": {
            "gridcolor": "white",
            "linecolor": "white",
            "ticks": ""
           }
          },
          "scene": {
           "xaxis": {
            "backgroundcolor": "#E5ECF6",
            "gridcolor": "white",
            "gridwidth": 2,
            "linecolor": "white",
            "showbackground": true,
            "ticks": "",
            "zerolinecolor": "white"
           },
           "yaxis": {
            "backgroundcolor": "#E5ECF6",
            "gridcolor": "white",
            "gridwidth": 2,
            "linecolor": "white",
            "showbackground": true,
            "ticks": "",
            "zerolinecolor": "white"
           },
           "zaxis": {
            "backgroundcolor": "#E5ECF6",
            "gridcolor": "white",
            "gridwidth": 2,
            "linecolor": "white",
            "showbackground": true,
            "ticks": "",
            "zerolinecolor": "white"
           }
          },
          "shapedefaults": {
           "line": {
            "color": "#2a3f5f"
           }
          },
          "ternary": {
           "aaxis": {
            "gridcolor": "white",
            "linecolor": "white",
            "ticks": ""
           },
           "baxis": {
            "gridcolor": "white",
            "linecolor": "white",
            "ticks": ""
           },
           "bgcolor": "#E5ECF6",
           "caxis": {
            "gridcolor": "white",
            "linecolor": "white",
            "ticks": ""
           }
          },
          "title": {
           "x": 0.05
          },
          "xaxis": {
           "automargin": true,
           "gridcolor": "white",
           "linecolor": "white",
           "ticks": "",
           "title": {
            "standoff": 15
           },
           "zerolinecolor": "white",
           "zerolinewidth": 2
          },
          "yaxis": {
           "automargin": true,
           "gridcolor": "white",
           "linecolor": "white",
           "ticks": "",
           "title": {
            "standoff": 15
           },
           "zerolinecolor": "white",
           "zerolinewidth": 2
          }
         }
        },
        "title": {
         "font": {
          "color": "#4D5663"
         }
        },
        "xaxis": {
         "gridcolor": "#E1E5ED",
         "showgrid": true,
         "tickfont": {
          "color": "#4D5663"
         },
         "title": {
          "font": {
           "color": "#4D5663"
          },
          "text": ""
         },
         "zerolinecolor": "#E1E5ED"
        },
        "yaxis": {
         "gridcolor": "#E1E5ED",
         "showgrid": true,
         "tickfont": {
          "color": "#4D5663"
         },
         "title": {
          "font": {
           "color": "#4D5663"
          },
          "text": ""
         },
         "zerolinecolor": "#E1E5ED"
        }
       }
      },
      "text/html": [
       "<div>                            <div id=\"7167c532-1af1-4fbe-a097-b2f008397bfe\" class=\"plotly-graph-div\" style=\"height:525px; width:100%;\"></div>            <script type=\"text/javascript\">                require([\"plotly\"], function(Plotly) {                    window.PLOTLYENV=window.PLOTLYENV || {};\n",
       "                    window.PLOTLYENV.BASE_URL='https://plot.ly';                                    if (document.getElementById(\"7167c532-1af1-4fbe-a097-b2f008397bfe\")) {                    Plotly.newPlot(                        \"7167c532-1af1-4fbe-a097-b2f008397bfe\",                        [{\"line\": {\"color\": \"rgba(255, 153, 51, 1.0)\", \"dash\": \"solid\", \"shape\": \"linear\", \"width\": 1.3}, \"marker\": {\"size\": 10, \"symbol\": \"circle\"}, \"mode\": \"markers\", \"name\": \"B\", \"text\": \"\", \"type\": \"scatter\", \"x\": [-0.2531083250970203, 0.44472867520184695, -0.6880739903817269, -0.32389688390050336, -0.21066679145064116, -0.7471305568135573, 1.4644403155760901, -1.5390062758876004, -1.5425674761634856, 0.1845770072180261, -1.04983457028772, 2.958223043449747, 0.19962163438520358, 0.6809530686614672, 0.14535502903675235, -0.7188442819492274, 1.0125690660282616, 0.05224314033522782, -1.8432338689264192, -0.3483895528924191, -0.3583306084919735, 0.4761146454202297, -0.147129437965505, 1.5220538503214163, -1.3273284502582012, 0.16507303161167794, -0.0560374263769096, 0.5784265198295464, -0.2740863346688317, 2.143309560747731, 0.1671101097738608, 0.5490366739554574, 0.013215510451084333, 0.3940727215280942, -0.9521217551672523, -0.018722957509154415, 1.43946284679207, 0.5311864343840943, -0.9576730445124143, 2.615701373800367, 0.2969248462359406, -0.23254471608361083, 0.02390791000105446, -0.5815987415883015, 0.9797377817160473, 0.3983322606335077, -0.6141282028185352, 0.23784349161194623, -1.3199887141335402, 0.6996938400462953, -0.2868779707094815, 3.170323023876777, 0.10997169936554678, 1.3170088130777606, -2.658216644451961, -1.7510785196335596, 0.2911423653054329, -0.3146626882337196, 0.42671812938167997, -0.21623347798306392, 1.3913338101835877, 0.5186823638813134, 0.4992351523475857, 1.068339120041519, 0.6850632859094586, -0.4906088150209769, -0.8859045960411523, 0.3397388469656312, 1.4342595849975506, 0.09561282704554233, -1.2043279788958634, -0.5284463987481448, 0.21111175740921415, 0.6765630612537961, 0.5447339666552157, 1.9232009065877185, 0.9311243971960865, -0.5857662928038426, 0.1309340857065233, 0.6307938743323313, -1.3313404549673353, 0.6918609455835275, 1.261217754803169, 0.6246482895871643, 0.7309726569960078, 0.030697726306293666, -1.9848004838069544, -1.6463370700123259, 1.2178820207045697, 0.532948814095436, 0.3317063505971597, 0.2972599259821757, 0.5219716784009186, -1.3582358763406823, -0.3475294045762002, 0.5304741285949425, -0.7712291619711124, -0.8534484005792922, 0.2469690148994338, -0.49158233930531514], \"y\": [0.2692248590674567, 2.5414565169787684, -1.3847684476344624, 1.0279604222570988, 0.32178606562036727, -0.71414958269869, 1.3286475415150187, -0.18602555159568127, -0.6240462160771314, -0.013680420743699132, 0.9216749121898704, 0.36610989844719927, -0.23086136612047775, -1.561147103539752, -1.55113276236753, 0.32854251512931804, -1.764333635340324, -0.7028625061339061, -1.435701932428522, 0.924236301167901, 0.038138911451752064, -0.7590936404033503, -0.11749600252730237, 0.39633006465495496, -0.2107745967287429, 0.5113421067521764, 1.0929602611219198, 0.18439027770308478, -1.0854390751429883, 0.5118711694135236, 0.40958311714195506, -0.41240221065986143, -0.859034971894161, -0.5529096332253796, -0.5232120174327071, -1.1530761095753999, -0.1916230903244878, -0.15954320592542995, -1.3107503419051287, -0.6670439421192467, 0.16252815279435603, 0.5864792595105315, 0.31271069415931163, -1.4156239025283626, -0.2108067683301323, 0.4009473642109201, -0.2717101826795173, -0.41699572886723774, -0.30082422068105297, 0.5047385743026007, -1.9787868569877332, 0.11751434764417365, -0.12085350747255721, 0.34364779893495206, -1.8224513199521488, -1.2065012656680196, -0.7696169392939282, -0.5111253785557218, -0.3545273834343783, 0.8978159418460043, -0.8157526385378127, -0.9572493594332675, 0.4495184342597558, 2.3261108979215734, -1.089090169046952, -0.3542045476423018, -0.43072727366645397, 1.7074628488359203, -0.5323631224416054, -0.635697712321746, 0.48855952132870645, 1.3350182547014884, 2.3452090589417276, 0.09012629968942505, -1.2522205245484084, -0.7845119830949263, -0.6424298754383452, -1.0645184185886827, 1.3427868037204183, -0.3878916530551524, -0.4621215801011234, -1.4910175723377412, 0.002686208823228683, -0.5938418999955112, 0.6179416582649397, 0.15838027440967178, -1.3072408344980595, -0.14037572981081717, 0.08944578304891387, 0.40371386655793834, -1.2090705967400097, -0.15988167399899386, -0.7102046276701807, -1.474292195815174, -0.9781606303475665, -1.2263315181857672, 1.131136855389624, 1.0786752573396445, -1.305477163909878, 0.2421897939764603]}],                        {\"legend\": {\"bgcolor\": \"#F5F6F9\", \"font\": {\"color\": \"#4D5663\"}}, \"paper_bgcolor\": \"#F5F6F9\", \"plot_bgcolor\": \"#F5F6F9\", \"template\": {\"data\": {\"bar\": [{\"error_x\": {\"color\": \"#2a3f5f\"}, \"error_y\": {\"color\": \"#2a3f5f\"}, \"marker\": {\"line\": {\"color\": \"#E5ECF6\", \"width\": 0.5}}, \"type\": \"bar\"}], \"barpolar\": [{\"marker\": {\"line\": {\"color\": \"#E5ECF6\", \"width\": 0.5}}, \"type\": \"barpolar\"}], \"carpet\": [{\"aaxis\": {\"endlinecolor\": \"#2a3f5f\", \"gridcolor\": \"white\", \"linecolor\": \"white\", \"minorgridcolor\": \"white\", \"startlinecolor\": \"#2a3f5f\"}, \"baxis\": {\"endlinecolor\": \"#2a3f5f\", \"gridcolor\": \"white\", \"linecolor\": \"white\", \"minorgridcolor\": \"white\", \"startlinecolor\": \"#2a3f5f\"}, \"type\": \"carpet\"}], \"choropleth\": [{\"colorbar\": {\"outlinewidth\": 0, \"ticks\": \"\"}, \"type\": \"choropleth\"}], \"contour\": [{\"colorbar\": {\"outlinewidth\": 0, \"ticks\": \"\"}, \"colorscale\": [[0.0, \"#0d0887\"], [0.1111111111111111, \"#46039f\"], [0.2222222222222222, \"#7201a8\"], [0.3333333333333333, \"#9c179e\"], [0.4444444444444444, \"#bd3786\"], [0.5555555555555556, \"#d8576b\"], [0.6666666666666666, \"#ed7953\"], [0.7777777777777778, \"#fb9f3a\"], [0.8888888888888888, \"#fdca26\"], [1.0, \"#f0f921\"]], \"type\": \"contour\"}], \"contourcarpet\": [{\"colorbar\": {\"outlinewidth\": 0, \"ticks\": \"\"}, \"type\": \"contourcarpet\"}], \"heatmap\": [{\"colorbar\": {\"outlinewidth\": 0, \"ticks\": \"\"}, \"colorscale\": [[0.0, \"#0d0887\"], [0.1111111111111111, \"#46039f\"], [0.2222222222222222, \"#7201a8\"], [0.3333333333333333, \"#9c179e\"], [0.4444444444444444, \"#bd3786\"], [0.5555555555555556, \"#d8576b\"], [0.6666666666666666, \"#ed7953\"], [0.7777777777777778, \"#fb9f3a\"], [0.8888888888888888, \"#fdca26\"], [1.0, \"#f0f921\"]], \"type\": \"heatmap\"}], \"heatmapgl\": [{\"colorbar\": {\"outlinewidth\": 0, \"ticks\": \"\"}, \"colorscale\": [[0.0, \"#0d0887\"], [0.1111111111111111, \"#46039f\"], [0.2222222222222222, \"#7201a8\"], [0.3333333333333333, \"#9c179e\"], [0.4444444444444444, \"#bd3786\"], [0.5555555555555556, \"#d8576b\"], [0.6666666666666666, \"#ed7953\"], [0.7777777777777778, \"#fb9f3a\"], [0.8888888888888888, \"#fdca26\"], [1.0, \"#f0f921\"]], \"type\": \"heatmapgl\"}], \"histogram\": [{\"marker\": {\"colorbar\": {\"outlinewidth\": 0, \"ticks\": \"\"}}, \"type\": \"histogram\"}], \"histogram2d\": [{\"colorbar\": {\"outlinewidth\": 0, \"ticks\": \"\"}, \"colorscale\": [[0.0, \"#0d0887\"], [0.1111111111111111, \"#46039f\"], [0.2222222222222222, \"#7201a8\"], [0.3333333333333333, \"#9c179e\"], [0.4444444444444444, \"#bd3786\"], [0.5555555555555556, \"#d8576b\"], [0.6666666666666666, \"#ed7953\"], [0.7777777777777778, \"#fb9f3a\"], [0.8888888888888888, \"#fdca26\"], [1.0, \"#f0f921\"]], \"type\": \"histogram2d\"}], \"histogram2dcontour\": [{\"colorbar\": {\"outlinewidth\": 0, \"ticks\": \"\"}, \"colorscale\": [[0.0, \"#0d0887\"], [0.1111111111111111, \"#46039f\"], [0.2222222222222222, \"#7201a8\"], [0.3333333333333333, \"#9c179e\"], [0.4444444444444444, \"#bd3786\"], [0.5555555555555556, \"#d8576b\"], [0.6666666666666666, \"#ed7953\"], [0.7777777777777778, \"#fb9f3a\"], [0.8888888888888888, \"#fdca26\"], [1.0, \"#f0f921\"]], \"type\": \"histogram2dcontour\"}], \"mesh3d\": [{\"colorbar\": {\"outlinewidth\": 0, \"ticks\": \"\"}, \"type\": \"mesh3d\"}], \"parcoords\": [{\"line\": {\"colorbar\": {\"outlinewidth\": 0, \"ticks\": \"\"}}, \"type\": \"parcoords\"}], \"pie\": [{\"automargin\": true, \"type\": \"pie\"}], \"scatter\": [{\"marker\": {\"colorbar\": {\"outlinewidth\": 0, \"ticks\": \"\"}}, \"type\": \"scatter\"}], \"scatter3d\": [{\"line\": {\"colorbar\": {\"outlinewidth\": 0, \"ticks\": \"\"}}, \"marker\": {\"colorbar\": {\"outlinewidth\": 0, \"ticks\": \"\"}}, \"type\": \"scatter3d\"}], \"scattercarpet\": [{\"marker\": {\"colorbar\": {\"outlinewidth\": 0, \"ticks\": \"\"}}, \"type\": \"scattercarpet\"}], \"scattergeo\": [{\"marker\": {\"colorbar\": {\"outlinewidth\": 0, \"ticks\": \"\"}}, \"type\": \"scattergeo\"}], \"scattergl\": [{\"marker\": {\"colorbar\": {\"outlinewidth\": 0, \"ticks\": \"\"}}, \"type\": \"scattergl\"}], \"scattermapbox\": [{\"marker\": {\"colorbar\": {\"outlinewidth\": 0, \"ticks\": \"\"}}, \"type\": \"scattermapbox\"}], \"scatterpolar\": [{\"marker\": {\"colorbar\": {\"outlinewidth\": 0, \"ticks\": \"\"}}, \"type\": \"scatterpolar\"}], \"scatterpolargl\": [{\"marker\": {\"colorbar\": {\"outlinewidth\": 0, \"ticks\": \"\"}}, \"type\": \"scatterpolargl\"}], \"scatterternary\": [{\"marker\": {\"colorbar\": {\"outlinewidth\": 0, \"ticks\": \"\"}}, \"type\": \"scatterternary\"}], \"surface\": [{\"colorbar\": {\"outlinewidth\": 0, \"ticks\": \"\"}, \"colorscale\": [[0.0, \"#0d0887\"], [0.1111111111111111, \"#46039f\"], [0.2222222222222222, \"#7201a8\"], [0.3333333333333333, \"#9c179e\"], [0.4444444444444444, \"#bd3786\"], [0.5555555555555556, \"#d8576b\"], [0.6666666666666666, \"#ed7953\"], [0.7777777777777778, \"#fb9f3a\"], [0.8888888888888888, \"#fdca26\"], [1.0, \"#f0f921\"]], \"type\": \"surface\"}], \"table\": [{\"cells\": {\"fill\": {\"color\": \"#EBF0F8\"}, \"line\": {\"color\": \"white\"}}, \"header\": {\"fill\": {\"color\": \"#C8D4E3\"}, \"line\": {\"color\": \"white\"}}, \"type\": \"table\"}]}, \"layout\": {\"annotationdefaults\": {\"arrowcolor\": \"#2a3f5f\", \"arrowhead\": 0, \"arrowwidth\": 1}, \"autotypenumbers\": \"strict\", \"coloraxis\": {\"colorbar\": {\"outlinewidth\": 0, \"ticks\": \"\"}}, \"colorscale\": {\"diverging\": [[0, \"#8e0152\"], [0.1, \"#c51b7d\"], [0.2, \"#de77ae\"], [0.3, \"#f1b6da\"], [0.4, \"#fde0ef\"], [0.5, \"#f7f7f7\"], [0.6, \"#e6f5d0\"], [0.7, \"#b8e186\"], [0.8, \"#7fbc41\"], [0.9, \"#4d9221\"], [1, \"#276419\"]], \"sequential\": [[0.0, \"#0d0887\"], [0.1111111111111111, \"#46039f\"], [0.2222222222222222, \"#7201a8\"], [0.3333333333333333, \"#9c179e\"], [0.4444444444444444, \"#bd3786\"], [0.5555555555555556, \"#d8576b\"], [0.6666666666666666, \"#ed7953\"], [0.7777777777777778, \"#fb9f3a\"], [0.8888888888888888, \"#fdca26\"], [1.0, \"#f0f921\"]], \"sequentialminus\": [[0.0, \"#0d0887\"], [0.1111111111111111, \"#46039f\"], [0.2222222222222222, \"#7201a8\"], [0.3333333333333333, \"#9c179e\"], [0.4444444444444444, \"#bd3786\"], [0.5555555555555556, \"#d8576b\"], [0.6666666666666666, \"#ed7953\"], [0.7777777777777778, \"#fb9f3a\"], [0.8888888888888888, \"#fdca26\"], [1.0, \"#f0f921\"]]}, \"colorway\": [\"#636efa\", \"#EF553B\", \"#00cc96\", \"#ab63fa\", \"#FFA15A\", \"#19d3f3\", \"#FF6692\", \"#B6E880\", \"#FF97FF\", \"#FECB52\"], \"font\": {\"color\": \"#2a3f5f\"}, \"geo\": {\"bgcolor\": \"white\", \"lakecolor\": \"white\", \"landcolor\": \"#E5ECF6\", \"showlakes\": true, \"showland\": true, \"subunitcolor\": \"white\"}, \"hoverlabel\": {\"align\": \"left\"}, \"hovermode\": \"closest\", \"mapbox\": {\"style\": \"light\"}, \"paper_bgcolor\": \"white\", \"plot_bgcolor\": \"#E5ECF6\", \"polar\": {\"angularaxis\": {\"gridcolor\": \"white\", \"linecolor\": \"white\", \"ticks\": \"\"}, \"bgcolor\": \"#E5ECF6\", \"radialaxis\": {\"gridcolor\": \"white\", \"linecolor\": \"white\", \"ticks\": \"\"}}, \"scene\": {\"xaxis\": {\"backgroundcolor\": \"#E5ECF6\", \"gridcolor\": \"white\", \"gridwidth\": 2, \"linecolor\": \"white\", \"showbackground\": true, \"ticks\": \"\", \"zerolinecolor\": \"white\"}, \"yaxis\": {\"backgroundcolor\": \"#E5ECF6\", \"gridcolor\": \"white\", \"gridwidth\": 2, \"linecolor\": \"white\", \"showbackground\": true, \"ticks\": \"\", \"zerolinecolor\": \"white\"}, \"zaxis\": {\"backgroundcolor\": \"#E5ECF6\", \"gridcolor\": \"white\", \"gridwidth\": 2, \"linecolor\": \"white\", \"showbackground\": true, \"ticks\": \"\", \"zerolinecolor\": \"white\"}}, \"shapedefaults\": {\"line\": {\"color\": \"#2a3f5f\"}}, \"ternary\": {\"aaxis\": {\"gridcolor\": \"white\", \"linecolor\": \"white\", \"ticks\": \"\"}, \"baxis\": {\"gridcolor\": \"white\", \"linecolor\": \"white\", \"ticks\": \"\"}, \"bgcolor\": \"#E5ECF6\", \"caxis\": {\"gridcolor\": \"white\", \"linecolor\": \"white\", \"ticks\": \"\"}}, \"title\": {\"x\": 0.05}, \"xaxis\": {\"automargin\": true, \"gridcolor\": \"white\", \"linecolor\": \"white\", \"ticks\": \"\", \"title\": {\"standoff\": 15}, \"zerolinecolor\": \"white\", \"zerolinewidth\": 2}, \"yaxis\": {\"automargin\": true, \"gridcolor\": \"white\", \"linecolor\": \"white\", \"ticks\": \"\", \"title\": {\"standoff\": 15}, \"zerolinecolor\": \"white\", \"zerolinewidth\": 2}}}, \"title\": {\"font\": {\"color\": \"#4D5663\"}}, \"xaxis\": {\"gridcolor\": \"#E1E5ED\", \"showgrid\": true, \"tickfont\": {\"color\": \"#4D5663\"}, \"title\": {\"font\": {\"color\": \"#4D5663\"}, \"text\": \"\"}, \"zerolinecolor\": \"#E1E5ED\"}, \"yaxis\": {\"gridcolor\": \"#E1E5ED\", \"showgrid\": true, \"tickfont\": {\"color\": \"#4D5663\"}, \"title\": {\"font\": {\"color\": \"#4D5663\"}, \"text\": \"\"}, \"zerolinecolor\": \"#E1E5ED\"}},                        {\"showLink\": true, \"linkText\": \"Export to plot.ly\", \"plotlyServerURL\": \"https://plot.ly\", \"responsive\": true}                    ).then(function(){\n",
       "                            \n",
       "var gd = document.getElementById('7167c532-1af1-4fbe-a097-b2f008397bfe');\n",
       "var x = new MutationObserver(function (mutations, observer) {{\n",
       "        var display = window.getComputedStyle(gd).display;\n",
       "        if (!display || display === 'none') {{\n",
       "            console.log([gd, 'removed!']);\n",
       "            Plotly.purge(gd);\n",
       "            observer.disconnect();\n",
       "        }}\n",
       "}});\n",
       "\n",
       "// Listen for the removal of the full notebook cells\n",
       "var notebookContainer = gd.closest('#notebook-container');\n",
       "if (notebookContainer) {{\n",
       "    x.observe(notebookContainer, {childList: true});\n",
       "}}\n",
       "\n",
       "// Listen for the clearing of the current output cell\n",
       "var outputEl = gd.closest('.output');\n",
       "if (outputEl) {{\n",
       "    x.observe(outputEl, {childList: true});\n",
       "}}\n",
       "\n",
       "                        })                };                });            </script>        </div>"
      ]
     },
     "metadata": {},
     "output_type": "display_data"
    }
   ],
   "source": [
    "df.iplot(kind='scatter', x='A', y='B', mode='markers', size=10)"
   ]
  },
  {
   "cell_type": "code",
   "execution_count": 18,
   "metadata": {},
   "outputs": [
    {
     "data": {
      "application/vnd.plotly.v1+json": {
       "config": {
        "linkText": "Export to plot.ly",
        "plotlyServerURL": "https://plot.ly",
        "showLink": true
       },
       "data": [
        {
         "marker": {
          "color": "rgba(255, 153, 51, 0.6)",
          "line": {
           "color": "rgba(255, 153, 51, 1.0)",
           "width": 1
          }
         },
         "name": "Values",
         "orientation": "v",
         "text": "",
         "type": "bar",
         "x": [
          "A",
          "B",
          "C"
         ],
         "y": [
          32,
          43,
          50
         ]
        }
       ],
       "layout": {
        "legend": {
         "bgcolor": "#F5F6F9",
         "font": {
          "color": "#4D5663"
         }
        },
        "paper_bgcolor": "#F5F6F9",
        "plot_bgcolor": "#F5F6F9",
        "template": {
         "data": {
          "bar": [
           {
            "error_x": {
             "color": "#2a3f5f"
            },
            "error_y": {
             "color": "#2a3f5f"
            },
            "marker": {
             "line": {
              "color": "#E5ECF6",
              "width": 0.5
             }
            },
            "type": "bar"
           }
          ],
          "barpolar": [
           {
            "marker": {
             "line": {
              "color": "#E5ECF6",
              "width": 0.5
             }
            },
            "type": "barpolar"
           }
          ],
          "carpet": [
           {
            "aaxis": {
             "endlinecolor": "#2a3f5f",
             "gridcolor": "white",
             "linecolor": "white",
             "minorgridcolor": "white",
             "startlinecolor": "#2a3f5f"
            },
            "baxis": {
             "endlinecolor": "#2a3f5f",
             "gridcolor": "white",
             "linecolor": "white",
             "minorgridcolor": "white",
             "startlinecolor": "#2a3f5f"
            },
            "type": "carpet"
           }
          ],
          "choropleth": [
           {
            "colorbar": {
             "outlinewidth": 0,
             "ticks": ""
            },
            "type": "choropleth"
           }
          ],
          "contour": [
           {
            "colorbar": {
             "outlinewidth": 0,
             "ticks": ""
            },
            "colorscale": [
             [
              0,
              "#0d0887"
             ],
             [
              0.1111111111111111,
              "#46039f"
             ],
             [
              0.2222222222222222,
              "#7201a8"
             ],
             [
              0.3333333333333333,
              "#9c179e"
             ],
             [
              0.4444444444444444,
              "#bd3786"
             ],
             [
              0.5555555555555556,
              "#d8576b"
             ],
             [
              0.6666666666666666,
              "#ed7953"
             ],
             [
              0.7777777777777778,
              "#fb9f3a"
             ],
             [
              0.8888888888888888,
              "#fdca26"
             ],
             [
              1,
              "#f0f921"
             ]
            ],
            "type": "contour"
           }
          ],
          "contourcarpet": [
           {
            "colorbar": {
             "outlinewidth": 0,
             "ticks": ""
            },
            "type": "contourcarpet"
           }
          ],
          "heatmap": [
           {
            "colorbar": {
             "outlinewidth": 0,
             "ticks": ""
            },
            "colorscale": [
             [
              0,
              "#0d0887"
             ],
             [
              0.1111111111111111,
              "#46039f"
             ],
             [
              0.2222222222222222,
              "#7201a8"
             ],
             [
              0.3333333333333333,
              "#9c179e"
             ],
             [
              0.4444444444444444,
              "#bd3786"
             ],
             [
              0.5555555555555556,
              "#d8576b"
             ],
             [
              0.6666666666666666,
              "#ed7953"
             ],
             [
              0.7777777777777778,
              "#fb9f3a"
             ],
             [
              0.8888888888888888,
              "#fdca26"
             ],
             [
              1,
              "#f0f921"
             ]
            ],
            "type": "heatmap"
           }
          ],
          "heatmapgl": [
           {
            "colorbar": {
             "outlinewidth": 0,
             "ticks": ""
            },
            "colorscale": [
             [
              0,
              "#0d0887"
             ],
             [
              0.1111111111111111,
              "#46039f"
             ],
             [
              0.2222222222222222,
              "#7201a8"
             ],
             [
              0.3333333333333333,
              "#9c179e"
             ],
             [
              0.4444444444444444,
              "#bd3786"
             ],
             [
              0.5555555555555556,
              "#d8576b"
             ],
             [
              0.6666666666666666,
              "#ed7953"
             ],
             [
              0.7777777777777778,
              "#fb9f3a"
             ],
             [
              0.8888888888888888,
              "#fdca26"
             ],
             [
              1,
              "#f0f921"
             ]
            ],
            "type": "heatmapgl"
           }
          ],
          "histogram": [
           {
            "marker": {
             "colorbar": {
              "outlinewidth": 0,
              "ticks": ""
             }
            },
            "type": "histogram"
           }
          ],
          "histogram2d": [
           {
            "colorbar": {
             "outlinewidth": 0,
             "ticks": ""
            },
            "colorscale": [
             [
              0,
              "#0d0887"
             ],
             [
              0.1111111111111111,
              "#46039f"
             ],
             [
              0.2222222222222222,
              "#7201a8"
             ],
             [
              0.3333333333333333,
              "#9c179e"
             ],
             [
              0.4444444444444444,
              "#bd3786"
             ],
             [
              0.5555555555555556,
              "#d8576b"
             ],
             [
              0.6666666666666666,
              "#ed7953"
             ],
             [
              0.7777777777777778,
              "#fb9f3a"
             ],
             [
              0.8888888888888888,
              "#fdca26"
             ],
             [
              1,
              "#f0f921"
             ]
            ],
            "type": "histogram2d"
           }
          ],
          "histogram2dcontour": [
           {
            "colorbar": {
             "outlinewidth": 0,
             "ticks": ""
            },
            "colorscale": [
             [
              0,
              "#0d0887"
             ],
             [
              0.1111111111111111,
              "#46039f"
             ],
             [
              0.2222222222222222,
              "#7201a8"
             ],
             [
              0.3333333333333333,
              "#9c179e"
             ],
             [
              0.4444444444444444,
              "#bd3786"
             ],
             [
              0.5555555555555556,
              "#d8576b"
             ],
             [
              0.6666666666666666,
              "#ed7953"
             ],
             [
              0.7777777777777778,
              "#fb9f3a"
             ],
             [
              0.8888888888888888,
              "#fdca26"
             ],
             [
              1,
              "#f0f921"
             ]
            ],
            "type": "histogram2dcontour"
           }
          ],
          "mesh3d": [
           {
            "colorbar": {
             "outlinewidth": 0,
             "ticks": ""
            },
            "type": "mesh3d"
           }
          ],
          "parcoords": [
           {
            "line": {
             "colorbar": {
              "outlinewidth": 0,
              "ticks": ""
             }
            },
            "type": "parcoords"
           }
          ],
          "pie": [
           {
            "automargin": true,
            "type": "pie"
           }
          ],
          "scatter": [
           {
            "marker": {
             "colorbar": {
              "outlinewidth": 0,
              "ticks": ""
             }
            },
            "type": "scatter"
           }
          ],
          "scatter3d": [
           {
            "line": {
             "colorbar": {
              "outlinewidth": 0,
              "ticks": ""
             }
            },
            "marker": {
             "colorbar": {
              "outlinewidth": 0,
              "ticks": ""
             }
            },
            "type": "scatter3d"
           }
          ],
          "scattercarpet": [
           {
            "marker": {
             "colorbar": {
              "outlinewidth": 0,
              "ticks": ""
             }
            },
            "type": "scattercarpet"
           }
          ],
          "scattergeo": [
           {
            "marker": {
             "colorbar": {
              "outlinewidth": 0,
              "ticks": ""
             }
            },
            "type": "scattergeo"
           }
          ],
          "scattergl": [
           {
            "marker": {
             "colorbar": {
              "outlinewidth": 0,
              "ticks": ""
             }
            },
            "type": "scattergl"
           }
          ],
          "scattermapbox": [
           {
            "marker": {
             "colorbar": {
              "outlinewidth": 0,
              "ticks": ""
             }
            },
            "type": "scattermapbox"
           }
          ],
          "scatterpolar": [
           {
            "marker": {
             "colorbar": {
              "outlinewidth": 0,
              "ticks": ""
             }
            },
            "type": "scatterpolar"
           }
          ],
          "scatterpolargl": [
           {
            "marker": {
             "colorbar": {
              "outlinewidth": 0,
              "ticks": ""
             }
            },
            "type": "scatterpolargl"
           }
          ],
          "scatterternary": [
           {
            "marker": {
             "colorbar": {
              "outlinewidth": 0,
              "ticks": ""
             }
            },
            "type": "scatterternary"
           }
          ],
          "surface": [
           {
            "colorbar": {
             "outlinewidth": 0,
             "ticks": ""
            },
            "colorscale": [
             [
              0,
              "#0d0887"
             ],
             [
              0.1111111111111111,
              "#46039f"
             ],
             [
              0.2222222222222222,
              "#7201a8"
             ],
             [
              0.3333333333333333,
              "#9c179e"
             ],
             [
              0.4444444444444444,
              "#bd3786"
             ],
             [
              0.5555555555555556,
              "#d8576b"
             ],
             [
              0.6666666666666666,
              "#ed7953"
             ],
             [
              0.7777777777777778,
              "#fb9f3a"
             ],
             [
              0.8888888888888888,
              "#fdca26"
             ],
             [
              1,
              "#f0f921"
             ]
            ],
            "type": "surface"
           }
          ],
          "table": [
           {
            "cells": {
             "fill": {
              "color": "#EBF0F8"
             },
             "line": {
              "color": "white"
             }
            },
            "header": {
             "fill": {
              "color": "#C8D4E3"
             },
             "line": {
              "color": "white"
             }
            },
            "type": "table"
           }
          ]
         },
         "layout": {
          "annotationdefaults": {
           "arrowcolor": "#2a3f5f",
           "arrowhead": 0,
           "arrowwidth": 1
          },
          "autotypenumbers": "strict",
          "coloraxis": {
           "colorbar": {
            "outlinewidth": 0,
            "ticks": ""
           }
          },
          "colorscale": {
           "diverging": [
            [
             0,
             "#8e0152"
            ],
            [
             0.1,
             "#c51b7d"
            ],
            [
             0.2,
             "#de77ae"
            ],
            [
             0.3,
             "#f1b6da"
            ],
            [
             0.4,
             "#fde0ef"
            ],
            [
             0.5,
             "#f7f7f7"
            ],
            [
             0.6,
             "#e6f5d0"
            ],
            [
             0.7,
             "#b8e186"
            ],
            [
             0.8,
             "#7fbc41"
            ],
            [
             0.9,
             "#4d9221"
            ],
            [
             1,
             "#276419"
            ]
           ],
           "sequential": [
            [
             0,
             "#0d0887"
            ],
            [
             0.1111111111111111,
             "#46039f"
            ],
            [
             0.2222222222222222,
             "#7201a8"
            ],
            [
             0.3333333333333333,
             "#9c179e"
            ],
            [
             0.4444444444444444,
             "#bd3786"
            ],
            [
             0.5555555555555556,
             "#d8576b"
            ],
            [
             0.6666666666666666,
             "#ed7953"
            ],
            [
             0.7777777777777778,
             "#fb9f3a"
            ],
            [
             0.8888888888888888,
             "#fdca26"
            ],
            [
             1,
             "#f0f921"
            ]
           ],
           "sequentialminus": [
            [
             0,
             "#0d0887"
            ],
            [
             0.1111111111111111,
             "#46039f"
            ],
            [
             0.2222222222222222,
             "#7201a8"
            ],
            [
             0.3333333333333333,
             "#9c179e"
            ],
            [
             0.4444444444444444,
             "#bd3786"
            ],
            [
             0.5555555555555556,
             "#d8576b"
            ],
            [
             0.6666666666666666,
             "#ed7953"
            ],
            [
             0.7777777777777778,
             "#fb9f3a"
            ],
            [
             0.8888888888888888,
             "#fdca26"
            ],
            [
             1,
             "#f0f921"
            ]
           ]
          },
          "colorway": [
           "#636efa",
           "#EF553B",
           "#00cc96",
           "#ab63fa",
           "#FFA15A",
           "#19d3f3",
           "#FF6692",
           "#B6E880",
           "#FF97FF",
           "#FECB52"
          ],
          "font": {
           "color": "#2a3f5f"
          },
          "geo": {
           "bgcolor": "white",
           "lakecolor": "white",
           "landcolor": "#E5ECF6",
           "showlakes": true,
           "showland": true,
           "subunitcolor": "white"
          },
          "hoverlabel": {
           "align": "left"
          },
          "hovermode": "closest",
          "mapbox": {
           "style": "light"
          },
          "paper_bgcolor": "white",
          "plot_bgcolor": "#E5ECF6",
          "polar": {
           "angularaxis": {
            "gridcolor": "white",
            "linecolor": "white",
            "ticks": ""
           },
           "bgcolor": "#E5ECF6",
           "radialaxis": {
            "gridcolor": "white",
            "linecolor": "white",
            "ticks": ""
           }
          },
          "scene": {
           "xaxis": {
            "backgroundcolor": "#E5ECF6",
            "gridcolor": "white",
            "gridwidth": 2,
            "linecolor": "white",
            "showbackground": true,
            "ticks": "",
            "zerolinecolor": "white"
           },
           "yaxis": {
            "backgroundcolor": "#E5ECF6",
            "gridcolor": "white",
            "gridwidth": 2,
            "linecolor": "white",
            "showbackground": true,
            "ticks": "",
            "zerolinecolor": "white"
           },
           "zaxis": {
            "backgroundcolor": "#E5ECF6",
            "gridcolor": "white",
            "gridwidth": 2,
            "linecolor": "white",
            "showbackground": true,
            "ticks": "",
            "zerolinecolor": "white"
           }
          },
          "shapedefaults": {
           "line": {
            "color": "#2a3f5f"
           }
          },
          "ternary": {
           "aaxis": {
            "gridcolor": "white",
            "linecolor": "white",
            "ticks": ""
           },
           "baxis": {
            "gridcolor": "white",
            "linecolor": "white",
            "ticks": ""
           },
           "bgcolor": "#E5ECF6",
           "caxis": {
            "gridcolor": "white",
            "linecolor": "white",
            "ticks": ""
           }
          },
          "title": {
           "x": 0.05
          },
          "xaxis": {
           "automargin": true,
           "gridcolor": "white",
           "linecolor": "white",
           "ticks": "",
           "title": {
            "standoff": 15
           },
           "zerolinecolor": "white",
           "zerolinewidth": 2
          },
          "yaxis": {
           "automargin": true,
           "gridcolor": "white",
           "linecolor": "white",
           "ticks": "",
           "title": {
            "standoff": 15
           },
           "zerolinecolor": "white",
           "zerolinewidth": 2
          }
         }
        },
        "title": {
         "font": {
          "color": "#4D5663"
         }
        },
        "xaxis": {
         "gridcolor": "#E1E5ED",
         "showgrid": true,
         "tickfont": {
          "color": "#4D5663"
         },
         "title": {
          "font": {
           "color": "#4D5663"
          },
          "text": ""
         },
         "zerolinecolor": "#E1E5ED"
        },
        "yaxis": {
         "gridcolor": "#E1E5ED",
         "showgrid": true,
         "tickfont": {
          "color": "#4D5663"
         },
         "title": {
          "font": {
           "color": "#4D5663"
          },
          "text": ""
         },
         "zerolinecolor": "#E1E5ED"
        }
       }
      },
      "text/html": [
       "<div>                            <div id=\"d239862e-98d6-4c9c-82db-aac853137a39\" class=\"plotly-graph-div\" style=\"height:525px; width:100%;\"></div>            <script type=\"text/javascript\">                require([\"plotly\"], function(Plotly) {                    window.PLOTLYENV=window.PLOTLYENV || {};\n",
       "                    window.PLOTLYENV.BASE_URL='https://plot.ly';                                    if (document.getElementById(\"d239862e-98d6-4c9c-82db-aac853137a39\")) {                    Plotly.newPlot(                        \"d239862e-98d6-4c9c-82db-aac853137a39\",                        [{\"marker\": {\"color\": \"rgba(255, 153, 51, 0.6)\", \"line\": {\"color\": \"rgba(255, 153, 51, 1.0)\", \"width\": 1}}, \"name\": \"Values\", \"orientation\": \"v\", \"text\": \"\", \"type\": \"bar\", \"x\": [\"A\", \"B\", \"C\"], \"y\": [32, 43, 50]}],                        {\"legend\": {\"bgcolor\": \"#F5F6F9\", \"font\": {\"color\": \"#4D5663\"}}, \"paper_bgcolor\": \"#F5F6F9\", \"plot_bgcolor\": \"#F5F6F9\", \"template\": {\"data\": {\"bar\": [{\"error_x\": {\"color\": \"#2a3f5f\"}, \"error_y\": {\"color\": \"#2a3f5f\"}, \"marker\": {\"line\": {\"color\": \"#E5ECF6\", \"width\": 0.5}}, \"type\": \"bar\"}], \"barpolar\": [{\"marker\": {\"line\": {\"color\": \"#E5ECF6\", \"width\": 0.5}}, \"type\": \"barpolar\"}], \"carpet\": [{\"aaxis\": {\"endlinecolor\": \"#2a3f5f\", \"gridcolor\": \"white\", \"linecolor\": \"white\", \"minorgridcolor\": \"white\", \"startlinecolor\": \"#2a3f5f\"}, \"baxis\": {\"endlinecolor\": \"#2a3f5f\", \"gridcolor\": \"white\", \"linecolor\": \"white\", \"minorgridcolor\": \"white\", \"startlinecolor\": \"#2a3f5f\"}, \"type\": \"carpet\"}], \"choropleth\": [{\"colorbar\": {\"outlinewidth\": 0, \"ticks\": \"\"}, \"type\": \"choropleth\"}], \"contour\": [{\"colorbar\": {\"outlinewidth\": 0, \"ticks\": \"\"}, \"colorscale\": [[0.0, \"#0d0887\"], [0.1111111111111111, \"#46039f\"], [0.2222222222222222, \"#7201a8\"], [0.3333333333333333, \"#9c179e\"], [0.4444444444444444, \"#bd3786\"], [0.5555555555555556, \"#d8576b\"], [0.6666666666666666, \"#ed7953\"], [0.7777777777777778, \"#fb9f3a\"], [0.8888888888888888, \"#fdca26\"], [1.0, \"#f0f921\"]], \"type\": \"contour\"}], \"contourcarpet\": [{\"colorbar\": {\"outlinewidth\": 0, \"ticks\": \"\"}, \"type\": \"contourcarpet\"}], \"heatmap\": [{\"colorbar\": {\"outlinewidth\": 0, \"ticks\": \"\"}, \"colorscale\": [[0.0, \"#0d0887\"], [0.1111111111111111, \"#46039f\"], [0.2222222222222222, \"#7201a8\"], [0.3333333333333333, \"#9c179e\"], [0.4444444444444444, \"#bd3786\"], [0.5555555555555556, \"#d8576b\"], [0.6666666666666666, \"#ed7953\"], [0.7777777777777778, \"#fb9f3a\"], [0.8888888888888888, \"#fdca26\"], [1.0, \"#f0f921\"]], \"type\": \"heatmap\"}], \"heatmapgl\": [{\"colorbar\": {\"outlinewidth\": 0, \"ticks\": \"\"}, \"colorscale\": [[0.0, \"#0d0887\"], [0.1111111111111111, \"#46039f\"], [0.2222222222222222, \"#7201a8\"], [0.3333333333333333, \"#9c179e\"], [0.4444444444444444, \"#bd3786\"], [0.5555555555555556, \"#d8576b\"], [0.6666666666666666, \"#ed7953\"], [0.7777777777777778, \"#fb9f3a\"], [0.8888888888888888, \"#fdca26\"], [1.0, \"#f0f921\"]], \"type\": \"heatmapgl\"}], \"histogram\": [{\"marker\": {\"colorbar\": {\"outlinewidth\": 0, \"ticks\": \"\"}}, \"type\": \"histogram\"}], \"histogram2d\": [{\"colorbar\": {\"outlinewidth\": 0, \"ticks\": \"\"}, \"colorscale\": [[0.0, \"#0d0887\"], [0.1111111111111111, \"#46039f\"], [0.2222222222222222, \"#7201a8\"], [0.3333333333333333, \"#9c179e\"], [0.4444444444444444, \"#bd3786\"], [0.5555555555555556, \"#d8576b\"], [0.6666666666666666, \"#ed7953\"], [0.7777777777777778, \"#fb9f3a\"], [0.8888888888888888, \"#fdca26\"], [1.0, \"#f0f921\"]], \"type\": \"histogram2d\"}], \"histogram2dcontour\": [{\"colorbar\": {\"outlinewidth\": 0, \"ticks\": \"\"}, \"colorscale\": [[0.0, \"#0d0887\"], [0.1111111111111111, \"#46039f\"], [0.2222222222222222, \"#7201a8\"], [0.3333333333333333, \"#9c179e\"], [0.4444444444444444, \"#bd3786\"], [0.5555555555555556, \"#d8576b\"], [0.6666666666666666, \"#ed7953\"], [0.7777777777777778, \"#fb9f3a\"], [0.8888888888888888, \"#fdca26\"], [1.0, \"#f0f921\"]], \"type\": \"histogram2dcontour\"}], \"mesh3d\": [{\"colorbar\": {\"outlinewidth\": 0, \"ticks\": \"\"}, \"type\": \"mesh3d\"}], \"parcoords\": [{\"line\": {\"colorbar\": {\"outlinewidth\": 0, \"ticks\": \"\"}}, \"type\": \"parcoords\"}], \"pie\": [{\"automargin\": true, \"type\": \"pie\"}], \"scatter\": [{\"marker\": {\"colorbar\": {\"outlinewidth\": 0, \"ticks\": \"\"}}, \"type\": \"scatter\"}], \"scatter3d\": [{\"line\": {\"colorbar\": {\"outlinewidth\": 0, \"ticks\": \"\"}}, \"marker\": {\"colorbar\": {\"outlinewidth\": 0, \"ticks\": \"\"}}, \"type\": \"scatter3d\"}], \"scattercarpet\": [{\"marker\": {\"colorbar\": {\"outlinewidth\": 0, \"ticks\": \"\"}}, \"type\": \"scattercarpet\"}], \"scattergeo\": [{\"marker\": {\"colorbar\": {\"outlinewidth\": 0, \"ticks\": \"\"}}, \"type\": \"scattergeo\"}], \"scattergl\": [{\"marker\": {\"colorbar\": {\"outlinewidth\": 0, \"ticks\": \"\"}}, \"type\": \"scattergl\"}], \"scattermapbox\": [{\"marker\": {\"colorbar\": {\"outlinewidth\": 0, \"ticks\": \"\"}}, \"type\": \"scattermapbox\"}], \"scatterpolar\": [{\"marker\": {\"colorbar\": {\"outlinewidth\": 0, \"ticks\": \"\"}}, \"type\": \"scatterpolar\"}], \"scatterpolargl\": [{\"marker\": {\"colorbar\": {\"outlinewidth\": 0, \"ticks\": \"\"}}, \"type\": \"scatterpolargl\"}], \"scatterternary\": [{\"marker\": {\"colorbar\": {\"outlinewidth\": 0, \"ticks\": \"\"}}, \"type\": \"scatterternary\"}], \"surface\": [{\"colorbar\": {\"outlinewidth\": 0, \"ticks\": \"\"}, \"colorscale\": [[0.0, \"#0d0887\"], [0.1111111111111111, \"#46039f\"], [0.2222222222222222, \"#7201a8\"], [0.3333333333333333, \"#9c179e\"], [0.4444444444444444, \"#bd3786\"], [0.5555555555555556, \"#d8576b\"], [0.6666666666666666, \"#ed7953\"], [0.7777777777777778, \"#fb9f3a\"], [0.8888888888888888, \"#fdca26\"], [1.0, \"#f0f921\"]], \"type\": \"surface\"}], \"table\": [{\"cells\": {\"fill\": {\"color\": \"#EBF0F8\"}, \"line\": {\"color\": \"white\"}}, \"header\": {\"fill\": {\"color\": \"#C8D4E3\"}, \"line\": {\"color\": \"white\"}}, \"type\": \"table\"}]}, \"layout\": {\"annotationdefaults\": {\"arrowcolor\": \"#2a3f5f\", \"arrowhead\": 0, \"arrowwidth\": 1}, \"autotypenumbers\": \"strict\", \"coloraxis\": {\"colorbar\": {\"outlinewidth\": 0, \"ticks\": \"\"}}, \"colorscale\": {\"diverging\": [[0, \"#8e0152\"], [0.1, \"#c51b7d\"], [0.2, \"#de77ae\"], [0.3, \"#f1b6da\"], [0.4, \"#fde0ef\"], [0.5, \"#f7f7f7\"], [0.6, \"#e6f5d0\"], [0.7, \"#b8e186\"], [0.8, \"#7fbc41\"], [0.9, \"#4d9221\"], [1, \"#276419\"]], \"sequential\": [[0.0, \"#0d0887\"], [0.1111111111111111, \"#46039f\"], [0.2222222222222222, \"#7201a8\"], [0.3333333333333333, \"#9c179e\"], [0.4444444444444444, \"#bd3786\"], [0.5555555555555556, \"#d8576b\"], [0.6666666666666666, \"#ed7953\"], [0.7777777777777778, \"#fb9f3a\"], [0.8888888888888888, \"#fdca26\"], [1.0, \"#f0f921\"]], \"sequentialminus\": [[0.0, \"#0d0887\"], [0.1111111111111111, \"#46039f\"], [0.2222222222222222, \"#7201a8\"], [0.3333333333333333, \"#9c179e\"], [0.4444444444444444, \"#bd3786\"], [0.5555555555555556, \"#d8576b\"], [0.6666666666666666, \"#ed7953\"], [0.7777777777777778, \"#fb9f3a\"], [0.8888888888888888, \"#fdca26\"], [1.0, \"#f0f921\"]]}, \"colorway\": [\"#636efa\", \"#EF553B\", \"#00cc96\", \"#ab63fa\", \"#FFA15A\", \"#19d3f3\", \"#FF6692\", \"#B6E880\", \"#FF97FF\", \"#FECB52\"], \"font\": {\"color\": \"#2a3f5f\"}, \"geo\": {\"bgcolor\": \"white\", \"lakecolor\": \"white\", \"landcolor\": \"#E5ECF6\", \"showlakes\": true, \"showland\": true, \"subunitcolor\": \"white\"}, \"hoverlabel\": {\"align\": \"left\"}, \"hovermode\": \"closest\", \"mapbox\": {\"style\": \"light\"}, \"paper_bgcolor\": \"white\", \"plot_bgcolor\": \"#E5ECF6\", \"polar\": {\"angularaxis\": {\"gridcolor\": \"white\", \"linecolor\": \"white\", \"ticks\": \"\"}, \"bgcolor\": \"#E5ECF6\", \"radialaxis\": {\"gridcolor\": \"white\", \"linecolor\": \"white\", \"ticks\": \"\"}}, \"scene\": {\"xaxis\": {\"backgroundcolor\": \"#E5ECF6\", \"gridcolor\": \"white\", \"gridwidth\": 2, \"linecolor\": \"white\", \"showbackground\": true, \"ticks\": \"\", \"zerolinecolor\": \"white\"}, \"yaxis\": {\"backgroundcolor\": \"#E5ECF6\", \"gridcolor\": \"white\", \"gridwidth\": 2, \"linecolor\": \"white\", \"showbackground\": true, \"ticks\": \"\", \"zerolinecolor\": \"white\"}, \"zaxis\": {\"backgroundcolor\": \"#E5ECF6\", \"gridcolor\": \"white\", \"gridwidth\": 2, \"linecolor\": \"white\", \"showbackground\": true, \"ticks\": \"\", \"zerolinecolor\": \"white\"}}, \"shapedefaults\": {\"line\": {\"color\": \"#2a3f5f\"}}, \"ternary\": {\"aaxis\": {\"gridcolor\": \"white\", \"linecolor\": \"white\", \"ticks\": \"\"}, \"baxis\": {\"gridcolor\": \"white\", \"linecolor\": \"white\", \"ticks\": \"\"}, \"bgcolor\": \"#E5ECF6\", \"caxis\": {\"gridcolor\": \"white\", \"linecolor\": \"white\", \"ticks\": \"\"}}, \"title\": {\"x\": 0.05}, \"xaxis\": {\"automargin\": true, \"gridcolor\": \"white\", \"linecolor\": \"white\", \"ticks\": \"\", \"title\": {\"standoff\": 15}, \"zerolinecolor\": \"white\", \"zerolinewidth\": 2}, \"yaxis\": {\"automargin\": true, \"gridcolor\": \"white\", \"linecolor\": \"white\", \"ticks\": \"\", \"title\": {\"standoff\": 15}, \"zerolinecolor\": \"white\", \"zerolinewidth\": 2}}}, \"title\": {\"font\": {\"color\": \"#4D5663\"}}, \"xaxis\": {\"gridcolor\": \"#E1E5ED\", \"showgrid\": true, \"tickfont\": {\"color\": \"#4D5663\"}, \"title\": {\"font\": {\"color\": \"#4D5663\"}, \"text\": \"\"}, \"zerolinecolor\": \"#E1E5ED\"}, \"yaxis\": {\"gridcolor\": \"#E1E5ED\", \"showgrid\": true, \"tickfont\": {\"color\": \"#4D5663\"}, \"title\": {\"font\": {\"color\": \"#4D5663\"}, \"text\": \"\"}, \"zerolinecolor\": \"#E1E5ED\"}},                        {\"showLink\": true, \"linkText\": \"Export to plot.ly\", \"plotlyServerURL\": \"https://plot.ly\", \"responsive\": true}                    ).then(function(){\n",
       "                            \n",
       "var gd = document.getElementById('d239862e-98d6-4c9c-82db-aac853137a39');\n",
       "var x = new MutationObserver(function (mutations, observer) {{\n",
       "        var display = window.getComputedStyle(gd).display;\n",
       "        if (!display || display === 'none') {{\n",
       "            console.log([gd, 'removed!']);\n",
       "            Plotly.purge(gd);\n",
       "            observer.disconnect();\n",
       "        }}\n",
       "}});\n",
       "\n",
       "// Listen for the removal of the full notebook cells\n",
       "var notebookContainer = gd.closest('#notebook-container');\n",
       "if (notebookContainer) {{\n",
       "    x.observe(notebookContainer, {childList: true});\n",
       "}}\n",
       "\n",
       "// Listen for the clearing of the current output cell\n",
       "var outputEl = gd.closest('.output');\n",
       "if (outputEl) {{\n",
       "    x.observe(outputEl, {childList: true});\n",
       "}}\n",
       "\n",
       "                        })                };                });            </script>        </div>"
      ]
     },
     "metadata": {},
     "output_type": "display_data"
    }
   ],
   "source": [
    "df2.iplot(kind='bar', x='Category',y='Values')"
   ]
  },
  {
   "cell_type": "code",
   "execution_count": 19,
   "metadata": {},
   "outputs": [
    {
     "data": {
      "application/vnd.plotly.v1+json": {
       "config": {
        "linkText": "Export to plot.ly",
        "plotlyServerURL": "https://plot.ly",
        "showLink": true
       },
       "data": [
        {
         "boxpoints": false,
         "line": {
          "width": 1.3
         },
         "marker": {
          "color": "rgba(255, 153, 51, 1.0)"
         },
         "name": "A",
         "orientation": "v",
         "type": "box",
         "y": [
          -0.2531083250970203,
          0.44472867520184695,
          -0.6880739903817269,
          -0.32389688390050336,
          -0.21066679145064116,
          -0.7471305568135573,
          1.4644403155760901,
          -1.5390062758876004,
          -1.5425674761634856,
          0.1845770072180261,
          -1.04983457028772,
          2.958223043449747,
          0.19962163438520358,
          0.6809530686614672,
          0.14535502903675235,
          -0.7188442819492274,
          1.0125690660282616,
          0.05224314033522782,
          -1.8432338689264192,
          -0.3483895528924191,
          -0.3583306084919735,
          0.4761146454202297,
          -0.147129437965505,
          1.5220538503214163,
          -1.3273284502582012,
          0.16507303161167794,
          -0.0560374263769096,
          0.5784265198295464,
          -0.2740863346688317,
          2.143309560747731,
          0.1671101097738608,
          0.5490366739554574,
          0.013215510451084333,
          0.3940727215280942,
          -0.9521217551672523,
          -0.018722957509154415,
          1.43946284679207,
          0.5311864343840943,
          -0.9576730445124143,
          2.615701373800367,
          0.2969248462359406,
          -0.23254471608361083,
          0.02390791000105446,
          -0.5815987415883015,
          0.9797377817160473,
          0.3983322606335077,
          -0.6141282028185352,
          0.23784349161194623,
          -1.3199887141335402,
          0.6996938400462953,
          -0.2868779707094815,
          3.170323023876777,
          0.10997169936554678,
          1.3170088130777606,
          -2.658216644451961,
          -1.7510785196335596,
          0.2911423653054329,
          -0.3146626882337196,
          0.42671812938167997,
          -0.21623347798306392,
          1.3913338101835877,
          0.5186823638813134,
          0.4992351523475857,
          1.068339120041519,
          0.6850632859094586,
          -0.4906088150209769,
          -0.8859045960411523,
          0.3397388469656312,
          1.4342595849975506,
          0.09561282704554233,
          -1.2043279788958634,
          -0.5284463987481448,
          0.21111175740921415,
          0.6765630612537961,
          0.5447339666552157,
          1.9232009065877185,
          0.9311243971960865,
          -0.5857662928038426,
          0.1309340857065233,
          0.6307938743323313,
          -1.3313404549673353,
          0.6918609455835275,
          1.261217754803169,
          0.6246482895871643,
          0.7309726569960078,
          0.030697726306293666,
          -1.9848004838069544,
          -1.6463370700123259,
          1.2178820207045697,
          0.532948814095436,
          0.3317063505971597,
          0.2972599259821757,
          0.5219716784009186,
          -1.3582358763406823,
          -0.3475294045762002,
          0.5304741285949425,
          -0.7712291619711124,
          -0.8534484005792922,
          0.2469690148994338,
          -0.49158233930531514
         ]
        },
        {
         "boxpoints": false,
         "line": {
          "width": 1.3
         },
         "marker": {
          "color": "rgba(55, 128, 191, 1.0)"
         },
         "name": "B",
         "orientation": "v",
         "type": "box",
         "y": [
          0.2692248590674567,
          2.5414565169787684,
          -1.3847684476344624,
          1.0279604222570988,
          0.32178606562036727,
          -0.71414958269869,
          1.3286475415150187,
          -0.18602555159568127,
          -0.6240462160771314,
          -0.013680420743699132,
          0.9216749121898704,
          0.36610989844719927,
          -0.23086136612047775,
          -1.561147103539752,
          -1.55113276236753,
          0.32854251512931804,
          -1.764333635340324,
          -0.7028625061339061,
          -1.435701932428522,
          0.924236301167901,
          0.038138911451752064,
          -0.7590936404033503,
          -0.11749600252730237,
          0.39633006465495496,
          -0.2107745967287429,
          0.5113421067521764,
          1.0929602611219198,
          0.18439027770308478,
          -1.0854390751429883,
          0.5118711694135236,
          0.40958311714195506,
          -0.41240221065986143,
          -0.859034971894161,
          -0.5529096332253796,
          -0.5232120174327071,
          -1.1530761095753999,
          -0.1916230903244878,
          -0.15954320592542995,
          -1.3107503419051287,
          -0.6670439421192467,
          0.16252815279435603,
          0.5864792595105315,
          0.31271069415931163,
          -1.4156239025283626,
          -0.2108067683301323,
          0.4009473642109201,
          -0.2717101826795173,
          -0.41699572886723774,
          -0.30082422068105297,
          0.5047385743026007,
          -1.9787868569877332,
          0.11751434764417365,
          -0.12085350747255721,
          0.34364779893495206,
          -1.8224513199521488,
          -1.2065012656680196,
          -0.7696169392939282,
          -0.5111253785557218,
          -0.3545273834343783,
          0.8978159418460043,
          -0.8157526385378127,
          -0.9572493594332675,
          0.4495184342597558,
          2.3261108979215734,
          -1.089090169046952,
          -0.3542045476423018,
          -0.43072727366645397,
          1.7074628488359203,
          -0.5323631224416054,
          -0.635697712321746,
          0.48855952132870645,
          1.3350182547014884,
          2.3452090589417276,
          0.09012629968942505,
          -1.2522205245484084,
          -0.7845119830949263,
          -0.6424298754383452,
          -1.0645184185886827,
          1.3427868037204183,
          -0.3878916530551524,
          -0.4621215801011234,
          -1.4910175723377412,
          0.002686208823228683,
          -0.5938418999955112,
          0.6179416582649397,
          0.15838027440967178,
          -1.3072408344980595,
          -0.14037572981081717,
          0.08944578304891387,
          0.40371386655793834,
          -1.2090705967400097,
          -0.15988167399899386,
          -0.7102046276701807,
          -1.474292195815174,
          -0.9781606303475665,
          -1.2263315181857672,
          1.131136855389624,
          1.0786752573396445,
          -1.305477163909878,
          0.2421897939764603
         ]
        },
        {
         "boxpoints": false,
         "line": {
          "width": 1.3
         },
         "marker": {
          "color": "rgba(50, 171, 96, 1.0)"
         },
         "name": "C",
         "orientation": "v",
         "type": "box",
         "y": [
          0.9845430614354537,
          1.4264547784811157,
          1.8185224615598867,
          0.2876235743837417,
          -0.15273863053357983,
          1.0672640673775675,
          0.36889847295683714,
          1.7582131837067485,
          0.6283354504314319,
          -0.16167766207986853,
          -0.2872649632996048,
          0.8215961640829661,
          0.480498537217956,
          0.02075013750145252,
          -1.1453851914667532,
          0.07800081841057309,
          0.5186564001148111,
          1.5079513777650961,
          -1.1656941375386918,
          -0.8055939069969118,
          -0.2696350033683586,
          -0.8286847723236382,
          -0.6522682365336133,
          1.081691162805879,
          0.1831095123488363,
          -0.5682789533346162,
          0.9928132158925893,
          1.8871253715982468,
          0.4336963940136164,
          0.8274590332282141,
          -1.3676126517313532,
          0.3625391579203631,
          -0.4198420834785065,
          -1.7522618013398874,
          -1.0943409743490962,
          1.5930933519180994,
          -0.3809535745932166,
          -0.07132020664631916,
          0.21094772772557083,
          1.4262956770952393,
          -0.18750703633071464,
          -1.7317701836166697,
          1.0554110904290748,
          0.7863549983579504,
          0.3144640312460261,
          -2.694341451993742,
          -1.7842572579759883,
          0.04072541689088181,
          1.1849237957676644,
          1.8613265763690219,
          -0.02870588501015,
          0.024582987754410042,
          2.255838657736544,
          -0.8234897901997741,
          -0.46085879890447956,
          0.7779373045120065,
          -0.3275359819714058,
          -0.7620853715885492,
          0.2266976150558581,
          -1.6665125148994269,
          -0.3403661546390149,
          2.163774530063942,
          -0.17569776103107237,
          0.0017418393701614686,
          -0.3863220961175093,
          -0.23254668193074243,
          0.600094182920535,
          1.4454255232328954,
          -0.07411531823787712,
          -0.4590766181330314,
          1.2483873746197836,
          0.6937370335745796,
          0.304054615850903,
          0.1282050670190241,
          -0.9963476782052268,
          0.7573250780041975,
          1.030235018977501,
          0.45788355206083126,
          0.2179323611002476,
          -1.2765176224547714,
          -0.05091228211186459,
          0.7872875248289407,
          -1.3727816638752337,
          -0.24429024354267057,
          0.2848800017257363,
          -0.9488131295734892,
          1.2207557940326388,
          -0.150187321056821,
          0.8319794732355743,
          -1.4875074618912505,
          -0.08982822957118794,
          -0.18921291714367677,
          -0.40016951985406524,
          -1.2794571246527122,
          -1.094534487829649,
          -0.4642133831026465,
          -0.35582950036557914,
          0.7179682389790413,
          0.30336413427558834,
          -1.7437205498720163
         ]
        },
        {
         "boxpoints": false,
         "line": {
          "width": 1.3
         },
         "marker": {
          "color": "rgba(128, 0, 128, 1.0)"
         },
         "name": "D",
         "orientation": "v",
         "type": "box",
         "y": [
          -1.1873759401072121,
          -0.21272893173520116,
          -0.3337398117192112,
          -0.26956520378390764,
          -1.7659624936732585,
          -0.6978766429196865,
          1.6725545487313158,
          0.09259338719191819,
          1.6453366231173143,
          -0.3833674186111683,
          1.6989508724793339,
          0.5983377937837228,
          0.5447352846764828,
          0.18099022472462933,
          1.5307594863059593,
          0.23142495576797836,
          -2.239277531098523,
          0.3752910312617037,
          0.2122588488728485,
          -0.9583627400158707,
          -0.026938775072069886,
          0.7131953417154699,
          1.2166546304056043,
          0.5914997911410284,
          0.8470642191414174,
          1.6466958348146044,
          -0.3639331891040234,
          -1.710068176230475,
          -1.5574786150076614,
          -0.6040313136124005,
          2.2301466554883644,
          0.9273061531277372,
          -0.7307650207334397,
          -0.7302001437813028,
          -0.48750578267528044,
          -0.35766261050834985,
          -0.6725031726706149,
          0.421873498857747,
          0.02556409448236915,
          0.4765293982838863,
          -1.2141185724581982,
          -1.639107377789116,
          -1.131724961813166,
          -0.4991893991036096,
          0.8914334239727241,
          0.556560970020493,
          -1.4675191010887423,
          -0.3973202818189989,
          -1.3272951822043146,
          0.13436309845109753,
          0.7554731936109603,
          0.20298422685684478,
          0.013433041100121399,
          -1.6219587781765432,
          -1.2919866455371372,
          1.7156967381957249,
          0.3421105516382237,
          1.2424484347790248,
          -1.0511765365084793,
          -0.26770727452964027,
          0.2996732318982424,
          2.592142105551428,
          -0.42639407320832945,
          2.1374720582633215,
          0.1484491726771624,
          0.09940343462618549,
          -0.5139219798838047,
          -0.8049296505862523,
          -0.4046966330808061,
          -1.3430346983946972,
          -0.06191568728436142,
          -0.4459407604275068,
          0.4540494393224033,
          0.8805770779046518,
          1.9278319180101513,
          -0.27752181605053633,
          -2.0236715828075607,
          0.9811780305866094,
          2.2022300541591475,
          -1.3825108801347603,
          0.97983023674692,
          -2.080809733204436,
          -0.5323966460427149,
          -1.375565887222923,
          0.7640666043568605,
          0.848594647794393,
          -1.1393736168819195,
          0.17793233394983657,
          1.8972293181130444,
          0.959783938955475,
          0.940058256679049,
          0.2807262610225058,
          -1.1588288692589268,
          -1.1965036252006027,
          1.2000502779767896,
          1.0549663172573462,
          -0.6876934291592685,
          0.572388846989946,
          -1.3302273547405212,
          -0.18950379001783332
         ]
        }
       ],
       "layout": {
        "legend": {
         "bgcolor": "#F5F6F9",
         "font": {
          "color": "#4D5663"
         }
        },
        "paper_bgcolor": "#F5F6F9",
        "plot_bgcolor": "#F5F6F9",
        "template": {
         "data": {
          "bar": [
           {
            "error_x": {
             "color": "#2a3f5f"
            },
            "error_y": {
             "color": "#2a3f5f"
            },
            "marker": {
             "line": {
              "color": "#E5ECF6",
              "width": 0.5
             }
            },
            "type": "bar"
           }
          ],
          "barpolar": [
           {
            "marker": {
             "line": {
              "color": "#E5ECF6",
              "width": 0.5
             }
            },
            "type": "barpolar"
           }
          ],
          "carpet": [
           {
            "aaxis": {
             "endlinecolor": "#2a3f5f",
             "gridcolor": "white",
             "linecolor": "white",
             "minorgridcolor": "white",
             "startlinecolor": "#2a3f5f"
            },
            "baxis": {
             "endlinecolor": "#2a3f5f",
             "gridcolor": "white",
             "linecolor": "white",
             "minorgridcolor": "white",
             "startlinecolor": "#2a3f5f"
            },
            "type": "carpet"
           }
          ],
          "choropleth": [
           {
            "colorbar": {
             "outlinewidth": 0,
             "ticks": ""
            },
            "type": "choropleth"
           }
          ],
          "contour": [
           {
            "colorbar": {
             "outlinewidth": 0,
             "ticks": ""
            },
            "colorscale": [
             [
              0,
              "#0d0887"
             ],
             [
              0.1111111111111111,
              "#46039f"
             ],
             [
              0.2222222222222222,
              "#7201a8"
             ],
             [
              0.3333333333333333,
              "#9c179e"
             ],
             [
              0.4444444444444444,
              "#bd3786"
             ],
             [
              0.5555555555555556,
              "#d8576b"
             ],
             [
              0.6666666666666666,
              "#ed7953"
             ],
             [
              0.7777777777777778,
              "#fb9f3a"
             ],
             [
              0.8888888888888888,
              "#fdca26"
             ],
             [
              1,
              "#f0f921"
             ]
            ],
            "type": "contour"
           }
          ],
          "contourcarpet": [
           {
            "colorbar": {
             "outlinewidth": 0,
             "ticks": ""
            },
            "type": "contourcarpet"
           }
          ],
          "heatmap": [
           {
            "colorbar": {
             "outlinewidth": 0,
             "ticks": ""
            },
            "colorscale": [
             [
              0,
              "#0d0887"
             ],
             [
              0.1111111111111111,
              "#46039f"
             ],
             [
              0.2222222222222222,
              "#7201a8"
             ],
             [
              0.3333333333333333,
              "#9c179e"
             ],
             [
              0.4444444444444444,
              "#bd3786"
             ],
             [
              0.5555555555555556,
              "#d8576b"
             ],
             [
              0.6666666666666666,
              "#ed7953"
             ],
             [
              0.7777777777777778,
              "#fb9f3a"
             ],
             [
              0.8888888888888888,
              "#fdca26"
             ],
             [
              1,
              "#f0f921"
             ]
            ],
            "type": "heatmap"
           }
          ],
          "heatmapgl": [
           {
            "colorbar": {
             "outlinewidth": 0,
             "ticks": ""
            },
            "colorscale": [
             [
              0,
              "#0d0887"
             ],
             [
              0.1111111111111111,
              "#46039f"
             ],
             [
              0.2222222222222222,
              "#7201a8"
             ],
             [
              0.3333333333333333,
              "#9c179e"
             ],
             [
              0.4444444444444444,
              "#bd3786"
             ],
             [
              0.5555555555555556,
              "#d8576b"
             ],
             [
              0.6666666666666666,
              "#ed7953"
             ],
             [
              0.7777777777777778,
              "#fb9f3a"
             ],
             [
              0.8888888888888888,
              "#fdca26"
             ],
             [
              1,
              "#f0f921"
             ]
            ],
            "type": "heatmapgl"
           }
          ],
          "histogram": [
           {
            "marker": {
             "colorbar": {
              "outlinewidth": 0,
              "ticks": ""
             }
            },
            "type": "histogram"
           }
          ],
          "histogram2d": [
           {
            "colorbar": {
             "outlinewidth": 0,
             "ticks": ""
            },
            "colorscale": [
             [
              0,
              "#0d0887"
             ],
             [
              0.1111111111111111,
              "#46039f"
             ],
             [
              0.2222222222222222,
              "#7201a8"
             ],
             [
              0.3333333333333333,
              "#9c179e"
             ],
             [
              0.4444444444444444,
              "#bd3786"
             ],
             [
              0.5555555555555556,
              "#d8576b"
             ],
             [
              0.6666666666666666,
              "#ed7953"
             ],
             [
              0.7777777777777778,
              "#fb9f3a"
             ],
             [
              0.8888888888888888,
              "#fdca26"
             ],
             [
              1,
              "#f0f921"
             ]
            ],
            "type": "histogram2d"
           }
          ],
          "histogram2dcontour": [
           {
            "colorbar": {
             "outlinewidth": 0,
             "ticks": ""
            },
            "colorscale": [
             [
              0,
              "#0d0887"
             ],
             [
              0.1111111111111111,
              "#46039f"
             ],
             [
              0.2222222222222222,
              "#7201a8"
             ],
             [
              0.3333333333333333,
              "#9c179e"
             ],
             [
              0.4444444444444444,
              "#bd3786"
             ],
             [
              0.5555555555555556,
              "#d8576b"
             ],
             [
              0.6666666666666666,
              "#ed7953"
             ],
             [
              0.7777777777777778,
              "#fb9f3a"
             ],
             [
              0.8888888888888888,
              "#fdca26"
             ],
             [
              1,
              "#f0f921"
             ]
            ],
            "type": "histogram2dcontour"
           }
          ],
          "mesh3d": [
           {
            "colorbar": {
             "outlinewidth": 0,
             "ticks": ""
            },
            "type": "mesh3d"
           }
          ],
          "parcoords": [
           {
            "line": {
             "colorbar": {
              "outlinewidth": 0,
              "ticks": ""
             }
            },
            "type": "parcoords"
           }
          ],
          "pie": [
           {
            "automargin": true,
            "type": "pie"
           }
          ],
          "scatter": [
           {
            "marker": {
             "colorbar": {
              "outlinewidth": 0,
              "ticks": ""
             }
            },
            "type": "scatter"
           }
          ],
          "scatter3d": [
           {
            "line": {
             "colorbar": {
              "outlinewidth": 0,
              "ticks": ""
             }
            },
            "marker": {
             "colorbar": {
              "outlinewidth": 0,
              "ticks": ""
             }
            },
            "type": "scatter3d"
           }
          ],
          "scattercarpet": [
           {
            "marker": {
             "colorbar": {
              "outlinewidth": 0,
              "ticks": ""
             }
            },
            "type": "scattercarpet"
           }
          ],
          "scattergeo": [
           {
            "marker": {
             "colorbar": {
              "outlinewidth": 0,
              "ticks": ""
             }
            },
            "type": "scattergeo"
           }
          ],
          "scattergl": [
           {
            "marker": {
             "colorbar": {
              "outlinewidth": 0,
              "ticks": ""
             }
            },
            "type": "scattergl"
           }
          ],
          "scattermapbox": [
           {
            "marker": {
             "colorbar": {
              "outlinewidth": 0,
              "ticks": ""
             }
            },
            "type": "scattermapbox"
           }
          ],
          "scatterpolar": [
           {
            "marker": {
             "colorbar": {
              "outlinewidth": 0,
              "ticks": ""
             }
            },
            "type": "scatterpolar"
           }
          ],
          "scatterpolargl": [
           {
            "marker": {
             "colorbar": {
              "outlinewidth": 0,
              "ticks": ""
             }
            },
            "type": "scatterpolargl"
           }
          ],
          "scatterternary": [
           {
            "marker": {
             "colorbar": {
              "outlinewidth": 0,
              "ticks": ""
             }
            },
            "type": "scatterternary"
           }
          ],
          "surface": [
           {
            "colorbar": {
             "outlinewidth": 0,
             "ticks": ""
            },
            "colorscale": [
             [
              0,
              "#0d0887"
             ],
             [
              0.1111111111111111,
              "#46039f"
             ],
             [
              0.2222222222222222,
              "#7201a8"
             ],
             [
              0.3333333333333333,
              "#9c179e"
             ],
             [
              0.4444444444444444,
              "#bd3786"
             ],
             [
              0.5555555555555556,
              "#d8576b"
             ],
             [
              0.6666666666666666,
              "#ed7953"
             ],
             [
              0.7777777777777778,
              "#fb9f3a"
             ],
             [
              0.8888888888888888,
              "#fdca26"
             ],
             [
              1,
              "#f0f921"
             ]
            ],
            "type": "surface"
           }
          ],
          "table": [
           {
            "cells": {
             "fill": {
              "color": "#EBF0F8"
             },
             "line": {
              "color": "white"
             }
            },
            "header": {
             "fill": {
              "color": "#C8D4E3"
             },
             "line": {
              "color": "white"
             }
            },
            "type": "table"
           }
          ]
         },
         "layout": {
          "annotationdefaults": {
           "arrowcolor": "#2a3f5f",
           "arrowhead": 0,
           "arrowwidth": 1
          },
          "autotypenumbers": "strict",
          "coloraxis": {
           "colorbar": {
            "outlinewidth": 0,
            "ticks": ""
           }
          },
          "colorscale": {
           "diverging": [
            [
             0,
             "#8e0152"
            ],
            [
             0.1,
             "#c51b7d"
            ],
            [
             0.2,
             "#de77ae"
            ],
            [
             0.3,
             "#f1b6da"
            ],
            [
             0.4,
             "#fde0ef"
            ],
            [
             0.5,
             "#f7f7f7"
            ],
            [
             0.6,
             "#e6f5d0"
            ],
            [
             0.7,
             "#b8e186"
            ],
            [
             0.8,
             "#7fbc41"
            ],
            [
             0.9,
             "#4d9221"
            ],
            [
             1,
             "#276419"
            ]
           ],
           "sequential": [
            [
             0,
             "#0d0887"
            ],
            [
             0.1111111111111111,
             "#46039f"
            ],
            [
             0.2222222222222222,
             "#7201a8"
            ],
            [
             0.3333333333333333,
             "#9c179e"
            ],
            [
             0.4444444444444444,
             "#bd3786"
            ],
            [
             0.5555555555555556,
             "#d8576b"
            ],
            [
             0.6666666666666666,
             "#ed7953"
            ],
            [
             0.7777777777777778,
             "#fb9f3a"
            ],
            [
             0.8888888888888888,
             "#fdca26"
            ],
            [
             1,
             "#f0f921"
            ]
           ],
           "sequentialminus": [
            [
             0,
             "#0d0887"
            ],
            [
             0.1111111111111111,
             "#46039f"
            ],
            [
             0.2222222222222222,
             "#7201a8"
            ],
            [
             0.3333333333333333,
             "#9c179e"
            ],
            [
             0.4444444444444444,
             "#bd3786"
            ],
            [
             0.5555555555555556,
             "#d8576b"
            ],
            [
             0.6666666666666666,
             "#ed7953"
            ],
            [
             0.7777777777777778,
             "#fb9f3a"
            ],
            [
             0.8888888888888888,
             "#fdca26"
            ],
            [
             1,
             "#f0f921"
            ]
           ]
          },
          "colorway": [
           "#636efa",
           "#EF553B",
           "#00cc96",
           "#ab63fa",
           "#FFA15A",
           "#19d3f3",
           "#FF6692",
           "#B6E880",
           "#FF97FF",
           "#FECB52"
          ],
          "font": {
           "color": "#2a3f5f"
          },
          "geo": {
           "bgcolor": "white",
           "lakecolor": "white",
           "landcolor": "#E5ECF6",
           "showlakes": true,
           "showland": true,
           "subunitcolor": "white"
          },
          "hoverlabel": {
           "align": "left"
          },
          "hovermode": "closest",
          "mapbox": {
           "style": "light"
          },
          "paper_bgcolor": "white",
          "plot_bgcolor": "#E5ECF6",
          "polar": {
           "angularaxis": {
            "gridcolor": "white",
            "linecolor": "white",
            "ticks": ""
           },
           "bgcolor": "#E5ECF6",
           "radialaxis": {
            "gridcolor": "white",
            "linecolor": "white",
            "ticks": ""
           }
          },
          "scene": {
           "xaxis": {
            "backgroundcolor": "#E5ECF6",
            "gridcolor": "white",
            "gridwidth": 2,
            "linecolor": "white",
            "showbackground": true,
            "ticks": "",
            "zerolinecolor": "white"
           },
           "yaxis": {
            "backgroundcolor": "#E5ECF6",
            "gridcolor": "white",
            "gridwidth": 2,
            "linecolor": "white",
            "showbackground": true,
            "ticks": "",
            "zerolinecolor": "white"
           },
           "zaxis": {
            "backgroundcolor": "#E5ECF6",
            "gridcolor": "white",
            "gridwidth": 2,
            "linecolor": "white",
            "showbackground": true,
            "ticks": "",
            "zerolinecolor": "white"
           }
          },
          "shapedefaults": {
           "line": {
            "color": "#2a3f5f"
           }
          },
          "ternary": {
           "aaxis": {
            "gridcolor": "white",
            "linecolor": "white",
            "ticks": ""
           },
           "baxis": {
            "gridcolor": "white",
            "linecolor": "white",
            "ticks": ""
           },
           "bgcolor": "#E5ECF6",
           "caxis": {
            "gridcolor": "white",
            "linecolor": "white",
            "ticks": ""
           }
          },
          "title": {
           "x": 0.05
          },
          "xaxis": {
           "automargin": true,
           "gridcolor": "white",
           "linecolor": "white",
           "ticks": "",
           "title": {
            "standoff": 15
           },
           "zerolinecolor": "white",
           "zerolinewidth": 2
          },
          "yaxis": {
           "automargin": true,
           "gridcolor": "white",
           "linecolor": "white",
           "ticks": "",
           "title": {
            "standoff": 15
           },
           "zerolinecolor": "white",
           "zerolinewidth": 2
          }
         }
        },
        "title": {
         "font": {
          "color": "#4D5663"
         }
        },
        "xaxis": {
         "gridcolor": "#E1E5ED",
         "showgrid": true,
         "tickfont": {
          "color": "#4D5663"
         },
         "title": {
          "font": {
           "color": "#4D5663"
          },
          "text": ""
         },
         "zerolinecolor": "#E1E5ED"
        },
        "yaxis": {
         "gridcolor": "#E1E5ED",
         "showgrid": true,
         "tickfont": {
          "color": "#4D5663"
         },
         "title": {
          "font": {
           "color": "#4D5663"
          },
          "text": ""
         },
         "zerolinecolor": "#E1E5ED"
        }
       }
      },
      "text/html": [
       "<div>                            <div id=\"d0cecb29-a2e8-4707-a81c-d59a0e9ea76b\" class=\"plotly-graph-div\" style=\"height:525px; width:100%;\"></div>            <script type=\"text/javascript\">                require([\"plotly\"], function(Plotly) {                    window.PLOTLYENV=window.PLOTLYENV || {};\n",
       "                    window.PLOTLYENV.BASE_URL='https://plot.ly';                                    if (document.getElementById(\"d0cecb29-a2e8-4707-a81c-d59a0e9ea76b\")) {                    Plotly.newPlot(                        \"d0cecb29-a2e8-4707-a81c-d59a0e9ea76b\",                        [{\"boxpoints\": false, \"line\": {\"width\": 1.3}, \"marker\": {\"color\": \"rgba(255, 153, 51, 1.0)\"}, \"name\": \"A\", \"orientation\": \"v\", \"type\": \"box\", \"y\": [-0.2531083250970203, 0.44472867520184695, -0.6880739903817269, -0.32389688390050336, -0.21066679145064116, -0.7471305568135573, 1.4644403155760901, -1.5390062758876004, -1.5425674761634856, 0.1845770072180261, -1.04983457028772, 2.958223043449747, 0.19962163438520358, 0.6809530686614672, 0.14535502903675235, -0.7188442819492274, 1.0125690660282616, 0.05224314033522782, -1.8432338689264192, -0.3483895528924191, -0.3583306084919735, 0.4761146454202297, -0.147129437965505, 1.5220538503214163, -1.3273284502582012, 0.16507303161167794, -0.0560374263769096, 0.5784265198295464, -0.2740863346688317, 2.143309560747731, 0.1671101097738608, 0.5490366739554574, 0.013215510451084333, 0.3940727215280942, -0.9521217551672523, -0.018722957509154415, 1.43946284679207, 0.5311864343840943, -0.9576730445124143, 2.615701373800367, 0.2969248462359406, -0.23254471608361083, 0.02390791000105446, -0.5815987415883015, 0.9797377817160473, 0.3983322606335077, -0.6141282028185352, 0.23784349161194623, -1.3199887141335402, 0.6996938400462953, -0.2868779707094815, 3.170323023876777, 0.10997169936554678, 1.3170088130777606, -2.658216644451961, -1.7510785196335596, 0.2911423653054329, -0.3146626882337196, 0.42671812938167997, -0.21623347798306392, 1.3913338101835877, 0.5186823638813134, 0.4992351523475857, 1.068339120041519, 0.6850632859094586, -0.4906088150209769, -0.8859045960411523, 0.3397388469656312, 1.4342595849975506, 0.09561282704554233, -1.2043279788958634, -0.5284463987481448, 0.21111175740921415, 0.6765630612537961, 0.5447339666552157, 1.9232009065877185, 0.9311243971960865, -0.5857662928038426, 0.1309340857065233, 0.6307938743323313, -1.3313404549673353, 0.6918609455835275, 1.261217754803169, 0.6246482895871643, 0.7309726569960078, 0.030697726306293666, -1.9848004838069544, -1.6463370700123259, 1.2178820207045697, 0.532948814095436, 0.3317063505971597, 0.2972599259821757, 0.5219716784009186, -1.3582358763406823, -0.3475294045762002, 0.5304741285949425, -0.7712291619711124, -0.8534484005792922, 0.2469690148994338, -0.49158233930531514]}, {\"boxpoints\": false, \"line\": {\"width\": 1.3}, \"marker\": {\"color\": \"rgba(55, 128, 191, 1.0)\"}, \"name\": \"B\", \"orientation\": \"v\", \"type\": \"box\", \"y\": [0.2692248590674567, 2.5414565169787684, -1.3847684476344624, 1.0279604222570988, 0.32178606562036727, -0.71414958269869, 1.3286475415150187, -0.18602555159568127, -0.6240462160771314, -0.013680420743699132, 0.9216749121898704, 0.36610989844719927, -0.23086136612047775, -1.561147103539752, -1.55113276236753, 0.32854251512931804, -1.764333635340324, -0.7028625061339061, -1.435701932428522, 0.924236301167901, 0.038138911451752064, -0.7590936404033503, -0.11749600252730237, 0.39633006465495496, -0.2107745967287429, 0.5113421067521764, 1.0929602611219198, 0.18439027770308478, -1.0854390751429883, 0.5118711694135236, 0.40958311714195506, -0.41240221065986143, -0.859034971894161, -0.5529096332253796, -0.5232120174327071, -1.1530761095753999, -0.1916230903244878, -0.15954320592542995, -1.3107503419051287, -0.6670439421192467, 0.16252815279435603, 0.5864792595105315, 0.31271069415931163, -1.4156239025283626, -0.2108067683301323, 0.4009473642109201, -0.2717101826795173, -0.41699572886723774, -0.30082422068105297, 0.5047385743026007, -1.9787868569877332, 0.11751434764417365, -0.12085350747255721, 0.34364779893495206, -1.8224513199521488, -1.2065012656680196, -0.7696169392939282, -0.5111253785557218, -0.3545273834343783, 0.8978159418460043, -0.8157526385378127, -0.9572493594332675, 0.4495184342597558, 2.3261108979215734, -1.089090169046952, -0.3542045476423018, -0.43072727366645397, 1.7074628488359203, -0.5323631224416054, -0.635697712321746, 0.48855952132870645, 1.3350182547014884, 2.3452090589417276, 0.09012629968942505, -1.2522205245484084, -0.7845119830949263, -0.6424298754383452, -1.0645184185886827, 1.3427868037204183, -0.3878916530551524, -0.4621215801011234, -1.4910175723377412, 0.002686208823228683, -0.5938418999955112, 0.6179416582649397, 0.15838027440967178, -1.3072408344980595, -0.14037572981081717, 0.08944578304891387, 0.40371386655793834, -1.2090705967400097, -0.15988167399899386, -0.7102046276701807, -1.474292195815174, -0.9781606303475665, -1.2263315181857672, 1.131136855389624, 1.0786752573396445, -1.305477163909878, 0.2421897939764603]}, {\"boxpoints\": false, \"line\": {\"width\": 1.3}, \"marker\": {\"color\": \"rgba(50, 171, 96, 1.0)\"}, \"name\": \"C\", \"orientation\": \"v\", \"type\": \"box\", \"y\": [0.9845430614354537, 1.4264547784811157, 1.8185224615598867, 0.2876235743837417, -0.15273863053357983, 1.0672640673775675, 0.36889847295683714, 1.7582131837067485, 0.6283354504314319, -0.16167766207986853, -0.2872649632996048, 0.8215961640829661, 0.480498537217956, 0.02075013750145252, -1.1453851914667532, 0.07800081841057309, 0.5186564001148111, 1.5079513777650961, -1.1656941375386918, -0.8055939069969118, -0.2696350033683586, -0.8286847723236382, -0.6522682365336133, 1.081691162805879, 0.1831095123488363, -0.5682789533346162, 0.9928132158925893, 1.8871253715982468, 0.4336963940136164, 0.8274590332282141, -1.3676126517313532, 0.3625391579203631, -0.4198420834785065, -1.7522618013398874, -1.0943409743490962, 1.5930933519180994, -0.3809535745932166, -0.07132020664631916, 0.21094772772557083, 1.4262956770952393, -0.18750703633071464, -1.7317701836166697, 1.0554110904290748, 0.7863549983579504, 0.3144640312460261, -2.694341451993742, -1.7842572579759883, 0.04072541689088181, 1.1849237957676644, 1.8613265763690219, -0.02870588501015, 0.024582987754410042, 2.255838657736544, -0.8234897901997741, -0.46085879890447956, 0.7779373045120065, -0.3275359819714058, -0.7620853715885492, 0.2266976150558581, -1.6665125148994269, -0.3403661546390149, 2.163774530063942, -0.17569776103107237, 0.0017418393701614686, -0.3863220961175093, -0.23254668193074243, 0.600094182920535, 1.4454255232328954, -0.07411531823787712, -0.4590766181330314, 1.2483873746197836, 0.6937370335745796, 0.304054615850903, 0.1282050670190241, -0.9963476782052268, 0.7573250780041975, 1.030235018977501, 0.45788355206083126, 0.2179323611002476, -1.2765176224547714, -0.05091228211186459, 0.7872875248289407, -1.3727816638752337, -0.24429024354267057, 0.2848800017257363, -0.9488131295734892, 1.2207557940326388, -0.150187321056821, 0.8319794732355743, -1.4875074618912505, -0.08982822957118794, -0.18921291714367677, -0.40016951985406524, -1.2794571246527122, -1.094534487829649, -0.4642133831026465, -0.35582950036557914, 0.7179682389790413, 0.30336413427558834, -1.7437205498720163]}, {\"boxpoints\": false, \"line\": {\"width\": 1.3}, \"marker\": {\"color\": \"rgba(128, 0, 128, 1.0)\"}, \"name\": \"D\", \"orientation\": \"v\", \"type\": \"box\", \"y\": [-1.1873759401072121, -0.21272893173520116, -0.3337398117192112, -0.26956520378390764, -1.7659624936732585, -0.6978766429196865, 1.6725545487313158, 0.09259338719191819, 1.6453366231173143, -0.3833674186111683, 1.6989508724793339, 0.5983377937837228, 0.5447352846764828, 0.18099022472462933, 1.5307594863059593, 0.23142495576797836, -2.239277531098523, 0.3752910312617037, 0.2122588488728485, -0.9583627400158707, -0.026938775072069886, 0.7131953417154699, 1.2166546304056043, 0.5914997911410284, 0.8470642191414174, 1.6466958348146044, -0.3639331891040234, -1.710068176230475, -1.5574786150076614, -0.6040313136124005, 2.2301466554883644, 0.9273061531277372, -0.7307650207334397, -0.7302001437813028, -0.48750578267528044, -0.35766261050834985, -0.6725031726706149, 0.421873498857747, 0.02556409448236915, 0.4765293982838863, -1.2141185724581982, -1.639107377789116, -1.131724961813166, -0.4991893991036096, 0.8914334239727241, 0.556560970020493, -1.4675191010887423, -0.3973202818189989, -1.3272951822043146, 0.13436309845109753, 0.7554731936109603, 0.20298422685684478, 0.013433041100121399, -1.6219587781765432, -1.2919866455371372, 1.7156967381957249, 0.3421105516382237, 1.2424484347790248, -1.0511765365084793, -0.26770727452964027, 0.2996732318982424, 2.592142105551428, -0.42639407320832945, 2.1374720582633215, 0.1484491726771624, 0.09940343462618549, -0.5139219798838047, -0.8049296505862523, -0.4046966330808061, -1.3430346983946972, -0.06191568728436142, -0.4459407604275068, 0.4540494393224033, 0.8805770779046518, 1.9278319180101513, -0.27752181605053633, -2.0236715828075607, 0.9811780305866094, 2.2022300541591475, -1.3825108801347603, 0.97983023674692, -2.080809733204436, -0.5323966460427149, -1.375565887222923, 0.7640666043568605, 0.848594647794393, -1.1393736168819195, 0.17793233394983657, 1.8972293181130444, 0.959783938955475, 0.940058256679049, 0.2807262610225058, -1.1588288692589268, -1.1965036252006027, 1.2000502779767896, 1.0549663172573462, -0.6876934291592685, 0.572388846989946, -1.3302273547405212, -0.18950379001783332]}],                        {\"legend\": {\"bgcolor\": \"#F5F6F9\", \"font\": {\"color\": \"#4D5663\"}}, \"paper_bgcolor\": \"#F5F6F9\", \"plot_bgcolor\": \"#F5F6F9\", \"template\": {\"data\": {\"bar\": [{\"error_x\": {\"color\": \"#2a3f5f\"}, \"error_y\": {\"color\": \"#2a3f5f\"}, \"marker\": {\"line\": {\"color\": \"#E5ECF6\", \"width\": 0.5}}, \"type\": \"bar\"}], \"barpolar\": [{\"marker\": {\"line\": {\"color\": \"#E5ECF6\", \"width\": 0.5}}, \"type\": \"barpolar\"}], \"carpet\": [{\"aaxis\": {\"endlinecolor\": \"#2a3f5f\", \"gridcolor\": \"white\", \"linecolor\": \"white\", \"minorgridcolor\": \"white\", \"startlinecolor\": \"#2a3f5f\"}, \"baxis\": {\"endlinecolor\": \"#2a3f5f\", \"gridcolor\": \"white\", \"linecolor\": \"white\", \"minorgridcolor\": \"white\", \"startlinecolor\": \"#2a3f5f\"}, \"type\": \"carpet\"}], \"choropleth\": [{\"colorbar\": {\"outlinewidth\": 0, \"ticks\": \"\"}, \"type\": \"choropleth\"}], \"contour\": [{\"colorbar\": {\"outlinewidth\": 0, \"ticks\": \"\"}, \"colorscale\": [[0.0, \"#0d0887\"], [0.1111111111111111, \"#46039f\"], [0.2222222222222222, \"#7201a8\"], [0.3333333333333333, \"#9c179e\"], [0.4444444444444444, \"#bd3786\"], [0.5555555555555556, \"#d8576b\"], [0.6666666666666666, \"#ed7953\"], [0.7777777777777778, \"#fb9f3a\"], [0.8888888888888888, \"#fdca26\"], [1.0, \"#f0f921\"]], \"type\": \"contour\"}], \"contourcarpet\": [{\"colorbar\": {\"outlinewidth\": 0, \"ticks\": \"\"}, \"type\": \"contourcarpet\"}], \"heatmap\": [{\"colorbar\": {\"outlinewidth\": 0, \"ticks\": \"\"}, \"colorscale\": [[0.0, \"#0d0887\"], [0.1111111111111111, \"#46039f\"], [0.2222222222222222, \"#7201a8\"], [0.3333333333333333, \"#9c179e\"], [0.4444444444444444, \"#bd3786\"], [0.5555555555555556, \"#d8576b\"], [0.6666666666666666, \"#ed7953\"], [0.7777777777777778, \"#fb9f3a\"], [0.8888888888888888, \"#fdca26\"], [1.0, \"#f0f921\"]], \"type\": \"heatmap\"}], \"heatmapgl\": [{\"colorbar\": {\"outlinewidth\": 0, \"ticks\": \"\"}, \"colorscale\": [[0.0, \"#0d0887\"], [0.1111111111111111, \"#46039f\"], [0.2222222222222222, \"#7201a8\"], [0.3333333333333333, \"#9c179e\"], [0.4444444444444444, \"#bd3786\"], [0.5555555555555556, \"#d8576b\"], [0.6666666666666666, \"#ed7953\"], [0.7777777777777778, \"#fb9f3a\"], [0.8888888888888888, \"#fdca26\"], [1.0, \"#f0f921\"]], \"type\": \"heatmapgl\"}], \"histogram\": [{\"marker\": {\"colorbar\": {\"outlinewidth\": 0, \"ticks\": \"\"}}, \"type\": \"histogram\"}], \"histogram2d\": [{\"colorbar\": {\"outlinewidth\": 0, \"ticks\": \"\"}, \"colorscale\": [[0.0, \"#0d0887\"], [0.1111111111111111, \"#46039f\"], [0.2222222222222222, \"#7201a8\"], [0.3333333333333333, \"#9c179e\"], [0.4444444444444444, \"#bd3786\"], [0.5555555555555556, \"#d8576b\"], [0.6666666666666666, \"#ed7953\"], [0.7777777777777778, \"#fb9f3a\"], [0.8888888888888888, \"#fdca26\"], [1.0, \"#f0f921\"]], \"type\": \"histogram2d\"}], \"histogram2dcontour\": [{\"colorbar\": {\"outlinewidth\": 0, \"ticks\": \"\"}, \"colorscale\": [[0.0, \"#0d0887\"], [0.1111111111111111, \"#46039f\"], [0.2222222222222222, \"#7201a8\"], [0.3333333333333333, \"#9c179e\"], [0.4444444444444444, \"#bd3786\"], [0.5555555555555556, \"#d8576b\"], [0.6666666666666666, \"#ed7953\"], [0.7777777777777778, \"#fb9f3a\"], [0.8888888888888888, \"#fdca26\"], [1.0, \"#f0f921\"]], \"type\": \"histogram2dcontour\"}], \"mesh3d\": [{\"colorbar\": {\"outlinewidth\": 0, \"ticks\": \"\"}, \"type\": \"mesh3d\"}], \"parcoords\": [{\"line\": {\"colorbar\": {\"outlinewidth\": 0, \"ticks\": \"\"}}, \"type\": \"parcoords\"}], \"pie\": [{\"automargin\": true, \"type\": \"pie\"}], \"scatter\": [{\"marker\": {\"colorbar\": {\"outlinewidth\": 0, \"ticks\": \"\"}}, \"type\": \"scatter\"}], \"scatter3d\": [{\"line\": {\"colorbar\": {\"outlinewidth\": 0, \"ticks\": \"\"}}, \"marker\": {\"colorbar\": {\"outlinewidth\": 0, \"ticks\": \"\"}}, \"type\": \"scatter3d\"}], \"scattercarpet\": [{\"marker\": {\"colorbar\": {\"outlinewidth\": 0, \"ticks\": \"\"}}, \"type\": \"scattercarpet\"}], \"scattergeo\": [{\"marker\": {\"colorbar\": {\"outlinewidth\": 0, \"ticks\": \"\"}}, \"type\": \"scattergeo\"}], \"scattergl\": [{\"marker\": {\"colorbar\": {\"outlinewidth\": 0, \"ticks\": \"\"}}, \"type\": \"scattergl\"}], \"scattermapbox\": [{\"marker\": {\"colorbar\": {\"outlinewidth\": 0, \"ticks\": \"\"}}, \"type\": \"scattermapbox\"}], \"scatterpolar\": [{\"marker\": {\"colorbar\": {\"outlinewidth\": 0, \"ticks\": \"\"}}, \"type\": \"scatterpolar\"}], \"scatterpolargl\": [{\"marker\": {\"colorbar\": {\"outlinewidth\": 0, \"ticks\": \"\"}}, \"type\": \"scatterpolargl\"}], \"scatterternary\": [{\"marker\": {\"colorbar\": {\"outlinewidth\": 0, \"ticks\": \"\"}}, \"type\": \"scatterternary\"}], \"surface\": [{\"colorbar\": {\"outlinewidth\": 0, \"ticks\": \"\"}, \"colorscale\": [[0.0, \"#0d0887\"], [0.1111111111111111, \"#46039f\"], [0.2222222222222222, \"#7201a8\"], [0.3333333333333333, \"#9c179e\"], [0.4444444444444444, \"#bd3786\"], [0.5555555555555556, \"#d8576b\"], [0.6666666666666666, \"#ed7953\"], [0.7777777777777778, \"#fb9f3a\"], [0.8888888888888888, \"#fdca26\"], [1.0, \"#f0f921\"]], \"type\": \"surface\"}], \"table\": [{\"cells\": {\"fill\": {\"color\": \"#EBF0F8\"}, \"line\": {\"color\": \"white\"}}, \"header\": {\"fill\": {\"color\": \"#C8D4E3\"}, \"line\": {\"color\": \"white\"}}, \"type\": \"table\"}]}, \"layout\": {\"annotationdefaults\": {\"arrowcolor\": \"#2a3f5f\", \"arrowhead\": 0, \"arrowwidth\": 1}, \"autotypenumbers\": \"strict\", \"coloraxis\": {\"colorbar\": {\"outlinewidth\": 0, \"ticks\": \"\"}}, \"colorscale\": {\"diverging\": [[0, \"#8e0152\"], [0.1, \"#c51b7d\"], [0.2, \"#de77ae\"], [0.3, \"#f1b6da\"], [0.4, \"#fde0ef\"], [0.5, \"#f7f7f7\"], [0.6, \"#e6f5d0\"], [0.7, \"#b8e186\"], [0.8, \"#7fbc41\"], [0.9, \"#4d9221\"], [1, \"#276419\"]], \"sequential\": [[0.0, \"#0d0887\"], [0.1111111111111111, \"#46039f\"], [0.2222222222222222, \"#7201a8\"], [0.3333333333333333, \"#9c179e\"], [0.4444444444444444, \"#bd3786\"], [0.5555555555555556, \"#d8576b\"], [0.6666666666666666, \"#ed7953\"], [0.7777777777777778, \"#fb9f3a\"], [0.8888888888888888, \"#fdca26\"], [1.0, \"#f0f921\"]], \"sequentialminus\": [[0.0, \"#0d0887\"], [0.1111111111111111, \"#46039f\"], [0.2222222222222222, \"#7201a8\"], [0.3333333333333333, \"#9c179e\"], [0.4444444444444444, \"#bd3786\"], [0.5555555555555556, \"#d8576b\"], [0.6666666666666666, \"#ed7953\"], [0.7777777777777778, \"#fb9f3a\"], [0.8888888888888888, \"#fdca26\"], [1.0, \"#f0f921\"]]}, \"colorway\": [\"#636efa\", \"#EF553B\", \"#00cc96\", \"#ab63fa\", \"#FFA15A\", \"#19d3f3\", \"#FF6692\", \"#B6E880\", \"#FF97FF\", \"#FECB52\"], \"font\": {\"color\": \"#2a3f5f\"}, \"geo\": {\"bgcolor\": \"white\", \"lakecolor\": \"white\", \"landcolor\": \"#E5ECF6\", \"showlakes\": true, \"showland\": true, \"subunitcolor\": \"white\"}, \"hoverlabel\": {\"align\": \"left\"}, \"hovermode\": \"closest\", \"mapbox\": {\"style\": \"light\"}, \"paper_bgcolor\": \"white\", \"plot_bgcolor\": \"#E5ECF6\", \"polar\": {\"angularaxis\": {\"gridcolor\": \"white\", \"linecolor\": \"white\", \"ticks\": \"\"}, \"bgcolor\": \"#E5ECF6\", \"radialaxis\": {\"gridcolor\": \"white\", \"linecolor\": \"white\", \"ticks\": \"\"}}, \"scene\": {\"xaxis\": {\"backgroundcolor\": \"#E5ECF6\", \"gridcolor\": \"white\", \"gridwidth\": 2, \"linecolor\": \"white\", \"showbackground\": true, \"ticks\": \"\", \"zerolinecolor\": \"white\"}, \"yaxis\": {\"backgroundcolor\": \"#E5ECF6\", \"gridcolor\": \"white\", \"gridwidth\": 2, \"linecolor\": \"white\", \"showbackground\": true, \"ticks\": \"\", \"zerolinecolor\": \"white\"}, \"zaxis\": {\"backgroundcolor\": \"#E5ECF6\", \"gridcolor\": \"white\", \"gridwidth\": 2, \"linecolor\": \"white\", \"showbackground\": true, \"ticks\": \"\", \"zerolinecolor\": \"white\"}}, \"shapedefaults\": {\"line\": {\"color\": \"#2a3f5f\"}}, \"ternary\": {\"aaxis\": {\"gridcolor\": \"white\", \"linecolor\": \"white\", \"ticks\": \"\"}, \"baxis\": {\"gridcolor\": \"white\", \"linecolor\": \"white\", \"ticks\": \"\"}, \"bgcolor\": \"#E5ECF6\", \"caxis\": {\"gridcolor\": \"white\", \"linecolor\": \"white\", \"ticks\": \"\"}}, \"title\": {\"x\": 0.05}, \"xaxis\": {\"automargin\": true, \"gridcolor\": \"white\", \"linecolor\": \"white\", \"ticks\": \"\", \"title\": {\"standoff\": 15}, \"zerolinecolor\": \"white\", \"zerolinewidth\": 2}, \"yaxis\": {\"automargin\": true, \"gridcolor\": \"white\", \"linecolor\": \"white\", \"ticks\": \"\", \"title\": {\"standoff\": 15}, \"zerolinecolor\": \"white\", \"zerolinewidth\": 2}}}, \"title\": {\"font\": {\"color\": \"#4D5663\"}}, \"xaxis\": {\"gridcolor\": \"#E1E5ED\", \"showgrid\": true, \"tickfont\": {\"color\": \"#4D5663\"}, \"title\": {\"font\": {\"color\": \"#4D5663\"}, \"text\": \"\"}, \"zerolinecolor\": \"#E1E5ED\"}, \"yaxis\": {\"gridcolor\": \"#E1E5ED\", \"showgrid\": true, \"tickfont\": {\"color\": \"#4D5663\"}, \"title\": {\"font\": {\"color\": \"#4D5663\"}, \"text\": \"\"}, \"zerolinecolor\": \"#E1E5ED\"}},                        {\"showLink\": true, \"linkText\": \"Export to plot.ly\", \"plotlyServerURL\": \"https://plot.ly\", \"responsive\": true}                    ).then(function(){\n",
       "                            \n",
       "var gd = document.getElementById('d0cecb29-a2e8-4707-a81c-d59a0e9ea76b');\n",
       "var x = new MutationObserver(function (mutations, observer) {{\n",
       "        var display = window.getComputedStyle(gd).display;\n",
       "        if (!display || display === 'none') {{\n",
       "            console.log([gd, 'removed!']);\n",
       "            Plotly.purge(gd);\n",
       "            observer.disconnect();\n",
       "        }}\n",
       "}});\n",
       "\n",
       "// Listen for the removal of the full notebook cells\n",
       "var notebookContainer = gd.closest('#notebook-container');\n",
       "if (notebookContainer) {{\n",
       "    x.observe(notebookContainer, {childList: true});\n",
       "}}\n",
       "\n",
       "// Listen for the clearing of the current output cell\n",
       "var outputEl = gd.closest('.output');\n",
       "if (outputEl) {{\n",
       "    x.observe(outputEl, {childList: true});\n",
       "}}\n",
       "\n",
       "                        })                };                });            </script>        </div>"
      ]
     },
     "metadata": {},
     "output_type": "display_data"
    }
   ],
   "source": [
    "df.iplot(kind='box')"
   ]
  },
  {
   "cell_type": "code",
   "execution_count": 20,
   "metadata": {},
   "outputs": [
    {
     "data": {
      "text/html": [
       "<div>\n",
       "<style scoped>\n",
       "    .dataframe tbody tr th:only-of-type {\n",
       "        vertical-align: middle;\n",
       "    }\n",
       "\n",
       "    .dataframe tbody tr th {\n",
       "        vertical-align: top;\n",
       "    }\n",
       "\n",
       "    .dataframe thead th {\n",
       "        text-align: right;\n",
       "    }\n",
       "</style>\n",
       "<table border=\"1\" class=\"dataframe\">\n",
       "  <thead>\n",
       "    <tr style=\"text-align: right;\">\n",
       "      <th></th>\n",
       "      <th>x</th>\n",
       "      <th>y</th>\n",
       "      <th>z</th>\n",
       "    </tr>\n",
       "  </thead>\n",
       "  <tbody>\n",
       "    <tr>\n",
       "      <th>0</th>\n",
       "      <td>1</td>\n",
       "      <td>10</td>\n",
       "      <td>5</td>\n",
       "    </tr>\n",
       "    <tr>\n",
       "      <th>1</th>\n",
       "      <td>2</td>\n",
       "      <td>20</td>\n",
       "      <td>4</td>\n",
       "    </tr>\n",
       "    <tr>\n",
       "      <th>2</th>\n",
       "      <td>3</td>\n",
       "      <td>30</td>\n",
       "      <td>3</td>\n",
       "    </tr>\n",
       "    <tr>\n",
       "      <th>3</th>\n",
       "      <td>4</td>\n",
       "      <td>20</td>\n",
       "      <td>2</td>\n",
       "    </tr>\n",
       "    <tr>\n",
       "      <th>4</th>\n",
       "      <td>5</td>\n",
       "      <td>10</td>\n",
       "      <td>1</td>\n",
       "    </tr>\n",
       "  </tbody>\n",
       "</table>\n",
       "</div>"
      ],
      "text/plain": [
       "   x   y  z\n",
       "0  1  10  5\n",
       "1  2  20  4\n",
       "2  3  30  3\n",
       "3  4  20  2\n",
       "4  5  10  1"
      ]
     },
     "execution_count": 20,
     "metadata": {},
     "output_type": "execute_result"
    }
   ],
   "source": [
    "df3 = pd.DataFrame({'x':[1, 2, 3, 4, 5], 'y':[10, 20, 30, 20, 10], 'z':[5, 4, 3, 2, 1]})\n",
    "df3"
   ]
  },
  {
   "cell_type": "code",
   "execution_count": 21,
   "metadata": {},
   "outputs": [
    {
     "data": {
      "application/vnd.plotly.v1+json": {
       "config": {
        "linkText": "Export to plot.ly",
        "plotlyServerURL": "https://plot.ly",
        "showLink": true
       },
       "data": [
        {
         "colorscale": [
          [
           0,
           "rgb(255, 153, 51)"
          ],
          [
           0.1111111111111111,
           "rgb(55, 128, 191)"
          ],
          [
           0.2222222222222222,
           "rgb(50, 171, 96)"
          ],
          [
           0.3333333333333333,
           "rgb(128, 0, 128)"
          ],
          [
           0.4444444444444444,
           "rgb(219, 64, 82)"
          ],
          [
           0.5555555555555556,
           "rgb(0, 128, 128)"
          ],
          [
           0.6666666666666666,
           "rgb(255, 255, 51)"
          ],
          [
           0.7777777777777778,
           "rgb(128, 128, 0)"
          ],
          [
           0.8888888888888888,
           "rgb(251, 128, 114)"
          ],
          [
           1,
           "rgb(128, 177, 211)"
          ]
         ],
         "type": "surface",
         "x": [
          0,
          1,
          2,
          3,
          4
         ],
         "y": [
          "x",
          "y",
          "z"
         ],
         "z": [
          [
           1,
           2,
           3,
           4,
           5
          ],
          [
           10,
           20,
           30,
           20,
           10
          ],
          [
           5,
           4,
           3,
           2,
           1
          ]
         ]
        }
       ],
       "layout": {
        "legend": {
         "bgcolor": "#F5F6F9",
         "font": {
          "color": "#4D5663"
         }
        },
        "paper_bgcolor": "#F5F6F9",
        "plot_bgcolor": "#F5F6F9",
        "template": {
         "data": {
          "bar": [
           {
            "error_x": {
             "color": "#2a3f5f"
            },
            "error_y": {
             "color": "#2a3f5f"
            },
            "marker": {
             "line": {
              "color": "#E5ECF6",
              "width": 0.5
             }
            },
            "type": "bar"
           }
          ],
          "barpolar": [
           {
            "marker": {
             "line": {
              "color": "#E5ECF6",
              "width": 0.5
             }
            },
            "type": "barpolar"
           }
          ],
          "carpet": [
           {
            "aaxis": {
             "endlinecolor": "#2a3f5f",
             "gridcolor": "white",
             "linecolor": "white",
             "minorgridcolor": "white",
             "startlinecolor": "#2a3f5f"
            },
            "baxis": {
             "endlinecolor": "#2a3f5f",
             "gridcolor": "white",
             "linecolor": "white",
             "minorgridcolor": "white",
             "startlinecolor": "#2a3f5f"
            },
            "type": "carpet"
           }
          ],
          "choropleth": [
           {
            "colorbar": {
             "outlinewidth": 0,
             "ticks": ""
            },
            "type": "choropleth"
           }
          ],
          "contour": [
           {
            "colorbar": {
             "outlinewidth": 0,
             "ticks": ""
            },
            "colorscale": [
             [
              0,
              "#0d0887"
             ],
             [
              0.1111111111111111,
              "#46039f"
             ],
             [
              0.2222222222222222,
              "#7201a8"
             ],
             [
              0.3333333333333333,
              "#9c179e"
             ],
             [
              0.4444444444444444,
              "#bd3786"
             ],
             [
              0.5555555555555556,
              "#d8576b"
             ],
             [
              0.6666666666666666,
              "#ed7953"
             ],
             [
              0.7777777777777778,
              "#fb9f3a"
             ],
             [
              0.8888888888888888,
              "#fdca26"
             ],
             [
              1,
              "#f0f921"
             ]
            ],
            "type": "contour"
           }
          ],
          "contourcarpet": [
           {
            "colorbar": {
             "outlinewidth": 0,
             "ticks": ""
            },
            "type": "contourcarpet"
           }
          ],
          "heatmap": [
           {
            "colorbar": {
             "outlinewidth": 0,
             "ticks": ""
            },
            "colorscale": [
             [
              0,
              "#0d0887"
             ],
             [
              0.1111111111111111,
              "#46039f"
             ],
             [
              0.2222222222222222,
              "#7201a8"
             ],
             [
              0.3333333333333333,
              "#9c179e"
             ],
             [
              0.4444444444444444,
              "#bd3786"
             ],
             [
              0.5555555555555556,
              "#d8576b"
             ],
             [
              0.6666666666666666,
              "#ed7953"
             ],
             [
              0.7777777777777778,
              "#fb9f3a"
             ],
             [
              0.8888888888888888,
              "#fdca26"
             ],
             [
              1,
              "#f0f921"
             ]
            ],
            "type": "heatmap"
           }
          ],
          "heatmapgl": [
           {
            "colorbar": {
             "outlinewidth": 0,
             "ticks": ""
            },
            "colorscale": [
             [
              0,
              "#0d0887"
             ],
             [
              0.1111111111111111,
              "#46039f"
             ],
             [
              0.2222222222222222,
              "#7201a8"
             ],
             [
              0.3333333333333333,
              "#9c179e"
             ],
             [
              0.4444444444444444,
              "#bd3786"
             ],
             [
              0.5555555555555556,
              "#d8576b"
             ],
             [
              0.6666666666666666,
              "#ed7953"
             ],
             [
              0.7777777777777778,
              "#fb9f3a"
             ],
             [
              0.8888888888888888,
              "#fdca26"
             ],
             [
              1,
              "#f0f921"
             ]
            ],
            "type": "heatmapgl"
           }
          ],
          "histogram": [
           {
            "marker": {
             "colorbar": {
              "outlinewidth": 0,
              "ticks": ""
             }
            },
            "type": "histogram"
           }
          ],
          "histogram2d": [
           {
            "colorbar": {
             "outlinewidth": 0,
             "ticks": ""
            },
            "colorscale": [
             [
              0,
              "#0d0887"
             ],
             [
              0.1111111111111111,
              "#46039f"
             ],
             [
              0.2222222222222222,
              "#7201a8"
             ],
             [
              0.3333333333333333,
              "#9c179e"
             ],
             [
              0.4444444444444444,
              "#bd3786"
             ],
             [
              0.5555555555555556,
              "#d8576b"
             ],
             [
              0.6666666666666666,
              "#ed7953"
             ],
             [
              0.7777777777777778,
              "#fb9f3a"
             ],
             [
              0.8888888888888888,
              "#fdca26"
             ],
             [
              1,
              "#f0f921"
             ]
            ],
            "type": "histogram2d"
           }
          ],
          "histogram2dcontour": [
           {
            "colorbar": {
             "outlinewidth": 0,
             "ticks": ""
            },
            "colorscale": [
             [
              0,
              "#0d0887"
             ],
             [
              0.1111111111111111,
              "#46039f"
             ],
             [
              0.2222222222222222,
              "#7201a8"
             ],
             [
              0.3333333333333333,
              "#9c179e"
             ],
             [
              0.4444444444444444,
              "#bd3786"
             ],
             [
              0.5555555555555556,
              "#d8576b"
             ],
             [
              0.6666666666666666,
              "#ed7953"
             ],
             [
              0.7777777777777778,
              "#fb9f3a"
             ],
             [
              0.8888888888888888,
              "#fdca26"
             ],
             [
              1,
              "#f0f921"
             ]
            ],
            "type": "histogram2dcontour"
           }
          ],
          "mesh3d": [
           {
            "colorbar": {
             "outlinewidth": 0,
             "ticks": ""
            },
            "type": "mesh3d"
           }
          ],
          "parcoords": [
           {
            "line": {
             "colorbar": {
              "outlinewidth": 0,
              "ticks": ""
             }
            },
            "type": "parcoords"
           }
          ],
          "pie": [
           {
            "automargin": true,
            "type": "pie"
           }
          ],
          "scatter": [
           {
            "marker": {
             "colorbar": {
              "outlinewidth": 0,
              "ticks": ""
             }
            },
            "type": "scatter"
           }
          ],
          "scatter3d": [
           {
            "line": {
             "colorbar": {
              "outlinewidth": 0,
              "ticks": ""
             }
            },
            "marker": {
             "colorbar": {
              "outlinewidth": 0,
              "ticks": ""
             }
            },
            "type": "scatter3d"
           }
          ],
          "scattercarpet": [
           {
            "marker": {
             "colorbar": {
              "outlinewidth": 0,
              "ticks": ""
             }
            },
            "type": "scattercarpet"
           }
          ],
          "scattergeo": [
           {
            "marker": {
             "colorbar": {
              "outlinewidth": 0,
              "ticks": ""
             }
            },
            "type": "scattergeo"
           }
          ],
          "scattergl": [
           {
            "marker": {
             "colorbar": {
              "outlinewidth": 0,
              "ticks": ""
             }
            },
            "type": "scattergl"
           }
          ],
          "scattermapbox": [
           {
            "marker": {
             "colorbar": {
              "outlinewidth": 0,
              "ticks": ""
             }
            },
            "type": "scattermapbox"
           }
          ],
          "scatterpolar": [
           {
            "marker": {
             "colorbar": {
              "outlinewidth": 0,
              "ticks": ""
             }
            },
            "type": "scatterpolar"
           }
          ],
          "scatterpolargl": [
           {
            "marker": {
             "colorbar": {
              "outlinewidth": 0,
              "ticks": ""
             }
            },
            "type": "scatterpolargl"
           }
          ],
          "scatterternary": [
           {
            "marker": {
             "colorbar": {
              "outlinewidth": 0,
              "ticks": ""
             }
            },
            "type": "scatterternary"
           }
          ],
          "surface": [
           {
            "colorbar": {
             "outlinewidth": 0,
             "ticks": ""
            },
            "colorscale": [
             [
              0,
              "#0d0887"
             ],
             [
              0.1111111111111111,
              "#46039f"
             ],
             [
              0.2222222222222222,
              "#7201a8"
             ],
             [
              0.3333333333333333,
              "#9c179e"
             ],
             [
              0.4444444444444444,
              "#bd3786"
             ],
             [
              0.5555555555555556,
              "#d8576b"
             ],
             [
              0.6666666666666666,
              "#ed7953"
             ],
             [
              0.7777777777777778,
              "#fb9f3a"
             ],
             [
              0.8888888888888888,
              "#fdca26"
             ],
             [
              1,
              "#f0f921"
             ]
            ],
            "type": "surface"
           }
          ],
          "table": [
           {
            "cells": {
             "fill": {
              "color": "#EBF0F8"
             },
             "line": {
              "color": "white"
             }
            },
            "header": {
             "fill": {
              "color": "#C8D4E3"
             },
             "line": {
              "color": "white"
             }
            },
            "type": "table"
           }
          ]
         },
         "layout": {
          "annotationdefaults": {
           "arrowcolor": "#2a3f5f",
           "arrowhead": 0,
           "arrowwidth": 1
          },
          "autotypenumbers": "strict",
          "coloraxis": {
           "colorbar": {
            "outlinewidth": 0,
            "ticks": ""
           }
          },
          "colorscale": {
           "diverging": [
            [
             0,
             "#8e0152"
            ],
            [
             0.1,
             "#c51b7d"
            ],
            [
             0.2,
             "#de77ae"
            ],
            [
             0.3,
             "#f1b6da"
            ],
            [
             0.4,
             "#fde0ef"
            ],
            [
             0.5,
             "#f7f7f7"
            ],
            [
             0.6,
             "#e6f5d0"
            ],
            [
             0.7,
             "#b8e186"
            ],
            [
             0.8,
             "#7fbc41"
            ],
            [
             0.9,
             "#4d9221"
            ],
            [
             1,
             "#276419"
            ]
           ],
           "sequential": [
            [
             0,
             "#0d0887"
            ],
            [
             0.1111111111111111,
             "#46039f"
            ],
            [
             0.2222222222222222,
             "#7201a8"
            ],
            [
             0.3333333333333333,
             "#9c179e"
            ],
            [
             0.4444444444444444,
             "#bd3786"
            ],
            [
             0.5555555555555556,
             "#d8576b"
            ],
            [
             0.6666666666666666,
             "#ed7953"
            ],
            [
             0.7777777777777778,
             "#fb9f3a"
            ],
            [
             0.8888888888888888,
             "#fdca26"
            ],
            [
             1,
             "#f0f921"
            ]
           ],
           "sequentialminus": [
            [
             0,
             "#0d0887"
            ],
            [
             0.1111111111111111,
             "#46039f"
            ],
            [
             0.2222222222222222,
             "#7201a8"
            ],
            [
             0.3333333333333333,
             "#9c179e"
            ],
            [
             0.4444444444444444,
             "#bd3786"
            ],
            [
             0.5555555555555556,
             "#d8576b"
            ],
            [
             0.6666666666666666,
             "#ed7953"
            ],
            [
             0.7777777777777778,
             "#fb9f3a"
            ],
            [
             0.8888888888888888,
             "#fdca26"
            ],
            [
             1,
             "#f0f921"
            ]
           ]
          },
          "colorway": [
           "#636efa",
           "#EF553B",
           "#00cc96",
           "#ab63fa",
           "#FFA15A",
           "#19d3f3",
           "#FF6692",
           "#B6E880",
           "#FF97FF",
           "#FECB52"
          ],
          "font": {
           "color": "#2a3f5f"
          },
          "geo": {
           "bgcolor": "white",
           "lakecolor": "white",
           "landcolor": "#E5ECF6",
           "showlakes": true,
           "showland": true,
           "subunitcolor": "white"
          },
          "hoverlabel": {
           "align": "left"
          },
          "hovermode": "closest",
          "mapbox": {
           "style": "light"
          },
          "paper_bgcolor": "white",
          "plot_bgcolor": "#E5ECF6",
          "polar": {
           "angularaxis": {
            "gridcolor": "white",
            "linecolor": "white",
            "ticks": ""
           },
           "bgcolor": "#E5ECF6",
           "radialaxis": {
            "gridcolor": "white",
            "linecolor": "white",
            "ticks": ""
           }
          },
          "scene": {
           "xaxis": {
            "backgroundcolor": "#E5ECF6",
            "gridcolor": "white",
            "gridwidth": 2,
            "linecolor": "white",
            "showbackground": true,
            "ticks": "",
            "zerolinecolor": "white"
           },
           "yaxis": {
            "backgroundcolor": "#E5ECF6",
            "gridcolor": "white",
            "gridwidth": 2,
            "linecolor": "white",
            "showbackground": true,
            "ticks": "",
            "zerolinecolor": "white"
           },
           "zaxis": {
            "backgroundcolor": "#E5ECF6",
            "gridcolor": "white",
            "gridwidth": 2,
            "linecolor": "white",
            "showbackground": true,
            "ticks": "",
            "zerolinecolor": "white"
           }
          },
          "shapedefaults": {
           "line": {
            "color": "#2a3f5f"
           }
          },
          "ternary": {
           "aaxis": {
            "gridcolor": "white",
            "linecolor": "white",
            "ticks": ""
           },
           "baxis": {
            "gridcolor": "white",
            "linecolor": "white",
            "ticks": ""
           },
           "bgcolor": "#E5ECF6",
           "caxis": {
            "gridcolor": "white",
            "linecolor": "white",
            "ticks": ""
           }
          },
          "title": {
           "x": 0.05
          },
          "xaxis": {
           "automargin": true,
           "gridcolor": "white",
           "linecolor": "white",
           "ticks": "",
           "title": {
            "standoff": 15
           },
           "zerolinecolor": "white",
           "zerolinewidth": 2
          },
          "yaxis": {
           "automargin": true,
           "gridcolor": "white",
           "linecolor": "white",
           "ticks": "",
           "title": {
            "standoff": 15
           },
           "zerolinecolor": "white",
           "zerolinewidth": 2
          }
         }
        },
        "title": {
         "font": {
          "color": "#4D5663"
         }
        },
        "xaxis": {
         "gridcolor": "#E1E5ED",
         "showgrid": true,
         "tickfont": {
          "color": "#4D5663"
         },
         "title": {
          "font": {
           "color": "#4D5663"
          },
          "text": ""
         },
         "zerolinecolor": "#E1E5ED"
        },
        "yaxis": {
         "gridcolor": "#E1E5ED",
         "showgrid": true,
         "tickfont": {
          "color": "#4D5663"
         },
         "title": {
          "font": {
           "color": "#4D5663"
          },
          "text": ""
         },
         "zerolinecolor": "#E1E5ED"
        }
       }
      },
      "text/html": [
       "<div>                            <div id=\"3f05d101-c0fa-425c-9b3c-36d47fdd2185\" class=\"plotly-graph-div\" style=\"height:525px; width:100%;\"></div>            <script type=\"text/javascript\">                require([\"plotly\"], function(Plotly) {                    window.PLOTLYENV=window.PLOTLYENV || {};\n",
       "                    window.PLOTLYENV.BASE_URL='https://plot.ly';                                    if (document.getElementById(\"3f05d101-c0fa-425c-9b3c-36d47fdd2185\")) {                    Plotly.newPlot(                        \"3f05d101-c0fa-425c-9b3c-36d47fdd2185\",                        [{\"colorscale\": [[0.0, \"rgb(255, 153, 51)\"], [0.1111111111111111, \"rgb(55, 128, 191)\"], [0.2222222222222222, \"rgb(50, 171, 96)\"], [0.3333333333333333, \"rgb(128, 0, 128)\"], [0.4444444444444444, \"rgb(219, 64, 82)\"], [0.5555555555555556, \"rgb(0, 128, 128)\"], [0.6666666666666666, \"rgb(255, 255, 51)\"], [0.7777777777777778, \"rgb(128, 128, 0)\"], [0.8888888888888888, \"rgb(251, 128, 114)\"], [1.0, \"rgb(128, 177, 211)\"]], \"type\": \"surface\", \"x\": [0, 1, 2, 3, 4], \"y\": [\"x\", \"y\", \"z\"], \"z\": [[1, 2, 3, 4, 5], [10, 20, 30, 20, 10], [5, 4, 3, 2, 1]]}],                        {\"legend\": {\"bgcolor\": \"#F5F6F9\", \"font\": {\"color\": \"#4D5663\"}}, \"paper_bgcolor\": \"#F5F6F9\", \"plot_bgcolor\": \"#F5F6F9\", \"template\": {\"data\": {\"bar\": [{\"error_x\": {\"color\": \"#2a3f5f\"}, \"error_y\": {\"color\": \"#2a3f5f\"}, \"marker\": {\"line\": {\"color\": \"#E5ECF6\", \"width\": 0.5}}, \"type\": \"bar\"}], \"barpolar\": [{\"marker\": {\"line\": {\"color\": \"#E5ECF6\", \"width\": 0.5}}, \"type\": \"barpolar\"}], \"carpet\": [{\"aaxis\": {\"endlinecolor\": \"#2a3f5f\", \"gridcolor\": \"white\", \"linecolor\": \"white\", \"minorgridcolor\": \"white\", \"startlinecolor\": \"#2a3f5f\"}, \"baxis\": {\"endlinecolor\": \"#2a3f5f\", \"gridcolor\": \"white\", \"linecolor\": \"white\", \"minorgridcolor\": \"white\", \"startlinecolor\": \"#2a3f5f\"}, \"type\": \"carpet\"}], \"choropleth\": [{\"colorbar\": {\"outlinewidth\": 0, \"ticks\": \"\"}, \"type\": \"choropleth\"}], \"contour\": [{\"colorbar\": {\"outlinewidth\": 0, \"ticks\": \"\"}, \"colorscale\": [[0.0, \"#0d0887\"], [0.1111111111111111, \"#46039f\"], [0.2222222222222222, \"#7201a8\"], [0.3333333333333333, \"#9c179e\"], [0.4444444444444444, \"#bd3786\"], [0.5555555555555556, \"#d8576b\"], [0.6666666666666666, \"#ed7953\"], [0.7777777777777778, \"#fb9f3a\"], [0.8888888888888888, \"#fdca26\"], [1.0, \"#f0f921\"]], \"type\": \"contour\"}], \"contourcarpet\": [{\"colorbar\": {\"outlinewidth\": 0, \"ticks\": \"\"}, \"type\": \"contourcarpet\"}], \"heatmap\": [{\"colorbar\": {\"outlinewidth\": 0, \"ticks\": \"\"}, \"colorscale\": [[0.0, \"#0d0887\"], [0.1111111111111111, \"#46039f\"], [0.2222222222222222, \"#7201a8\"], [0.3333333333333333, \"#9c179e\"], [0.4444444444444444, \"#bd3786\"], [0.5555555555555556, \"#d8576b\"], [0.6666666666666666, \"#ed7953\"], [0.7777777777777778, \"#fb9f3a\"], [0.8888888888888888, \"#fdca26\"], [1.0, \"#f0f921\"]], \"type\": \"heatmap\"}], \"heatmapgl\": [{\"colorbar\": {\"outlinewidth\": 0, \"ticks\": \"\"}, \"colorscale\": [[0.0, \"#0d0887\"], [0.1111111111111111, \"#46039f\"], [0.2222222222222222, \"#7201a8\"], [0.3333333333333333, \"#9c179e\"], [0.4444444444444444, \"#bd3786\"], [0.5555555555555556, \"#d8576b\"], [0.6666666666666666, \"#ed7953\"], [0.7777777777777778, \"#fb9f3a\"], [0.8888888888888888, \"#fdca26\"], [1.0, \"#f0f921\"]], \"type\": \"heatmapgl\"}], \"histogram\": [{\"marker\": {\"colorbar\": {\"outlinewidth\": 0, \"ticks\": \"\"}}, \"type\": \"histogram\"}], \"histogram2d\": [{\"colorbar\": {\"outlinewidth\": 0, \"ticks\": \"\"}, \"colorscale\": [[0.0, \"#0d0887\"], [0.1111111111111111, \"#46039f\"], [0.2222222222222222, \"#7201a8\"], [0.3333333333333333, \"#9c179e\"], [0.4444444444444444, \"#bd3786\"], [0.5555555555555556, \"#d8576b\"], [0.6666666666666666, \"#ed7953\"], [0.7777777777777778, \"#fb9f3a\"], [0.8888888888888888, \"#fdca26\"], [1.0, \"#f0f921\"]], \"type\": \"histogram2d\"}], \"histogram2dcontour\": [{\"colorbar\": {\"outlinewidth\": 0, \"ticks\": \"\"}, \"colorscale\": [[0.0, \"#0d0887\"], [0.1111111111111111, \"#46039f\"], [0.2222222222222222, \"#7201a8\"], [0.3333333333333333, \"#9c179e\"], [0.4444444444444444, \"#bd3786\"], [0.5555555555555556, \"#d8576b\"], [0.6666666666666666, \"#ed7953\"], [0.7777777777777778, \"#fb9f3a\"], [0.8888888888888888, \"#fdca26\"], [1.0, \"#f0f921\"]], \"type\": \"histogram2dcontour\"}], \"mesh3d\": [{\"colorbar\": {\"outlinewidth\": 0, \"ticks\": \"\"}, \"type\": \"mesh3d\"}], \"parcoords\": [{\"line\": {\"colorbar\": {\"outlinewidth\": 0, \"ticks\": \"\"}}, \"type\": \"parcoords\"}], \"pie\": [{\"automargin\": true, \"type\": \"pie\"}], \"scatter\": [{\"marker\": {\"colorbar\": {\"outlinewidth\": 0, \"ticks\": \"\"}}, \"type\": \"scatter\"}], \"scatter3d\": [{\"line\": {\"colorbar\": {\"outlinewidth\": 0, \"ticks\": \"\"}}, \"marker\": {\"colorbar\": {\"outlinewidth\": 0, \"ticks\": \"\"}}, \"type\": \"scatter3d\"}], \"scattercarpet\": [{\"marker\": {\"colorbar\": {\"outlinewidth\": 0, \"ticks\": \"\"}}, \"type\": \"scattercarpet\"}], \"scattergeo\": [{\"marker\": {\"colorbar\": {\"outlinewidth\": 0, \"ticks\": \"\"}}, \"type\": \"scattergeo\"}], \"scattergl\": [{\"marker\": {\"colorbar\": {\"outlinewidth\": 0, \"ticks\": \"\"}}, \"type\": \"scattergl\"}], \"scattermapbox\": [{\"marker\": {\"colorbar\": {\"outlinewidth\": 0, \"ticks\": \"\"}}, \"type\": \"scattermapbox\"}], \"scatterpolar\": [{\"marker\": {\"colorbar\": {\"outlinewidth\": 0, \"ticks\": \"\"}}, \"type\": \"scatterpolar\"}], \"scatterpolargl\": [{\"marker\": {\"colorbar\": {\"outlinewidth\": 0, \"ticks\": \"\"}}, \"type\": \"scatterpolargl\"}], \"scatterternary\": [{\"marker\": {\"colorbar\": {\"outlinewidth\": 0, \"ticks\": \"\"}}, \"type\": \"scatterternary\"}], \"surface\": [{\"colorbar\": {\"outlinewidth\": 0, \"ticks\": \"\"}, \"colorscale\": [[0.0, \"#0d0887\"], [0.1111111111111111, \"#46039f\"], [0.2222222222222222, \"#7201a8\"], [0.3333333333333333, \"#9c179e\"], [0.4444444444444444, \"#bd3786\"], [0.5555555555555556, \"#d8576b\"], [0.6666666666666666, \"#ed7953\"], [0.7777777777777778, \"#fb9f3a\"], [0.8888888888888888, \"#fdca26\"], [1.0, \"#f0f921\"]], \"type\": \"surface\"}], \"table\": [{\"cells\": {\"fill\": {\"color\": \"#EBF0F8\"}, \"line\": {\"color\": \"white\"}}, \"header\": {\"fill\": {\"color\": \"#C8D4E3\"}, \"line\": {\"color\": \"white\"}}, \"type\": \"table\"}]}, \"layout\": {\"annotationdefaults\": {\"arrowcolor\": \"#2a3f5f\", \"arrowhead\": 0, \"arrowwidth\": 1}, \"autotypenumbers\": \"strict\", \"coloraxis\": {\"colorbar\": {\"outlinewidth\": 0, \"ticks\": \"\"}}, \"colorscale\": {\"diverging\": [[0, \"#8e0152\"], [0.1, \"#c51b7d\"], [0.2, \"#de77ae\"], [0.3, \"#f1b6da\"], [0.4, \"#fde0ef\"], [0.5, \"#f7f7f7\"], [0.6, \"#e6f5d0\"], [0.7, \"#b8e186\"], [0.8, \"#7fbc41\"], [0.9, \"#4d9221\"], [1, \"#276419\"]], \"sequential\": [[0.0, \"#0d0887\"], [0.1111111111111111, \"#46039f\"], [0.2222222222222222, \"#7201a8\"], [0.3333333333333333, \"#9c179e\"], [0.4444444444444444, \"#bd3786\"], [0.5555555555555556, \"#d8576b\"], [0.6666666666666666, \"#ed7953\"], [0.7777777777777778, \"#fb9f3a\"], [0.8888888888888888, \"#fdca26\"], [1.0, \"#f0f921\"]], \"sequentialminus\": [[0.0, \"#0d0887\"], [0.1111111111111111, \"#46039f\"], [0.2222222222222222, \"#7201a8\"], [0.3333333333333333, \"#9c179e\"], [0.4444444444444444, \"#bd3786\"], [0.5555555555555556, \"#d8576b\"], [0.6666666666666666, \"#ed7953\"], [0.7777777777777778, \"#fb9f3a\"], [0.8888888888888888, \"#fdca26\"], [1.0, \"#f0f921\"]]}, \"colorway\": [\"#636efa\", \"#EF553B\", \"#00cc96\", \"#ab63fa\", \"#FFA15A\", \"#19d3f3\", \"#FF6692\", \"#B6E880\", \"#FF97FF\", \"#FECB52\"], \"font\": {\"color\": \"#2a3f5f\"}, \"geo\": {\"bgcolor\": \"white\", \"lakecolor\": \"white\", \"landcolor\": \"#E5ECF6\", \"showlakes\": true, \"showland\": true, \"subunitcolor\": \"white\"}, \"hoverlabel\": {\"align\": \"left\"}, \"hovermode\": \"closest\", \"mapbox\": {\"style\": \"light\"}, \"paper_bgcolor\": \"white\", \"plot_bgcolor\": \"#E5ECF6\", \"polar\": {\"angularaxis\": {\"gridcolor\": \"white\", \"linecolor\": \"white\", \"ticks\": \"\"}, \"bgcolor\": \"#E5ECF6\", \"radialaxis\": {\"gridcolor\": \"white\", \"linecolor\": \"white\", \"ticks\": \"\"}}, \"scene\": {\"xaxis\": {\"backgroundcolor\": \"#E5ECF6\", \"gridcolor\": \"white\", \"gridwidth\": 2, \"linecolor\": \"white\", \"showbackground\": true, \"ticks\": \"\", \"zerolinecolor\": \"white\"}, \"yaxis\": {\"backgroundcolor\": \"#E5ECF6\", \"gridcolor\": \"white\", \"gridwidth\": 2, \"linecolor\": \"white\", \"showbackground\": true, \"ticks\": \"\", \"zerolinecolor\": \"white\"}, \"zaxis\": {\"backgroundcolor\": \"#E5ECF6\", \"gridcolor\": \"white\", \"gridwidth\": 2, \"linecolor\": \"white\", \"showbackground\": true, \"ticks\": \"\", \"zerolinecolor\": \"white\"}}, \"shapedefaults\": {\"line\": {\"color\": \"#2a3f5f\"}}, \"ternary\": {\"aaxis\": {\"gridcolor\": \"white\", \"linecolor\": \"white\", \"ticks\": \"\"}, \"baxis\": {\"gridcolor\": \"white\", \"linecolor\": \"white\", \"ticks\": \"\"}, \"bgcolor\": \"#E5ECF6\", \"caxis\": {\"gridcolor\": \"white\", \"linecolor\": \"white\", \"ticks\": \"\"}}, \"title\": {\"x\": 0.05}, \"xaxis\": {\"automargin\": true, \"gridcolor\": \"white\", \"linecolor\": \"white\", \"ticks\": \"\", \"title\": {\"standoff\": 15}, \"zerolinecolor\": \"white\", \"zerolinewidth\": 2}, \"yaxis\": {\"automargin\": true, \"gridcolor\": \"white\", \"linecolor\": \"white\", \"ticks\": \"\", \"title\": {\"standoff\": 15}, \"zerolinecolor\": \"white\", \"zerolinewidth\": 2}}}, \"title\": {\"font\": {\"color\": \"#4D5663\"}}, \"xaxis\": {\"gridcolor\": \"#E1E5ED\", \"showgrid\": true, \"tickfont\": {\"color\": \"#4D5663\"}, \"title\": {\"font\": {\"color\": \"#4D5663\"}, \"text\": \"\"}, \"zerolinecolor\": \"#E1E5ED\"}, \"yaxis\": {\"gridcolor\": \"#E1E5ED\", \"showgrid\": true, \"tickfont\": {\"color\": \"#4D5663\"}, \"title\": {\"font\": {\"color\": \"#4D5663\"}, \"text\": \"\"}, \"zerolinecolor\": \"#E1E5ED\"}},                        {\"showLink\": true, \"linkText\": \"Export to plot.ly\", \"plotlyServerURL\": \"https://plot.ly\", \"responsive\": true}                    ).then(function(){\n",
       "                            \n",
       "var gd = document.getElementById('3f05d101-c0fa-425c-9b3c-36d47fdd2185');\n",
       "var x = new MutationObserver(function (mutations, observer) {{\n",
       "        var display = window.getComputedStyle(gd).display;\n",
       "        if (!display || display === 'none') {{\n",
       "            console.log([gd, 'removed!']);\n",
       "            Plotly.purge(gd);\n",
       "            observer.disconnect();\n",
       "        }}\n",
       "}});\n",
       "\n",
       "// Listen for the removal of the full notebook cells\n",
       "var notebookContainer = gd.closest('#notebook-container');\n",
       "if (notebookContainer) {{\n",
       "    x.observe(notebookContainer, {childList: true});\n",
       "}}\n",
       "\n",
       "// Listen for the clearing of the current output cell\n",
       "var outputEl = gd.closest('.output');\n",
       "if (outputEl) {{\n",
       "    x.observe(outputEl, {childList: true});\n",
       "}}\n",
       "\n",
       "                        })                };                });            </script>        </div>"
      ]
     },
     "metadata": {},
     "output_type": "display_data"
    }
   ],
   "source": [
    "df3.iplot(kind='surface')"
   ]
  },
  {
   "cell_type": "code",
   "execution_count": 22,
   "metadata": {},
   "outputs": [
    {
     "data": {
      "text/plain": [
       "<AxesSubplot:ylabel='Frequency'>"
      ]
     },
     "execution_count": 22,
     "metadata": {},
     "output_type": "execute_result"
    },
    {
     "data": {
      "image/png": "[encoded data removed]",
      "text/plain": [
       "<Figure size 432x288 with 1 Axes>"
      ]
     },
     "metadata": {
      "needs_background": "light"
     },
     "output_type": "display_data"
    }
   ],
   "source": [
    "df['A'].plot(kind='hist')"
   ]
  },
  {
   "cell_type": "code",
   "execution_count": 24,
   "metadata": {},
   "outputs": [
    {
     "data": {
      "application/vnd.plotly.v1+json": {
       "config": {
        "linkText": "Export to plot.ly",
        "plotlyServerURL": "https://plot.ly",
        "showLink": true
       },
       "data": [
        {
         "histfunc": "count",
         "histnorm": "",
         "marker": {
          "color": "rgba(255, 153, 51, 1.0)",
          "line": {
           "color": "#4D5663",
           "width": 1.3
          }
         },
         "name": "A",
         "nbinsx": 30,
         "opacity": 0.8,
         "orientation": "v",
         "type": "histogram",
         "x": [
          -0.2531083250970203,
          0.44472867520184695,
          -0.6880739903817269,
          -0.32389688390050336,
          -0.21066679145064116,
          -0.7471305568135573,
          1.4644403155760901,
          -1.5390062758876004,
          -1.5425674761634856,
          0.1845770072180261,
          -1.04983457028772,
          2.958223043449747,
          0.19962163438520358,
          0.6809530686614672,
          0.14535502903675235,
          -0.7188442819492274,
          1.0125690660282616,
          0.05224314033522782,
          -1.8432338689264192,
          -0.3483895528924191,
          -0.3583306084919735,
          0.4761146454202297,
          -0.147129437965505,
          1.5220538503214163,
          -1.3273284502582012,
          0.16507303161167794,
          -0.0560374263769096,
          0.5784265198295464,
          -0.2740863346688317,
          2.143309560747731,
          0.1671101097738608,
          0.5490366739554574,
          0.013215510451084333,
          0.3940727215280942,
          -0.9521217551672523,
          -0.018722957509154415,
          1.43946284679207,
          0.5311864343840943,
          -0.9576730445124143,
          2.615701373800367,
          0.2969248462359406,
          -0.23254471608361083,
          0.02390791000105446,
          -0.5815987415883015,
          0.9797377817160473,
          0.3983322606335077,
          -0.6141282028185352,
          0.23784349161194623,
          -1.3199887141335402,
          0.6996938400462953,
          -0.2868779707094815,
          3.170323023876777,
          0.10997169936554678,
          1.3170088130777606,
          -2.658216644451961,
          -1.7510785196335596,
          0.2911423653054329,
          -0.3146626882337196,
          0.42671812938167997,
          -0.21623347798306392,
          1.3913338101835877,
          0.5186823638813134,
          0.4992351523475857,
          1.068339120041519,
          0.6850632859094586,
          -0.4906088150209769,
          -0.8859045960411523,
          0.3397388469656312,
          1.4342595849975506,
          0.09561282704554233,
          -1.2043279788958634,
          -0.5284463987481448,
          0.21111175740921415,
          0.6765630612537961,
          0.5447339666552157,
          1.9232009065877185,
          0.9311243971960865,
          -0.5857662928038426,
          0.1309340857065233,
          0.6307938743323313,
          -1.3313404549673353,
          0.6918609455835275,
          1.261217754803169,
          0.6246482895871643,
          0.7309726569960078,
          0.030697726306293666,
          -1.9848004838069544,
          -1.6463370700123259,
          1.2178820207045697,
          0.532948814095436,
          0.3317063505971597,
          0.2972599259821757,
          0.5219716784009186,
          -1.3582358763406823,
          -0.3475294045762002,
          0.5304741285949425,
          -0.7712291619711124,
          -0.8534484005792922,
          0.2469690148994338,
          -0.49158233930531514
         ]
        }
       ],
       "layout": {
        "barmode": "overlay",
        "legend": {
         "bgcolor": "#F5F6F9",
         "font": {
          "color": "#4D5663"
         }
        },
        "paper_bgcolor": "#F5F6F9",
        "plot_bgcolor": "#F5F6F9",
        "template": {
         "data": {
          "bar": [
           {
            "error_x": {
             "color": "#2a3f5f"
            },
            "error_y": {
             "color": "#2a3f5f"
            },
            "marker": {
             "line": {
              "color": "#E5ECF6",
              "width": 0.5
             }
            },
            "type": "bar"
           }
          ],
          "barpolar": [
           {
            "marker": {
             "line": {
              "color": "#E5ECF6",
              "width": 0.5
             }
            },
            "type": "barpolar"
           }
          ],
          "carpet": [
           {
            "aaxis": {
             "endlinecolor": "#2a3f5f",
             "gridcolor": "white",
             "linecolor": "white",
             "minorgridcolor": "white",
             "startlinecolor": "#2a3f5f"
            },
            "baxis": {
             "endlinecolor": "#2a3f5f",
             "gridcolor": "white",
             "linecolor": "white",
             "minorgridcolor": "white",
             "startlinecolor": "#2a3f5f"
            },
            "type": "carpet"
           }
          ],
          "choropleth": [
           {
            "colorbar": {
             "outlinewidth": 0,
             "ticks": ""
            },
            "type": "choropleth"
           }
          ],
          "contour": [
           {
            "colorbar": {
             "outlinewidth": 0,
             "ticks": ""
            },
            "colorscale": [
             [
              0,
              "#0d0887"
             ],
             [
              0.1111111111111111,
              "#46039f"
             ],
             [
              0.2222222222222222,
              "#7201a8"
             ],
             [
              0.3333333333333333,
              "#9c179e"
             ],
             [
              0.4444444444444444,
              "#bd3786"
             ],
             [
              0.5555555555555556,
              "#d8576b"
             ],
             [
              0.6666666666666666,
              "#ed7953"
             ],
             [
              0.7777777777777778,
              "#fb9f3a"
             ],
             [
              0.8888888888888888,
              "#fdca26"
             ],
             [
              1,
              "#f0f921"
             ]
            ],
            "type": "contour"
           }
          ],
          "contourcarpet": [
           {
            "colorbar": {
             "outlinewidth": 0,
             "ticks": ""
            },
            "type": "contourcarpet"
           }
          ],
          "heatmap": [
           {
            "colorbar": {
             "outlinewidth": 0,
             "ticks": ""
            },
            "colorscale": [
             [
              0,
              "#0d0887"
             ],
             [
              0.1111111111111111,
              "#46039f"
             ],
             [
              0.2222222222222222,
              "#7201a8"
             ],
             [
              0.3333333333333333,
              "#9c179e"
             ],
             [
              0.4444444444444444,
              "#bd3786"
             ],
             [
              0.5555555555555556,
              "#d8576b"
             ],
             [
              0.6666666666666666,
              "#ed7953"
             ],
             [
              0.7777777777777778,
              "#fb9f3a"
             ],
             [
              0.8888888888888888,
              "#fdca26"
             ],
             [
              1,
              "#f0f921"
             ]
            ],
            "type": "heatmap"
           }
          ],
          "heatmapgl": [
           {
            "colorbar": {
             "outlinewidth": 0,
             "ticks": ""
            },
            "colorscale": [
             [
              0,
              "#0d0887"
             ],
             [
              0.1111111111111111,
              "#46039f"
             ],
             [
              0.2222222222222222,
              "#7201a8"
             ],
             [
              0.3333333333333333,
              "#9c179e"
             ],
             [
              0.4444444444444444,
              "#bd3786"
             ],
             [
              0.5555555555555556,
              "#d8576b"
             ],
             [
              0.6666666666666666,
              "#ed7953"
             ],
             [
              0.7777777777777778,
              "#fb9f3a"
             ],
             [
              0.8888888888888888,
              "#fdca26"
             ],
             [
              1,
              "#f0f921"
             ]
            ],
            "type": "heatmapgl"
           }
          ],
          "histogram": [
           {
            "marker": {
             "colorbar": {
              "outlinewidth": 0,
              "ticks": ""
             }
            },
            "type": "histogram"
           }
          ],
          "histogram2d": [
           {
            "colorbar": {
             "outlinewidth": 0,
             "ticks": ""
            },
            "colorscale": [
             [
              0,
              "#0d0887"
             ],
             [
              0.1111111111111111,
              "#46039f"
             ],
             [
              0.2222222222222222,
              "#7201a8"
             ],
             [
              0.3333333333333333,
              "#9c179e"
             ],
             [
              0.4444444444444444,
              "#bd3786"
             ],
             [
              0.5555555555555556,
              "#d8576b"
             ],
             [
              0.6666666666666666,
              "#ed7953"
             ],
             [
              0.7777777777777778,
              "#fb9f3a"
             ],
             [
              0.8888888888888888,
              "#fdca26"
             ],
             [
              1,
              "#f0f921"
             ]
            ],
            "type": "histogram2d"
           }
          ],
          "histogram2dcontour": [
           {
            "colorbar": {
             "outlinewidth": 0,
             "ticks": ""
            },
            "colorscale": [
             [
              0,
              "#0d0887"
             ],
             [
              0.1111111111111111,
              "#46039f"
             ],
             [
              0.2222222222222222,
              "#7201a8"
             ],
             [
              0.3333333333333333,
              "#9c179e"
             ],
             [
              0.4444444444444444,
              "#bd3786"
             ],
             [
              0.5555555555555556,
              "#d8576b"
             ],
             [
              0.6666666666666666,
              "#ed7953"
             ],
             [
              0.7777777777777778,
              "#fb9f3a"
             ],
             [
              0.8888888888888888,
              "#fdca26"
             ],
             [
              1,
              "#f0f921"
             ]
            ],
            "type": "histogram2dcontour"
           }
          ],
          "mesh3d": [
           {
            "colorbar": {
             "outlinewidth": 0,
             "ticks": ""
            },
            "type": "mesh3d"
           }
          ],
          "parcoords": [
           {
            "line": {
             "colorbar": {
              "outlinewidth": 0,
              "ticks": ""
             }
            },
            "type": "parcoords"
           }
          ],
          "pie": [
           {
            "automargin": true,
            "type": "pie"
           }
          ],
          "scatter": [
           {
            "marker": {
             "colorbar": {
              "outlinewidth": 0,
              "ticks": ""
             }
            },
            "type": "scatter"
           }
          ],
          "scatter3d": [
           {
            "line": {
             "colorbar": {
              "outlinewidth": 0,
              "ticks": ""
             }
            },
            "marker": {
             "colorbar": {
              "outlinewidth": 0,
              "ticks": ""
             }
            },
            "type": "scatter3d"
           }
          ],
          "scattercarpet": [
           {
            "marker": {
             "colorbar": {
              "outlinewidth": 0,
              "ticks": ""
             }
            },
            "type": "scattercarpet"
           }
          ],
          "scattergeo": [
           {
            "marker": {
             "colorbar": {
              "outlinewidth": 0,
              "ticks": ""
             }
            },
            "type": "scattergeo"
           }
          ],
          "scattergl": [
           {
            "marker": {
             "colorbar": {
              "outlinewidth": 0,
              "ticks": ""
             }
            },
            "type": "scattergl"
           }
          ],
          "scattermapbox": [
           {
            "marker": {
             "colorbar": {
              "outlinewidth": 0,
              "ticks": ""
             }
            },
            "type": "scattermapbox"
           }
          ],
          "scatterpolar": [
           {
            "marker": {
             "colorbar": {
              "outlinewidth": 0,
              "ticks": ""
             }
            },
            "type": "scatterpolar"
           }
          ],
          "scatterpolargl": [
           {
            "marker": {
             "colorbar": {
              "outlinewidth": 0,
              "ticks": ""
             }
            },
            "type": "scatterpolargl"
           }
          ],
          "scatterternary": [
           {
            "marker": {
             "colorbar": {
              "outlinewidth": 0,
              "ticks": ""
             }
            },
            "type": "scatterternary"
           }
          ],
          "surface": [
           {
            "colorbar": {
             "outlinewidth": 0,
             "ticks": ""
            },
            "colorscale": [
             [
              0,
              "#0d0887"
             ],
             [
              0.1111111111111111,
              "#46039f"
             ],
             [
              0.2222222222222222,
              "#7201a8"
             ],
             [
              0.3333333333333333,
              "#9c179e"
             ],
             [
              0.4444444444444444,
              "#bd3786"
             ],
             [
              0.5555555555555556,
              "#d8576b"
             ],
             [
              0.6666666666666666,
              "#ed7953"
             ],
             [
              0.7777777777777778,
              "#fb9f3a"
             ],
             [
              0.8888888888888888,
              "#fdca26"
             ],
             [
              1,
              "#f0f921"
             ]
            ],
            "type": "surface"
           }
          ],
          "table": [
           {
            "cells": {
             "fill": {
              "color": "#EBF0F8"
             },
             "line": {
              "color": "white"
             }
            },
            "header": {
             "fill": {
              "color": "#C8D4E3"
             },
             "line": {
              "color": "white"
             }
            },
            "type": "table"
           }
          ]
         },
         "layout": {
          "annotationdefaults": {
           "arrowcolor": "#2a3f5f",
           "arrowhead": 0,
           "arrowwidth": 1
          },
          "autotypenumbers": "strict",
          "coloraxis": {
           "colorbar": {
            "outlinewidth": 0,
            "ticks": ""
           }
          },
          "colorscale": {
           "diverging": [
            [
             0,
             "#8e0152"
            ],
            [
             0.1,
             "#c51b7d"
            ],
            [
             0.2,
             "#de77ae"
            ],
            [
             0.3,
             "#f1b6da"
            ],
            [
             0.4,
             "#fde0ef"
            ],
            [
             0.5,
             "#f7f7f7"
            ],
            [
             0.6,
             "#e6f5d0"
            ],
            [
             0.7,
             "#b8e186"
            ],
            [
             0.8,
             "#7fbc41"
            ],
            [
             0.9,
             "#4d9221"
            ],
            [
             1,
             "#276419"
            ]
           ],
           "sequential": [
            [
             0,
             "#0d0887"
            ],
            [
             0.1111111111111111,
             "#46039f"
            ],
            [
             0.2222222222222222,
             "#7201a8"
            ],
            [
             0.3333333333333333,
             "#9c179e"
            ],
            [
             0.4444444444444444,
             "#bd3786"
            ],
            [
             0.5555555555555556,
             "#d8576b"
            ],
            [
             0.6666666666666666,
             "#ed7953"
            ],
            [
             0.7777777777777778,
             "#fb9f3a"
            ],
            [
             0.8888888888888888,
             "#fdca26"
            ],
            [
             1,
             "#f0f921"
            ]
           ],
           "sequentialminus": [
            [
             0,
             "#0d0887"
            ],
            [
             0.1111111111111111,
             "#46039f"
            ],
            [
             0.2222222222222222,
             "#7201a8"
            ],
            [
             0.3333333333333333,
             "#9c179e"
            ],
            [
             0.4444444444444444,
             "#bd3786"
            ],
            [
             0.5555555555555556,
             "#d8576b"
            ],
            [
             0.6666666666666666,
             "#ed7953"
            ],
            [
             0.7777777777777778,
             "#fb9f3a"
            ],
            [
             0.8888888888888888,
             "#fdca26"
            ],
            [
             1,
             "#f0f921"
            ]
           ]
          },
          "colorway": [
           "#636efa",
           "#EF553B",
           "#00cc96",
           "#ab63fa",
           "#FFA15A",
           "#19d3f3",
           "#FF6692",
           "#B6E880",
           "#FF97FF",
           "#FECB52"
          ],
          "font": {
           "color": "#2a3f5f"
          },
          "geo": {
           "bgcolor": "white",
           "lakecolor": "white",
           "landcolor": "#E5ECF6",
           "showlakes": true,
           "showland": true,
           "subunitcolor": "white"
          },
          "hoverlabel": {
           "align": "left"
          },
          "hovermode": "closest",
          "mapbox": {
           "style": "light"
          },
          "paper_bgcolor": "white",
          "plot_bgcolor": "#E5ECF6",
          "polar": {
           "angularaxis": {
            "gridcolor": "white",
            "linecolor": "white",
            "ticks": ""
           },
           "bgcolor": "#E5ECF6",
           "radialaxis": {
            "gridcolor": "white",
            "linecolor": "white",
            "ticks": ""
           }
          },
          "scene": {
           "xaxis": {
            "backgroundcolor": "#E5ECF6",
            "gridcolor": "white",
            "gridwidth": 2,
            "linecolor": "white",
            "showbackground": true,
            "ticks": "",
            "zerolinecolor": "white"
           },
           "yaxis": {
            "backgroundcolor": "#E5ECF6",
            "gridcolor": "white",
            "gridwidth": 2,
            "linecolor": "white",
            "showbackground": true,
            "ticks": "",
            "zerolinecolor": "white"
           },
           "zaxis": {
            "backgroundcolor": "#E5ECF6",
            "gridcolor": "white",
            "gridwidth": 2,
            "linecolor": "white",
            "showbackground": true,
            "ticks": "",
            "zerolinecolor": "white"
           }
          },
          "shapedefaults": {
           "line": {
            "color": "#2a3f5f"
           }
          },
          "ternary": {
           "aaxis": {
            "gridcolor": "white",
            "linecolor": "white",
            "ticks": ""
           },
           "baxis": {
            "gridcolor": "white",
            "linecolor": "white",
            "ticks": ""
           },
           "bgcolor": "#E5ECF6",
           "caxis": {
            "gridcolor": "white",
            "linecolor": "white",
            "ticks": ""
           }
          },
          "title": {
           "x": 0.05
          },
          "xaxis": {
           "automargin": true,
           "gridcolor": "white",
           "linecolor": "white",
           "ticks": "",
           "title": {
            "standoff": 15
           },
           "zerolinecolor": "white",
           "zerolinewidth": 2
          },
          "yaxis": {
           "automargin": true,
           "gridcolor": "white",
           "linecolor": "white",
           "ticks": "",
           "title": {
            "standoff": 15
           },
           "zerolinecolor": "white",
           "zerolinewidth": 2
          }
         }
        },
        "title": {
         "font": {
          "color": "#4D5663"
         }
        },
        "xaxis": {
         "gridcolor": "#E1E5ED",
         "showgrid": true,
         "tickfont": {
          "color": "#4D5663"
         },
         "title": {
          "font": {
           "color": "#4D5663"
          },
          "text": ""
         },
         "zerolinecolor": "#E1E5ED"
        },
        "yaxis": {
         "gridcolor": "#E1E5ED",
         "showgrid": true,
         "tickfont": {
          "color": "#4D5663"
         },
         "title": {
          "font": {
           "color": "#4D5663"
          },
          "text": ""
         },
         "zerolinecolor": "#E1E5ED"
        }
       }
      },
      "text/html": [
       "<div>                            <div id=\"962d4cc0-ebdb-4351-aeae-71ec0ea3bcb6\" class=\"plotly-graph-div\" style=\"height:525px; width:100%;\"></div>            <script type=\"text/javascript\">                require([\"plotly\"], function(Plotly) {                    window.PLOTLYENV=window.PLOTLYENV || {};\n",
       "                    window.PLOTLYENV.BASE_URL='https://plot.ly';                                    if (document.getElementById(\"962d4cc0-ebdb-4351-aeae-71ec0ea3bcb6\")) {                    Plotly.newPlot(                        \"962d4cc0-ebdb-4351-aeae-71ec0ea3bcb6\",                        [{\"histfunc\": \"count\", \"histnorm\": \"\", \"marker\": {\"color\": \"rgba(255, 153, 51, 1.0)\", \"line\": {\"color\": \"#4D5663\", \"width\": 1.3}}, \"name\": \"A\", \"nbinsx\": 30, \"opacity\": 0.8, \"orientation\": \"v\", \"type\": \"histogram\", \"x\": [-0.2531083250970203, 0.44472867520184695, -0.6880739903817269, -0.32389688390050336, -0.21066679145064116, -0.7471305568135573, 1.4644403155760901, -1.5390062758876004, -1.5425674761634856, 0.1845770072180261, -1.04983457028772, 2.958223043449747, 0.19962163438520358, 0.6809530686614672, 0.14535502903675235, -0.7188442819492274, 1.0125690660282616, 0.05224314033522782, -1.8432338689264192, -0.3483895528924191, -0.3583306084919735, 0.4761146454202297, -0.147129437965505, 1.5220538503214163, -1.3273284502582012, 0.16507303161167794, -0.0560374263769096, 0.5784265198295464, -0.2740863346688317, 2.143309560747731, 0.1671101097738608, 0.5490366739554574, 0.013215510451084333, 0.3940727215280942, -0.9521217551672523, -0.018722957509154415, 1.43946284679207, 0.5311864343840943, -0.9576730445124143, 2.615701373800367, 0.2969248462359406, -0.23254471608361083, 0.02390791000105446, -0.5815987415883015, 0.9797377817160473, 0.3983322606335077, -0.6141282028185352, 0.23784349161194623, -1.3199887141335402, 0.6996938400462953, -0.2868779707094815, 3.170323023876777, 0.10997169936554678, 1.3170088130777606, -2.658216644451961, -1.7510785196335596, 0.2911423653054329, -0.3146626882337196, 0.42671812938167997, -0.21623347798306392, 1.3913338101835877, 0.5186823638813134, 0.4992351523475857, 1.068339120041519, 0.6850632859094586, -0.4906088150209769, -0.8859045960411523, 0.3397388469656312, 1.4342595849975506, 0.09561282704554233, -1.2043279788958634, -0.5284463987481448, 0.21111175740921415, 0.6765630612537961, 0.5447339666552157, 1.9232009065877185, 0.9311243971960865, -0.5857662928038426, 0.1309340857065233, 0.6307938743323313, -1.3313404549673353, 0.6918609455835275, 1.261217754803169, 0.6246482895871643, 0.7309726569960078, 0.030697726306293666, -1.9848004838069544, -1.6463370700123259, 1.2178820207045697, 0.532948814095436, 0.3317063505971597, 0.2972599259821757, 0.5219716784009186, -1.3582358763406823, -0.3475294045762002, 0.5304741285949425, -0.7712291619711124, -0.8534484005792922, 0.2469690148994338, -0.49158233930531514]}],                        {\"barmode\": \"overlay\", \"legend\": {\"bgcolor\": \"#F5F6F9\", \"font\": {\"color\": \"#4D5663\"}}, \"paper_bgcolor\": \"#F5F6F9\", \"plot_bgcolor\": \"#F5F6F9\", \"template\": {\"data\": {\"bar\": [{\"error_x\": {\"color\": \"#2a3f5f\"}, \"error_y\": {\"color\": \"#2a3f5f\"}, \"marker\": {\"line\": {\"color\": \"#E5ECF6\", \"width\": 0.5}}, \"type\": \"bar\"}], \"barpolar\": [{\"marker\": {\"line\": {\"color\": \"#E5ECF6\", \"width\": 0.5}}, \"type\": \"barpolar\"}], \"carpet\": [{\"aaxis\": {\"endlinecolor\": \"#2a3f5f\", \"gridcolor\": \"white\", \"linecolor\": \"white\", \"minorgridcolor\": \"white\", \"startlinecolor\": \"#2a3f5f\"}, \"baxis\": {\"endlinecolor\": \"#2a3f5f\", \"gridcolor\": \"white\", \"linecolor\": \"white\", \"minorgridcolor\": \"white\", \"startlinecolor\": \"#2a3f5f\"}, \"type\": \"carpet\"}], \"choropleth\": [{\"colorbar\": {\"outlinewidth\": 0, \"ticks\": \"\"}, \"type\": \"choropleth\"}], \"contour\": [{\"colorbar\": {\"outlinewidth\": 0, \"ticks\": \"\"}, \"colorscale\": [[0.0, \"#0d0887\"], [0.1111111111111111, \"#46039f\"], [0.2222222222222222, \"#7201a8\"], [0.3333333333333333, \"#9c179e\"], [0.4444444444444444, \"#bd3786\"], [0.5555555555555556, \"#d8576b\"], [0.6666666666666666, \"#ed7953\"], [0.7777777777777778, \"#fb9f3a\"], [0.8888888888888888, \"#fdca26\"], [1.0, \"#f0f921\"]], \"type\": \"contour\"}], \"contourcarpet\": [{\"colorbar\": {\"outlinewidth\": 0, \"ticks\": \"\"}, \"type\": \"contourcarpet\"}], \"heatmap\": [{\"colorbar\": {\"outlinewidth\": 0, \"ticks\": \"\"}, \"colorscale\": [[0.0, \"#0d0887\"], [0.1111111111111111, \"#46039f\"], [0.2222222222222222, \"#7201a8\"], [0.3333333333333333, \"#9c179e\"], [0.4444444444444444, \"#bd3786\"], [0.5555555555555556, \"#d8576b\"], [0.6666666666666666, \"#ed7953\"], [0.7777777777777778, \"#fb9f3a\"], [0.8888888888888888, \"#fdca26\"], [1.0, \"#f0f921\"]], \"type\": \"heatmap\"}], \"heatmapgl\": [{\"colorbar\": {\"outlinewidth\": 0, \"ticks\": \"\"}, \"colorscale\": [[0.0, \"#0d0887\"], [0.1111111111111111, \"#46039f\"], [0.2222222222222222, \"#7201a8\"], [0.3333333333333333, \"#9c179e\"], [0.4444444444444444, \"#bd3786\"], [0.5555555555555556, \"#d8576b\"], [0.6666666666666666, \"#ed7953\"], [0.7777777777777778, \"#fb9f3a\"], [0.8888888888888888, \"#fdca26\"], [1.0, \"#f0f921\"]], \"type\": \"heatmapgl\"}], \"histogram\": [{\"marker\": {\"colorbar\": {\"outlinewidth\": 0, \"ticks\": \"\"}}, \"type\": \"histogram\"}], \"histogram2d\": [{\"colorbar\": {\"outlinewidth\": 0, \"ticks\": \"\"}, \"colorscale\": [[0.0, \"#0d0887\"], [0.1111111111111111, \"#46039f\"], [0.2222222222222222, \"#7201a8\"], [0.3333333333333333, \"#9c179e\"], [0.4444444444444444, \"#bd3786\"], [0.5555555555555556, \"#d8576b\"], [0.6666666666666666, \"#ed7953\"], [0.7777777777777778, \"#fb9f3a\"], [0.8888888888888888, \"#fdca26\"], [1.0, \"#f0f921\"]], \"type\": \"histogram2d\"}], \"histogram2dcontour\": [{\"colorbar\": {\"outlinewidth\": 0, \"ticks\": \"\"}, \"colorscale\": [[0.0, \"#0d0887\"], [0.1111111111111111, \"#46039f\"], [0.2222222222222222, \"#7201a8\"], [0.3333333333333333, \"#9c179e\"], [0.4444444444444444, \"#bd3786\"], [0.5555555555555556, \"#d8576b\"], [0.6666666666666666, \"#ed7953\"], [0.7777777777777778, \"#fb9f3a\"], [0.8888888888888888, \"#fdca26\"], [1.0, \"#f0f921\"]], \"type\": \"histogram2dcontour\"}], \"mesh3d\": [{\"colorbar\": {\"outlinewidth\": 0, \"ticks\": \"\"}, \"type\": \"mesh3d\"}], \"parcoords\": [{\"line\": {\"colorbar\": {\"outlinewidth\": 0, \"ticks\": \"\"}}, \"type\": \"parcoords\"}], \"pie\": [{\"automargin\": true, \"type\": \"pie\"}], \"scatter\": [{\"marker\": {\"colorbar\": {\"outlinewidth\": 0, \"ticks\": \"\"}}, \"type\": \"scatter\"}], \"scatter3d\": [{\"line\": {\"colorbar\": {\"outlinewidth\": 0, \"ticks\": \"\"}}, \"marker\": {\"colorbar\": {\"outlinewidth\": 0, \"ticks\": \"\"}}, \"type\": \"scatter3d\"}], \"scattercarpet\": [{\"marker\": {\"colorbar\": {\"outlinewidth\": 0, \"ticks\": \"\"}}, \"type\": \"scattercarpet\"}], \"scattergeo\": [{\"marker\": {\"colorbar\": {\"outlinewidth\": 0, \"ticks\": \"\"}}, \"type\": \"scattergeo\"}], \"scattergl\": [{\"marker\": {\"colorbar\": {\"outlinewidth\": 0, \"ticks\": \"\"}}, \"type\": \"scattergl\"}], \"scattermapbox\": [{\"marker\": {\"colorbar\": {\"outlinewidth\": 0, \"ticks\": \"\"}}, \"type\": \"scattermapbox\"}], \"scatterpolar\": [{\"marker\": {\"colorbar\": {\"outlinewidth\": 0, \"ticks\": \"\"}}, \"type\": \"scatterpolar\"}], \"scatterpolargl\": [{\"marker\": {\"colorbar\": {\"outlinewidth\": 0, \"ticks\": \"\"}}, \"type\": \"scatterpolargl\"}], \"scatterternary\": [{\"marker\": {\"colorbar\": {\"outlinewidth\": 0, \"ticks\": \"\"}}, \"type\": \"scatterternary\"}], \"surface\": [{\"colorbar\": {\"outlinewidth\": 0, \"ticks\": \"\"}, \"colorscale\": [[0.0, \"#0d0887\"], [0.1111111111111111, \"#46039f\"], [0.2222222222222222, \"#7201a8\"], [0.3333333333333333, \"#9c179e\"], [0.4444444444444444, \"#bd3786\"], [0.5555555555555556, \"#d8576b\"], [0.6666666666666666, \"#ed7953\"], [0.7777777777777778, \"#fb9f3a\"], [0.8888888888888888, \"#fdca26\"], [1.0, \"#f0f921\"]], \"type\": \"surface\"}], \"table\": [{\"cells\": {\"fill\": {\"color\": \"#EBF0F8\"}, \"line\": {\"color\": \"white\"}}, \"header\": {\"fill\": {\"color\": \"#C8D4E3\"}, \"line\": {\"color\": \"white\"}}, \"type\": \"table\"}]}, \"layout\": {\"annotationdefaults\": {\"arrowcolor\": \"#2a3f5f\", \"arrowhead\": 0, \"arrowwidth\": 1}, \"autotypenumbers\": \"strict\", \"coloraxis\": {\"colorbar\": {\"outlinewidth\": 0, \"ticks\": \"\"}}, \"colorscale\": {\"diverging\": [[0, \"#8e0152\"], [0.1, \"#c51b7d\"], [0.2, \"#de77ae\"], [0.3, \"#f1b6da\"], [0.4, \"#fde0ef\"], [0.5, \"#f7f7f7\"], [0.6, \"#e6f5d0\"], [0.7, \"#b8e186\"], [0.8, \"#7fbc41\"], [0.9, \"#4d9221\"], [1, \"#276419\"]], \"sequential\": [[0.0, \"#0d0887\"], [0.1111111111111111, \"#46039f\"], [0.2222222222222222, \"#7201a8\"], [0.3333333333333333, \"#9c179e\"], [0.4444444444444444, \"#bd3786\"], [0.5555555555555556, \"#d8576b\"], [0.6666666666666666, \"#ed7953\"], [0.7777777777777778, \"#fb9f3a\"], [0.8888888888888888, \"#fdca26\"], [1.0, \"#f0f921\"]], \"sequentialminus\": [[0.0, \"#0d0887\"], [0.1111111111111111, \"#46039f\"], [0.2222222222222222, \"#7201a8\"], [0.3333333333333333, \"#9c179e\"], [0.4444444444444444, \"#bd3786\"], [0.5555555555555556, \"#d8576b\"], [0.6666666666666666, \"#ed7953\"], [0.7777777777777778, \"#fb9f3a\"], [0.8888888888888888, \"#fdca26\"], [1.0, \"#f0f921\"]]}, \"colorway\": [\"#636efa\", \"#EF553B\", \"#00cc96\", \"#ab63fa\", \"#FFA15A\", \"#19d3f3\", \"#FF6692\", \"#B6E880\", \"#FF97FF\", \"#FECB52\"], \"font\": {\"color\": \"#2a3f5f\"}, \"geo\": {\"bgcolor\": \"white\", \"lakecolor\": \"white\", \"landcolor\": \"#E5ECF6\", \"showlakes\": true, \"showland\": true, \"subunitcolor\": \"white\"}, \"hoverlabel\": {\"align\": \"left\"}, \"hovermode\": \"closest\", \"mapbox\": {\"style\": \"light\"}, \"paper_bgcolor\": \"white\", \"plot_bgcolor\": \"#E5ECF6\", \"polar\": {\"angularaxis\": {\"gridcolor\": \"white\", \"linecolor\": \"white\", \"ticks\": \"\"}, \"bgcolor\": \"#E5ECF6\", \"radialaxis\": {\"gridcolor\": \"white\", \"linecolor\": \"white\", \"ticks\": \"\"}}, \"scene\": {\"xaxis\": {\"backgroundcolor\": \"#E5ECF6\", \"gridcolor\": \"white\", \"gridwidth\": 2, \"linecolor\": \"white\", \"showbackground\": true, \"ticks\": \"\", \"zerolinecolor\": \"white\"}, \"yaxis\": {\"backgroundcolor\": \"#E5ECF6\", \"gridcolor\": \"white\", \"gridwidth\": 2, \"linecolor\": \"white\", \"showbackground\": true, \"ticks\": \"\", \"zerolinecolor\": \"white\"}, \"zaxis\": {\"backgroundcolor\": \"#E5ECF6\", \"gridcolor\": \"white\", \"gridwidth\": 2, \"linecolor\": \"white\", \"showbackground\": true, \"ticks\": \"\", \"zerolinecolor\": \"white\"}}, \"shapedefaults\": {\"line\": {\"color\": \"#2a3f5f\"}}, \"ternary\": {\"aaxis\": {\"gridcolor\": \"white\", \"linecolor\": \"white\", \"ticks\": \"\"}, \"baxis\": {\"gridcolor\": \"white\", \"linecolor\": \"white\", \"ticks\": \"\"}, \"bgcolor\": \"#E5ECF6\", \"caxis\": {\"gridcolor\": \"white\", \"linecolor\": \"white\", \"ticks\": \"\"}}, \"title\": {\"x\": 0.05}, \"xaxis\": {\"automargin\": true, \"gridcolor\": \"white\", \"linecolor\": \"white\", \"ticks\": \"\", \"title\": {\"standoff\": 15}, \"zerolinecolor\": \"white\", \"zerolinewidth\": 2}, \"yaxis\": {\"automargin\": true, \"gridcolor\": \"white\", \"linecolor\": \"white\", \"ticks\": \"\", \"title\": {\"standoff\": 15}, \"zerolinecolor\": \"white\", \"zerolinewidth\": 2}}}, \"title\": {\"font\": {\"color\": \"#4D5663\"}}, \"xaxis\": {\"gridcolor\": \"#E1E5ED\", \"showgrid\": true, \"tickfont\": {\"color\": \"#4D5663\"}, \"title\": {\"font\": {\"color\": \"#4D5663\"}, \"text\": \"\"}, \"zerolinecolor\": \"#E1E5ED\"}, \"yaxis\": {\"gridcolor\": \"#E1E5ED\", \"showgrid\": true, \"tickfont\": {\"color\": \"#4D5663\"}, \"title\": {\"font\": {\"color\": \"#4D5663\"}, \"text\": \"\"}, \"zerolinecolor\": \"#E1E5ED\"}},                        {\"showLink\": true, \"linkText\": \"Export to plot.ly\", \"plotlyServerURL\": \"https://plot.ly\", \"responsive\": true}                    ).then(function(){\n",
       "                            \n",
       "var gd = document.getElementById('962d4cc0-ebdb-4351-aeae-71ec0ea3bcb6');\n",
       "var x = new MutationObserver(function (mutations, observer) {{\n",
       "        var display = window.getComputedStyle(gd).display;\n",
       "        if (!display || display === 'none') {{\n",
       "            console.log([gd, 'removed!']);\n",
       "            Plotly.purge(gd);\n",
       "            observer.disconnect();\n",
       "        }}\n",
       "}});\n",
       "\n",
       "// Listen for the removal of the full notebook cells\n",
       "var notebookContainer = gd.closest('#notebook-container');\n",
       "if (notebookContainer) {{\n",
       "    x.observe(notebookContainer, {childList: true});\n",
       "}}\n",
       "\n",
       "// Listen for the clearing of the current output cell\n",
       "var outputEl = gd.closest('.output');\n",
       "if (outputEl) {{\n",
       "    x.observe(outputEl, {childList: true});\n",
       "}}\n",
       "\n",
       "                        })                };                });            </script>        </div>"
      ]
     },
     "metadata": {},
     "output_type": "display_data"
    }
   ],
   "source": [
    "df['A'].iplot(kind='hist', bins=30)"
   ]
  },
  {
   "cell_type": "code",
   "execution_count": 26,
   "metadata": {},
   "outputs": [
    {
     "data": {
      "application/vnd.plotly.v1+json": {
       "config": {
        "linkText": "Export to plot.ly",
        "plotlyServerURL": "https://plot.ly",
        "showLink": true
       },
       "data": [
        {
         "marker": {
          "color": [
           "rgb(255, 153, 51)",
           "rgb(55, 128, 191)",
           "rgb(50, 171, 96)",
           "rgb(128, 0, 128)",
           "rgb(219, 64, 82)",
           "rgb(0, 128, 128)",
           "rgb(255, 255, 51)",
           "rgb(128, 128, 0)",
           "rgb(251, 128, 114)",
           "rgb(128, 177, 211)"
          ],
          "line": {
           "width": 1.3
          },
          "size": [
           86,
           95,
           103,
           72,
           63,
           87,
           73,
           101,
           79,
           63,
           60,
           83,
           76,
           66,
           43,
           68,
           76,
           96,
           42,
           50,
           60,
           49,
           53,
           88,
           70,
           54,
           86,
           104,
           75,
           83,
           38,
           73,
           57,
           31,
           44,
           98,
           58,
           64,
           70,
           95,
           62,
           31,
           87,
           82,
           72,
           12,
           30,
           67,
           90,
           104,
           65,
           66,
           112,
           49,
           57,
           82,
           59,
           51,
           71,
           32,
           59,
           110,
           62,
           66,
           58,
           61,
           78,
           95,
           64,
           57,
           91,
           80,
           72,
           69,
           46,
           81,
           87,
           75,
           70,
           40,
           65,
           82,
           38,
           61,
           72,
           47,
           91,
           63,
           83,
           36,
           64,
           62,
           58,
           40,
           44,
           57,
           59,
           80,
           72,
           31
          ],
          "symbol": "circle"
         },
         "mode": "markers",
         "text": "",
         "type": "scatter",
         "x": [
          -0.2531083250970203,
          0.44472867520184695,
          -0.6880739903817269,
          -0.32389688390050336,
          -0.21066679145064116,
          -0.7471305568135573,
          1.4644403155760901,
          -1.5390062758876004,
          -1.5425674761634856,
          0.1845770072180261,
          -1.04983457028772,
          2.958223043449747,
          0.19962163438520358,
          0.6809530686614672,
          0.14535502903675235,
          -0.7188442819492274,
          1.0125690660282616,
          0.05224314033522782,
          -1.8432338689264192,
          -0.3483895528924191,
          -0.3583306084919735,
          0.4761146454202297,
          -0.147129437965505,
          1.5220538503214163,
          -1.3273284502582012,
          0.16507303161167794,
          -0.0560374263769096,
          0.5784265198295464,
          -0.2740863346688317,
          2.143309560747731,
          0.1671101097738608,
          0.5490366739554574,
          0.013215510451084333,
          0.3940727215280942,
          -0.9521217551672523,
          -0.018722957509154415,
          1.43946284679207,
          0.5311864343840943,
          -0.9576730445124143,
          2.615701373800367,
          0.2969248462359406,
          -0.23254471608361083,
          0.02390791000105446,
          -0.5815987415883015,
          0.9797377817160473,
          0.3983322606335077,
          -0.6141282028185352,
          0.23784349161194623,
          -1.3199887141335402,
          0.6996938400462953,
          -0.2868779707094815,
          3.170323023876777,
          0.10997169936554678,
          1.3170088130777606,
          -2.658216644451961,
          -1.7510785196335596,
          0.2911423653054329,
          -0.3146626882337196,
          0.42671812938167997,
          -0.21623347798306392,
          1.3913338101835877,
          0.5186823638813134,
          0.4992351523475857,
          1.068339120041519,
          0.6850632859094586,
          -0.4906088150209769,
          -0.8859045960411523,
          0.3397388469656312,
          1.4342595849975506,
          0.09561282704554233,
          -1.2043279788958634,
          -0.5284463987481448,
          0.21111175740921415,
          0.6765630612537961,
          0.5447339666552157,
          1.9232009065877185,
          0.9311243971960865,
          -0.5857662928038426,
          0.1309340857065233,
          0.6307938743323313,
          -1.3313404549673353,
          0.6918609455835275,
          1.261217754803169,
          0.6246482895871643,
          0.7309726569960078,
          0.030697726306293666,
          -1.9848004838069544,
          -1.6463370700123259,
          1.2178820207045697,
          0.532948814095436,
          0.3317063505971597,
          0.2972599259821757,
          0.5219716784009186,
          -1.3582358763406823,
          -0.3475294045762002,
          0.5304741285949425,
          -0.7712291619711124,
          -0.8534484005792922,
          0.2469690148994338,
          -0.49158233930531514
         ],
         "y": [
          0.2692248590674567,
          2.5414565169787684,
          -1.3847684476344624,
          1.0279604222570988,
          0.32178606562036727,
          -0.71414958269869,
          1.3286475415150187,
          -0.18602555159568127,
          -0.6240462160771314,
          -0.013680420743699132,
          0.9216749121898704,
          0.36610989844719927,
          -0.23086136612047775,
          -1.561147103539752,
          -1.55113276236753,
          0.32854251512931804,
          -1.764333635340324,
          -0.7028625061339061,
          -1.435701932428522,
          0.924236301167901,
          0.038138911451752064,
          -0.7590936404033503,
          -0.11749600252730237,
          0.39633006465495496,
          -0.2107745967287429,
          0.5113421067521764,
          1.0929602611219198,
          0.18439027770308478,
          -1.0854390751429883,
          0.5118711694135236,
          0.40958311714195506,
          -0.41240221065986143,
          -0.859034971894161,
          -0.5529096332253796,
          -0.5232120174327071,
          -1.1530761095753999,
          -0.1916230903244878,
          -0.15954320592542995,
          -1.3107503419051287,
          -0.6670439421192467,
          0.16252815279435603,
          0.5864792595105315,
          0.31271069415931163,
          -1.4156239025283626,
          -0.2108067683301323,
          0.4009473642109201,
          -0.2717101826795173,
          -0.41699572886723774,
          -0.30082422068105297,
          0.5047385743026007,
          -1.9787868569877332,
          0.11751434764417365,
          -0.12085350747255721,
          0.34364779893495206,
          -1.8224513199521488,
          -1.2065012656680196,
          -0.7696169392939282,
          -0.5111253785557218,
          -0.3545273834343783,
          0.8978159418460043,
          -0.8157526385378127,
          -0.9572493594332675,
          0.4495184342597558,
          2.3261108979215734,
          -1.089090169046952,
          -0.3542045476423018,
          -0.43072727366645397,
          1.7074628488359203,
          -0.5323631224416054,
          -0.635697712321746,
          0.48855952132870645,
          1.3350182547014884,
          2.3452090589417276,
          0.09012629968942505,
          -1.2522205245484084,
          -0.7845119830949263,
          -0.6424298754383452,
          -1.0645184185886827,
          1.3427868037204183,
          -0.3878916530551524,
          -0.4621215801011234,
          -1.4910175723377412,
          0.002686208823228683,
          -0.5938418999955112,
          0.6179416582649397,
          0.15838027440967178,
          -1.3072408344980595,
          -0.14037572981081717,
          0.08944578304891387,
          0.40371386655793834,
          -1.2090705967400097,
          -0.15988167399899386,
          -0.7102046276701807,
          -1.474292195815174,
          -0.9781606303475665,
          -1.2263315181857672,
          1.131136855389624,
          1.0786752573396445,
          -1.305477163909878,
          0.2421897939764603
         ]
        }
       ],
       "layout": {
        "legend": {
         "bgcolor": "#F5F6F9",
         "font": {
          "color": "#4D5663"
         }
        },
        "paper_bgcolor": "#F5F6F9",
        "plot_bgcolor": "#F5F6F9",
        "template": {
         "data": {
          "bar": [
           {
            "error_x": {
             "color": "#2a3f5f"
            },
            "error_y": {
             "color": "#2a3f5f"
            },
            "marker": {
             "line": {
              "color": "#E5ECF6",
              "width": 0.5
             }
            },
            "type": "bar"
           }
          ],
          "barpolar": [
           {
            "marker": {
             "line": {
              "color": "#E5ECF6",
              "width": 0.5
             }
            },
            "type": "barpolar"
           }
          ],
          "carpet": [
           {
            "aaxis": {
             "endlinecolor": "#2a3f5f",
             "gridcolor": "white",
             "linecolor": "white",
             "minorgridcolor": "white",
             "startlinecolor": "#2a3f5f"
            },
            "baxis": {
             "endlinecolor": "#2a3f5f",
             "gridcolor": "white",
             "linecolor": "white",
             "minorgridcolor": "white",
             "startlinecolor": "#2a3f5f"
            },
            "type": "carpet"
           }
          ],
          "choropleth": [
           {
            "colorbar": {
             "outlinewidth": 0,
             "ticks": ""
            },
            "type": "choropleth"
           }
          ],
          "contour": [
           {
            "colorbar": {
             "outlinewidth": 0,
             "ticks": ""
            },
            "colorscale": [
             [
              0,
              "#0d0887"
             ],
             [
              0.1111111111111111,
              "#46039f"
             ],
             [
              0.2222222222222222,
              "#7201a8"
             ],
             [
              0.3333333333333333,
              "#9c179e"
             ],
             [
              0.4444444444444444,
              "#bd3786"
             ],
             [
              0.5555555555555556,
              "#d8576b"
             ],
             [
              0.6666666666666666,
              "#ed7953"
             ],
             [
              0.7777777777777778,
              "#fb9f3a"
             ],
             [
              0.8888888888888888,
              "#fdca26"
             ],
             [
              1,
              "#f0f921"
             ]
            ],
            "type": "contour"
           }
          ],
          "contourcarpet": [
           {
            "colorbar": {
             "outlinewidth": 0,
             "ticks": ""
            },
            "type": "contourcarpet"
           }
          ],
          "heatmap": [
           {
            "colorbar": {
             "outlinewidth": 0,
             "ticks": ""
            },
            "colorscale": [
             [
              0,
              "#0d0887"
             ],
             [
              0.1111111111111111,
              "#46039f"
             ],
             [
              0.2222222222222222,
              "#7201a8"
             ],
             [
              0.3333333333333333,
              "#9c179e"
             ],
             [
              0.4444444444444444,
              "#bd3786"
             ],
             [
              0.5555555555555556,
              "#d8576b"
             ],
             [
              0.6666666666666666,
              "#ed7953"
             ],
             [
              0.7777777777777778,
              "#fb9f3a"
             ],
             [
              0.8888888888888888,
              "#fdca26"
             ],
             [
              1,
              "#f0f921"
             ]
            ],
            "type": "heatmap"
           }
          ],
          "heatmapgl": [
           {
            "colorbar": {
             "outlinewidth": 0,
             "ticks": ""
            },
            "colorscale": [
             [
              0,
              "#0d0887"
             ],
             [
              0.1111111111111111,
              "#46039f"
             ],
             [
              0.2222222222222222,
              "#7201a8"
             ],
             [
              0.3333333333333333,
              "#9c179e"
             ],
             [
              0.4444444444444444,
              "#bd3786"
             ],
             [
              0.5555555555555556,
              "#d8576b"
             ],
             [
              0.6666666666666666,
              "#ed7953"
             ],
             [
              0.7777777777777778,
              "#fb9f3a"
             ],
             [
              0.8888888888888888,
              "#fdca26"
             ],
             [
              1,
              "#f0f921"
             ]
            ],
            "type": "heatmapgl"
           }
          ],
          "histogram": [
           {
            "marker": {
             "colorbar": {
              "outlinewidth": 0,
              "ticks": ""
             }
            },
            "type": "histogram"
           }
          ],
          "histogram2d": [
           {
            "colorbar": {
             "outlinewidth": 0,
             "ticks": ""
            },
            "colorscale": [
             [
              0,
              "#0d0887"
             ],
             [
              0.1111111111111111,
              "#46039f"
             ],
             [
              0.2222222222222222,
              "#7201a8"
             ],
             [
              0.3333333333333333,
              "#9c179e"
             ],
             [
              0.4444444444444444,
              "#bd3786"
             ],
             [
              0.5555555555555556,
              "#d8576b"
             ],
             [
              0.6666666666666666,
              "#ed7953"
             ],
             [
              0.7777777777777778,
              "#fb9f3a"
             ],
             [
              0.8888888888888888,
              "#fdca26"
             ],
             [
              1,
              "#f0f921"
             ]
            ],
            "type": "histogram2d"
           }
          ],
          "histogram2dcontour": [
           {
            "colorbar": {
             "outlinewidth": 0,
             "ticks": ""
            },
            "colorscale": [
             [
              0,
              "#0d0887"
             ],
             [
              0.1111111111111111,
              "#46039f"
             ],
             [
              0.2222222222222222,
              "#7201a8"
             ],
             [
              0.3333333333333333,
              "#9c179e"
             ],
             [
              0.4444444444444444,
              "#bd3786"
             ],
             [
              0.5555555555555556,
              "#d8576b"
             ],
             [
              0.6666666666666666,
              "#ed7953"
             ],
             [
              0.7777777777777778,
              "#fb9f3a"
             ],
             [
              0.8888888888888888,
              "#fdca26"
             ],
             [
              1,
              "#f0f921"
             ]
            ],
            "type": "histogram2dcontour"
           }
          ],
          "mesh3d": [
           {
            "colorbar": {
             "outlinewidth": 0,
             "ticks": ""
            },
            "type": "mesh3d"
           }
          ],
          "parcoords": [
           {
            "line": {
             "colorbar": {
              "outlinewidth": 0,
              "ticks": ""
             }
            },
            "type": "parcoords"
           }
          ],
          "pie": [
           {
            "automargin": true,
            "type": "pie"
           }
          ],
          "scatter": [
           {
            "marker": {
             "colorbar": {
              "outlinewidth": 0,
              "ticks": ""
             }
            },
            "type": "scatter"
           }
          ],
          "scatter3d": [
           {
            "line": {
             "colorbar": {
              "outlinewidth": 0,
              "ticks": ""
             }
            },
            "marker": {
             "colorbar": {
              "outlinewidth": 0,
              "ticks": ""
             }
            },
            "type": "scatter3d"
           }
          ],
          "scattercarpet": [
           {
            "marker": {
             "colorbar": {
              "outlinewidth": 0,
              "ticks": ""
             }
            },
            "type": "scattercarpet"
           }
          ],
          "scattergeo": [
           {
            "marker": {
             "colorbar": {
              "outlinewidth": 0,
              "ticks": ""
             }
            },
            "type": "scattergeo"
           }
          ],
          "scattergl": [
           {
            "marker": {
             "colorbar": {
              "outlinewidth": 0,
              "ticks": ""
             }
            },
            "type": "scattergl"
           }
          ],
          "scattermapbox": [
           {
            "marker": {
             "colorbar": {
              "outlinewidth": 0,
              "ticks": ""
             }
            },
            "type": "scattermapbox"
           }
          ],
          "scatterpolar": [
           {
            "marker": {
             "colorbar": {
              "outlinewidth": 0,
              "ticks": ""
             }
            },
            "type": "scatterpolar"
           }
          ],
          "scatterpolargl": [
           {
            "marker": {
             "colorbar": {
              "outlinewidth": 0,
              "ticks": ""
             }
            },
            "type": "scatterpolargl"
           }
          ],
          "scatterternary": [
           {
            "marker": {
             "colorbar": {
              "outlinewidth": 0,
              "ticks": ""
             }
            },
            "type": "scatterternary"
           }
          ],
          "surface": [
           {
            "colorbar": {
             "outlinewidth": 0,
             "ticks": ""
            },
            "colorscale": [
             [
              0,
              "#0d0887"
             ],
             [
              0.1111111111111111,
              "#46039f"
             ],
             [
              0.2222222222222222,
              "#7201a8"
             ],
             [
              0.3333333333333333,
              "#9c179e"
             ],
             [
              0.4444444444444444,
              "#bd3786"
             ],
             [
              0.5555555555555556,
              "#d8576b"
             ],
             [
              0.6666666666666666,
              "#ed7953"
             ],
             [
              0.7777777777777778,
              "#fb9f3a"
             ],
             [
              0.8888888888888888,
              "#fdca26"
             ],
             [
              1,
              "#f0f921"
             ]
            ],
            "type": "surface"
           }
          ],
          "table": [
           {
            "cells": {
             "fill": {
              "color": "#EBF0F8"
             },
             "line": {
              "color": "white"
             }
            },
            "header": {
             "fill": {
              "color": "#C8D4E3"
             },
             "line": {
              "color": "white"
             }
            },
            "type": "table"
           }
          ]
         },
         "layout": {
          "annotationdefaults": {
           "arrowcolor": "#2a3f5f",
           "arrowhead": 0,
           "arrowwidth": 1
          },
          "autotypenumbers": "strict",
          "coloraxis": {
           "colorbar": {
            "outlinewidth": 0,
            "ticks": ""
           }
          },
          "colorscale": {
           "diverging": [
            [
             0,
             "#8e0152"
            ],
            [
             0.1,
             "#c51b7d"
            ],
            [
             0.2,
             "#de77ae"
            ],
            [
             0.3,
             "#f1b6da"
            ],
            [
             0.4,
             "#fde0ef"
            ],
            [
             0.5,
             "#f7f7f7"
            ],
            [
             0.6,
             "#e6f5d0"
            ],
            [
             0.7,
             "#b8e186"
            ],
            [
             0.8,
             "#7fbc41"
            ],
            [
             0.9,
             "#4d9221"
            ],
            [
             1,
             "#276419"
            ]
           ],
           "sequential": [
            [
             0,
             "#0d0887"
            ],
            [
             0.1111111111111111,
             "#46039f"
            ],
            [
             0.2222222222222222,
             "#7201a8"
            ],
            [
             0.3333333333333333,
             "#9c179e"
            ],
            [
             0.4444444444444444,
             "#bd3786"
            ],
            [
             0.5555555555555556,
             "#d8576b"
            ],
            [
             0.6666666666666666,
             "#ed7953"
            ],
            [
             0.7777777777777778,
             "#fb9f3a"
            ],
            [
             0.8888888888888888,
             "#fdca26"
            ],
            [
             1,
             "#f0f921"
            ]
           ],
           "sequentialminus": [
            [
             0,
             "#0d0887"
            ],
            [
             0.1111111111111111,
             "#46039f"
            ],
            [
             0.2222222222222222,
             "#7201a8"
            ],
            [
             0.3333333333333333,
             "#9c179e"
            ],
            [
             0.4444444444444444,
             "#bd3786"
            ],
            [
             0.5555555555555556,
             "#d8576b"
            ],
            [
             0.6666666666666666,
             "#ed7953"
            ],
            [
             0.7777777777777778,
             "#fb9f3a"
            ],
            [
             0.8888888888888888,
             "#fdca26"
            ],
            [
             1,
             "#f0f921"
            ]
           ]
          },
          "colorway": [
           "#636efa",
           "#EF553B",
           "#00cc96",
           "#ab63fa",
           "#FFA15A",
           "#19d3f3",
           "#FF6692",
           "#B6E880",
           "#FF97FF",
           "#FECB52"
          ],
          "font": {
           "color": "#2a3f5f"
          },
          "geo": {
           "bgcolor": "white",
           "lakecolor": "white",
           "landcolor": "#E5ECF6",
           "showlakes": true,
           "showland": true,
           "subunitcolor": "white"
          },
          "hoverlabel": {
           "align": "left"
          },
          "hovermode": "closest",
          "mapbox": {
           "style": "light"
          },
          "paper_bgcolor": "white",
          "plot_bgcolor": "#E5ECF6",
          "polar": {
           "angularaxis": {
            "gridcolor": "white",
            "linecolor": "white",
            "ticks": ""
           },
           "bgcolor": "#E5ECF6",
           "radialaxis": {
            "gridcolor": "white",
            "linecolor": "white",
            "ticks": ""
           }
          },
          "scene": {
           "xaxis": {
            "backgroundcolor": "#E5ECF6",
            "gridcolor": "white",
            "gridwidth": 2,
            "linecolor": "white",
            "showbackground": true,
            "ticks": "",
            "zerolinecolor": "white"
           },
           "yaxis": {
            "backgroundcolor": "#E5ECF6",
            "gridcolor": "white",
            "gridwidth": 2,
            "linecolor": "white",
            "showbackground": true,
            "ticks": "",
            "zerolinecolor": "white"
           },
           "zaxis": {
            "backgroundcolor": "#E5ECF6",
            "gridcolor": "white",
            "gridwidth": 2,
            "linecolor": "white",
            "showbackground": true,
            "ticks": "",
            "zerolinecolor": "white"
           }
          },
          "shapedefaults": {
           "line": {
            "color": "#2a3f5f"
           }
          },
          "ternary": {
           "aaxis": {
            "gridcolor": "white",
            "linecolor": "white",
            "ticks": ""
           },
           "baxis": {
            "gridcolor": "white",
            "linecolor": "white",
            "ticks": ""
           },
           "bgcolor": "#E5ECF6",
           "caxis": {
            "gridcolor": "white",
            "linecolor": "white",
            "ticks": ""
           }
          },
          "title": {
           "x": 0.05
          },
          "xaxis": {
           "automargin": true,
           "gridcolor": "white",
           "linecolor": "white",
           "ticks": "",
           "title": {
            "standoff": 15
           },
           "zerolinecolor": "white",
           "zerolinewidth": 2
          },
          "yaxis": {
           "automargin": true,
           "gridcolor": "white",
           "linecolor": "white",
           "ticks": "",
           "title": {
            "standoff": 15
           },
           "zerolinecolor": "white",
           "zerolinewidth": 2
          }
         }
        },
        "title": {
         "font": {
          "color": "#4D5663"
         }
        },
        "xaxis": {
         "gridcolor": "#E1E5ED",
         "showgrid": true,
         "tickfont": {
          "color": "#4D5663"
         },
         "title": {
          "font": {
           "color": "#4D5663"
          },
          "text": ""
         },
         "zerolinecolor": "#E1E5ED"
        },
        "yaxis": {
         "gridcolor": "#E1E5ED",
         "showgrid": true,
         "tickfont": {
          "color": "#4D5663"
         },
         "title": {
          "font": {
           "color": "#4D5663"
          },
          "text": ""
         },
         "zerolinecolor": "#E1E5ED"
        }
       }
      },
      "text/html": [
       "<div>                            <div id=\"fc3b3988-d5bb-44ef-9ae6-4a2241adc081\" class=\"plotly-graph-div\" style=\"height:525px; width:100%;\"></div>            <script type=\"text/javascript\">                require([\"plotly\"], function(Plotly) {                    window.PLOTLYENV=window.PLOTLYENV || {};\n",
       "                    window.PLOTLYENV.BASE_URL='https://plot.ly';                                    if (document.getElementById(\"fc3b3988-d5bb-44ef-9ae6-4a2241adc081\")) {                    Plotly.newPlot(                        \"fc3b3988-d5bb-44ef-9ae6-4a2241adc081\",                        [{\"marker\": {\"color\": [\"rgb(255, 153, 51)\", \"rgb(55, 128, 191)\", \"rgb(50, 171, 96)\", \"rgb(128, 0, 128)\", \"rgb(219, 64, 82)\", \"rgb(0, 128, 128)\", \"rgb(255, 255, 51)\", \"rgb(128, 128, 0)\", \"rgb(251, 128, 114)\", \"rgb(128, 177, 211)\"], \"line\": {\"width\": 1.3}, \"size\": [86, 95, 103, 72, 63, 87, 73, 101, 79, 63, 60, 83, 76, 66, 43, 68, 76, 96, 42, 50, 60, 49, 53, 88, 70, 54, 86, 104, 75, 83, 38, 73, 57, 31, 44, 98, 58, 64, 70, 95, 62, 31, 87, 82, 72, 12, 30, 67, 90, 104, 65, 66, 112, 49, 57, 82, 59, 51, 71, 32, 59, 110, 62, 66, 58, 61, 78, 95, 64, 57, 91, 80, 72, 69, 46, 81, 87, 75, 70, 40, 65, 82, 38, 61, 72, 47, 91, 63, 83, 36, 64, 62, 58, 40, 44, 57, 59, 80, 72, 31], \"symbol\": \"circle\"}, \"mode\": \"markers\", \"text\": \"\", \"type\": \"scatter\", \"x\": [-0.2531083250970203, 0.44472867520184695, -0.6880739903817269, -0.32389688390050336, -0.21066679145064116, -0.7471305568135573, 1.4644403155760901, -1.5390062758876004, -1.5425674761634856, 0.1845770072180261, -1.04983457028772, 2.958223043449747, 0.19962163438520358, 0.6809530686614672, 0.14535502903675235, -0.7188442819492274, 1.0125690660282616, 0.05224314033522782, -1.8432338689264192, -0.3483895528924191, -0.3583306084919735, 0.4761146454202297, -0.147129437965505, 1.5220538503214163, -1.3273284502582012, 0.16507303161167794, -0.0560374263769096, 0.5784265198295464, -0.2740863346688317, 2.143309560747731, 0.1671101097738608, 0.5490366739554574, 0.013215510451084333, 0.3940727215280942, -0.9521217551672523, -0.018722957509154415, 1.43946284679207, 0.5311864343840943, -0.9576730445124143, 2.615701373800367, 0.2969248462359406, -0.23254471608361083, 0.02390791000105446, -0.5815987415883015, 0.9797377817160473, 0.3983322606335077, -0.6141282028185352, 0.23784349161194623, -1.3199887141335402, 0.6996938400462953, -0.2868779707094815, 3.170323023876777, 0.10997169936554678, 1.3170088130777606, -2.658216644451961, -1.7510785196335596, 0.2911423653054329, -0.3146626882337196, 0.42671812938167997, -0.21623347798306392, 1.3913338101835877, 0.5186823638813134, 0.4992351523475857, 1.068339120041519, 0.6850632859094586, -0.4906088150209769, -0.8859045960411523, 0.3397388469656312, 1.4342595849975506, 0.09561282704554233, -1.2043279788958634, -0.5284463987481448, 0.21111175740921415, 0.6765630612537961, 0.5447339666552157, 1.9232009065877185, 0.9311243971960865, -0.5857662928038426, 0.1309340857065233, 0.6307938743323313, -1.3313404549673353, 0.6918609455835275, 1.261217754803169, 0.6246482895871643, 0.7309726569960078, 0.030697726306293666, -1.9848004838069544, -1.6463370700123259, 1.2178820207045697, 0.532948814095436, 0.3317063505971597, 0.2972599259821757, 0.5219716784009186, -1.3582358763406823, -0.3475294045762002, 0.5304741285949425, -0.7712291619711124, -0.8534484005792922, 0.2469690148994338, -0.49158233930531514], \"y\": [0.2692248590674567, 2.5414565169787684, -1.3847684476344624, 1.0279604222570988, 0.32178606562036727, -0.71414958269869, 1.3286475415150187, -0.18602555159568127, -0.6240462160771314, -0.013680420743699132, 0.9216749121898704, 0.36610989844719927, -0.23086136612047775, -1.561147103539752, -1.55113276236753, 0.32854251512931804, -1.764333635340324, -0.7028625061339061, -1.435701932428522, 0.924236301167901, 0.038138911451752064, -0.7590936404033503, -0.11749600252730237, 0.39633006465495496, -0.2107745967287429, 0.5113421067521764, 1.0929602611219198, 0.18439027770308478, -1.0854390751429883, 0.5118711694135236, 0.40958311714195506, -0.41240221065986143, -0.859034971894161, -0.5529096332253796, -0.5232120174327071, -1.1530761095753999, -0.1916230903244878, -0.15954320592542995, -1.3107503419051287, -0.6670439421192467, 0.16252815279435603, 0.5864792595105315, 0.31271069415931163, -1.4156239025283626, -0.2108067683301323, 0.4009473642109201, -0.2717101826795173, -0.41699572886723774, -0.30082422068105297, 0.5047385743026007, -1.9787868569877332, 0.11751434764417365, -0.12085350747255721, 0.34364779893495206, -1.8224513199521488, -1.2065012656680196, -0.7696169392939282, -0.5111253785557218, -0.3545273834343783, 0.8978159418460043, -0.8157526385378127, -0.9572493594332675, 0.4495184342597558, 2.3261108979215734, -1.089090169046952, -0.3542045476423018, -0.43072727366645397, 1.7074628488359203, -0.5323631224416054, -0.635697712321746, 0.48855952132870645, 1.3350182547014884, 2.3452090589417276, 0.09012629968942505, -1.2522205245484084, -0.7845119830949263, -0.6424298754383452, -1.0645184185886827, 1.3427868037204183, -0.3878916530551524, -0.4621215801011234, -1.4910175723377412, 0.002686208823228683, -0.5938418999955112, 0.6179416582649397, 0.15838027440967178, -1.3072408344980595, -0.14037572981081717, 0.08944578304891387, 0.40371386655793834, -1.2090705967400097, -0.15988167399899386, -0.7102046276701807, -1.474292195815174, -0.9781606303475665, -1.2263315181857672, 1.131136855389624, 1.0786752573396445, -1.305477163909878, 0.2421897939764603]}],                        {\"legend\": {\"bgcolor\": \"#F5F6F9\", \"font\": {\"color\": \"#4D5663\"}}, \"paper_bgcolor\": \"#F5F6F9\", \"plot_bgcolor\": \"#F5F6F9\", \"template\": {\"data\": {\"bar\": [{\"error_x\": {\"color\": \"#2a3f5f\"}, \"error_y\": {\"color\": \"#2a3f5f\"}, \"marker\": {\"line\": {\"color\": \"#E5ECF6\", \"width\": 0.5}}, \"type\": \"bar\"}], \"barpolar\": [{\"marker\": {\"line\": {\"color\": \"#E5ECF6\", \"width\": 0.5}}, \"type\": \"barpolar\"}], \"carpet\": [{\"aaxis\": {\"endlinecolor\": \"#2a3f5f\", \"gridcolor\": \"white\", \"linecolor\": \"white\", \"minorgridcolor\": \"white\", \"startlinecolor\": \"#2a3f5f\"}, \"baxis\": {\"endlinecolor\": \"#2a3f5f\", \"gridcolor\": \"white\", \"linecolor\": \"white\", \"minorgridcolor\": \"white\", \"startlinecolor\": \"#2a3f5f\"}, \"type\": \"carpet\"}], \"choropleth\": [{\"colorbar\": {\"outlinewidth\": 0, \"ticks\": \"\"}, \"type\": \"choropleth\"}], \"contour\": [{\"colorbar\": {\"outlinewidth\": 0, \"ticks\": \"\"}, \"colorscale\": [[0.0, \"#0d0887\"], [0.1111111111111111, \"#46039f\"], [0.2222222222222222, \"#7201a8\"], [0.3333333333333333, \"#9c179e\"], [0.4444444444444444, \"#bd3786\"], [0.5555555555555556, \"#d8576b\"], [0.6666666666666666, \"#ed7953\"], [0.7777777777777778, \"#fb9f3a\"], [0.8888888888888888, \"#fdca26\"], [1.0, \"#f0f921\"]], \"type\": \"contour\"}], \"contourcarpet\": [{\"colorbar\": {\"outlinewidth\": 0, \"ticks\": \"\"}, \"type\": \"contourcarpet\"}], \"heatmap\": [{\"colorbar\": {\"outlinewidth\": 0, \"ticks\": \"\"}, \"colorscale\": [[0.0, \"#0d0887\"], [0.1111111111111111, \"#46039f\"], [0.2222222222222222, \"#7201a8\"], [0.3333333333333333, \"#9c179e\"], [0.4444444444444444, \"#bd3786\"], [0.5555555555555556, \"#d8576b\"], [0.6666666666666666, \"#ed7953\"], [0.7777777777777778, \"#fb9f3a\"], [0.8888888888888888, \"#fdca26\"], [1.0, \"#f0f921\"]], \"type\": \"heatmap\"}], \"heatmapgl\": [{\"colorbar\": {\"outlinewidth\": 0, \"ticks\": \"\"}, \"colorscale\": [[0.0, \"#0d0887\"], [0.1111111111111111, \"#46039f\"], [0.2222222222222222, \"#7201a8\"], [0.3333333333333333, \"#9c179e\"], [0.4444444444444444, \"#bd3786\"], [0.5555555555555556, \"#d8576b\"], [0.6666666666666666, \"#ed7953\"], [0.7777777777777778, \"#fb9f3a\"], [0.8888888888888888, \"#fdca26\"], [1.0, \"#f0f921\"]], \"type\": \"heatmapgl\"}], \"histogram\": [{\"marker\": {\"colorbar\": {\"outlinewidth\": 0, \"ticks\": \"\"}}, \"type\": \"histogram\"}], \"histogram2d\": [{\"colorbar\": {\"outlinewidth\": 0, \"ticks\": \"\"}, \"colorscale\": [[0.0, \"#0d0887\"], [0.1111111111111111, \"#46039f\"], [0.2222222222222222, \"#7201a8\"], [0.3333333333333333, \"#9c179e\"], [0.4444444444444444, \"#bd3786\"], [0.5555555555555556, \"#d8576b\"], [0.6666666666666666, \"#ed7953\"], [0.7777777777777778, \"#fb9f3a\"], [0.8888888888888888, \"#fdca26\"], [1.0, \"#f0f921\"]], \"type\": \"histogram2d\"}], \"histogram2dcontour\": [{\"colorbar\": {\"outlinewidth\": 0, \"ticks\": \"\"}, \"colorscale\": [[0.0, \"#0d0887\"], [0.1111111111111111, \"#46039f\"], [0.2222222222222222, \"#7201a8\"], [0.3333333333333333, \"#9c179e\"], [0.4444444444444444, \"#bd3786\"], [0.5555555555555556, \"#d8576b\"], [0.6666666666666666, \"#ed7953\"], [0.7777777777777778, \"#fb9f3a\"], [0.8888888888888888, \"#fdca26\"], [1.0, \"#f0f921\"]], \"type\": \"histogram2dcontour\"}], \"mesh3d\": [{\"colorbar\": {\"outlinewidth\": 0, \"ticks\": \"\"}, \"type\": \"mesh3d\"}], \"parcoords\": [{\"line\": {\"colorbar\": {\"outlinewidth\": 0, \"ticks\": \"\"}}, \"type\": \"parcoords\"}], \"pie\": [{\"automargin\": true, \"type\": \"pie\"}], \"scatter\": [{\"marker\": {\"colorbar\": {\"outlinewidth\": 0, \"ticks\": \"\"}}, \"type\": \"scatter\"}], \"scatter3d\": [{\"line\": {\"colorbar\": {\"outlinewidth\": 0, \"ticks\": \"\"}}, \"marker\": {\"colorbar\": {\"outlinewidth\": 0, \"ticks\": \"\"}}, \"type\": \"scatter3d\"}], \"scattercarpet\": [{\"marker\": {\"colorbar\": {\"outlinewidth\": 0, \"ticks\": \"\"}}, \"type\": \"scattercarpet\"}], \"scattergeo\": [{\"marker\": {\"colorbar\": {\"outlinewidth\": 0, \"ticks\": \"\"}}, \"type\": \"scattergeo\"}], \"scattergl\": [{\"marker\": {\"colorbar\": {\"outlinewidth\": 0, \"ticks\": \"\"}}, \"type\": \"scattergl\"}], \"scattermapbox\": [{\"marker\": {\"colorbar\": {\"outlinewidth\": 0, \"ticks\": \"\"}}, \"type\": \"scattermapbox\"}], \"scatterpolar\": [{\"marker\": {\"colorbar\": {\"outlinewidth\": 0, \"ticks\": \"\"}}, \"type\": \"scatterpolar\"}], \"scatterpolargl\": [{\"marker\": {\"colorbar\": {\"outlinewidth\": 0, \"ticks\": \"\"}}, \"type\": \"scatterpolargl\"}], \"scatterternary\": [{\"marker\": {\"colorbar\": {\"outlinewidth\": 0, \"ticks\": \"\"}}, \"type\": \"scatterternary\"}], \"surface\": [{\"colorbar\": {\"outlinewidth\": 0, \"ticks\": \"\"}, \"colorscale\": [[0.0, \"#0d0887\"], [0.1111111111111111, \"#46039f\"], [0.2222222222222222, \"#7201a8\"], [0.3333333333333333, \"#9c179e\"], [0.4444444444444444, \"#bd3786\"], [0.5555555555555556, \"#d8576b\"], [0.6666666666666666, \"#ed7953\"], [0.7777777777777778, \"#fb9f3a\"], [0.8888888888888888, \"#fdca26\"], [1.0, \"#f0f921\"]], \"type\": \"surface\"}], \"table\": [{\"cells\": {\"fill\": {\"color\": \"#EBF0F8\"}, \"line\": {\"color\": \"white\"}}, \"header\": {\"fill\": {\"color\": \"#C8D4E3\"}, \"line\": {\"color\": \"white\"}}, \"type\": \"table\"}]}, \"layout\": {\"annotationdefaults\": {\"arrowcolor\": \"#2a3f5f\", \"arrowhead\": 0, \"arrowwidth\": 1}, \"autotypenumbers\": \"strict\", \"coloraxis\": {\"colorbar\": {\"outlinewidth\": 0, \"ticks\": \"\"}}, \"colorscale\": {\"diverging\": [[0, \"#8e0152\"], [0.1, \"#c51b7d\"], [0.2, \"#de77ae\"], [0.3, \"#f1b6da\"], [0.4, \"#fde0ef\"], [0.5, \"#f7f7f7\"], [0.6, \"#e6f5d0\"], [0.7, \"#b8e186\"], [0.8, \"#7fbc41\"], [0.9, \"#4d9221\"], [1, \"#276419\"]], \"sequential\": [[0.0, \"#0d0887\"], [0.1111111111111111, \"#46039f\"], [0.2222222222222222, \"#7201a8\"], [0.3333333333333333, \"#9c179e\"], [0.4444444444444444, \"#bd3786\"], [0.5555555555555556, \"#d8576b\"], [0.6666666666666666, \"#ed7953\"], [0.7777777777777778, \"#fb9f3a\"], [0.8888888888888888, \"#fdca26\"], [1.0, \"#f0f921\"]], \"sequentialminus\": [[0.0, \"#0d0887\"], [0.1111111111111111, \"#46039f\"], [0.2222222222222222, \"#7201a8\"], [0.3333333333333333, \"#9c179e\"], [0.4444444444444444, \"#bd3786\"], [0.5555555555555556, \"#d8576b\"], [0.6666666666666666, \"#ed7953\"], [0.7777777777777778, \"#fb9f3a\"], [0.8888888888888888, \"#fdca26\"], [1.0, \"#f0f921\"]]}, \"colorway\": [\"#636efa\", \"#EF553B\", \"#00cc96\", \"#ab63fa\", \"#FFA15A\", \"#19d3f3\", \"#FF6692\", \"#B6E880\", \"#FF97FF\", \"#FECB52\"], \"font\": {\"color\": \"#2a3f5f\"}, \"geo\": {\"bgcolor\": \"white\", \"lakecolor\": \"white\", \"landcolor\": \"#E5ECF6\", \"showlakes\": true, \"showland\": true, \"subunitcolor\": \"white\"}, \"hoverlabel\": {\"align\": \"left\"}, \"hovermode\": \"closest\", \"mapbox\": {\"style\": \"light\"}, \"paper_bgcolor\": \"white\", \"plot_bgcolor\": \"#E5ECF6\", \"polar\": {\"angularaxis\": {\"gridcolor\": \"white\", \"linecolor\": \"white\", \"ticks\": \"\"}, \"bgcolor\": \"#E5ECF6\", \"radialaxis\": {\"gridcolor\": \"white\", \"linecolor\": \"white\", \"ticks\": \"\"}}, \"scene\": {\"xaxis\": {\"backgroundcolor\": \"#E5ECF6\", \"gridcolor\": \"white\", \"gridwidth\": 2, \"linecolor\": \"white\", \"showbackground\": true, \"ticks\": \"\", \"zerolinecolor\": \"white\"}, \"yaxis\": {\"backgroundcolor\": \"#E5ECF6\", \"gridcolor\": \"white\", \"gridwidth\": 2, \"linecolor\": \"white\", \"showbackground\": true, \"ticks\": \"\", \"zerolinecolor\": \"white\"}, \"zaxis\": {\"backgroundcolor\": \"#E5ECF6\", \"gridcolor\": \"white\", \"gridwidth\": 2, \"linecolor\": \"white\", \"showbackground\": true, \"ticks\": \"\", \"zerolinecolor\": \"white\"}}, \"shapedefaults\": {\"line\": {\"color\": \"#2a3f5f\"}}, \"ternary\": {\"aaxis\": {\"gridcolor\": \"white\", \"linecolor\": \"white\", \"ticks\": \"\"}, \"baxis\": {\"gridcolor\": \"white\", \"linecolor\": \"white\", \"ticks\": \"\"}, \"bgcolor\": \"#E5ECF6\", \"caxis\": {\"gridcolor\": \"white\", \"linecolor\": \"white\", \"ticks\": \"\"}}, \"title\": {\"x\": 0.05}, \"xaxis\": {\"automargin\": true, \"gridcolor\": \"white\", \"linecolor\": \"white\", \"ticks\": \"\", \"title\": {\"standoff\": 15}, \"zerolinecolor\": \"white\", \"zerolinewidth\": 2}, \"yaxis\": {\"automargin\": true, \"gridcolor\": \"white\", \"linecolor\": \"white\", \"ticks\": \"\", \"title\": {\"standoff\": 15}, \"zerolinecolor\": \"white\", \"zerolinewidth\": 2}}}, \"title\": {\"font\": {\"color\": \"#4D5663\"}}, \"xaxis\": {\"gridcolor\": \"#E1E5ED\", \"showgrid\": true, \"tickfont\": {\"color\": \"#4D5663\"}, \"title\": {\"font\": {\"color\": \"#4D5663\"}, \"text\": \"\"}, \"zerolinecolor\": \"#E1E5ED\"}, \"yaxis\": {\"gridcolor\": \"#E1E5ED\", \"showgrid\": true, \"tickfont\": {\"color\": \"#4D5663\"}, \"title\": {\"font\": {\"color\": \"#4D5663\"}, \"text\": \"\"}, \"zerolinecolor\": \"#E1E5ED\"}},                        {\"showLink\": true, \"linkText\": \"Export to plot.ly\", \"plotlyServerURL\": \"https://plot.ly\", \"responsive\": true}                    ).then(function(){\n",
       "                            \n",
       "var gd = document.getElementById('fc3b3988-d5bb-44ef-9ae6-4a2241adc081');\n",
       "var x = new MutationObserver(function (mutations, observer) {{\n",
       "        var display = window.getComputedStyle(gd).display;\n",
       "        if (!display || display === 'none') {{\n",
       "            console.log([gd, 'removed!']);\n",
       "            Plotly.purge(gd);\n",
       "            observer.disconnect();\n",
       "        }}\n",
       "}});\n",
       "\n",
       "// Listen for the removal of the full notebook cells\n",
       "var notebookContainer = gd.closest('#notebook-container');\n",
       "if (notebookContainer) {{\n",
       "    x.observe(notebookContainer, {childList: true});\n",
       "}}\n",
       "\n",
       "// Listen for the clearing of the current output cell\n",
       "var outputEl = gd.closest('.output');\n",
       "if (outputEl) {{\n",
       "    x.observe(outputEl, {childList: true});\n",
       "}}\n",
       "\n",
       "                        })                };                });            </script>        </div>"
      ]
     },
     "metadata": {},
     "output_type": "display_data"
    }
   ],
   "source": [
    "df.iplot(kind='bubble', x='A', y='B', size='C')"
   ]
  },
  {
   "cell_type": "code",
   "execution_count": 27,
   "metadata": {},
   "outputs": [
    {
     "data": {
      "application/vnd.plotly.v1+json": {
       "config": {
        "linkText": "Export to plot.ly",
        "plotlyServerURL": "https://plot.ly",
        "showLink": true
       },
       "data": [
        {
         "histfunc": "count",
         "histnorm": "",
         "marker": {
          "color": "rgba(255, 153, 51, 1.0)",
          "line": {
           "color": "#4D5663",
           "width": 1.3
          }
         },
         "name": "A",
         "nbinsx": 10,
         "opacity": 0.8,
         "orientation": "v",
         "type": "histogram",
         "x": [
          -0.2531083250970203,
          0.44472867520184695,
          -0.6880739903817269,
          -0.32389688390050336,
          -0.21066679145064116,
          -0.7471305568135573,
          1.4644403155760901,
          -1.5390062758876004,
          -1.5425674761634856,
          0.1845770072180261,
          -1.04983457028772,
          2.958223043449747,
          0.19962163438520358,
          0.6809530686614672,
          0.14535502903675235,
          -0.7188442819492274,
          1.0125690660282616,
          0.05224314033522782,
          -1.8432338689264192,
          -0.3483895528924191,
          -0.3583306084919735,
          0.4761146454202297,
          -0.147129437965505,
          1.5220538503214163,
          -1.3273284502582012,
          0.16507303161167794,
          -0.0560374263769096,
          0.5784265198295464,
          -0.2740863346688317,
          2.143309560747731,
          0.1671101097738608,
          0.5490366739554574,
          0.013215510451084333,
          0.3940727215280942,
          -0.9521217551672523,
          -0.018722957509154415,
          1.43946284679207,
          0.5311864343840943,
          -0.9576730445124143,
          2.615701373800367,
          0.2969248462359406,
          -0.23254471608361083,
          0.02390791000105446,
          -0.5815987415883015,
          0.9797377817160473,
          0.3983322606335077,
          -0.6141282028185352,
          0.23784349161194623,
          -1.3199887141335402,
          0.6996938400462953,
          -0.2868779707094815,
          3.170323023876777,
          0.10997169936554678,
          1.3170088130777606,
          -2.658216644451961,
          -1.7510785196335596,
          0.2911423653054329,
          -0.3146626882337196,
          0.42671812938167997,
          -0.21623347798306392,
          1.3913338101835877,
          0.5186823638813134,
          0.4992351523475857,
          1.068339120041519,
          0.6850632859094586,
          -0.4906088150209769,
          -0.8859045960411523,
          0.3397388469656312,
          1.4342595849975506,
          0.09561282704554233,
          -1.2043279788958634,
          -0.5284463987481448,
          0.21111175740921415,
          0.6765630612537961,
          0.5447339666552157,
          1.9232009065877185,
          0.9311243971960865,
          -0.5857662928038426,
          0.1309340857065233,
          0.6307938743323313,
          -1.3313404549673353,
          0.6918609455835275,
          1.261217754803169,
          0.6246482895871643,
          0.7309726569960078,
          0.030697726306293666,
          -1.9848004838069544,
          -1.6463370700123259,
          1.2178820207045697,
          0.532948814095436,
          0.3317063505971597,
          0.2972599259821757,
          0.5219716784009186,
          -1.3582358763406823,
          -0.3475294045762002,
          0.5304741285949425,
          -0.7712291619711124,
          -0.8534484005792922,
          0.2469690148994338,
          -0.49158233930531514
         ],
         "xaxis": "x",
         "yaxis": "y"
        },
        {
         "line": {
          "color": "rgba(128, 128, 128, 1.0)",
          "dash": "solid",
          "shape": "linear",
          "width": 1.3
         },
         "marker": {
          "size": 2,
          "symbol": "circle"
         },
         "mode": "markers",
         "name": "A",
         "text": "",
         "type": "scatter",
         "x": [
          0.2692248590674567,
          2.5414565169787684,
          -1.3847684476344624,
          1.0279604222570988,
          0.32178606562036727,
          -0.71414958269869,
          1.3286475415150187,
          -0.18602555159568127,
          -0.6240462160771314,
          -0.013680420743699132,
          0.9216749121898704,
          0.36610989844719927,
          -0.23086136612047775,
          -1.561147103539752,
          -1.55113276236753,
          0.32854251512931804,
          -1.764333635340324,
          -0.7028625061339061,
          -1.435701932428522,
          0.924236301167901,
          0.038138911451752064,
          -0.7590936404033503,
          -0.11749600252730237,
          0.39633006465495496,
          -0.2107745967287429,
          0.5113421067521764,
          1.0929602611219198,
          0.18439027770308478,
          -1.0854390751429883,
          0.5118711694135236,
          0.40958311714195506,
          -0.41240221065986143,
          -0.859034971894161,
          -0.5529096332253796,
          -0.5232120174327071,
          -1.1530761095753999,
          -0.1916230903244878,
          -0.15954320592542995,
          -1.3107503419051287,
          -0.6670439421192467,
          0.16252815279435603,
          0.5864792595105315,
          0.31271069415931163,
          -1.4156239025283626,
          -0.2108067683301323,
          0.4009473642109201,
          -0.2717101826795173,
          -0.41699572886723774,
          -0.30082422068105297,
          0.5047385743026007,
          -1.9787868569877332,
          0.11751434764417365,
          -0.12085350747255721,
          0.34364779893495206,
          -1.8224513199521488,
          -1.2065012656680196,
          -0.7696169392939282,
          -0.5111253785557218,
          -0.3545273834343783,
          0.8978159418460043,
          -0.8157526385378127,
          -0.9572493594332675,
          0.4495184342597558,
          2.3261108979215734,
          -1.089090169046952,
          -0.3542045476423018,
          -0.43072727366645397,
          1.7074628488359203,
          -0.5323631224416054,
          -0.635697712321746,
          0.48855952132870645,
          1.3350182547014884,
          2.3452090589417276,
          0.09012629968942505,
          -1.2522205245484084,
          -0.7845119830949263,
          -0.6424298754383452,
          -1.0645184185886827,
          1.3427868037204183,
          -0.3878916530551524,
          -0.4621215801011234,
          -1.4910175723377412,
          0.002686208823228683,
          -0.5938418999955112,
          0.6179416582649397,
          0.15838027440967178,
          -1.3072408344980595,
          -0.14037572981081717,
          0.08944578304891387,
          0.40371386655793834,
          -1.2090705967400097,
          -0.15988167399899386,
          -0.7102046276701807,
          -1.474292195815174,
          -0.9781606303475665,
          -1.2263315181857672,
          1.131136855389624,
          1.0786752573396445,
          -1.305477163909878,
          0.2421897939764603
         ],
         "xaxis": "x2",
         "y": [
          -0.2531083250970203,
          0.44472867520184695,
          -0.6880739903817269,
          -0.32389688390050336,
          -0.21066679145064116,
          -0.7471305568135573,
          1.4644403155760901,
          -1.5390062758876004,
          -1.5425674761634856,
          0.1845770072180261,
          -1.04983457028772,
          2.958223043449747,
          0.19962163438520358,
          0.6809530686614672,
          0.14535502903675235,
          -0.7188442819492274,
          1.0125690660282616,
          0.05224314033522782,
          -1.8432338689264192,
          -0.3483895528924191,
          -0.3583306084919735,
          0.4761146454202297,
          -0.147129437965505,
          1.5220538503214163,
          -1.3273284502582012,
          0.16507303161167794,
          -0.0560374263769096,
          0.5784265198295464,
          -0.2740863346688317,
          2.143309560747731,
          0.1671101097738608,
          0.5490366739554574,
          0.013215510451084333,
          0.3940727215280942,
          -0.9521217551672523,
          -0.018722957509154415,
          1.43946284679207,
          0.5311864343840943,
          -0.9576730445124143,
          2.615701373800367,
          0.2969248462359406,
          -0.23254471608361083,
          0.02390791000105446,
          -0.5815987415883015,
          0.9797377817160473,
          0.3983322606335077,
          -0.6141282028185352,
          0.23784349161194623,
          -1.3199887141335402,
          0.6996938400462953,
          -0.2868779707094815,
          3.170323023876777,
          0.10997169936554678,
          1.3170088130777606,
          -2.658216644451961,
          -1.7510785196335596,
          0.2911423653054329,
          -0.3146626882337196,
          0.42671812938167997,
          -0.21623347798306392,
          1.3913338101835877,
          0.5186823638813134,
          0.4992351523475857,
          1.068339120041519,
          0.6850632859094586,
          -0.4906088150209769,
          -0.8859045960411523,
          0.3397388469656312,
          1.4342595849975506,
          0.09561282704554233,
          -1.2043279788958634,
          -0.5284463987481448,
          0.21111175740921415,
          0.6765630612537961,
          0.5447339666552157,
          1.9232009065877185,
          0.9311243971960865,
          -0.5857662928038426,
          0.1309340857065233,
          0.6307938743323313,
          -1.3313404549673353,
          0.6918609455835275,
          1.261217754803169,
          0.6246482895871643,
          0.7309726569960078,
          0.030697726306293666,
          -1.9848004838069544,
          -1.6463370700123259,
          1.2178820207045697,
          0.532948814095436,
          0.3317063505971597,
          0.2972599259821757,
          0.5219716784009186,
          -1.3582358763406823,
          -0.3475294045762002,
          0.5304741285949425,
          -0.7712291619711124,
          -0.8534484005792922,
          0.2469690148994338,
          -0.49158233930531514
         ],
         "yaxis": "y2"
        },
        {
         "line": {
          "color": "rgba(128, 128, 128, 1.0)",
          "dash": "solid",
          "shape": "linear",
          "width": 1.3
         },
         "marker": {
          "size": 2,
          "symbol": "circle"
         },
         "mode": "markers",
         "name": "A",
         "text": "",
         "type": "scatter",
         "x": [
          0.9845430614354537,
          1.4264547784811157,
          1.8185224615598867,
          0.2876235743837417,
          -0.15273863053357983,
          1.0672640673775675,
          0.36889847295683714,
          1.7582131837067485,
          0.6283354504314319,
          -0.16167766207986853,
          -0.2872649632996048,
          0.8215961640829661,
          0.480498537217956,
          0.02075013750145252,
          -1.1453851914667532,
          0.07800081841057309,
          0.5186564001148111,
          1.5079513777650961,
          -1.1656941375386918,
          -0.8055939069969118,
          -0.2696350033683586,
          -0.8286847723236382,
          -0.6522682365336133,
          1.081691162805879,
          0.1831095123488363,
          -0.5682789533346162,
          0.9928132158925893,
          1.8871253715982468,
          0.4336963940136164,
          0.8274590332282141,
          -1.3676126517313532,
          0.3625391579203631,
          -0.4198420834785065,
          -1.7522618013398874,
          -1.0943409743490962,
          1.5930933519180994,
          -0.3809535745932166,
          -0.07132020664631916,
          0.21094772772557083,
          1.4262956770952393,
          -0.18750703633071464,
          -1.7317701836166697,
          1.0554110904290748,
          0.7863549983579504,
          0.3144640312460261,
          -2.694341451993742,
          -1.7842572579759883,
          0.04072541689088181,
          1.1849237957676644,
          1.8613265763690219,
          -0.02870588501015,
          0.024582987754410042,
          2.255838657736544,
          -0.8234897901997741,
          -0.46085879890447956,
          0.7779373045120065,
          -0.3275359819714058,
          -0.7620853715885492,
          0.2266976150558581,
          -1.6665125148994269,
          -0.3403661546390149,
          2.163774530063942,
          -0.17569776103107237,
          0.0017418393701614686,
          -0.3863220961175093,
          -0.23254668193074243,
          0.600094182920535,
          1.4454255232328954,
          -0.07411531823787712,
          -0.4590766181330314,
          1.2483873746197836,
          0.6937370335745796,
          0.304054615850903,
          0.1282050670190241,
          -0.9963476782052268,
          0.7573250780041975,
          1.030235018977501,
          0.45788355206083126,
          0.2179323611002476,
          -1.2765176224547714,
          -0.05091228211186459,
          0.7872875248289407,
          -1.3727816638752337,
          -0.24429024354267057,
          0.2848800017257363,
          -0.9488131295734892,
          1.2207557940326388,
          -0.150187321056821,
          0.8319794732355743,
          -1.4875074618912505,
          -0.08982822957118794,
          -0.18921291714367677,
          -0.40016951985406524,
          -1.2794571246527122,
          -1.094534487829649,
          -0.4642133831026465,
          -0.35582950036557914,
          0.7179682389790413,
          0.30336413427558834,
          -1.7437205498720163
         ],
         "xaxis": "x3",
         "y": [
          -0.2531083250970203,
          0.44472867520184695,
          -0.6880739903817269,
          -0.32389688390050336,
          -0.21066679145064116,
          -0.7471305568135573,
          1.4644403155760901,
          -1.5390062758876004,
          -1.5425674761634856,
          0.1845770072180261,
          -1.04983457028772,
          2.958223043449747,
          0.19962163438520358,
          0.6809530686614672,
          0.14535502903675235,
          -0.7188442819492274,
          1.0125690660282616,
          0.05224314033522782,
          -1.8432338689264192,
          -0.3483895528924191,
          -0.3583306084919735,
          0.4761146454202297,
          -0.147129437965505,
          1.5220538503214163,
          -1.3273284502582012,
          0.16507303161167794,
          -0.0560374263769096,
          0.5784265198295464,
          -0.2740863346688317,
          2.143309560747731,
          0.1671101097738608,
          0.5490366739554574,
          0.013215510451084333,
          0.3940727215280942,
          -0.9521217551672523,
          -0.018722957509154415,
          1.43946284679207,
          0.5311864343840943,
          -0.9576730445124143,
          2.615701373800367,
          0.2969248462359406,
          -0.23254471608361083,
          0.02390791000105446,
          -0.5815987415883015,
          0.9797377817160473,
          0.3983322606335077,
          -0.6141282028185352,
          0.23784349161194623,
          -1.3199887141335402,
          0.6996938400462953,
          -0.2868779707094815,
          3.170323023876777,
          0.10997169936554678,
          1.3170088130777606,
          -2.658216644451961,
          -1.7510785196335596,
          0.2911423653054329,
          -0.3146626882337196,
          0.42671812938167997,
          -0.21623347798306392,
          1.3913338101835877,
          0.5186823638813134,
          0.4992351523475857,
          1.068339120041519,
          0.6850632859094586,
          -0.4906088150209769,
          -0.8859045960411523,
          0.3397388469656312,
          1.4342595849975506,
          0.09561282704554233,
          -1.2043279788958634,
          -0.5284463987481448,
          0.21111175740921415,
          0.6765630612537961,
          0.5447339666552157,
          1.9232009065877185,
          0.9311243971960865,
          -0.5857662928038426,
          0.1309340857065233,
          0.6307938743323313,
          -1.3313404549673353,
          0.6918609455835275,
          1.261217754803169,
          0.6246482895871643,
          0.7309726569960078,
          0.030697726306293666,
          -1.9848004838069544,
          -1.6463370700123259,
          1.2178820207045697,
          0.532948814095436,
          0.3317063505971597,
          0.2972599259821757,
          0.5219716784009186,
          -1.3582358763406823,
          -0.3475294045762002,
          0.5304741285949425,
          -0.7712291619711124,
          -0.8534484005792922,
          0.2469690148994338,
          -0.49158233930531514
         ],
         "yaxis": "y3"
        },
        {
         "line": {
          "color": "rgba(128, 128, 128, 1.0)",
          "dash": "solid",
          "shape": "linear",
          "width": 1.3
         },
         "marker": {
          "size": 2,
          "symbol": "circle"
         },
         "mode": "markers",
         "name": "A",
         "text": "",
         "type": "scatter",
         "x": [
          -1.1873759401072121,
          -0.21272893173520116,
          -0.3337398117192112,
          -0.26956520378390764,
          -1.7659624936732585,
          -0.6978766429196865,
          1.6725545487313158,
          0.09259338719191819,
          1.6453366231173143,
          -0.3833674186111683,
          1.6989508724793339,
          0.5983377937837228,
          0.5447352846764828,
          0.18099022472462933,
          1.5307594863059593,
          0.23142495576797836,
          -2.239277531098523,
          0.3752910312617037,
          0.2122588488728485,
          -0.9583627400158707,
          -0.026938775072069886,
          0.7131953417154699,
          1.2166546304056043,
          0.5914997911410284,
          0.8470642191414174,
          1.6466958348146044,
          -0.3639331891040234,
          -1.710068176230475,
          -1.5574786150076614,
          -0.6040313136124005,
          2.2301466554883644,
          0.9273061531277372,
          -0.7307650207334397,
          -0.7302001437813028,
          -0.48750578267528044,
          -0.35766261050834985,
          -0.6725031726706149,
          0.421873498857747,
          0.02556409448236915,
          0.4765293982838863,
          -1.2141185724581982,
          -1.639107377789116,
          -1.131724961813166,
          -0.4991893991036096,
          0.8914334239727241,
          0.556560970020493,
          -1.4675191010887423,
          -0.3973202818189989,
          -1.3272951822043146,
          0.13436309845109753,
          0.7554731936109603,
          0.20298422685684478,
          0.013433041100121399,
          -1.6219587781765432,
          -1.2919866455371372,
          1.7156967381957249,
          0.3421105516382237,
          1.2424484347790248,
          -1.0511765365084793,
          -0.26770727452964027,
          0.2996732318982424,
          2.592142105551428,
          -0.42639407320832945,
          2.1374720582633215,
          0.1484491726771624,
          0.09940343462618549,
          -0.5139219798838047,
          -0.8049296505862523,
          -0.4046966330808061,
          -1.3430346983946972,
          -0.06191568728436142,
          -0.4459407604275068,
          0.4540494393224033,
          0.8805770779046518,
          1.9278319180101513,
          -0.27752181605053633,
          -2.0236715828075607,
          0.9811780305866094,
          2.2022300541591475,
          -1.3825108801347603,
          0.97983023674692,
          -2.080809733204436,
          -0.5323966460427149,
          -1.375565887222923,
          0.7640666043568605,
          0.848594647794393,
          -1.1393736168819195,
          0.17793233394983657,
          1.8972293181130444,
          0.959783938955475,
          0.940058256679049,
          0.2807262610225058,
          -1.1588288692589268,
          -1.1965036252006027,
          1.2000502779767896,
          1.0549663172573462,
          -0.6876934291592685,
          0.572388846989946,
          -1.3302273547405212,
          -0.18950379001783332
         ],
         "xaxis": "x4",
         "y": [
          -0.2531083250970203,
          0.44472867520184695,
          -0.6880739903817269,
          -0.32389688390050336,
          -0.21066679145064116,
          -0.7471305568135573,
          1.4644403155760901,
          -1.5390062758876004,
          -1.5425674761634856,
          0.1845770072180261,
          -1.04983457028772,
          2.958223043449747,
          0.19962163438520358,
          0.6809530686614672,
          0.14535502903675235,
          -0.7188442819492274,
          1.0125690660282616,
          0.05224314033522782,
          -1.8432338689264192,
          -0.3483895528924191,
          -0.3583306084919735,
          0.4761146454202297,
          -0.147129437965505,
          1.5220538503214163,
          -1.3273284502582012,
          0.16507303161167794,
          -0.0560374263769096,
          0.5784265198295464,
          -0.2740863346688317,
          2.143309560747731,
          0.1671101097738608,
          0.5490366739554574,
          0.013215510451084333,
          0.3940727215280942,
          -0.9521217551672523,
          -0.018722957509154415,
          1.43946284679207,
          0.5311864343840943,
          -0.9576730445124143,
          2.615701373800367,
          0.2969248462359406,
          -0.23254471608361083,
          0.02390791000105446,
          -0.5815987415883015,
          0.9797377817160473,
          0.3983322606335077,
          -0.6141282028185352,
          0.23784349161194623,
          -1.3199887141335402,
          0.6996938400462953,
          -0.2868779707094815,
          3.170323023876777,
          0.10997169936554678,
          1.3170088130777606,
          -2.658216644451961,
          -1.7510785196335596,
          0.2911423653054329,
          -0.3146626882337196,
          0.42671812938167997,
          -0.21623347798306392,
          1.3913338101835877,
          0.5186823638813134,
          0.4992351523475857,
          1.068339120041519,
          0.6850632859094586,
          -0.4906088150209769,
          -0.8859045960411523,
          0.3397388469656312,
          1.4342595849975506,
          0.09561282704554233,
          -1.2043279788958634,
          -0.5284463987481448,
          0.21111175740921415,
          0.6765630612537961,
          0.5447339666552157,
          1.9232009065877185,
          0.9311243971960865,
          -0.5857662928038426,
          0.1309340857065233,
          0.6307938743323313,
          -1.3313404549673353,
          0.6918609455835275,
          1.261217754803169,
          0.6246482895871643,
          0.7309726569960078,
          0.030697726306293666,
          -1.9848004838069544,
          -1.6463370700123259,
          1.2178820207045697,
          0.532948814095436,
          0.3317063505971597,
          0.2972599259821757,
          0.5219716784009186,
          -1.3582358763406823,
          -0.3475294045762002,
          0.5304741285949425,
          -0.7712291619711124,
          -0.8534484005792922,
          0.2469690148994338,
          -0.49158233930531514
         ],
         "yaxis": "y4"
        },
        {
         "line": {
          "color": "rgba(128, 128, 128, 1.0)",
          "dash": "solid",
          "shape": "linear",
          "width": 1.3
         },
         "marker": {
          "size": 2,
          "symbol": "circle"
         },
         "mode": "markers",
         "name": "B",
         "text": "",
         "type": "scatter",
         "x": [
          -0.2531083250970203,
          0.44472867520184695,
          -0.6880739903817269,
          -0.32389688390050336,
          -0.21066679145064116,
          -0.7471305568135573,
          1.4644403155760901,
          -1.5390062758876004,
          -1.5425674761634856,
          0.1845770072180261,
          -1.04983457028772,
          2.958223043449747,
          0.19962163438520358,
          0.6809530686614672,
          0.14535502903675235,
          -0.7188442819492274,
          1.0125690660282616,
          0.05224314033522782,
          -1.8432338689264192,
          -0.3483895528924191,
          -0.3583306084919735,
          0.4761146454202297,
          -0.147129437965505,
          1.5220538503214163,
          -1.3273284502582012,
          0.16507303161167794,
          -0.0560374263769096,
          0.5784265198295464,
          -0.2740863346688317,
          2.143309560747731,
          0.1671101097738608,
          0.5490366739554574,
          0.013215510451084333,
          0.3940727215280942,
          -0.9521217551672523,
          -0.018722957509154415,
          1.43946284679207,
          0.5311864343840943,
          -0.9576730445124143,
          2.615701373800367,
          0.2969248462359406,
          -0.23254471608361083,
          0.02390791000105446,
          -0.5815987415883015,
          0.9797377817160473,
          0.3983322606335077,
          -0.6141282028185352,
          0.23784349161194623,
          -1.3199887141335402,
          0.6996938400462953,
          -0.2868779707094815,
          3.170323023876777,
          0.10997169936554678,
          1.3170088130777606,
          -2.658216644451961,
          -1.7510785196335596,
          0.2911423653054329,
          -0.3146626882337196,
          0.42671812938167997,
          -0.21623347798306392,
          1.3913338101835877,
          0.5186823638813134,
          0.4992351523475857,
          1.068339120041519,
          0.6850632859094586,
          -0.4906088150209769,
          -0.8859045960411523,
          0.3397388469656312,
          1.4342595849975506,
          0.09561282704554233,
          -1.2043279788958634,
          -0.5284463987481448,
          0.21111175740921415,
          0.6765630612537961,
          0.5447339666552157,
          1.9232009065877185,
          0.9311243971960865,
          -0.5857662928038426,
          0.1309340857065233,
          0.6307938743323313,
          -1.3313404549673353,
          0.6918609455835275,
          1.261217754803169,
          0.6246482895871643,
          0.7309726569960078,
          0.030697726306293666,
          -1.9848004838069544,
          -1.6463370700123259,
          1.2178820207045697,
          0.532948814095436,
          0.3317063505971597,
          0.2972599259821757,
          0.5219716784009186,
          -1.3582358763406823,
          -0.3475294045762002,
          0.5304741285949425,
          -0.7712291619711124,
          -0.8534484005792922,
          0.2469690148994338,
          -0.49158233930531514
         ],
         "xaxis": "x5",
         "y": [
          0.2692248590674567,
          2.5414565169787684,
          -1.3847684476344624,
          1.0279604222570988,
          0.32178606562036727,
          -0.71414958269869,
          1.3286475415150187,
          -0.18602555159568127,
          -0.6240462160771314,
          -0.013680420743699132,
          0.9216749121898704,
          0.36610989844719927,
          -0.23086136612047775,
          -1.561147103539752,
          -1.55113276236753,
          0.32854251512931804,
          -1.764333635340324,
          -0.7028625061339061,
          -1.435701932428522,
          0.924236301167901,
          0.038138911451752064,
          -0.7590936404033503,
          -0.11749600252730237,
          0.39633006465495496,
          -0.2107745967287429,
          0.5113421067521764,
          1.0929602611219198,
          0.18439027770308478,
          -1.0854390751429883,
          0.5118711694135236,
          0.40958311714195506,
          -0.41240221065986143,
          -0.859034971894161,
          -0.5529096332253796,
          -0.5232120174327071,
          -1.1530761095753999,
          -0.1916230903244878,
          -0.15954320592542995,
          -1.3107503419051287,
          -0.6670439421192467,
          0.16252815279435603,
          0.5864792595105315,
          0.31271069415931163,
          -1.4156239025283626,
          -0.2108067683301323,
          0.4009473642109201,
          -0.2717101826795173,
          -0.41699572886723774,
          -0.30082422068105297,
          0.5047385743026007,
          -1.9787868569877332,
          0.11751434764417365,
          -0.12085350747255721,
          0.34364779893495206,
          -1.8224513199521488,
          -1.2065012656680196,
          -0.7696169392939282,
          -0.5111253785557218,
          -0.3545273834343783,
          0.8978159418460043,
          -0.8157526385378127,
          -0.9572493594332675,
          0.4495184342597558,
          2.3261108979215734,
          -1.089090169046952,
          -0.3542045476423018,
          -0.43072727366645397,
          1.7074628488359203,
          -0.5323631224416054,
          -0.635697712321746,
          0.48855952132870645,
          1.3350182547014884,
          2.3452090589417276,
          0.09012629968942505,
          -1.2522205245484084,
          -0.7845119830949263,
          -0.6424298754383452,
          -1.0645184185886827,
          1.3427868037204183,
          -0.3878916530551524,
          -0.4621215801011234,
          -1.4910175723377412,
          0.002686208823228683,
          -0.5938418999955112,
          0.6179416582649397,
          0.15838027440967178,
          -1.3072408344980595,
          -0.14037572981081717,
          0.08944578304891387,
          0.40371386655793834,
          -1.2090705967400097,
          -0.15988167399899386,
          -0.7102046276701807,
          -1.474292195815174,
          -0.9781606303475665,
          -1.2263315181857672,
          1.131136855389624,
          1.0786752573396445,
          -1.305477163909878,
          0.2421897939764603
         ],
         "yaxis": "y5"
        },
        {
         "histfunc": "count",
         "histnorm": "",
         "marker": {
          "color": "rgba(55, 128, 191, 1.0)",
          "line": {
           "color": "#4D5663",
           "width": 1.3
          }
         },
         "name": "B",
         "nbinsx": 10,
         "opacity": 0.8,
         "orientation": "v",
         "type": "histogram",
         "x": [
          0.2692248590674567,
          2.5414565169787684,
          -1.3847684476344624,
          1.0279604222570988,
          0.32178606562036727,
          -0.71414958269869,
          1.3286475415150187,
          -0.18602555159568127,
          -0.6240462160771314,
          -0.013680420743699132,
          0.9216749121898704,
          0.36610989844719927,
          -0.23086136612047775,
          -1.561147103539752,
          -1.55113276236753,
          0.32854251512931804,
          -1.764333635340324,
          -0.7028625061339061,
          -1.435701932428522,
          0.924236301167901,
          0.038138911451752064,
          -0.7590936404033503,
          -0.11749600252730237,
          0.39633006465495496,
          -0.2107745967287429,
          0.5113421067521764,
          1.0929602611219198,
          0.18439027770308478,
          -1.0854390751429883,
          0.5118711694135236,
          0.40958311714195506,
          -0.41240221065986143,
          -0.859034971894161,
          -0.5529096332253796,
          -0.5232120174327071,
          -1.1530761095753999,
          -0.1916230903244878,
          -0.15954320592542995,
          -1.3107503419051287,
          -0.6670439421192467,
          0.16252815279435603,
          0.5864792595105315,
          0.31271069415931163,
          -1.4156239025283626,
          -0.2108067683301323,
          0.4009473642109201,
          -0.2717101826795173,
          -0.41699572886723774,
          -0.30082422068105297,
          0.5047385743026007,
          -1.9787868569877332,
          0.11751434764417365,
          -0.12085350747255721,
          0.34364779893495206,
          -1.8224513199521488,
          -1.2065012656680196,
          -0.7696169392939282,
          -0.5111253785557218,
          -0.3545273834343783,
          0.8978159418460043,
          -0.8157526385378127,
          -0.9572493594332675,
          0.4495184342597558,
          2.3261108979215734,
          -1.089090169046952,
          -0.3542045476423018,
          -0.43072727366645397,
          1.7074628488359203,
          -0.5323631224416054,
          -0.635697712321746,
          0.48855952132870645,
          1.3350182547014884,
          2.3452090589417276,
          0.09012629968942505,
          -1.2522205245484084,
          -0.7845119830949263,
          -0.6424298754383452,
          -1.0645184185886827,
          1.3427868037204183,
          -0.3878916530551524,
          -0.4621215801011234,
          -1.4910175723377412,
          0.002686208823228683,
          -0.5938418999955112,
          0.6179416582649397,
          0.15838027440967178,
          -1.3072408344980595,
          -0.14037572981081717,
          0.08944578304891387,
          0.40371386655793834,
          -1.2090705967400097,
          -0.15988167399899386,
          -0.7102046276701807,
          -1.474292195815174,
          -0.9781606303475665,
          -1.2263315181857672,
          1.131136855389624,
          1.0786752573396445,
          -1.305477163909878,
          0.2421897939764603
         ],
         "xaxis": "x6",
         "yaxis": "y6"
        },
        {
         "line": {
          "color": "rgba(128, 128, 128, 1.0)",
          "dash": "solid",
          "shape": "linear",
          "width": 1.3
         },
         "marker": {
          "size": 2,
          "symbol": "circle"
         },
         "mode": "markers",
         "name": "B",
         "text": "",
         "type": "scatter",
         "x": [
          0.9845430614354537,
          1.4264547784811157,
          1.8185224615598867,
          0.2876235743837417,
          -0.15273863053357983,
          1.0672640673775675,
          0.36889847295683714,
          1.7582131837067485,
          0.6283354504314319,
          -0.16167766207986853,
          -0.2872649632996048,
          0.8215961640829661,
          0.480498537217956,
          0.02075013750145252,
          -1.1453851914667532,
          0.07800081841057309,
          0.5186564001148111,
          1.5079513777650961,
          -1.1656941375386918,
          -0.8055939069969118,
          -0.2696350033683586,
          -0.8286847723236382,
          -0.6522682365336133,
          1.081691162805879,
          0.1831095123488363,
          -0.5682789533346162,
          0.9928132158925893,
          1.8871253715982468,
          0.4336963940136164,
          0.8274590332282141,
          -1.3676126517313532,
          0.3625391579203631,
          -0.4198420834785065,
          -1.7522618013398874,
          -1.0943409743490962,
          1.5930933519180994,
          -0.3809535745932166,
          -0.07132020664631916,
          0.21094772772557083,
          1.4262956770952393,
          -0.18750703633071464,
          -1.7317701836166697,
          1.0554110904290748,
          0.7863549983579504,
          0.3144640312460261,
          -2.694341451993742,
          -1.7842572579759883,
          0.04072541689088181,
          1.1849237957676644,
          1.8613265763690219,
          -0.02870588501015,
          0.024582987754410042,
          2.255838657736544,
          -0.8234897901997741,
          -0.46085879890447956,
          0.7779373045120065,
          -0.3275359819714058,
          -0.7620853715885492,
          0.2266976150558581,
          -1.6665125148994269,
          -0.3403661546390149,
          2.163774530063942,
          -0.17569776103107237,
          0.0017418393701614686,
          -0.3863220961175093,
          -0.23254668193074243,
          0.600094182920535,
          1.4454255232328954,
          -0.07411531823787712,
          -0.4590766181330314,
          1.2483873746197836,
          0.6937370335745796,
          0.304054615850903,
          0.1282050670190241,
          -0.9963476782052268,
          0.7573250780041975,
          1.030235018977501,
          0.45788355206083126,
          0.2179323611002476,
          -1.2765176224547714,
          -0.05091228211186459,
          0.7872875248289407,
          -1.3727816638752337,
          -0.24429024354267057,
          0.2848800017257363,
          -0.9488131295734892,
          1.2207557940326388,
          -0.150187321056821,
          0.8319794732355743,
          -1.4875074618912505,
          -0.08982822957118794,
          -0.18921291714367677,
          -0.40016951985406524,
          -1.2794571246527122,
          -1.094534487829649,
          -0.4642133831026465,
          -0.35582950036557914,
          0.7179682389790413,
          0.30336413427558834,
          -1.7437205498720163
         ],
         "xaxis": "x7",
         "y": [
          0.2692248590674567,
          2.5414565169787684,
          -1.3847684476344624,
          1.0279604222570988,
          0.32178606562036727,
          -0.71414958269869,
          1.3286475415150187,
          -0.18602555159568127,
          -0.6240462160771314,
          -0.013680420743699132,
          0.9216749121898704,
          0.36610989844719927,
          -0.23086136612047775,
          -1.561147103539752,
          -1.55113276236753,
          0.32854251512931804,
          -1.764333635340324,
          -0.7028625061339061,
          -1.435701932428522,
          0.924236301167901,
          0.038138911451752064,
          -0.7590936404033503,
          -0.11749600252730237,
          0.39633006465495496,
          -0.2107745967287429,
          0.5113421067521764,
          1.0929602611219198,
          0.18439027770308478,
          -1.0854390751429883,
          0.5118711694135236,
          0.40958311714195506,
          -0.41240221065986143,
          -0.859034971894161,
          -0.5529096332253796,
          -0.5232120174327071,
          -1.1530761095753999,
          -0.1916230903244878,
          -0.15954320592542995,
          -1.3107503419051287,
          -0.6670439421192467,
          0.16252815279435603,
          0.5864792595105315,
          0.31271069415931163,
          -1.4156239025283626,
          -0.2108067683301323,
          0.4009473642109201,
          -0.2717101826795173,
          -0.41699572886723774,
          -0.30082422068105297,
          0.5047385743026007,
          -1.9787868569877332,
          0.11751434764417365,
          -0.12085350747255721,
          0.34364779893495206,
          -1.8224513199521488,
          -1.2065012656680196,
          -0.7696169392939282,
          -0.5111253785557218,
          -0.3545273834343783,
          0.8978159418460043,
          -0.8157526385378127,
          -0.9572493594332675,
          0.4495184342597558,
          2.3261108979215734,
          -1.089090169046952,
          -0.3542045476423018,
          -0.43072727366645397,
          1.7074628488359203,
          -0.5323631224416054,
          -0.635697712321746,
          0.48855952132870645,
          1.3350182547014884,
          2.3452090589417276,
          0.09012629968942505,
          -1.2522205245484084,
          -0.7845119830949263,
          -0.6424298754383452,
          -1.0645184185886827,
          1.3427868037204183,
          -0.3878916530551524,
          -0.4621215801011234,
          -1.4910175723377412,
          0.002686208823228683,
          -0.5938418999955112,
          0.6179416582649397,
          0.15838027440967178,
          -1.3072408344980595,
          -0.14037572981081717,
          0.08944578304891387,
          0.40371386655793834,
          -1.2090705967400097,
          -0.15988167399899386,
          -0.7102046276701807,
          -1.474292195815174,
          -0.9781606303475665,
          -1.2263315181857672,
          1.131136855389624,
          1.0786752573396445,
          -1.305477163909878,
          0.2421897939764603
         ],
         "yaxis": "y7"
        },
        {
         "line": {
          "color": "rgba(128, 128, 128, 1.0)",
          "dash": "solid",
          "shape": "linear",
          "width": 1.3
         },
         "marker": {
          "size": 2,
          "symbol": "circle"
         },
         "mode": "markers",
         "name": "B",
         "text": "",
         "type": "scatter",
         "x": [
          -1.1873759401072121,
          -0.21272893173520116,
          -0.3337398117192112,
          -0.26956520378390764,
          -1.7659624936732585,
          -0.6978766429196865,
          1.6725545487313158,
          0.09259338719191819,
          1.6453366231173143,
          -0.3833674186111683,
          1.6989508724793339,
          0.5983377937837228,
          0.5447352846764828,
          0.18099022472462933,
          1.5307594863059593,
          0.23142495576797836,
          -2.239277531098523,
          0.3752910312617037,
          0.2122588488728485,
          -0.9583627400158707,
          -0.026938775072069886,
          0.7131953417154699,
          1.2166546304056043,
          0.5914997911410284,
          0.8470642191414174,
          1.6466958348146044,
          -0.3639331891040234,
          -1.710068176230475,
          -1.5574786150076614,
          -0.6040313136124005,
          2.2301466554883644,
          0.9273061531277372,
          -0.7307650207334397,
          -0.7302001437813028,
          -0.48750578267528044,
          -0.35766261050834985,
          -0.6725031726706149,
          0.421873498857747,
          0.02556409448236915,
          0.4765293982838863,
          -1.2141185724581982,
          -1.639107377789116,
          -1.131724961813166,
          -0.4991893991036096,
          0.8914334239727241,
          0.556560970020493,
          -1.4675191010887423,
          -0.3973202818189989,
          -1.3272951822043146,
          0.13436309845109753,
          0.7554731936109603,
          0.20298422685684478,
          0.013433041100121399,
          -1.6219587781765432,
          -1.2919866455371372,
          1.7156967381957249,
          0.3421105516382237,
          1.2424484347790248,
          -1.0511765365084793,
          -0.26770727452964027,
          0.2996732318982424,
          2.592142105551428,
          -0.42639407320832945,
          2.1374720582633215,
          0.1484491726771624,
          0.09940343462618549,
          -0.5139219798838047,
          -0.8049296505862523,
          -0.4046966330808061,
          -1.3430346983946972,
          -0.06191568728436142,
          -0.4459407604275068,
          0.4540494393224033,
          0.8805770779046518,
          1.9278319180101513,
          -0.27752181605053633,
          -2.0236715828075607,
          0.9811780305866094,
          2.2022300541591475,
          -1.3825108801347603,
          0.97983023674692,
          -2.080809733204436,
          -0.5323966460427149,
          -1.375565887222923,
          0.7640666043568605,
          0.848594647794393,
          -1.1393736168819195,
          0.17793233394983657,
          1.8972293181130444,
          0.959783938955475,
          0.940058256679049,
          0.2807262610225058,
          -1.1588288692589268,
          -1.1965036252006027,
          1.2000502779767896,
          1.0549663172573462,
          -0.6876934291592685,
          0.572388846989946,
          -1.3302273547405212,
          -0.18950379001783332
         ],
         "xaxis": "x8",
         "y": [
          0.2692248590674567,
          2.5414565169787684,
          -1.3847684476344624,
          1.0279604222570988,
          0.32178606562036727,
          -0.71414958269869,
          1.3286475415150187,
          -0.18602555159568127,
          -0.6240462160771314,
          -0.013680420743699132,
          0.9216749121898704,
          0.36610989844719927,
          -0.23086136612047775,
          -1.561147103539752,
          -1.55113276236753,
          0.32854251512931804,
          -1.764333635340324,
          -0.7028625061339061,
          -1.435701932428522,
          0.924236301167901,
          0.038138911451752064,
          -0.7590936404033503,
          -0.11749600252730237,
          0.39633006465495496,
          -0.2107745967287429,
          0.5113421067521764,
          1.0929602611219198,
          0.18439027770308478,
          -1.0854390751429883,
          0.5118711694135236,
          0.40958311714195506,
          -0.41240221065986143,
          -0.859034971894161,
          -0.5529096332253796,
          -0.5232120174327071,
          -1.1530761095753999,
          -0.1916230903244878,
          -0.15954320592542995,
          -1.3107503419051287,
          -0.6670439421192467,
          0.16252815279435603,
          0.5864792595105315,
          0.31271069415931163,
          -1.4156239025283626,
          -0.2108067683301323,
          0.4009473642109201,
          -0.2717101826795173,
          -0.41699572886723774,
          -0.30082422068105297,
          0.5047385743026007,
          -1.9787868569877332,
          0.11751434764417365,
          -0.12085350747255721,
          0.34364779893495206,
          -1.8224513199521488,
          -1.2065012656680196,
          -0.7696169392939282,
          -0.5111253785557218,
          -0.3545273834343783,
          0.8978159418460043,
          -0.8157526385378127,
          -0.9572493594332675,
          0.4495184342597558,
          2.3261108979215734,
          -1.089090169046952,
          -0.3542045476423018,
          -0.43072727366645397,
          1.7074628488359203,
          -0.5323631224416054,
          -0.635697712321746,
          0.48855952132870645,
          1.3350182547014884,
          2.3452090589417276,
          0.09012629968942505,
          -1.2522205245484084,
          -0.7845119830949263,
          -0.6424298754383452,
          -1.0645184185886827,
          1.3427868037204183,
          -0.3878916530551524,
          -0.4621215801011234,
          -1.4910175723377412,
          0.002686208823228683,
          -0.5938418999955112,
          0.6179416582649397,
          0.15838027440967178,
          -1.3072408344980595,
          -0.14037572981081717,
          0.08944578304891387,
          0.40371386655793834,
          -1.2090705967400097,
          -0.15988167399899386,
          -0.7102046276701807,
          -1.474292195815174,
          -0.9781606303475665,
          -1.2263315181857672,
          1.131136855389624,
          1.0786752573396445,
          -1.305477163909878,
          0.2421897939764603
         ],
         "yaxis": "y8"
        },
        {
         "line": {
          "color": "rgba(128, 128, 128, 1.0)",
          "dash": "solid",
          "shape": "linear",
          "width": 1.3
         },
         "marker": {
          "size": 2,
          "symbol": "circle"
         },
         "mode": "markers",
         "name": "C",
         "text": "",
         "type": "scatter",
         "x": [
          -0.2531083250970203,
          0.44472867520184695,
          -0.6880739903817269,
          -0.32389688390050336,
          -0.21066679145064116,
          -0.7471305568135573,
          1.4644403155760901,
          -1.5390062758876004,
          -1.5425674761634856,
          0.1845770072180261,
          -1.04983457028772,
          2.958223043449747,
          0.19962163438520358,
          0.6809530686614672,
          0.14535502903675235,
          -0.7188442819492274,
          1.0125690660282616,
          0.05224314033522782,
          -1.8432338689264192,
          -0.3483895528924191,
          -0.3583306084919735,
          0.4761146454202297,
          -0.147129437965505,
          1.5220538503214163,
          -1.3273284502582012,
          0.16507303161167794,
          -0.0560374263769096,
          0.5784265198295464,
          -0.2740863346688317,
          2.143309560747731,
          0.1671101097738608,
          0.5490366739554574,
          0.013215510451084333,
          0.3940727215280942,
          -0.9521217551672523,
          -0.018722957509154415,
          1.43946284679207,
          0.5311864343840943,
          -0.9576730445124143,
          2.615701373800367,
          0.2969248462359406,
          -0.23254471608361083,
          0.02390791000105446,
          -0.5815987415883015,
          0.9797377817160473,
          0.3983322606335077,
          -0.6141282028185352,
          0.23784349161194623,
          -1.3199887141335402,
          0.6996938400462953,
          -0.2868779707094815,
          3.170323023876777,
          0.10997169936554678,
          1.3170088130777606,
          -2.658216644451961,
          -1.7510785196335596,
          0.2911423653054329,
          -0.3146626882337196,
          0.42671812938167997,
          -0.21623347798306392,
          1.3913338101835877,
          0.5186823638813134,
          0.4992351523475857,
          1.068339120041519,
          0.6850632859094586,
          -0.4906088150209769,
          -0.8859045960411523,
          0.3397388469656312,
          1.4342595849975506,
          0.09561282704554233,
          -1.2043279788958634,
          -0.5284463987481448,
          0.21111175740921415,
          0.6765630612537961,
          0.5447339666552157,
          1.9232009065877185,
          0.9311243971960865,
          -0.5857662928038426,
          0.1309340857065233,
          0.6307938743323313,
          -1.3313404549673353,
          0.6918609455835275,
          1.261217754803169,
          0.6246482895871643,
          0.7309726569960078,
          0.030697726306293666,
          -1.9848004838069544,
          -1.6463370700123259,
          1.2178820207045697,
          0.532948814095436,
          0.3317063505971597,
          0.2972599259821757,
          0.5219716784009186,
          -1.3582358763406823,
          -0.3475294045762002,
          0.5304741285949425,
          -0.7712291619711124,
          -0.8534484005792922,
          0.2469690148994338,
          -0.49158233930531514
         ],
         "xaxis": "x9",
         "y": [
          0.9845430614354537,
          1.4264547784811157,
          1.8185224615598867,
          0.2876235743837417,
          -0.15273863053357983,
          1.0672640673775675,
          0.36889847295683714,
          1.7582131837067485,
          0.6283354504314319,
          -0.16167766207986853,
          -0.2872649632996048,
          0.8215961640829661,
          0.480498537217956,
          0.02075013750145252,
          -1.1453851914667532,
          0.07800081841057309,
          0.5186564001148111,
          1.5079513777650961,
          -1.1656941375386918,
          -0.8055939069969118,
          -0.2696350033683586,
          -0.8286847723236382,
          -0.6522682365336133,
          1.081691162805879,
          0.1831095123488363,
          -0.5682789533346162,
          0.9928132158925893,
          1.8871253715982468,
          0.4336963940136164,
          0.8274590332282141,
          -1.3676126517313532,
          0.3625391579203631,
          -0.4198420834785065,
          -1.7522618013398874,
          -1.0943409743490962,
          1.5930933519180994,
          -0.3809535745932166,
          -0.07132020664631916,
          0.21094772772557083,
          1.4262956770952393,
          -0.18750703633071464,
          -1.7317701836166697,
          1.0554110904290748,
          0.7863549983579504,
          0.3144640312460261,
          -2.694341451993742,
          -1.7842572579759883,
          0.04072541689088181,
          1.1849237957676644,
          1.8613265763690219,
          -0.02870588501015,
          0.024582987754410042,
          2.255838657736544,
          -0.8234897901997741,
          -0.46085879890447956,
          0.7779373045120065,
          -0.3275359819714058,
          -0.7620853715885492,
          0.2266976150558581,
          -1.6665125148994269,
          -0.3403661546390149,
          2.163774530063942,
          -0.17569776103107237,
          0.0017418393701614686,
          -0.3863220961175093,
          -0.23254668193074243,
          0.600094182920535,
          1.4454255232328954,
          -0.07411531823787712,
          -0.4590766181330314,
          1.2483873746197836,
          0.6937370335745796,
          0.304054615850903,
          0.1282050670190241,
          -0.9963476782052268,
          0.7573250780041975,
          1.030235018977501,
          0.45788355206083126,
          0.2179323611002476,
          -1.2765176224547714,
          -0.05091228211186459,
          0.7872875248289407,
          -1.3727816638752337,
          -0.24429024354267057,
          0.2848800017257363,
          -0.9488131295734892,
          1.2207557940326388,
          -0.150187321056821,
          0.8319794732355743,
          -1.4875074618912505,
          -0.08982822957118794,
          -0.18921291714367677,
          -0.40016951985406524,
          -1.2794571246527122,
          -1.094534487829649,
          -0.4642133831026465,
          -0.35582950036557914,
          0.7179682389790413,
          0.30336413427558834,
          -1.7437205498720163
         ],
         "yaxis": "y9"
        },
        {
         "line": {
          "color": "rgba(128, 128, 128, 1.0)",
          "dash": "solid",
          "shape": "linear",
          "width": 1.3
         },
         "marker": {
          "size": 2,
          "symbol": "circle"
         },
         "mode": "markers",
         "name": "C",
         "text": "",
         "type": "scatter",
         "x": [
          0.2692248590674567,
          2.5414565169787684,
          -1.3847684476344624,
          1.0279604222570988,
          0.32178606562036727,
          -0.71414958269869,
          1.3286475415150187,
          -0.18602555159568127,
          -0.6240462160771314,
          -0.013680420743699132,
          0.9216749121898704,
          0.36610989844719927,
          -0.23086136612047775,
          -1.561147103539752,
          -1.55113276236753,
          0.32854251512931804,
          -1.764333635340324,
          -0.7028625061339061,
          -1.435701932428522,
          0.924236301167901,
          0.038138911451752064,
          -0.7590936404033503,
          -0.11749600252730237,
          0.39633006465495496,
          -0.2107745967287429,
          0.5113421067521764,
          1.0929602611219198,
          0.18439027770308478,
          -1.0854390751429883,
          0.5118711694135236,
          0.40958311714195506,
          -0.41240221065986143,
          -0.859034971894161,
          -0.5529096332253796,
          -0.5232120174327071,
          -1.1530761095753999,
          -0.1916230903244878,
          -0.15954320592542995,
          -1.3107503419051287,
          -0.6670439421192467,
          0.16252815279435603,
          0.5864792595105315,
          0.31271069415931163,
          -1.4156239025283626,
          -0.2108067683301323,
          0.4009473642109201,
          -0.2717101826795173,
          -0.41699572886723774,
          -0.30082422068105297,
          0.5047385743026007,
          -1.9787868569877332,
          0.11751434764417365,
          -0.12085350747255721,
          0.34364779893495206,
          -1.8224513199521488,
          -1.2065012656680196,
          -0.7696169392939282,
          -0.5111253785557218,
          -0.3545273834343783,
          0.8978159418460043,
          -0.8157526385378127,
          -0.9572493594332675,
          0.4495184342597558,
          2.3261108979215734,
          -1.089090169046952,
          -0.3542045476423018,
          -0.43072727366645397,
          1.7074628488359203,
          -0.5323631224416054,
          -0.635697712321746,
          0.48855952132870645,
          1.3350182547014884,
          2.3452090589417276,
          0.09012629968942505,
          -1.2522205245484084,
          -0.7845119830949263,
          -0.6424298754383452,
          -1.0645184185886827,
          1.3427868037204183,
          -0.3878916530551524,
          -0.4621215801011234,
          -1.4910175723377412,
          0.002686208823228683,
          -0.5938418999955112,
          0.6179416582649397,
          0.15838027440967178,
          -1.3072408344980595,
          -0.14037572981081717,
          0.08944578304891387,
          0.40371386655793834,
          -1.2090705967400097,
          -0.15988167399899386,
          -0.7102046276701807,
          -1.474292195815174,
          -0.9781606303475665,
          -1.2263315181857672,
          1.131136855389624,
          1.0786752573396445,
          -1.305477163909878,
          0.2421897939764603
         ],
         "xaxis": "x10",
         "y": [
          0.9845430614354537,
          1.4264547784811157,
          1.8185224615598867,
          0.2876235743837417,
          -0.15273863053357983,
          1.0672640673775675,
          0.36889847295683714,
          1.7582131837067485,
          0.6283354504314319,
          -0.16167766207986853,
          -0.2872649632996048,
          0.8215961640829661,
          0.480498537217956,
          0.02075013750145252,
          -1.1453851914667532,
          0.07800081841057309,
          0.5186564001148111,
          1.5079513777650961,
          -1.1656941375386918,
          -0.8055939069969118,
          -0.2696350033683586,
          -0.8286847723236382,
          -0.6522682365336133,
          1.081691162805879,
          0.1831095123488363,
          -0.5682789533346162,
          0.9928132158925893,
          1.8871253715982468,
          0.4336963940136164,
          0.8274590332282141,
          -1.3676126517313532,
          0.3625391579203631,
          -0.4198420834785065,
          -1.7522618013398874,
          -1.0943409743490962,
          1.5930933519180994,
          -0.3809535745932166,
          -0.07132020664631916,
          0.21094772772557083,
          1.4262956770952393,
          -0.18750703633071464,
          -1.7317701836166697,
          1.0554110904290748,
          0.7863549983579504,
          0.3144640312460261,
          -2.694341451993742,
          -1.7842572579759883,
          0.04072541689088181,
          1.1849237957676644,
          1.8613265763690219,
          -0.02870588501015,
          0.024582987754410042,
          2.255838657736544,
          -0.8234897901997741,
          -0.46085879890447956,
          0.7779373045120065,
          -0.3275359819714058,
          -0.7620853715885492,
          0.2266976150558581,
          -1.6665125148994269,
          -0.3403661546390149,
          2.163774530063942,
          -0.17569776103107237,
          0.0017418393701614686,
          -0.3863220961175093,
          -0.23254668193074243,
          0.600094182920535,
          1.4454255232328954,
          -0.07411531823787712,
          -0.4590766181330314,
          1.2483873746197836,
          0.6937370335745796,
          0.304054615850903,
          0.1282050670190241,
          -0.9963476782052268,
          0.7573250780041975,
          1.030235018977501,
          0.45788355206083126,
          0.2179323611002476,
          -1.2765176224547714,
          -0.05091228211186459,
          0.7872875248289407,
          -1.3727816638752337,
          -0.24429024354267057,
          0.2848800017257363,
          -0.9488131295734892,
          1.2207557940326388,
          -0.150187321056821,
          0.8319794732355743,
          -1.4875074618912505,
          -0.08982822957118794,
          -0.18921291714367677,
          -0.40016951985406524,
          -1.2794571246527122,
          -1.094534487829649,
          -0.4642133831026465,
          -0.35582950036557914,
          0.7179682389790413,
          0.30336413427558834,
          -1.7437205498720163
         ],
         "yaxis": "y10"
        },
        {
         "histfunc": "count",
         "histnorm": "",
         "marker": {
          "color": "rgba(50, 171, 96, 1.0)",
          "line": {
           "color": "#4D5663",
           "width": 1.3
          }
         },
         "name": "C",
         "nbinsx": 10,
         "opacity": 0.8,
         "orientation": "v",
         "type": "histogram",
         "x": [
          0.9845430614354537,
          1.4264547784811157,
          1.8185224615598867,
          0.2876235743837417,
          -0.15273863053357983,
          1.0672640673775675,
          0.36889847295683714,
          1.7582131837067485,
          0.6283354504314319,
          -0.16167766207986853,
          -0.2872649632996048,
          0.8215961640829661,
          0.480498537217956,
          0.02075013750145252,
          -1.1453851914667532,
          0.07800081841057309,
          0.5186564001148111,
          1.5079513777650961,
          -1.1656941375386918,
          -0.8055939069969118,
          -0.2696350033683586,
          -0.8286847723236382,
          -0.6522682365336133,
          1.081691162805879,
          0.1831095123488363,
          -0.5682789533346162,
          0.9928132158925893,
          1.8871253715982468,
          0.4336963940136164,
          0.8274590332282141,
          -1.3676126517313532,
          0.3625391579203631,
          -0.4198420834785065,
          -1.7522618013398874,
          -1.0943409743490962,
          1.5930933519180994,
          -0.3809535745932166,
          -0.07132020664631916,
          0.21094772772557083,
          1.4262956770952393,
          -0.18750703633071464,
          -1.7317701836166697,
          1.0554110904290748,
          0.7863549983579504,
          0.3144640312460261,
          -2.694341451993742,
          -1.7842572579759883,
          0.04072541689088181,
          1.1849237957676644,
          1.8613265763690219,
          -0.02870588501015,
          0.024582987754410042,
          2.255838657736544,
          -0.8234897901997741,
          -0.46085879890447956,
          0.7779373045120065,
          -0.3275359819714058,
          -0.7620853715885492,
          0.2266976150558581,
          -1.6665125148994269,
          -0.3403661546390149,
          2.163774530063942,
          -0.17569776103107237,
          0.0017418393701614686,
          -0.3863220961175093,
          -0.23254668193074243,
          0.600094182920535,
          1.4454255232328954,
          -0.07411531823787712,
          -0.4590766181330314,
          1.2483873746197836,
          0.6937370335745796,
          0.304054615850903,
          0.1282050670190241,
          -0.9963476782052268,
          0.7573250780041975,
          1.030235018977501,
          0.45788355206083126,
          0.2179323611002476,
          -1.2765176224547714,
          -0.05091228211186459,
          0.7872875248289407,
          -1.3727816638752337,
          -0.24429024354267057,
          0.2848800017257363,
          -0.9488131295734892,
          1.2207557940326388,
          -0.150187321056821,
          0.8319794732355743,
          -1.4875074618912505,
          -0.08982822957118794,
          -0.18921291714367677,
          -0.40016951985406524,
          -1.2794571246527122,
          -1.094534487829649,
          -0.4642133831026465,
          -0.35582950036557914,
          0.7179682389790413,
          0.30336413427558834,
          -1.7437205498720163
         ],
         "xaxis": "x11",
         "yaxis": "y11"
        },
        {
         "line": {
          "color": "rgba(128, 128, 128, 1.0)",
          "dash": "solid",
          "shape": "linear",
          "width": 1.3
         },
         "marker": {
          "size": 2,
          "symbol": "circle"
         },
         "mode": "markers",
         "name": "C",
         "text": "",
         "type": "scatter",
         "x": [
          -1.1873759401072121,
          -0.21272893173520116,
          -0.3337398117192112,
          -0.26956520378390764,
          -1.7659624936732585,
          -0.6978766429196865,
          1.6725545487313158,
          0.09259338719191819,
          1.6453366231173143,
          -0.3833674186111683,
          1.6989508724793339,
          0.5983377937837228,
          0.5447352846764828,
          0.18099022472462933,
          1.5307594863059593,
          0.23142495576797836,
          -2.239277531098523,
          0.3752910312617037,
          0.2122588488728485,
          -0.9583627400158707,
          -0.026938775072069886,
          0.7131953417154699,
          1.2166546304056043,
          0.5914997911410284,
          0.8470642191414174,
          1.6466958348146044,
          -0.3639331891040234,
          -1.710068176230475,
          -1.5574786150076614,
          -0.6040313136124005,
          2.2301466554883644,
          0.9273061531277372,
          -0.7307650207334397,
          -0.7302001437813028,
          -0.48750578267528044,
          -0.35766261050834985,
          -0.6725031726706149,
          0.421873498857747,
          0.02556409448236915,
          0.4765293982838863,
          -1.2141185724581982,
          -1.639107377789116,
          -1.131724961813166,
          -0.4991893991036096,
          0.8914334239727241,
          0.556560970020493,
          -1.4675191010887423,
          -0.3973202818189989,
          -1.3272951822043146,
          0.13436309845109753,
          0.7554731936109603,
          0.20298422685684478,
          0.013433041100121399,
          -1.6219587781765432,
          -1.2919866455371372,
          1.7156967381957249,
          0.3421105516382237,
          1.2424484347790248,
          -1.0511765365084793,
          -0.26770727452964027,
          0.2996732318982424,
          2.592142105551428,
          -0.42639407320832945,
          2.1374720582633215,
          0.1484491726771624,
          0.09940343462618549,
          -0.5139219798838047,
          -0.8049296505862523,
          -0.4046966330808061,
          -1.3430346983946972,
          -0.06191568728436142,
          -0.4459407604275068,
          0.4540494393224033,
          0.8805770779046518,
          1.9278319180101513,
          -0.27752181605053633,
          -2.0236715828075607,
          0.9811780305866094,
          2.2022300541591475,
          -1.3825108801347603,
          0.97983023674692,
          -2.080809733204436,
          -0.5323966460427149,
          -1.375565887222923,
          0.7640666043568605,
          0.848594647794393,
          -1.1393736168819195,
          0.17793233394983657,
          1.8972293181130444,
          0.959783938955475,
          0.940058256679049,
          0.2807262610225058,
          -1.1588288692589268,
          -1.1965036252006027,
          1.2000502779767896,
          1.0549663172573462,
          -0.6876934291592685,
          0.572388846989946,
          -1.3302273547405212,
          -0.18950379001783332
         ],
         "xaxis": "x12",
         "y": [
          0.9845430614354537,
          1.4264547784811157,
          1.8185224615598867,
          0.2876235743837417,
          -0.15273863053357983,
          1.0672640673775675,
          0.36889847295683714,
          1.7582131837067485,
          0.6283354504314319,
          -0.16167766207986853,
          -0.2872649632996048,
          0.8215961640829661,
          0.480498537217956,
          0.02075013750145252,
          -1.1453851914667532,
          0.07800081841057309,
          0.5186564001148111,
          1.5079513777650961,
          -1.1656941375386918,
          -0.8055939069969118,
          -0.2696350033683586,
          -0.8286847723236382,
          -0.6522682365336133,
          1.081691162805879,
          0.1831095123488363,
          -0.5682789533346162,
          0.9928132158925893,
          1.8871253715982468,
          0.4336963940136164,
          0.8274590332282141,
          -1.3676126517313532,
          0.3625391579203631,
          -0.4198420834785065,
          -1.7522618013398874,
          -1.0943409743490962,
          1.5930933519180994,
          -0.3809535745932166,
          -0.07132020664631916,
          0.21094772772557083,
          1.4262956770952393,
          -0.18750703633071464,
          -1.7317701836166697,
          1.0554110904290748,
          0.7863549983579504,
          0.3144640312460261,
          -2.694341451993742,
          -1.7842572579759883,
          0.04072541689088181,
          1.1849237957676644,
          1.8613265763690219,
          -0.02870588501015,
          0.024582987754410042,
          2.255838657736544,
          -0.8234897901997741,
          -0.46085879890447956,
          0.7779373045120065,
          -0.3275359819714058,
          -0.7620853715885492,
          0.2266976150558581,
          -1.6665125148994269,
          -0.3403661546390149,
          2.163774530063942,
          -0.17569776103107237,
          0.0017418393701614686,
          -0.3863220961175093,
          -0.23254668193074243,
          0.600094182920535,
          1.4454255232328954,
          -0.07411531823787712,
          -0.4590766181330314,
          1.2483873746197836,
          0.6937370335745796,
          0.304054615850903,
          0.1282050670190241,
          -0.9963476782052268,
          0.7573250780041975,
          1.030235018977501,
          0.45788355206083126,
          0.2179323611002476,
          -1.2765176224547714,
          -0.05091228211186459,
          0.7872875248289407,
          -1.3727816638752337,
          -0.24429024354267057,
          0.2848800017257363,
          -0.9488131295734892,
          1.2207557940326388,
          -0.150187321056821,
          0.8319794732355743,
          -1.4875074618912505,
          -0.08982822957118794,
          -0.18921291714367677,
          -0.40016951985406524,
          -1.2794571246527122,
          -1.094534487829649,
          -0.4642133831026465,
          -0.35582950036557914,
          0.7179682389790413,
          0.30336413427558834,
          -1.7437205498720163
         ],
         "yaxis": "y12"
        },
        {
         "line": {
          "color": "rgba(128, 128, 128, 1.0)",
          "dash": "solid",
          "shape": "linear",
          "width": 1.3
         },
         "marker": {
          "size": 2,
          "symbol": "circle"
         },
         "mode": "markers",
         "name": "D",
         "text": "",
         "type": "scatter",
         "x": [
          -0.2531083250970203,
          0.44472867520184695,
          -0.6880739903817269,
          -0.32389688390050336,
          -0.21066679145064116,
          -0.7471305568135573,
          1.4644403155760901,
          -1.5390062758876004,
          -1.5425674761634856,
          0.1845770072180261,
          -1.04983457028772,
          2.958223043449747,
          0.19962163438520358,
          0.6809530686614672,
          0.14535502903675235,
          -0.7188442819492274,
          1.0125690660282616,
          0.05224314033522782,
          -1.8432338689264192,
          -0.3483895528924191,
          -0.3583306084919735,
          0.4761146454202297,
          -0.147129437965505,
          1.5220538503214163,
          -1.3273284502582012,
          0.16507303161167794,
          -0.0560374263769096,
          0.5784265198295464,
          -0.2740863346688317,
          2.143309560747731,
          0.1671101097738608,
          0.5490366739554574,
          0.013215510451084333,
          0.3940727215280942,
          -0.9521217551672523,
          -0.018722957509154415,
          1.43946284679207,
          0.5311864343840943,
          -0.9576730445124143,
          2.615701373800367,
          0.2969248462359406,
          -0.23254471608361083,
          0.02390791000105446,
          -0.5815987415883015,
          0.9797377817160473,
          0.3983322606335077,
          -0.6141282028185352,
          0.23784349161194623,
          -1.3199887141335402,
          0.6996938400462953,
          -0.2868779707094815,
          3.170323023876777,
          0.10997169936554678,
          1.3170088130777606,
          -2.658216644451961,
          -1.7510785196335596,
          0.2911423653054329,
          -0.3146626882337196,
          0.42671812938167997,
          -0.21623347798306392,
          1.3913338101835877,
          0.5186823638813134,
          0.4992351523475857,
          1.068339120041519,
          0.6850632859094586,
          -0.4906088150209769,
          -0.8859045960411523,
          0.3397388469656312,
          1.4342595849975506,
          0.09561282704554233,
          -1.2043279788958634,
          -0.5284463987481448,
          0.21111175740921415,
          0.6765630612537961,
          0.5447339666552157,
          1.9232009065877185,
          0.9311243971960865,
          -0.5857662928038426,
          0.1309340857065233,
          0.6307938743323313,
          -1.3313404549673353,
          0.6918609455835275,
          1.261217754803169,
          0.6246482895871643,
          0.7309726569960078,
          0.030697726306293666,
          -1.9848004838069544,
          -1.6463370700123259,
          1.2178820207045697,
          0.532948814095436,
          0.3317063505971597,
          0.2972599259821757,
          0.5219716784009186,
          -1.3582358763406823,
          -0.3475294045762002,
          0.5304741285949425,
          -0.7712291619711124,
          -0.8534484005792922,
          0.2469690148994338,
          -0.49158233930531514
         ],
         "xaxis": "x13",
         "y": [
          -1.1873759401072121,
          -0.21272893173520116,
          -0.3337398117192112,
          -0.26956520378390764,
          -1.7659624936732585,
          -0.6978766429196865,
          1.6725545487313158,
          0.09259338719191819,
          1.6453366231173143,
          -0.3833674186111683,
          1.6989508724793339,
          0.5983377937837228,
          0.5447352846764828,
          0.18099022472462933,
          1.5307594863059593,
          0.23142495576797836,
          -2.239277531098523,
          0.3752910312617037,
          0.2122588488728485,
          -0.9583627400158707,
          -0.026938775072069886,
          0.7131953417154699,
          1.2166546304056043,
          0.5914997911410284,
          0.8470642191414174,
          1.6466958348146044,
          -0.3639331891040234,
          -1.710068176230475,
          -1.5574786150076614,
          -0.6040313136124005,
          2.2301466554883644,
          0.9273061531277372,
          -0.7307650207334397,
          -0.7302001437813028,
          -0.48750578267528044,
          -0.35766261050834985,
          -0.6725031726706149,
          0.421873498857747,
          0.02556409448236915,
          0.4765293982838863,
          -1.2141185724581982,
          -1.639107377789116,
          -1.131724961813166,
          -0.4991893991036096,
          0.8914334239727241,
          0.556560970020493,
          -1.4675191010887423,
          -0.3973202818189989,
          -1.3272951822043146,
          0.13436309845109753,
          0.7554731936109603,
          0.20298422685684478,
          0.013433041100121399,
          -1.6219587781765432,
          -1.2919866455371372,
          1.7156967381957249,
          0.3421105516382237,
          1.2424484347790248,
          -1.0511765365084793,
          -0.26770727452964027,
          0.2996732318982424,
          2.592142105551428,
          -0.42639407320832945,
          2.1374720582633215,
          0.1484491726771624,
          0.09940343462618549,
          -0.5139219798838047,
          -0.8049296505862523,
          -0.4046966330808061,
          -1.3430346983946972,
          -0.06191568728436142,
          -0.4459407604275068,
          0.4540494393224033,
          0.8805770779046518,
          1.9278319180101513,
          -0.27752181605053633,
          -2.0236715828075607,
          0.9811780305866094,
          2.2022300541591475,
          -1.3825108801347603,
          0.97983023674692,
          -2.080809733204436,
          -0.5323966460427149,
          -1.375565887222923,
          0.7640666043568605,
          0.848594647794393,
          -1.1393736168819195,
          0.17793233394983657,
          1.8972293181130444,
          0.959783938955475,
          0.940058256679049,
          0.2807262610225058,
          -1.1588288692589268,
          -1.1965036252006027,
          1.2000502779767896,
          1.0549663172573462,
          -0.6876934291592685,
          0.572388846989946,
          -1.3302273547405212,
          -0.18950379001783332
         ],
         "yaxis": "y13"
        },
        {
         "line": {
          "color": "rgba(128, 128, 128, 1.0)",
          "dash": "solid",
          "shape": "linear",
          "width": 1.3
         },
         "marker": {
          "size": 2,
          "symbol": "circle"
         },
         "mode": "markers",
         "name": "D",
         "text": "",
         "type": "scatter",
         "x": [
          0.2692248590674567,
          2.5414565169787684,
          -1.3847684476344624,
          1.0279604222570988,
          0.32178606562036727,
          -0.71414958269869,
          1.3286475415150187,
          -0.18602555159568127,
          -0.6240462160771314,
          -0.013680420743699132,
          0.9216749121898704,
          0.36610989844719927,
          -0.23086136612047775,
          -1.561147103539752,
          -1.55113276236753,
          0.32854251512931804,
          -1.764333635340324,
          -0.7028625061339061,
          -1.435701932428522,
          0.924236301167901,
          0.038138911451752064,
          -0.7590936404033503,
          -0.11749600252730237,
          0.39633006465495496,
          -0.2107745967287429,
          0.5113421067521764,
          1.0929602611219198,
          0.18439027770308478,
          -1.0854390751429883,
          0.5118711694135236,
          0.40958311714195506,
          -0.41240221065986143,
          -0.859034971894161,
          -0.5529096332253796,
          -0.5232120174327071,
          -1.1530761095753999,
          -0.1916230903244878,
          -0.15954320592542995,
          -1.3107503419051287,
          -0.6670439421192467,
          0.16252815279435603,
          0.5864792595105315,
          0.31271069415931163,
          -1.4156239025283626,
          -0.2108067683301323,
          0.4009473642109201,
          -0.2717101826795173,
          -0.41699572886723774,
          -0.30082422068105297,
          0.5047385743026007,
          -1.9787868569877332,
          0.11751434764417365,
          -0.12085350747255721,
          0.34364779893495206,
          -1.8224513199521488,
          -1.2065012656680196,
          -0.7696169392939282,
          -0.5111253785557218,
          -0.3545273834343783,
          0.8978159418460043,
          -0.8157526385378127,
          -0.9572493594332675,
          0.4495184342597558,
          2.3261108979215734,
          -1.089090169046952,
          -0.3542045476423018,
          -0.43072727366645397,
          1.7074628488359203,
          -0.5323631224416054,
          -0.635697712321746,
          0.48855952132870645,
          1.3350182547014884,
          2.3452090589417276,
          0.09012629968942505,
          -1.2522205245484084,
          -0.7845119830949263,
          -0.6424298754383452,
          -1.0645184185886827,
          1.3427868037204183,
          -0.3878916530551524,
          -0.4621215801011234,
          -1.4910175723377412,
          0.002686208823228683,
          -0.5938418999955112,
          0.6179416582649397,
          0.15838027440967178,
          -1.3072408344980595,
          -0.14037572981081717,
          0.08944578304891387,
          0.40371386655793834,
          -1.2090705967400097,
          -0.15988167399899386,
          -0.7102046276701807,
          -1.474292195815174,
          -0.9781606303475665,
          -1.2263315181857672,
          1.131136855389624,
          1.0786752573396445,
          -1.305477163909878,
          0.2421897939764603
         ],
         "xaxis": "x14",
         "y": [
          -1.1873759401072121,
          -0.21272893173520116,
          -0.3337398117192112,
          -0.26956520378390764,
          -1.7659624936732585,
          -0.6978766429196865,
          1.6725545487313158,
          0.09259338719191819,
          1.6453366231173143,
          -0.3833674186111683,
          1.6989508724793339,
          0.5983377937837228,
          0.5447352846764828,
          0.18099022472462933,
          1.5307594863059593,
          0.23142495576797836,
          -2.239277531098523,
          0.3752910312617037,
          0.2122588488728485,
          -0.9583627400158707,
          -0.026938775072069886,
          0.7131953417154699,
          1.2166546304056043,
          0.5914997911410284,
          0.8470642191414174,
          1.6466958348146044,
          -0.3639331891040234,
          -1.710068176230475,
          -1.5574786150076614,
          -0.6040313136124005,
          2.2301466554883644,
          0.9273061531277372,
          -0.7307650207334397,
          -0.7302001437813028,
          -0.48750578267528044,
          -0.35766261050834985,
          -0.6725031726706149,
          0.421873498857747,
          0.02556409448236915,
          0.4765293982838863,
          -1.2141185724581982,
          -1.639107377789116,
          -1.131724961813166,
          -0.4991893991036096,
          0.8914334239727241,
          0.556560970020493,
          -1.4675191010887423,
          -0.3973202818189989,
          -1.3272951822043146,
          0.13436309845109753,
          0.7554731936109603,
          0.20298422685684478,
          0.013433041100121399,
          -1.6219587781765432,
          -1.2919866455371372,
          1.7156967381957249,
          0.3421105516382237,
          1.2424484347790248,
          -1.0511765365084793,
          -0.26770727452964027,
          0.2996732318982424,
          2.592142105551428,
          -0.42639407320832945,
          2.1374720582633215,
          0.1484491726771624,
          0.09940343462618549,
          -0.5139219798838047,
          -0.8049296505862523,
          -0.4046966330808061,
          -1.3430346983946972,
          -0.06191568728436142,
          -0.4459407604275068,
          0.4540494393224033,
          0.8805770779046518,
          1.9278319180101513,
          -0.27752181605053633,
          -2.0236715828075607,
          0.9811780305866094,
          2.2022300541591475,
          -1.3825108801347603,
          0.97983023674692,
          -2.080809733204436,
          -0.5323966460427149,
          -1.375565887222923,
          0.7640666043568605,
          0.848594647794393,
          -1.1393736168819195,
          0.17793233394983657,
          1.8972293181130444,
          0.959783938955475,
          0.940058256679049,
          0.2807262610225058,
          -1.1588288692589268,
          -1.1965036252006027,
          1.2000502779767896,
          1.0549663172573462,
          -0.6876934291592685,
          0.572388846989946,
          -1.3302273547405212,
          -0.18950379001783332
         ],
         "yaxis": "y14"
        },
        {
         "line": {
          "color": "rgba(128, 128, 128, 1.0)",
          "dash": "solid",
          "shape": "linear",
          "width": 1.3
         },
         "marker": {
          "size": 2,
          "symbol": "circle"
         },
         "mode": "markers",
         "name": "D",
         "text": "",
         "type": "scatter",
         "x": [
          0.9845430614354537,
          1.4264547784811157,
          1.8185224615598867,
          0.2876235743837417,
          -0.15273863053357983,
          1.0672640673775675,
          0.36889847295683714,
          1.7582131837067485,
          0.6283354504314319,
          -0.16167766207986853,
          -0.2872649632996048,
          0.8215961640829661,
          0.480498537217956,
          0.02075013750145252,
          -1.1453851914667532,
          0.07800081841057309,
          0.5186564001148111,
          1.5079513777650961,
          -1.1656941375386918,
          -0.8055939069969118,
          -0.2696350033683586,
          -0.8286847723236382,
          -0.6522682365336133,
          1.081691162805879,
          0.1831095123488363,
          -0.5682789533346162,
          0.9928132158925893,
          1.8871253715982468,
          0.4336963940136164,
          0.8274590332282141,
          -1.3676126517313532,
          0.3625391579203631,
          -0.4198420834785065,
          -1.7522618013398874,
          -1.0943409743490962,
          1.5930933519180994,
          -0.3809535745932166,
          -0.07132020664631916,
          0.21094772772557083,
          1.4262956770952393,
          -0.18750703633071464,
          -1.7317701836166697,
          1.0554110904290748,
          0.7863549983579504,
          0.3144640312460261,
          -2.694341451993742,
          -1.7842572579759883,
          0.04072541689088181,
          1.1849237957676644,
          1.8613265763690219,
          -0.02870588501015,
          0.024582987754410042,
          2.255838657736544,
          -0.8234897901997741,
          -0.46085879890447956,
          0.7779373045120065,
          -0.3275359819714058,
          -0.7620853715885492,
          0.2266976150558581,
          -1.6665125148994269,
          -0.3403661546390149,
          2.163774530063942,
          -0.17569776103107237,
          0.0017418393701614686,
          -0.3863220961175093,
          -0.23254668193074243,
          0.600094182920535,
          1.4454255232328954,
          -0.07411531823787712,
          -0.4590766181330314,
          1.2483873746197836,
          0.6937370335745796,
          0.304054615850903,
          0.1282050670190241,
          -0.9963476782052268,
          0.7573250780041975,
          1.030235018977501,
          0.45788355206083126,
          0.2179323611002476,
          -1.2765176224547714,
          -0.05091228211186459,
          0.7872875248289407,
          -1.3727816638752337,
          -0.24429024354267057,
          0.2848800017257363,
          -0.9488131295734892,
          1.2207557940326388,
          -0.150187321056821,
          0.8319794732355743,
          -1.4875074618912505,
          -0.08982822957118794,
          -0.18921291714367677,
          -0.40016951985406524,
          -1.2794571246527122,
          -1.094534487829649,
          -0.4642133831026465,
          -0.35582950036557914,
          0.7179682389790413,
          0.30336413427558834,
          -1.7437205498720163
         ],
         "xaxis": "x15",
         "y": [
          -1.1873759401072121,
          -0.21272893173520116,
          -0.3337398117192112,
          -0.26956520378390764,
          -1.7659624936732585,
          -0.6978766429196865,
          1.6725545487313158,
          0.09259338719191819,
          1.6453366231173143,
          -0.3833674186111683,
          1.6989508724793339,
          0.5983377937837228,
          0.5447352846764828,
          0.18099022472462933,
          1.5307594863059593,
          0.23142495576797836,
          -2.239277531098523,
          0.3752910312617037,
          0.2122588488728485,
          -0.9583627400158707,
          -0.026938775072069886,
          0.7131953417154699,
          1.2166546304056043,
          0.5914997911410284,
          0.8470642191414174,
          1.6466958348146044,
          -0.3639331891040234,
          -1.710068176230475,
          -1.5574786150076614,
          -0.6040313136124005,
          2.2301466554883644,
          0.9273061531277372,
          -0.7307650207334397,
          -0.7302001437813028,
          -0.48750578267528044,
          -0.35766261050834985,
          -0.6725031726706149,
          0.421873498857747,
          0.02556409448236915,
          0.4765293982838863,
          -1.2141185724581982,
          -1.639107377789116,
          -1.131724961813166,
          -0.4991893991036096,
          0.8914334239727241,
          0.556560970020493,
          -1.4675191010887423,
          -0.3973202818189989,
          -1.3272951822043146,
          0.13436309845109753,
          0.7554731936109603,
          0.20298422685684478,
          0.013433041100121399,
          -1.6219587781765432,
          -1.2919866455371372,
          1.7156967381957249,
          0.3421105516382237,
          1.2424484347790248,
          -1.0511765365084793,
          -0.26770727452964027,
          0.2996732318982424,
          2.592142105551428,
          -0.42639407320832945,
          2.1374720582633215,
          0.1484491726771624,
          0.09940343462618549,
          -0.5139219798838047,
          -0.8049296505862523,
          -0.4046966330808061,
          -1.3430346983946972,
          -0.06191568728436142,
          -0.4459407604275068,
          0.4540494393224033,
          0.8805770779046518,
          1.9278319180101513,
          -0.27752181605053633,
          -2.0236715828075607,
          0.9811780305866094,
          2.2022300541591475,
          -1.3825108801347603,
          0.97983023674692,
          -2.080809733204436,
          -0.5323966460427149,
          -1.375565887222923,
          0.7640666043568605,
          0.848594647794393,
          -1.1393736168819195,
          0.17793233394983657,
          1.8972293181130444,
          0.959783938955475,
          0.940058256679049,
          0.2807262610225058,
          -1.1588288692589268,
          -1.1965036252006027,
          1.2000502779767896,
          1.0549663172573462,
          -0.6876934291592685,
          0.572388846989946,
          -1.3302273547405212,
          -0.18950379001783332
         ],
         "yaxis": "y15"
        },
        {
         "histfunc": "count",
         "histnorm": "",
         "marker": {
          "color": "rgba(128, 0, 128, 1.0)",
          "line": {
           "color": "#4D5663",
           "width": 1.3
          }
         },
         "name": "D",
         "nbinsx": 10,
         "opacity": 0.8,
         "orientation": "v",
         "type": "histogram",
         "x": [
          -1.1873759401072121,
          -0.21272893173520116,
          -0.3337398117192112,
          -0.26956520378390764,
          -1.7659624936732585,
          -0.6978766429196865,
          1.6725545487313158,
          0.09259338719191819,
          1.6453366231173143,
          -0.3833674186111683,
          1.6989508724793339,
          0.5983377937837228,
          0.5447352846764828,
          0.18099022472462933,
          1.5307594863059593,
          0.23142495576797836,
          -2.239277531098523,
          0.3752910312617037,
          0.2122588488728485,
          -0.9583627400158707,
          -0.026938775072069886,
          0.7131953417154699,
          1.2166546304056043,
          0.5914997911410284,
          0.8470642191414174,
          1.6466958348146044,
          -0.3639331891040234,
          -1.710068176230475,
          -1.5574786150076614,
          -0.6040313136124005,
          2.2301466554883644,
          0.9273061531277372,
          -0.7307650207334397,
          -0.7302001437813028,
          -0.48750578267528044,
          -0.35766261050834985,
          -0.6725031726706149,
          0.421873498857747,
          0.02556409448236915,
          0.4765293982838863,
          -1.2141185724581982,
          -1.639107377789116,
          -1.131724961813166,
          -0.4991893991036096,
          0.8914334239727241,
          0.556560970020493,
          -1.4675191010887423,
          -0.3973202818189989,
          -1.3272951822043146,
          0.13436309845109753,
          0.7554731936109603,
          0.20298422685684478,
          0.013433041100121399,
          -1.6219587781765432,
          -1.2919866455371372,
          1.7156967381957249,
          0.3421105516382237,
          1.2424484347790248,
          -1.0511765365084793,
          -0.26770727452964027,
          0.2996732318982424,
          2.592142105551428,
          -0.42639407320832945,
          2.1374720582633215,
          0.1484491726771624,
          0.09940343462618549,
          -0.5139219798838047,
          -0.8049296505862523,
          -0.4046966330808061,
          -1.3430346983946972,
          -0.06191568728436142,
          -0.4459407604275068,
          0.4540494393224033,
          0.8805770779046518,
          1.9278319180101513,
          -0.27752181605053633,
          -2.0236715828075607,
          0.9811780305866094,
          2.2022300541591475,
          -1.3825108801347603,
          0.97983023674692,
          -2.080809733204436,
          -0.5323966460427149,
          -1.375565887222923,
          0.7640666043568605,
          0.848594647794393,
          -1.1393736168819195,
          0.17793233394983657,
          1.8972293181130444,
          0.959783938955475,
          0.940058256679049,
          0.2807262610225058,
          -1.1588288692589268,
          -1.1965036252006027,
          1.2000502779767896,
          1.0549663172573462,
          -0.6876934291592685,
          0.572388846989946,
          -1.3302273547405212,
          -0.18950379001783332
         ],
         "xaxis": "x16",
         "yaxis": "y16"
        }
       ],
       "layout": {
        "bargap": 0.02,
        "legend": {
         "bgcolor": "#F5F6F9",
         "font": {
          "color": "#4D5663"
         }
        },
        "paper_bgcolor": "#F5F6F9",
        "plot_bgcolor": "#F5F6F9",
        "showlegend": false,
        "template": {
         "data": {
          "bar": [
           {
            "error_x": {
             "color": "#2a3f5f"
            },
            "error_y": {
             "color": "#2a3f5f"
            },
            "marker": {
             "line": {
              "color": "#E5ECF6",
              "width": 0.5
             }
            },
            "type": "bar"
           }
          ],
          "barpolar": [
           {
            "marker": {
             "line": {
              "color": "#E5ECF6",
              "width": 0.5
             }
            },
            "type": "barpolar"
           }
          ],
          "carpet": [
           {
            "aaxis": {
             "endlinecolor": "#2a3f5f",
             "gridcolor": "white",
             "linecolor": "white",
             "minorgridcolor": "white",
             "startlinecolor": "#2a3f5f"
            },
            "baxis": {
             "endlinecolor": "#2a3f5f",
             "gridcolor": "white",
             "linecolor": "white",
             "minorgridcolor": "white",
             "startlinecolor": "#2a3f5f"
            },
            "type": "carpet"
           }
          ],
          "choropleth": [
           {
            "colorbar": {
             "outlinewidth": 0,
             "ticks": ""
            },
            "type": "choropleth"
           }
          ],
          "contour": [
           {
            "colorbar": {
             "outlinewidth": 0,
             "ticks": ""
            },
            "colorscale": [
             [
              0,
              "#0d0887"
             ],
             [
              0.1111111111111111,
              "#46039f"
             ],
             [
              0.2222222222222222,
              "#7201a8"
             ],
             [
              0.3333333333333333,
              "#9c179e"
             ],
             [
              0.4444444444444444,
              "#bd3786"
             ],
             [
              0.5555555555555556,
              "#d8576b"
             ],
             [
              0.6666666666666666,
              "#ed7953"
             ],
             [
              0.7777777777777778,
              "#fb9f3a"
             ],
             [
              0.8888888888888888,
              "#fdca26"
             ],
             [
              1,
              "#f0f921"
             ]
            ],
            "type": "contour"
           }
          ],
          "contourcarpet": [
           {
            "colorbar": {
             "outlinewidth": 0,
             "ticks": ""
            },
            "type": "contourcarpet"
           }
          ],
          "heatmap": [
           {
            "colorbar": {
             "outlinewidth": 0,
             "ticks": ""
            },
            "colorscale": [
             [
              0,
              "#0d0887"
             ],
             [
              0.1111111111111111,
              "#46039f"
             ],
             [
              0.2222222222222222,
              "#7201a8"
             ],
             [
              0.3333333333333333,
              "#9c179e"
             ],
             [
              0.4444444444444444,
              "#bd3786"
             ],
             [
              0.5555555555555556,
              "#d8576b"
             ],
             [
              0.6666666666666666,
              "#ed7953"
             ],
             [
              0.7777777777777778,
              "#fb9f3a"
             ],
             [
              0.8888888888888888,
              "#fdca26"
             ],
             [
              1,
              "#f0f921"
             ]
            ],
            "type": "heatmap"
           }
          ],
          "heatmapgl": [
           {
            "colorbar": {
             "outlinewidth": 0,
             "ticks": ""
            },
            "colorscale": [
             [
              0,
              "#0d0887"
             ],
             [
              0.1111111111111111,
              "#46039f"
             ],
             [
              0.2222222222222222,
              "#7201a8"
             ],
             [
              0.3333333333333333,
              "#9c179e"
             ],
             [
              0.4444444444444444,
              "#bd3786"
             ],
             [
              0.5555555555555556,
              "#d8576b"
             ],
             [
              0.6666666666666666,
              "#ed7953"
             ],
             [
              0.7777777777777778,
              "#fb9f3a"
             ],
             [
              0.8888888888888888,
              "#fdca26"
             ],
             [
              1,
              "#f0f921"
             ]
            ],
            "type": "heatmapgl"
           }
          ],
          "histogram": [
           {
            "marker": {
             "colorbar": {
              "outlinewidth": 0,
              "ticks": ""
             }
            },
            "type": "histogram"
           }
          ],
          "histogram2d": [
           {
            "colorbar": {
             "outlinewidth": 0,
             "ticks": ""
            },
            "colorscale": [
             [
              0,
              "#0d0887"
             ],
             [
              0.1111111111111111,
              "#46039f"
             ],
             [
              0.2222222222222222,
              "#7201a8"
             ],
             [
              0.3333333333333333,
              "#9c179e"
             ],
             [
              0.4444444444444444,
              "#bd3786"
             ],
             [
              0.5555555555555556,
              "#d8576b"
             ],
             [
              0.6666666666666666,
              "#ed7953"
             ],
             [
              0.7777777777777778,
              "#fb9f3a"
             ],
             [
              0.8888888888888888,
              "#fdca26"
             ],
             [
              1,
              "#f0f921"
             ]
            ],
            "type": "histogram2d"
           }
          ],
          "histogram2dcontour": [
           {
            "colorbar": {
             "outlinewidth": 0,
             "ticks": ""
            },
            "colorscale": [
             [
              0,
              "#0d0887"
             ],
             [
              0.1111111111111111,
              "#46039f"
             ],
             [
              0.2222222222222222,
              "#7201a8"
             ],
             [
              0.3333333333333333,
              "#9c179e"
             ],
             [
              0.4444444444444444,
              "#bd3786"
             ],
             [
              0.5555555555555556,
              "#d8576b"
             ],
             [
              0.6666666666666666,
              "#ed7953"
             ],
             [
              0.7777777777777778,
              "#fb9f3a"
             ],
             [
              0.8888888888888888,
              "#fdca26"
             ],
             [
              1,
              "#f0f921"
             ]
            ],
            "type": "histogram2dcontour"
           }
          ],
          "mesh3d": [
           {
            "colorbar": {
             "outlinewidth": 0,
             "ticks": ""
            },
            "type": "mesh3d"
           }
          ],
          "parcoords": [
           {
            "line": {
             "colorbar": {
              "outlinewidth": 0,
              "ticks": ""
             }
            },
            "type": "parcoords"
           }
          ],
          "pie": [
           {
            "automargin": true,
            "type": "pie"
           }
          ],
          "scatter": [
           {
            "marker": {
             "colorbar": {
              "outlinewidth": 0,
              "ticks": ""
             }
            },
            "type": "scatter"
           }
          ],
          "scatter3d": [
           {
            "line": {
             "colorbar": {
              "outlinewidth": 0,
              "ticks": ""
             }
            },
            "marker": {
             "colorbar": {
              "outlinewidth": 0,
              "ticks": ""
             }
            },
            "type": "scatter3d"
           }
          ],
          "scattercarpet": [
           {
            "marker": {
             "colorbar": {
              "outlinewidth": 0,
              "ticks": ""
             }
            },
            "type": "scattercarpet"
           }
          ],
          "scattergeo": [
           {
            "marker": {
             "colorbar": {
              "outlinewidth": 0,
              "ticks": ""
             }
            },
            "type": "scattergeo"
           }
          ],
          "scattergl": [
           {
            "marker": {
             "colorbar": {
              "outlinewidth": 0,
              "ticks": ""
             }
            },
            "type": "scattergl"
           }
          ],
          "scattermapbox": [
           {
            "marker": {
             "colorbar": {
              "outlinewidth": 0,
              "ticks": ""
             }
            },
            "type": "scattermapbox"
           }
          ],
          "scatterpolar": [
           {
            "marker": {
             "colorbar": {
              "outlinewidth": 0,
              "ticks": ""
             }
            },
            "type": "scatterpolar"
           }
          ],
          "scatterpolargl": [
           {
            "marker": {
             "colorbar": {
              "outlinewidth": 0,
              "ticks": ""
             }
            },
            "type": "scatterpolargl"
           }
          ],
          "scatterternary": [
           {
            "marker": {
             "colorbar": {
              "outlinewidth": 0,
              "ticks": ""
             }
            },
            "type": "scatterternary"
           }
          ],
          "surface": [
           {
            "colorbar": {
             "outlinewidth": 0,
             "ticks": ""
            },
            "colorscale": [
             [
              0,
              "#0d0887"
             ],
             [
              0.1111111111111111,
              "#46039f"
             ],
             [
              0.2222222222222222,
              "#7201a8"
             ],
             [
              0.3333333333333333,
              "#9c179e"
             ],
             [
              0.4444444444444444,
              "#bd3786"
             ],
             [
              0.5555555555555556,
              "#d8576b"
             ],
             [
              0.6666666666666666,
              "#ed7953"
             ],
             [
              0.7777777777777778,
              "#fb9f3a"
             ],
             [
              0.8888888888888888,
              "#fdca26"
             ],
             [
              1,
              "#f0f921"
             ]
            ],
            "type": "surface"
           }
          ],
          "table": [
           {
            "cells": {
             "fill": {
              "color": "#EBF0F8"
             },
             "line": {
              "color": "white"
             }
            },
            "header": {
             "fill": {
              "color": "#C8D4E3"
             },
             "line": {
              "color": "white"
             }
            },
            "type": "table"
           }
          ]
         },
         "layout": {
          "annotationdefaults": {
           "arrowcolor": "#2a3f5f",
           "arrowhead": 0,
           "arrowwidth": 1
          },
          "autotypenumbers": "strict",
          "coloraxis": {
           "colorbar": {
            "outlinewidth": 0,
            "ticks": ""
           }
          },
          "colorscale": {
           "diverging": [
            [
             0,
             "#8e0152"
            ],
            [
             0.1,
             "#c51b7d"
            ],
            [
             0.2,
             "#de77ae"
            ],
            [
             0.3,
             "#f1b6da"
            ],
            [
             0.4,
             "#fde0ef"
            ],
            [
             0.5,
             "#f7f7f7"
            ],
            [
             0.6,
             "#e6f5d0"
            ],
            [
             0.7,
             "#b8e186"
            ],
            [
             0.8,
             "#7fbc41"
            ],
            [
             0.9,
             "#4d9221"
            ],
            [
             1,
             "#276419"
            ]
           ],
           "sequential": [
            [
             0,
             "#0d0887"
            ],
            [
             0.1111111111111111,
             "#46039f"
            ],
            [
             0.2222222222222222,
             "#7201a8"
            ],
            [
             0.3333333333333333,
             "#9c179e"
            ],
            [
             0.4444444444444444,
             "#bd3786"
            ],
            [
             0.5555555555555556,
             "#d8576b"
            ],
            [
             0.6666666666666666,
             "#ed7953"
            ],
            [
             0.7777777777777778,
             "#fb9f3a"
            ],
            [
             0.8888888888888888,
             "#fdca26"
            ],
            [
             1,
             "#f0f921"
            ]
           ],
           "sequentialminus": [
            [
             0,
             "#0d0887"
            ],
            [
             0.1111111111111111,
             "#46039f"
            ],
            [
             0.2222222222222222,
             "#7201a8"
            ],
            [
             0.3333333333333333,
             "#9c179e"
            ],
            [
             0.4444444444444444,
             "#bd3786"
            ],
            [
             0.5555555555555556,
             "#d8576b"
            ],
            [
             0.6666666666666666,
             "#ed7953"
            ],
            [
             0.7777777777777778,
             "#fb9f3a"
            ],
            [
             0.8888888888888888,
             "#fdca26"
            ],
            [
             1,
             "#f0f921"
            ]
           ]
          },
          "colorway": [
           "#636efa",
           "#EF553B",
           "#00cc96",
           "#ab63fa",
           "#FFA15A",
           "#19d3f3",
           "#FF6692",
           "#B6E880",
           "#FF97FF",
           "#FECB52"
          ],
          "font": {
           "color": "#2a3f5f"
          },
          "geo": {
           "bgcolor": "white",
           "lakecolor": "white",
           "landcolor": "#E5ECF6",
           "showlakes": true,
           "showland": true,
           "subunitcolor": "white"
          },
          "hoverlabel": {
           "align": "left"
          },
          "hovermode": "closest",
          "mapbox": {
           "style": "light"
          },
          "paper_bgcolor": "white",
          "plot_bgcolor": "#E5ECF6",
          "polar": {
           "angularaxis": {
            "gridcolor": "white",
            "linecolor": "white",
            "ticks": ""
           },
           "bgcolor": "#E5ECF6",
           "radialaxis": {
            "gridcolor": "white",
            "linecolor": "white",
            "ticks": ""
           }
          },
          "scene": {
           "xaxis": {
            "backgroundcolor": "#E5ECF6",
            "gridcolor": "white",
            "gridwidth": 2,
            "linecolor": "white",
            "showbackground": true,
            "ticks": "",
            "zerolinecolor": "white"
           },
           "yaxis": {
            "backgroundcolor": "#E5ECF6",
            "gridcolor": "white",
            "gridwidth": 2,
            "linecolor": "white",
            "showbackground": true,
            "ticks": "",
            "zerolinecolor": "white"
           },
           "zaxis": {
            "backgroundcolor": "#E5ECF6",
            "gridcolor": "white",
            "gridwidth": 2,
            "linecolor": "white",
            "showbackground": true,
            "ticks": "",
            "zerolinecolor": "white"
           }
          },
          "shapedefaults": {
           "line": {
            "color": "#2a3f5f"
           }
          },
          "ternary": {
           "aaxis": {
            "gridcolor": "white",
            "linecolor": "white",
            "ticks": ""
           },
           "baxis": {
            "gridcolor": "white",
            "linecolor": "white",
            "ticks": ""
           },
           "bgcolor": "#E5ECF6",
           "caxis": {
            "gridcolor": "white",
            "linecolor": "white",
            "ticks": ""
           }
          },
          "title": {
           "x": 0.05
          },
          "xaxis": {
           "automargin": true,
           "gridcolor": "white",
           "linecolor": "white",
           "ticks": "",
           "title": {
            "standoff": 15
           },
           "zerolinecolor": "white",
           "zerolinewidth": 2
          },
          "yaxis": {
           "automargin": true,
           "gridcolor": "white",
           "linecolor": "white",
           "ticks": "",
           "title": {
            "standoff": 15
           },
           "zerolinecolor": "white",
           "zerolinewidth": 2
          }
         }
        },
        "title": {
         "font": {
          "color": "#4D5663"
         }
        },
        "xaxis": {
         "anchor": "y",
         "domain": [
          0,
          0.2125
         ],
         "gridcolor": "#E1E5ED",
         "showgrid": false,
         "tickfont": {
          "color": "#4D5663"
         },
         "title": {
          "font": {
           "color": "#4D5663"
          },
          "text": ""
         },
         "zerolinecolor": "#E1E5ED"
        },
        "xaxis10": {
         "anchor": "y10",
         "domain": [
          0.2625,
          0.475
         ],
         "gridcolor": "#E1E5ED",
         "showgrid": false,
         "tickfont": {
          "color": "#4D5663"
         },
         "title": {
          "font": {
           "color": "#4D5663"
          },
          "text": ""
         },
         "zerolinecolor": "#E1E5ED"
        },
        "xaxis11": {
         "anchor": "y11",
         "domain": [
          0.525,
          0.7375
         ],
         "gridcolor": "#E1E5ED",
         "showgrid": false,
         "tickfont": {
          "color": "#4D5663"
         },
         "title": {
          "font": {
           "color": "#4D5663"
          },
          "text": ""
         },
         "zerolinecolor": "#E1E5ED"
        },
        "xaxis12": {
         "anchor": "y12",
         "domain": [
          0.7875,
          1
         ],
         "gridcolor": "#E1E5ED",
         "showgrid": false,
         "tickfont": {
          "color": "#4D5663"
         },
         "title": {
          "font": {
           "color": "#4D5663"
          },
          "text": ""
         },
         "zerolinecolor": "#E1E5ED"
        },
        "xaxis13": {
         "anchor": "y13",
         "domain": [
          0,
          0.2125
         ],
         "gridcolor": "#E1E5ED",
         "showgrid": false,
         "tickfont": {
          "color": "#4D5663"
         },
         "title": {
          "font": {
           "color": "#4D5663"
          },
          "text": ""
         },
         "zerolinecolor": "#E1E5ED"
        },
        "xaxis14": {
         "anchor": "y14",
         "domain": [
          0.2625,
          0.475
         ],
         "gridcolor": "#E1E5ED",
         "showgrid": false,
         "tickfont": {
          "color": "#4D5663"
         },
         "title": {
          "font": {
           "color": "#4D5663"
          },
          "text": ""
         },
         "zerolinecolor": "#E1E5ED"
        },
        "xaxis15": {
         "anchor": "y15",
         "domain": [
          0.525,
          0.7375
         ],
         "gridcolor": "#E1E5ED",
         "showgrid": false,
         "tickfont": {
          "color": "#4D5663"
         },
         "title": {
          "font": {
           "color": "#4D5663"
          },
          "text": ""
         },
         "zerolinecolor": "#E1E5ED"
        },
        "xaxis16": {
         "anchor": "y16",
         "domain": [
          0.7875,
          1
         ],
         "gridcolor": "#E1E5ED",
         "showgrid": false,
         "tickfont": {
          "color": "#4D5663"
         },
         "title": {
          "font": {
           "color": "#4D5663"
          },
          "text": ""
         },
         "zerolinecolor": "#E1E5ED"
        },
        "xaxis2": {
         "anchor": "y2",
         "domain": [
          0.2625,
          0.475
         ],
         "gridcolor": "#E1E5ED",
         "showgrid": false,
         "tickfont": {
          "color": "#4D5663"
         },
         "title": {
          "font": {
           "color": "#4D5663"
          },
          "text": ""
         },
         "zerolinecolor": "#E1E5ED"
        },
        "xaxis3": {
         "anchor": "y3",
         "domain": [
          0.525,
          0.7375
         ],
         "gridcolor": "#E1E5ED",
         "showgrid": false,
         "tickfont": {
          "color": "#4D5663"
         },
         "title": {
          "font": {
           "color": "#4D5663"
          },
          "text": ""
         },
         "zerolinecolor": "#E1E5ED"
        },
        "xaxis4": {
         "anchor": "y4",
         "domain": [
          0.7875,
          1
         ],
         "gridcolor": "#E1E5ED",
         "showgrid": false,
         "tickfont": {
          "color": "#4D5663"
         },
         "title": {
          "font": {
           "color": "#4D5663"
          },
          "text": ""
         },
         "zerolinecolor": "#E1E5ED"
        },
        "xaxis5": {
         "anchor": "y5",
         "domain": [
          0,
          0.2125
         ],
         "gridcolor": "#E1E5ED",
         "showgrid": false,
         "tickfont": {
          "color": "#4D5663"
         },
         "title": {
          "font": {
           "color": "#4D5663"
          },
          "text": ""
         },
         "zerolinecolor": "#E1E5ED"
        },
        "xaxis6": {
         "anchor": "y6",
         "domain": [
          0.2625,
          0.475
         ],
         "gridcolor": "#E1E5ED",
         "showgrid": false,
         "tickfont": {
          "color": "#4D5663"
         },
         "title": {
          "font": {
           "color": "#4D5663"
          },
          "text": ""
         },
         "zerolinecolor": "#E1E5ED"
        },
        "xaxis7": {
         "anchor": "y7",
         "domain": [
          0.525,
          0.7375
         ],
         "gridcolor": "#E1E5ED",
         "showgrid": false,
         "tickfont": {
          "color": "#4D5663"
         },
         "title": {
          "font": {
           "color": "#4D5663"
          },
          "text": ""
         },
         "zerolinecolor": "#E1E5ED"
        },
        "xaxis8": {
         "anchor": "y8",
         "domain": [
          0.7875,
          1
         ],
         "gridcolor": "#E1E5ED",
         "showgrid": false,
         "tickfont": {
          "color": "#4D5663"
         },
         "title": {
          "font": {
           "color": "#4D5663"
          },
          "text": ""
         },
         "zerolinecolor": "#E1E5ED"
        },
        "xaxis9": {
         "anchor": "y9",
         "domain": [
          0,
          0.2125
         ],
         "gridcolor": "#E1E5ED",
         "showgrid": false,
         "tickfont": {
          "color": "#4D5663"
         },
         "title": {
          "font": {
           "color": "#4D5663"
          },
          "text": ""
         },
         "zerolinecolor": "#E1E5ED"
        },
        "yaxis": {
         "anchor": "x",
         "domain": [
          0.8025,
          1
         ],
         "gridcolor": "#E1E5ED",
         "showgrid": false,
         "tickfont": {
          "color": "#4D5663"
         },
         "title": {
          "font": {
           "color": "#4D5663"
          },
          "text": ""
         },
         "zerolinecolor": "#E1E5ED"
        },
        "yaxis10": {
         "anchor": "x10",
         "domain": [
          0.2675,
          0.465
         ],
         "gridcolor": "#E1E5ED",
         "showgrid": false,
         "tickfont": {
          "color": "#4D5663"
         },
         "title": {
          "font": {
           "color": "#4D5663"
          },
          "text": ""
         },
         "zerolinecolor": "#E1E5ED"
        },
        "yaxis11": {
         "anchor": "x11",
         "domain": [
          0.2675,
          0.465
         ],
         "gridcolor": "#E1E5ED",
         "showgrid": false,
         "tickfont": {
          "color": "#4D5663"
         },
         "title": {
          "font": {
           "color": "#4D5663"
          },
          "text": ""
         },
         "zerolinecolor": "#E1E5ED"
        },
        "yaxis12": {
         "anchor": "x12",
         "domain": [
          0.2675,
          0.465
         ],
         "gridcolor": "#E1E5ED",
         "showgrid": false,
         "tickfont": {
          "color": "#4D5663"
         },
         "title": {
          "font": {
           "color": "#4D5663"
          },
          "text": ""
         },
         "zerolinecolor": "#E1E5ED"
        },
        "yaxis13": {
         "anchor": "x13",
         "domain": [
          0,
          0.1975
         ],
         "gridcolor": "#E1E5ED",
         "showgrid": false,
         "tickfont": {
          "color": "#4D5663"
         },
         "title": {
          "font": {
           "color": "#4D5663"
          },
          "text": ""
         },
         "zerolinecolor": "#E1E5ED"
        },
        "yaxis14": {
         "anchor": "x14",
         "domain": [
          0,
          0.1975
         ],
         "gridcolor": "#E1E5ED",
         "showgrid": false,
         "tickfont": {
          "color": "#4D5663"
         },
         "title": {
          "font": {
           "color": "#4D5663"
          },
          "text": ""
         },
         "zerolinecolor": "#E1E5ED"
        },
        "yaxis15": {
         "anchor": "x15",
         "domain": [
          0,
          0.1975
         ],
         "gridcolor": "#E1E5ED",
         "showgrid": false,
         "tickfont": {
          "color": "#4D5663"
         },
         "title": {
          "font": {
           "color": "#4D5663"
          },
          "text": ""
         },
         "zerolinecolor": "#E1E5ED"
        },
        "yaxis16": {
         "anchor": "x16",
         "domain": [
          0,
          0.1975
         ],
         "gridcolor": "#E1E5ED",
         "showgrid": false,
         "tickfont": {
          "color": "#4D5663"
         },
         "title": {
          "font": {
           "color": "#4D5663"
          },
          "text": ""
         },
         "zerolinecolor": "#E1E5ED"
        },
        "yaxis2": {
         "anchor": "x2",
         "domain": [
          0.8025,
          1
         ],
         "gridcolor": "#E1E5ED",
         "showgrid": false,
         "tickfont": {
          "color": "#4D5663"
         },
         "title": {
          "font": {
           "color": "#4D5663"
          },
          "text": ""
         },
         "zerolinecolor": "#E1E5ED"
        },
        "yaxis3": {
         "anchor": "x3",
         "domain": [
          0.8025,
          1
         ],
         "gridcolor": "#E1E5ED",
         "showgrid": false,
         "tickfont": {
          "color": "#4D5663"
         },
         "title": {
          "font": {
           "color": "#4D5663"
          },
          "text": ""
         },
         "zerolinecolor": "#E1E5ED"
        },
        "yaxis4": {
         "anchor": "x4",
         "domain": [
          0.8025,
          1
         ],
         "gridcolor": "#E1E5ED",
         "showgrid": false,
         "tickfont": {
          "color": "#4D5663"
         },
         "title": {
          "font": {
           "color": "#4D5663"
          },
          "text": ""
         },
         "zerolinecolor": "#E1E5ED"
        },
        "yaxis5": {
         "anchor": "x5",
         "domain": [
          0.535,
          0.7325
         ],
         "gridcolor": "#E1E5ED",
         "showgrid": false,
         "tickfont": {
          "color": "#4D5663"
         },
         "title": {
          "font": {
           "color": "#4D5663"
          },
          "text": ""
         },
         "zerolinecolor": "#E1E5ED"
        },
        "yaxis6": {
         "anchor": "x6",
         "domain": [
          0.535,
          0.7325
         ],
         "gridcolor": "#E1E5ED",
         "showgrid": false,
         "tickfont": {
          "color": "#4D5663"
         },
         "title": {
          "font": {
           "color": "#4D5663"
          },
          "text": ""
         },
         "zerolinecolor": "#E1E5ED"
        },
        "yaxis7": {
         "anchor": "x7",
         "domain": [
          0.535,
          0.7325
         ],
         "gridcolor": "#E1E5ED",
         "showgrid": false,
         "tickfont": {
          "color": "#4D5663"
         },
         "title": {
          "font": {
           "color": "#4D5663"
          },
          "text": ""
         },
         "zerolinecolor": "#E1E5ED"
        },
        "yaxis8": {
         "anchor": "x8",
         "domain": [
          0.535,
          0.7325
         ],
         "gridcolor": "#E1E5ED",
         "showgrid": false,
         "tickfont": {
          "color": "#4D5663"
         },
         "title": {
          "font": {
           "color": "#4D5663"
          },
          "text": ""
         },
         "zerolinecolor": "#E1E5ED"
        },
        "yaxis9": {
         "anchor": "x9",
         "domain": [
          0.2675,
          0.465
         ],
         "gridcolor": "#E1E5ED",
         "showgrid": false,
         "tickfont": {
          "color": "#4D5663"
         },
         "title": {
          "font": {
           "color": "#4D5663"
          },
          "text": ""
         },
         "zerolinecolor": "#E1E5ED"
        }
       }
      },
      "text/html": [
       "<div>                            <div id=\"06fd7353-abe9-4669-a38b-a5277dd908e0\" class=\"plotly-graph-div\" style=\"height:525px; width:100%;\"></div>            <script type=\"text/javascript\">                require([\"plotly\"], function(Plotly) {                    window.PLOTLYENV=window.PLOTLYENV || {};\n",
       "                    window.PLOTLYENV.BASE_URL='https://plot.ly';                                    if (document.getElementById(\"06fd7353-abe9-4669-a38b-a5277dd908e0\")) {                    Plotly.newPlot(                        \"06fd7353-abe9-4669-a38b-a5277dd908e0\",                        [{\"histfunc\": \"count\", \"histnorm\": \"\", \"marker\": {\"color\": \"rgba(255, 153, 51, 1.0)\", \"line\": {\"color\": \"#4D5663\", \"width\": 1.3}}, \"name\": \"A\", \"nbinsx\": 10, \"opacity\": 0.8, \"orientation\": \"v\", \"type\": \"histogram\", \"x\": [-0.2531083250970203, 0.44472867520184695, -0.6880739903817269, -0.32389688390050336, -0.21066679145064116, -0.7471305568135573, 1.4644403155760901, -1.5390062758876004, -1.5425674761634856, 0.1845770072180261, -1.04983457028772, 2.958223043449747, 0.19962163438520358, 0.6809530686614672, 0.14535502903675235, -0.7188442819492274, 1.0125690660282616, 0.05224314033522782, -1.8432338689264192, -0.3483895528924191, -0.3583306084919735, 0.4761146454202297, -0.147129437965505, 1.5220538503214163, -1.3273284502582012, 0.16507303161167794, -0.0560374263769096, 0.5784265198295464, -0.2740863346688317, 2.143309560747731, 0.1671101097738608, 0.5490366739554574, 0.013215510451084333, 0.3940727215280942, -0.9521217551672523, -0.018722957509154415, 1.43946284679207, 0.5311864343840943, -0.9576730445124143, 2.615701373800367, 0.2969248462359406, -0.23254471608361083, 0.02390791000105446, -0.5815987415883015, 0.9797377817160473, 0.3983322606335077, -0.6141282028185352, 0.23784349161194623, -1.3199887141335402, 0.6996938400462953, -0.2868779707094815, 3.170323023876777, 0.10997169936554678, 1.3170088130777606, -2.658216644451961, -1.7510785196335596, 0.2911423653054329, -0.3146626882337196, 0.42671812938167997, -0.21623347798306392, 1.3913338101835877, 0.5186823638813134, 0.4992351523475857, 1.068339120041519, 0.6850632859094586, -0.4906088150209769, -0.8859045960411523, 0.3397388469656312, 1.4342595849975506, 0.09561282704554233, -1.2043279788958634, -0.5284463987481448, 0.21111175740921415, 0.6765630612537961, 0.5447339666552157, 1.9232009065877185, 0.9311243971960865, -0.5857662928038426, 0.1309340857065233, 0.6307938743323313, -1.3313404549673353, 0.6918609455835275, 1.261217754803169, 0.6246482895871643, 0.7309726569960078, 0.030697726306293666, -1.9848004838069544, -1.6463370700123259, 1.2178820207045697, 0.532948814095436, 0.3317063505971597, 0.2972599259821757, 0.5219716784009186, -1.3582358763406823, -0.3475294045762002, 0.5304741285949425, -0.7712291619711124, -0.8534484005792922, 0.2469690148994338, -0.49158233930531514], \"xaxis\": \"x\", \"yaxis\": \"y\"}, {\"line\": {\"color\": \"rgba(128, 128, 128, 1.0)\", \"dash\": \"solid\", \"shape\": \"linear\", \"width\": 1.3}, \"marker\": {\"size\": 2, \"symbol\": \"circle\"}, \"mode\": \"markers\", \"name\": \"A\", \"text\": \"\", \"type\": \"scatter\", \"x\": [0.2692248590674567, 2.5414565169787684, -1.3847684476344624, 1.0279604222570988, 0.32178606562036727, -0.71414958269869, 1.3286475415150187, -0.18602555159568127, -0.6240462160771314, -0.013680420743699132, 0.9216749121898704, 0.36610989844719927, -0.23086136612047775, -1.561147103539752, -1.55113276236753, 0.32854251512931804, -1.764333635340324, -0.7028625061339061, -1.435701932428522, 0.924236301167901, 0.038138911451752064, -0.7590936404033503, -0.11749600252730237, 0.39633006465495496, -0.2107745967287429, 0.5113421067521764, 1.0929602611219198, 0.18439027770308478, -1.0854390751429883, 0.5118711694135236, 0.40958311714195506, -0.41240221065986143, -0.859034971894161, -0.5529096332253796, -0.5232120174327071, -1.1530761095753999, -0.1916230903244878, -0.15954320592542995, -1.3107503419051287, -0.6670439421192467, 0.16252815279435603, 0.5864792595105315, 0.31271069415931163, -1.4156239025283626, -0.2108067683301323, 0.4009473642109201, -0.2717101826795173, -0.41699572886723774, -0.30082422068105297, 0.5047385743026007, -1.9787868569877332, 0.11751434764417365, -0.12085350747255721, 0.34364779893495206, -1.8224513199521488, -1.2065012656680196, -0.7696169392939282, -0.5111253785557218, -0.3545273834343783, 0.8978159418460043, -0.8157526385378127, -0.9572493594332675, 0.4495184342597558, 2.3261108979215734, -1.089090169046952, -0.3542045476423018, -0.43072727366645397, 1.7074628488359203, -0.5323631224416054, -0.635697712321746, 0.48855952132870645, 1.3350182547014884, 2.3452090589417276, 0.09012629968942505, -1.2522205245484084, -0.7845119830949263, -0.6424298754383452, -1.0645184185886827, 1.3427868037204183, -0.3878916530551524, -0.4621215801011234, -1.4910175723377412, 0.002686208823228683, -0.5938418999955112, 0.6179416582649397, 0.15838027440967178, -1.3072408344980595, -0.14037572981081717, 0.08944578304891387, 0.40371386655793834, -1.2090705967400097, -0.15988167399899386, -0.7102046276701807, -1.474292195815174, -0.9781606303475665, -1.2263315181857672, 1.131136855389624, 1.0786752573396445, -1.305477163909878, 0.2421897939764603], \"xaxis\": \"x2\", \"y\": [-0.2531083250970203, 0.44472867520184695, -0.6880739903817269, -0.32389688390050336, -0.21066679145064116, -0.7471305568135573, 1.4644403155760901, -1.5390062758876004, -1.5425674761634856, 0.1845770072180261, -1.04983457028772, 2.958223043449747, 0.19962163438520358, 0.6809530686614672, 0.14535502903675235, -0.7188442819492274, 1.0125690660282616, 0.05224314033522782, -1.8432338689264192, -0.3483895528924191, -0.3583306084919735, 0.4761146454202297, -0.147129437965505, 1.5220538503214163, -1.3273284502582012, 0.16507303161167794, -0.0560374263769096, 0.5784265198295464, -0.2740863346688317, 2.143309560747731, 0.1671101097738608, 0.5490366739554574, 0.013215510451084333, 0.3940727215280942, -0.9521217551672523, -0.018722957509154415, 1.43946284679207, 0.5311864343840943, -0.9576730445124143, 2.615701373800367, 0.2969248462359406, -0.23254471608361083, 0.02390791000105446, -0.5815987415883015, 0.9797377817160473, 0.3983322606335077, -0.6141282028185352, 0.23784349161194623, -1.3199887141335402, 0.6996938400462953, -0.2868779707094815, 3.170323023876777, 0.10997169936554678, 1.3170088130777606, -2.658216644451961, -1.7510785196335596, 0.2911423653054329, -0.3146626882337196, 0.42671812938167997, -0.21623347798306392, 1.3913338101835877, 0.5186823638813134, 0.4992351523475857, 1.068339120041519, 0.6850632859094586, -0.4906088150209769, -0.8859045960411523, 0.3397388469656312, 1.4342595849975506, 0.09561282704554233, -1.2043279788958634, -0.5284463987481448, 0.21111175740921415, 0.6765630612537961, 0.5447339666552157, 1.9232009065877185, 0.9311243971960865, -0.5857662928038426, 0.1309340857065233, 0.6307938743323313, -1.3313404549673353, 0.6918609455835275, 1.261217754803169, 0.6246482895871643, 0.7309726569960078, 0.030697726306293666, -1.9848004838069544, -1.6463370700123259, 1.2178820207045697, 0.532948814095436, 0.3317063505971597, 0.2972599259821757, 0.5219716784009186, -1.3582358763406823, -0.3475294045762002, 0.5304741285949425, -0.7712291619711124, -0.8534484005792922, 0.2469690148994338, -0.49158233930531514], \"yaxis\": \"y2\"}, {\"line\": {\"color\": \"rgba(128, 128, 128, 1.0)\", \"dash\": \"solid\", \"shape\": \"linear\", \"width\": 1.3}, \"marker\": {\"size\": 2, \"symbol\": \"circle\"}, \"mode\": \"markers\", \"name\": \"A\", \"text\": \"\", \"type\": \"scatter\", \"x\": [0.9845430614354537, 1.4264547784811157, 1.8185224615598867, 0.2876235743837417, -0.15273863053357983, 1.0672640673775675, 0.36889847295683714, 1.7582131837067485, 0.6283354504314319, -0.16167766207986853, -0.2872649632996048, 0.8215961640829661, 0.480498537217956, 0.02075013750145252, -1.1453851914667532, 0.07800081841057309, 0.5186564001148111, 1.5079513777650961, -1.1656941375386918, -0.8055939069969118, -0.2696350033683586, -0.8286847723236382, -0.6522682365336133, 1.081691162805879, 0.1831095123488363, -0.5682789533346162, 0.9928132158925893, 1.8871253715982468, 0.4336963940136164, 0.8274590332282141, -1.3676126517313532, 0.3625391579203631, -0.4198420834785065, -1.7522618013398874, -1.0943409743490962, 1.5930933519180994, -0.3809535745932166, -0.07132020664631916, 0.21094772772557083, 1.4262956770952393, -0.18750703633071464, -1.7317701836166697, 1.0554110904290748, 0.7863549983579504, 0.3144640312460261, -2.694341451993742, -1.7842572579759883, 0.04072541689088181, 1.1849237957676644, 1.8613265763690219, -0.02870588501015, 0.024582987754410042, 2.255838657736544, -0.8234897901997741, -0.46085879890447956, 0.7779373045120065, -0.3275359819714058, -0.7620853715885492, 0.2266976150558581, -1.6665125148994269, -0.3403661546390149, 2.163774530063942, -0.17569776103107237, 0.0017418393701614686, -0.3863220961175093, -0.23254668193074243, 0.600094182920535, 1.4454255232328954, -0.07411531823787712, -0.4590766181330314, 1.2483873746197836, 0.6937370335745796, 0.304054615850903, 0.1282050670190241, -0.9963476782052268, 0.7573250780041975, 1.030235018977501, 0.45788355206083126, 0.2179323611002476, -1.2765176224547714, -0.05091228211186459, 0.7872875248289407, -1.3727816638752337, -0.24429024354267057, 0.2848800017257363, -0.9488131295734892, 1.2207557940326388, -0.150187321056821, 0.8319794732355743, -1.4875074618912505, -0.08982822957118794, -0.18921291714367677, -0.40016951985406524, -1.2794571246527122, -1.094534487829649, -0.4642133831026465, -0.35582950036557914, 0.7179682389790413, 0.30336413427558834, -1.7437205498720163], \"xaxis\": \"x3\", \"y\": [-0.2531083250970203, 0.44472867520184695, -0.6880739903817269, -0.32389688390050336, -0.21066679145064116, -0.7471305568135573, 1.4644403155760901, -1.5390062758876004, -1.5425674761634856, 0.1845770072180261, -1.04983457028772, 2.958223043449747, 0.19962163438520358, 0.6809530686614672, 0.14535502903675235, -0.7188442819492274, 1.0125690660282616, 0.05224314033522782, -1.8432338689264192, -0.3483895528924191, -0.3583306084919735, 0.4761146454202297, -0.147129437965505, 1.5220538503214163, -1.3273284502582012, 0.16507303161167794, -0.0560374263769096, 0.5784265198295464, -0.2740863346688317, 2.143309560747731, 0.1671101097738608, 0.5490366739554574, 0.013215510451084333, 0.3940727215280942, -0.9521217551672523, -0.018722957509154415, 1.43946284679207, 0.5311864343840943, -0.9576730445124143, 2.615701373800367, 0.2969248462359406, -0.23254471608361083, 0.02390791000105446, -0.5815987415883015, 0.9797377817160473, 0.3983322606335077, -0.6141282028185352, 0.23784349161194623, -1.3199887141335402, 0.6996938400462953, -0.2868779707094815, 3.170323023876777, 0.10997169936554678, 1.3170088130777606, -2.658216644451961, -1.7510785196335596, 0.2911423653054329, -0.3146626882337196, 0.42671812938167997, -0.21623347798306392, 1.3913338101835877, 0.5186823638813134, 0.4992351523475857, 1.068339120041519, 0.6850632859094586, -0.4906088150209769, -0.8859045960411523, 0.3397388469656312, 1.4342595849975506, 0.09561282704554233, -1.2043279788958634, -0.5284463987481448, 0.21111175740921415, 0.6765630612537961, 0.5447339666552157, 1.9232009065877185, 0.9311243971960865, -0.5857662928038426, 0.1309340857065233, 0.6307938743323313, -1.3313404549673353, 0.6918609455835275, 1.261217754803169, 0.6246482895871643, 0.7309726569960078, 0.030697726306293666, -1.9848004838069544, -1.6463370700123259, 1.2178820207045697, 0.532948814095436, 0.3317063505971597, 0.2972599259821757, 0.5219716784009186, -1.3582358763406823, -0.3475294045762002, 0.5304741285949425, -0.7712291619711124, -0.8534484005792922, 0.2469690148994338, -0.49158233930531514], \"yaxis\": \"y3\"}, {\"line\": {\"color\": \"rgba(128, 128, 128, 1.0)\", \"dash\": \"solid\", \"shape\": \"linear\", \"width\": 1.3}, \"marker\": {\"size\": 2, \"symbol\": \"circle\"}, \"mode\": \"markers\", \"name\": \"A\", \"text\": \"\", \"type\": \"scatter\", \"x\": [-1.1873759401072121, -0.21272893173520116, -0.3337398117192112, -0.26956520378390764, -1.7659624936732585, -0.6978766429196865, 1.6725545487313158, 0.09259338719191819, 1.6453366231173143, -0.3833674186111683, 1.6989508724793339, 0.5983377937837228, 0.5447352846764828, 0.18099022472462933, 1.5307594863059593, 0.23142495576797836, -2.239277531098523, 0.3752910312617037, 0.2122588488728485, -0.9583627400158707, -0.026938775072069886, 0.7131953417154699, 1.2166546304056043, 0.5914997911410284, 0.8470642191414174, 1.6466958348146044, -0.3639331891040234, -1.710068176230475, -1.5574786150076614, -0.6040313136124005, 2.2301466554883644, 0.9273061531277372, -0.7307650207334397, -0.7302001437813028, -0.48750578267528044, -0.35766261050834985, -0.6725031726706149, 0.421873498857747, 0.02556409448236915, 0.4765293982838863, -1.2141185724581982, -1.639107377789116, -1.131724961813166, -0.4991893991036096, 0.8914334239727241, 0.556560970020493, -1.4675191010887423, -0.3973202818189989, -1.3272951822043146, 0.13436309845109753, 0.7554731936109603, 0.20298422685684478, 0.013433041100121399, -1.6219587781765432, -1.2919866455371372, 1.7156967381957249, 0.3421105516382237, 1.2424484347790248, -1.0511765365084793, -0.26770727452964027, 0.2996732318982424, 2.592142105551428, -0.42639407320832945, 2.1374720582633215, 0.1484491726771624, 0.09940343462618549, -0.5139219798838047, -0.8049296505862523, -0.4046966330808061, -1.3430346983946972, -0.06191568728436142, -0.4459407604275068, 0.4540494393224033, 0.8805770779046518, 1.9278319180101513, -0.27752181605053633, -2.0236715828075607, 0.9811780305866094, 2.2022300541591475, -1.3825108801347603, 0.97983023674692, -2.080809733204436, -0.5323966460427149, -1.375565887222923, 0.7640666043568605, 0.848594647794393, -1.1393736168819195, 0.17793233394983657, 1.8972293181130444, 0.959783938955475, 0.940058256679049, 0.2807262610225058, -1.1588288692589268, -1.1965036252006027, 1.2000502779767896, 1.0549663172573462, -0.6876934291592685, 0.572388846989946, -1.3302273547405212, -0.18950379001783332], \"xaxis\": \"x4\", \"y\": [-0.2531083250970203, 0.44472867520184695, -0.6880739903817269, -0.32389688390050336, -0.21066679145064116, -0.7471305568135573, 1.4644403155760901, -1.5390062758876004, -1.5425674761634856, 0.1845770072180261, -1.04983457028772, 2.958223043449747, 0.19962163438520358, 0.6809530686614672, 0.14535502903675235, -0.7188442819492274, 1.0125690660282616, 0.05224314033522782, -1.8432338689264192, -0.3483895528924191, -0.3583306084919735, 0.4761146454202297, -0.147129437965505, 1.5220538503214163, -1.3273284502582012, 0.16507303161167794, -0.0560374263769096, 0.5784265198295464, -0.2740863346688317, 2.143309560747731, 0.1671101097738608, 0.5490366739554574, 0.013215510451084333, 0.3940727215280942, -0.9521217551672523, -0.018722957509154415, 1.43946284679207, 0.5311864343840943, -0.9576730445124143, 2.615701373800367, 0.2969248462359406, -0.23254471608361083, 0.02390791000105446, -0.5815987415883015, 0.9797377817160473, 0.3983322606335077, -0.6141282028185352, 0.23784349161194623, -1.3199887141335402, 0.6996938400462953, -0.2868779707094815, 3.170323023876777, 0.10997169936554678, 1.3170088130777606, -2.658216644451961, -1.7510785196335596, 0.2911423653054329, -0.3146626882337196, 0.42671812938167997, -0.21623347798306392, 1.3913338101835877, 0.5186823638813134, 0.4992351523475857, 1.068339120041519, 0.6850632859094586, -0.4906088150209769, -0.8859045960411523, 0.3397388469656312, 1.4342595849975506, 0.09561282704554233, -1.2043279788958634, -0.5284463987481448, 0.21111175740921415, 0.6765630612537961, 0.5447339666552157, 1.9232009065877185, 0.9311243971960865, -0.5857662928038426, 0.1309340857065233, 0.6307938743323313, -1.3313404549673353, 0.6918609455835275, 1.261217754803169, 0.6246482895871643, 0.7309726569960078, 0.030697726306293666, -1.9848004838069544, -1.6463370700123259, 1.2178820207045697, 0.532948814095436, 0.3317063505971597, 0.2972599259821757, 0.5219716784009186, -1.3582358763406823, -0.3475294045762002, 0.5304741285949425, -0.7712291619711124, -0.8534484005792922, 0.2469690148994338, -0.49158233930531514], \"yaxis\": \"y4\"}, {\"line\": {\"color\": \"rgba(128, 128, 128, 1.0)\", \"dash\": \"solid\", \"shape\": \"linear\", \"width\": 1.3}, \"marker\": {\"size\": 2, \"symbol\": \"circle\"}, \"mode\": \"markers\", \"name\": \"B\", \"text\": \"\", \"type\": \"scatter\", \"x\": [-0.2531083250970203, 0.44472867520184695, -0.6880739903817269, -0.32389688390050336, -0.21066679145064116, -0.7471305568135573, 1.4644403155760901, -1.5390062758876004, -1.5425674761634856, 0.1845770072180261, -1.04983457028772, 2.958223043449747, 0.19962163438520358, 0.6809530686614672, 0.14535502903675235, -0.7188442819492274, 1.0125690660282616, 0.05224314033522782, -1.8432338689264192, -0.3483895528924191, -0.3583306084919735, 0.4761146454202297, -0.147129437965505, 1.5220538503214163, -1.3273284502582012, 0.16507303161167794, -0.0560374263769096, 0.5784265198295464, -0.2740863346688317, 2.143309560747731, 0.1671101097738608, 0.5490366739554574, 0.013215510451084333, 0.3940727215280942, -0.9521217551672523, -0.018722957509154415, 1.43946284679207, 0.5311864343840943, -0.9576730445124143, 2.615701373800367, 0.2969248462359406, -0.23254471608361083, 0.02390791000105446, -0.5815987415883015, 0.9797377817160473, 0.3983322606335077, -0.6141282028185352, 0.23784349161194623, -1.3199887141335402, 0.6996938400462953, -0.2868779707094815, 3.170323023876777, 0.10997169936554678, 1.3170088130777606, -2.658216644451961, -1.7510785196335596, 0.2911423653054329, -0.3146626882337196, 0.42671812938167997, -0.21623347798306392, 1.3913338101835877, 0.5186823638813134, 0.4992351523475857, 1.068339120041519, 0.6850632859094586, -0.4906088150209769, -0.8859045960411523, 0.3397388469656312, 1.4342595849975506, 0.09561282704554233, -1.2043279788958634, -0.5284463987481448, 0.21111175740921415, 0.6765630612537961, 0.5447339666552157, 1.9232009065877185, 0.9311243971960865, -0.5857662928038426, 0.1309340857065233, 0.6307938743323313, -1.3313404549673353, 0.6918609455835275, 1.261217754803169, 0.6246482895871643, 0.7309726569960078, 0.030697726306293666, -1.9848004838069544, -1.6463370700123259, 1.2178820207045697, 0.532948814095436, 0.3317063505971597, 0.2972599259821757, 0.5219716784009186, -1.3582358763406823, -0.3475294045762002, 0.5304741285949425, -0.7712291619711124, -0.8534484005792922, 0.2469690148994338, -0.49158233930531514], \"xaxis\": \"x5\", \"y\": [0.2692248590674567, 2.5414565169787684, -1.3847684476344624, 1.0279604222570988, 0.32178606562036727, -0.71414958269869, 1.3286475415150187, -0.18602555159568127, -0.6240462160771314, -0.013680420743699132, 0.9216749121898704, 0.36610989844719927, -0.23086136612047775, -1.561147103539752, -1.55113276236753, 0.32854251512931804, -1.764333635340324, -0.7028625061339061, -1.435701932428522, 0.924236301167901, 0.038138911451752064, -0.7590936404033503, -0.11749600252730237, 0.39633006465495496, -0.2107745967287429, 0.5113421067521764, 1.0929602611219198, 0.18439027770308478, -1.0854390751429883, 0.5118711694135236, 0.40958311714195506, -0.41240221065986143, -0.859034971894161, -0.5529096332253796, -0.5232120174327071, -1.1530761095753999, -0.1916230903244878, -0.15954320592542995, -1.3107503419051287, -0.6670439421192467, 0.16252815279435603, 0.5864792595105315, 0.31271069415931163, -1.4156239025283626, -0.2108067683301323, 0.4009473642109201, -0.2717101826795173, -0.41699572886723774, -0.30082422068105297, 0.5047385743026007, -1.9787868569877332, 0.11751434764417365, -0.12085350747255721, 0.34364779893495206, -1.8224513199521488, -1.2065012656680196, -0.7696169392939282, -0.5111253785557218, -0.3545273834343783, 0.8978159418460043, -0.8157526385378127, -0.9572493594332675, 0.4495184342597558, 2.3261108979215734, -1.089090169046952, -0.3542045476423018, -0.43072727366645397, 1.7074628488359203, -0.5323631224416054, -0.635697712321746, 0.48855952132870645, 1.3350182547014884, 2.3452090589417276, 0.09012629968942505, -1.2522205245484084, -0.7845119830949263, -0.6424298754383452, -1.0645184185886827, 1.3427868037204183, -0.3878916530551524, -0.4621215801011234, -1.4910175723377412, 0.002686208823228683, -0.5938418999955112, 0.6179416582649397, 0.15838027440967178, -1.3072408344980595, -0.14037572981081717, 0.08944578304891387, 0.40371386655793834, -1.2090705967400097, -0.15988167399899386, -0.7102046276701807, -1.474292195815174, -0.9781606303475665, -1.2263315181857672, 1.131136855389624, 1.0786752573396445, -1.305477163909878, 0.2421897939764603], \"yaxis\": \"y5\"}, {\"histfunc\": \"count\", \"histnorm\": \"\", \"marker\": {\"color\": \"rgba(55, 128, 191, 1.0)\", \"line\": {\"color\": \"#4D5663\", \"width\": 1.3}}, \"name\": \"B\", \"nbinsx\": 10, \"opacity\": 0.8, \"orientation\": \"v\", \"type\": \"histogram\", \"x\": [0.2692248590674567, 2.5414565169787684, -1.3847684476344624, 1.0279604222570988, 0.32178606562036727, -0.71414958269869, 1.3286475415150187, -0.18602555159568127, -0.6240462160771314, -0.013680420743699132, 0.9216749121898704, 0.36610989844719927, -0.23086136612047775, -1.561147103539752, -1.55113276236753, 0.32854251512931804, -1.764333635340324, -0.7028625061339061, -1.435701932428522, 0.924236301167901, 0.038138911451752064, -0.7590936404033503, -0.11749600252730237, 0.39633006465495496, -0.2107745967287429, 0.5113421067521764, 1.0929602611219198, 0.18439027770308478, -1.0854390751429883, 0.5118711694135236, 0.40958311714195506, -0.41240221065986143, -0.859034971894161, -0.5529096332253796, -0.5232120174327071, -1.1530761095753999, -0.1916230903244878, -0.15954320592542995, -1.3107503419051287, -0.6670439421192467, 0.16252815279435603, 0.5864792595105315, 0.31271069415931163, -1.4156239025283626, -0.2108067683301323, 0.4009473642109201, -0.2717101826795173, -0.41699572886723774, -0.30082422068105297, 0.5047385743026007, -1.9787868569877332, 0.11751434764417365, -0.12085350747255721, 0.34364779893495206, -1.8224513199521488, -1.2065012656680196, -0.7696169392939282, -0.5111253785557218, -0.3545273834343783, 0.8978159418460043, -0.8157526385378127, -0.9572493594332675, 0.4495184342597558, 2.3261108979215734, -1.089090169046952, -0.3542045476423018, -0.43072727366645397, 1.7074628488359203, -0.5323631224416054, -0.635697712321746, 0.48855952132870645, 1.3350182547014884, 2.3452090589417276, 0.09012629968942505, -1.2522205245484084, -0.7845119830949263, -0.6424298754383452, -1.0645184185886827, 1.3427868037204183, -0.3878916530551524, -0.4621215801011234, -1.4910175723377412, 0.002686208823228683, -0.5938418999955112, 0.6179416582649397, 0.15838027440967178, -1.3072408344980595, -0.14037572981081717, 0.08944578304891387, 0.40371386655793834, -1.2090705967400097, -0.15988167399899386, -0.7102046276701807, -1.474292195815174, -0.9781606303475665, -1.2263315181857672, 1.131136855389624, 1.0786752573396445, -1.305477163909878, 0.2421897939764603], \"xaxis\": \"x6\", \"yaxis\": \"y6\"}, {\"line\": {\"color\": \"rgba(128, 128, 128, 1.0)\", \"dash\": \"solid\", \"shape\": \"linear\", \"width\": 1.3}, \"marker\": {\"size\": 2, \"symbol\": \"circle\"}, \"mode\": \"markers\", \"name\": \"B\", \"text\": \"\", \"type\": \"scatter\", \"x\": [0.9845430614354537, 1.4264547784811157, 1.8185224615598867, 0.2876235743837417, -0.15273863053357983, 1.0672640673775675, 0.36889847295683714, 1.7582131837067485, 0.6283354504314319, -0.16167766207986853, -0.2872649632996048, 0.8215961640829661, 0.480498537217956, 0.02075013750145252, -1.1453851914667532, 0.07800081841057309, 0.5186564001148111, 1.5079513777650961, -1.1656941375386918, -0.8055939069969118, -0.2696350033683586, -0.8286847723236382, -0.6522682365336133, 1.081691162805879, 0.1831095123488363, -0.5682789533346162, 0.9928132158925893, 1.8871253715982468, 0.4336963940136164, 0.8274590332282141, -1.3676126517313532, 0.3625391579203631, -0.4198420834785065, -1.7522618013398874, -1.0943409743490962, 1.5930933519180994, -0.3809535745932166, -0.07132020664631916, 0.21094772772557083, 1.4262956770952393, -0.18750703633071464, -1.7317701836166697, 1.0554110904290748, 0.7863549983579504, 0.3144640312460261, -2.694341451993742, -1.7842572579759883, 0.04072541689088181, 1.1849237957676644, 1.8613265763690219, -0.02870588501015, 0.024582987754410042, 2.255838657736544, -0.8234897901997741, -0.46085879890447956, 0.7779373045120065, -0.3275359819714058, -0.7620853715885492, 0.2266976150558581, -1.6665125148994269, -0.3403661546390149, 2.163774530063942, -0.17569776103107237, 0.0017418393701614686, -0.3863220961175093, -0.23254668193074243, 0.600094182920535, 1.4454255232328954, -0.07411531823787712, -0.4590766181330314, 1.2483873746197836, 0.6937370335745796, 0.304054615850903, 0.1282050670190241, -0.9963476782052268, 0.7573250780041975, 1.030235018977501, 0.45788355206083126, 0.2179323611002476, -1.2765176224547714, -0.05091228211186459, 0.7872875248289407, -1.3727816638752337, -0.24429024354267057, 0.2848800017257363, -0.9488131295734892, 1.2207557940326388, -0.150187321056821, 0.8319794732355743, -1.4875074618912505, -0.08982822957118794, -0.18921291714367677, -0.40016951985406524, -1.2794571246527122, -1.094534487829649, -0.4642133831026465, -0.35582950036557914, 0.7179682389790413, 0.30336413427558834, -1.7437205498720163], \"xaxis\": \"x7\", \"y\": [0.2692248590674567, 2.5414565169787684, -1.3847684476344624, 1.0279604222570988, 0.32178606562036727, -0.71414958269869, 1.3286475415150187, -0.18602555159568127, -0.6240462160771314, -0.013680420743699132, 0.9216749121898704, 0.36610989844719927, -0.23086136612047775, -1.561147103539752, -1.55113276236753, 0.32854251512931804, -1.764333635340324, -0.7028625061339061, -1.435701932428522, 0.924236301167901, 0.038138911451752064, -0.7590936404033503, -0.11749600252730237, 0.39633006465495496, -0.2107745967287429, 0.5113421067521764, 1.0929602611219198, 0.18439027770308478, -1.0854390751429883, 0.5118711694135236, 0.40958311714195506, -0.41240221065986143, -0.859034971894161, -0.5529096332253796, -0.5232120174327071, -1.1530761095753999, -0.1916230903244878, -0.15954320592542995, -1.3107503419051287, -0.6670439421192467, 0.16252815279435603, 0.5864792595105315, 0.31271069415931163, -1.4156239025283626, -0.2108067683301323, 0.4009473642109201, -0.2717101826795173, -0.41699572886723774, -0.30082422068105297, 0.5047385743026007, -1.9787868569877332, 0.11751434764417365, -0.12085350747255721, 0.34364779893495206, -1.8224513199521488, -1.2065012656680196, -0.7696169392939282, -0.5111253785557218, -0.3545273834343783, 0.8978159418460043, -0.8157526385378127, -0.9572493594332675, 0.4495184342597558, 2.3261108979215734, -1.089090169046952, -0.3542045476423018, -0.43072727366645397, 1.7074628488359203, -0.5323631224416054, -0.635697712321746, 0.48855952132870645, 1.3350182547014884, 2.3452090589417276, 0.09012629968942505, -1.2522205245484084, -0.7845119830949263, -0.6424298754383452, -1.0645184185886827, 1.3427868037204183, -0.3878916530551524, -0.4621215801011234, -1.4910175723377412, 0.002686208823228683, -0.5938418999955112, 0.6179416582649397, 0.15838027440967178, -1.3072408344980595, -0.14037572981081717, 0.08944578304891387, 0.40371386655793834, -1.2090705967400097, -0.15988167399899386, -0.7102046276701807, -1.474292195815174, -0.9781606303475665, -1.2263315181857672, 1.131136855389624, 1.0786752573396445, -1.305477163909878, 0.2421897939764603], \"yaxis\": \"y7\"}, {\"line\": {\"color\": \"rgba(128, 128, 128, 1.0)\", \"dash\": \"solid\", \"shape\": \"linear\", \"width\": 1.3}, \"marker\": {\"size\": 2, \"symbol\": \"circle\"}, \"mode\": \"markers\", \"name\": \"B\", \"text\": \"\", \"type\": \"scatter\", \"x\": [-1.1873759401072121, -0.21272893173520116, -0.3337398117192112, -0.26956520378390764, -1.7659624936732585, -0.6978766429196865, 1.6725545487313158, 0.09259338719191819, 1.6453366231173143, -0.3833674186111683, 1.6989508724793339, 0.5983377937837228, 0.5447352846764828, 0.18099022472462933, 1.5307594863059593, 0.23142495576797836, -2.239277531098523, 0.3752910312617037, 0.2122588488728485, -0.9583627400158707, -0.026938775072069886, 0.7131953417154699, 1.2166546304056043, 0.5914997911410284, 0.8470642191414174, 1.6466958348146044, -0.3639331891040234, -1.710068176230475, -1.5574786150076614, -0.6040313136124005, 2.2301466554883644, 0.9273061531277372, -0.7307650207334397, -0.7302001437813028, -0.48750578267528044, -0.35766261050834985, -0.6725031726706149, 0.421873498857747, 0.02556409448236915, 0.4765293982838863, -1.2141185724581982, -1.639107377789116, -1.131724961813166, -0.4991893991036096, 0.8914334239727241, 0.556560970020493, -1.4675191010887423, -0.3973202818189989, -1.3272951822043146, 0.13436309845109753, 0.7554731936109603, 0.20298422685684478, 0.013433041100121399, -1.6219587781765432, -1.2919866455371372, 1.7156967381957249, 0.3421105516382237, 1.2424484347790248, -1.0511765365084793, -0.26770727452964027, 0.2996732318982424, 2.592142105551428, -0.42639407320832945, 2.1374720582633215, 0.1484491726771624, 0.09940343462618549, -0.5139219798838047, -0.8049296505862523, -0.4046966330808061, -1.3430346983946972, -0.06191568728436142, -0.4459407604275068, 0.4540494393224033, 0.8805770779046518, 1.9278319180101513, -0.27752181605053633, -2.0236715828075607, 0.9811780305866094, 2.2022300541591475, -1.3825108801347603, 0.97983023674692, -2.080809733204436, -0.5323966460427149, -1.375565887222923, 0.7640666043568605, 0.848594647794393, -1.1393736168819195, 0.17793233394983657, 1.8972293181130444, 0.959783938955475, 0.940058256679049, 0.2807262610225058, -1.1588288692589268, -1.1965036252006027, 1.2000502779767896, 1.0549663172573462, -0.6876934291592685, 0.572388846989946, -1.3302273547405212, -0.18950379001783332], \"xaxis\": \"x8\", \"y\": [0.2692248590674567, 2.5414565169787684, -1.3847684476344624, 1.0279604222570988, 0.32178606562036727, -0.71414958269869, 1.3286475415150187, -0.18602555159568127, -0.6240462160771314, -0.013680420743699132, 0.9216749121898704, 0.36610989844719927, -0.23086136612047775, -1.561147103539752, -1.55113276236753, 0.32854251512931804, -1.764333635340324, -0.7028625061339061, -1.435701932428522, 0.924236301167901, 0.038138911451752064, -0.7590936404033503, -0.11749600252730237, 0.39633006465495496, -0.2107745967287429, 0.5113421067521764, 1.0929602611219198, 0.18439027770308478, -1.0854390751429883, 0.5118711694135236, 0.40958311714195506, -0.41240221065986143, -0.859034971894161, -0.5529096332253796, -0.5232120174327071, -1.1530761095753999, -0.1916230903244878, -0.15954320592542995, -1.3107503419051287, -0.6670439421192467, 0.16252815279435603, 0.5864792595105315, 0.31271069415931163, -1.4156239025283626, -0.2108067683301323, 0.4009473642109201, -0.2717101826795173, -0.41699572886723774, -0.30082422068105297, 0.5047385743026007, -1.9787868569877332, 0.11751434764417365, -0.12085350747255721, 0.34364779893495206, -1.8224513199521488, -1.2065012656680196, -0.7696169392939282, -0.5111253785557218, -0.3545273834343783, 0.8978159418460043, -0.8157526385378127, -0.9572493594332675, 0.4495184342597558, 2.3261108979215734, -1.089090169046952, -0.3542045476423018, -0.43072727366645397, 1.7074628488359203, -0.5323631224416054, -0.635697712321746, 0.48855952132870645, 1.3350182547014884, 2.3452090589417276, 0.09012629968942505, -1.2522205245484084, -0.7845119830949263, -0.6424298754383452, -1.0645184185886827, 1.3427868037204183, -0.3878916530551524, -0.4621215801011234, -1.4910175723377412, 0.002686208823228683, -0.5938418999955112, 0.6179416582649397, 0.15838027440967178, -1.3072408344980595, -0.14037572981081717, 0.08944578304891387, 0.40371386655793834, -1.2090705967400097, -0.15988167399899386, -0.7102046276701807, -1.474292195815174, -0.9781606303475665, -1.2263315181857672, 1.131136855389624, 1.0786752573396445, -1.305477163909878, 0.2421897939764603], \"yaxis\": \"y8\"}, {\"line\": {\"color\": \"rgba(128, 128, 128, 1.0)\", \"dash\": \"solid\", \"shape\": \"linear\", \"width\": 1.3}, \"marker\": {\"size\": 2, \"symbol\": \"circle\"}, \"mode\": \"markers\", \"name\": \"C\", \"text\": \"\", \"type\": \"scatter\", \"x\": [-0.2531083250970203, 0.44472867520184695, -0.6880739903817269, -0.32389688390050336, -0.21066679145064116, -0.7471305568135573, 1.4644403155760901, -1.5390062758876004, -1.5425674761634856, 0.1845770072180261, -1.04983457028772, 2.958223043449747, 0.19962163438520358, 0.6809530686614672, 0.14535502903675235, -0.7188442819492274, 1.0125690660282616, 0.05224314033522782, -1.8432338689264192, -0.3483895528924191, -0.3583306084919735, 0.4761146454202297, -0.147129437965505, 1.5220538503214163, -1.3273284502582012, 0.16507303161167794, -0.0560374263769096, 0.5784265198295464, -0.2740863346688317, 2.143309560747731, 0.1671101097738608, 0.5490366739554574, 0.013215510451084333, 0.3940727215280942, -0.9521217551672523, -0.018722957509154415, 1.43946284679207, 0.5311864343840943, -0.9576730445124143, 2.615701373800367, 0.2969248462359406, -0.23254471608361083, 0.02390791000105446, -0.5815987415883015, 0.9797377817160473, 0.3983322606335077, -0.6141282028185352, 0.23784349161194623, -1.3199887141335402, 0.6996938400462953, -0.2868779707094815, 3.170323023876777, 0.10997169936554678, 1.3170088130777606, -2.658216644451961, -1.7510785196335596, 0.2911423653054329, -0.3146626882337196, 0.42671812938167997, -0.21623347798306392, 1.3913338101835877, 0.5186823638813134, 0.4992351523475857, 1.068339120041519, 0.6850632859094586, -0.4906088150209769, -0.8859045960411523, 0.3397388469656312, 1.4342595849975506, 0.09561282704554233, -1.2043279788958634, -0.5284463987481448, 0.21111175740921415, 0.6765630612537961, 0.5447339666552157, 1.9232009065877185, 0.9311243971960865, -0.5857662928038426, 0.1309340857065233, 0.6307938743323313, -1.3313404549673353, 0.6918609455835275, 1.261217754803169, 0.6246482895871643, 0.7309726569960078, 0.030697726306293666, -1.9848004838069544, -1.6463370700123259, 1.2178820207045697, 0.532948814095436, 0.3317063505971597, 0.2972599259821757, 0.5219716784009186, -1.3582358763406823, -0.3475294045762002, 0.5304741285949425, -0.7712291619711124, -0.8534484005792922, 0.2469690148994338, -0.49158233930531514], \"xaxis\": \"x9\", \"y\": [0.9845430614354537, 1.4264547784811157, 1.8185224615598867, 0.2876235743837417, -0.15273863053357983, 1.0672640673775675, 0.36889847295683714, 1.7582131837067485, 0.6283354504314319, -0.16167766207986853, -0.2872649632996048, 0.8215961640829661, 0.480498537217956, 0.02075013750145252, -1.1453851914667532, 0.07800081841057309, 0.5186564001148111, 1.5079513777650961, -1.1656941375386918, -0.8055939069969118, -0.2696350033683586, -0.8286847723236382, -0.6522682365336133, 1.081691162805879, 0.1831095123488363, -0.5682789533346162, 0.9928132158925893, 1.8871253715982468, 0.4336963940136164, 0.8274590332282141, -1.3676126517313532, 0.3625391579203631, -0.4198420834785065, -1.7522618013398874, -1.0943409743490962, 1.5930933519180994, -0.3809535745932166, -0.07132020664631916, 0.21094772772557083, 1.4262956770952393, -0.18750703633071464, -1.7317701836166697, 1.0554110904290748, 0.7863549983579504, 0.3144640312460261, -2.694341451993742, -1.7842572579759883, 0.04072541689088181, 1.1849237957676644, 1.8613265763690219, -0.02870588501015, 0.024582987754410042, 2.255838657736544, -0.8234897901997741, -0.46085879890447956, 0.7779373045120065, -0.3275359819714058, -0.7620853715885492, 0.2266976150558581, -1.6665125148994269, -0.3403661546390149, 2.163774530063942, -0.17569776103107237, 0.0017418393701614686, -0.3863220961175093, -0.23254668193074243, 0.600094182920535, 1.4454255232328954, -0.07411531823787712, -0.4590766181330314, 1.2483873746197836, 0.6937370335745796, 0.304054615850903, 0.1282050670190241, -0.9963476782052268, 0.7573250780041975, 1.030235018977501, 0.45788355206083126, 0.2179323611002476, -1.2765176224547714, -0.05091228211186459, 0.7872875248289407, -1.3727816638752337, -0.24429024354267057, 0.2848800017257363, -0.9488131295734892, 1.2207557940326388, -0.150187321056821, 0.8319794732355743, -1.4875074618912505, -0.08982822957118794, -0.18921291714367677, -0.40016951985406524, -1.2794571246527122, -1.094534487829649, -0.4642133831026465, -0.35582950036557914, 0.7179682389790413, 0.30336413427558834, -1.7437205498720163], \"yaxis\": \"y9\"}, {\"line\": {\"color\": \"rgba(128, 128, 128, 1.0)\", \"dash\": \"solid\", \"shape\": \"linear\", \"width\": 1.3}, \"marker\": {\"size\": 2, \"symbol\": \"circle\"}, \"mode\": \"markers\", \"name\": \"C\", \"text\": \"\", \"type\": \"scatter\", \"x\": [0.2692248590674567, 2.5414565169787684, -1.3847684476344624, 1.0279604222570988, 0.32178606562036727, -0.71414958269869, 1.3286475415150187, -0.18602555159568127, -0.6240462160771314, -0.013680420743699132, 0.9216749121898704, 0.36610989844719927, -0.23086136612047775, -1.561147103539752, -1.55113276236753, 0.32854251512931804, -1.764333635340324, -0.7028625061339061, -1.435701932428522, 0.924236301167901, 0.038138911451752064, -0.7590936404033503, -0.11749600252730237, 0.39633006465495496, -0.2107745967287429, 0.5113421067521764, 1.0929602611219198, 0.18439027770308478, -1.0854390751429883, 0.5118711694135236, 0.40958311714195506, -0.41240221065986143, -0.859034971894161, -0.5529096332253796, -0.5232120174327071, -1.1530761095753999, -0.1916230903244878, -0.15954320592542995, -1.3107503419051287, -0.6670439421192467, 0.16252815279435603, 0.5864792595105315, 0.31271069415931163, -1.4156239025283626, -0.2108067683301323, 0.4009473642109201, -0.2717101826795173, -0.41699572886723774, -0.30082422068105297, 0.5047385743026007, -1.9787868569877332, 0.11751434764417365, -0.12085350747255721, 0.34364779893495206, -1.8224513199521488, -1.2065012656680196, -0.7696169392939282, -0.5111253785557218, -0.3545273834343783, 0.8978159418460043, -0.8157526385378127, -0.9572493594332675, 0.4495184342597558, 2.3261108979215734, -1.089090169046952, -0.3542045476423018, -0.43072727366645397, 1.7074628488359203, -0.5323631224416054, -0.635697712321746, 0.48855952132870645, 1.3350182547014884, 2.3452090589417276, 0.09012629968942505, -1.2522205245484084, -0.7845119830949263, -0.6424298754383452, -1.0645184185886827, 1.3427868037204183, -0.3878916530551524, -0.4621215801011234, -1.4910175723377412, 0.002686208823228683, -0.5938418999955112, 0.6179416582649397, 0.15838027440967178, -1.3072408344980595, -0.14037572981081717, 0.08944578304891387, 0.40371386655793834, -1.2090705967400097, -0.15988167399899386, -0.7102046276701807, -1.474292195815174, -0.9781606303475665, -1.2263315181857672, 1.131136855389624, 1.0786752573396445, -1.305477163909878, 0.2421897939764603], \"xaxis\": \"x10\", \"y\": [0.9845430614354537, 1.4264547784811157, 1.8185224615598867, 0.2876235743837417, -0.15273863053357983, 1.0672640673775675, 0.36889847295683714, 1.7582131837067485, 0.6283354504314319, -0.16167766207986853, -0.2872649632996048, 0.8215961640829661, 0.480498537217956, 0.02075013750145252, -1.1453851914667532, 0.07800081841057309, 0.5186564001148111, 1.5079513777650961, -1.1656941375386918, -0.8055939069969118, -0.2696350033683586, -0.8286847723236382, -0.6522682365336133, 1.081691162805879, 0.1831095123488363, -0.5682789533346162, 0.9928132158925893, 1.8871253715982468, 0.4336963940136164, 0.8274590332282141, -1.3676126517313532, 0.3625391579203631, -0.4198420834785065, -1.7522618013398874, -1.0943409743490962, 1.5930933519180994, -0.3809535745932166, -0.07132020664631916, 0.21094772772557083, 1.4262956770952393, -0.18750703633071464, -1.7317701836166697, 1.0554110904290748, 0.7863549983579504, 0.3144640312460261, -2.694341451993742, -1.7842572579759883, 0.04072541689088181, 1.1849237957676644, 1.8613265763690219, -0.02870588501015, 0.024582987754410042, 2.255838657736544, -0.8234897901997741, -0.46085879890447956, 0.7779373045120065, -0.3275359819714058, -0.7620853715885492, 0.2266976150558581, -1.6665125148994269, -0.3403661546390149, 2.163774530063942, -0.17569776103107237, 0.0017418393701614686, -0.3863220961175093, -0.23254668193074243, 0.600094182920535, 1.4454255232328954, -0.07411531823787712, -0.4590766181330314, 1.2483873746197836, 0.6937370335745796, 0.304054615850903, 0.1282050670190241, -0.9963476782052268, 0.7573250780041975, 1.030235018977501, 0.45788355206083126, 0.2179323611002476, -1.2765176224547714, -0.05091228211186459, 0.7872875248289407, -1.3727816638752337, -0.24429024354267057, 0.2848800017257363, -0.9488131295734892, 1.2207557940326388, -0.150187321056821, 0.8319794732355743, -1.4875074618912505, -0.08982822957118794, -0.18921291714367677, -0.40016951985406524, -1.2794571246527122, -1.094534487829649, -0.4642133831026465, -0.35582950036557914, 0.7179682389790413, 0.30336413427558834, -1.7437205498720163], \"yaxis\": \"y10\"}, {\"histfunc\": \"count\", \"histnorm\": \"\", \"marker\": {\"color\": \"rgba(50, 171, 96, 1.0)\", \"line\": {\"color\": \"#4D5663\", \"width\": 1.3}}, \"name\": \"C\", \"nbinsx\": 10, \"opacity\": 0.8, \"orientation\": \"v\", \"type\": \"histogram\", \"x\": [0.9845430614354537, 1.4264547784811157, 1.8185224615598867, 0.2876235743837417, -0.15273863053357983, 1.0672640673775675, 0.36889847295683714, 1.7582131837067485, 0.6283354504314319, -0.16167766207986853, -0.2872649632996048, 0.8215961640829661, 0.480498537217956, 0.02075013750145252, -1.1453851914667532, 0.07800081841057309, 0.5186564001148111, 1.5079513777650961, -1.1656941375386918, -0.8055939069969118, -0.2696350033683586, -0.8286847723236382, -0.6522682365336133, 1.081691162805879, 0.1831095123488363, -0.5682789533346162, 0.9928132158925893, 1.8871253715982468, 0.4336963940136164, 0.8274590332282141, -1.3676126517313532, 0.3625391579203631, -0.4198420834785065, -1.7522618013398874, -1.0943409743490962, 1.5930933519180994, -0.3809535745932166, -0.07132020664631916, 0.21094772772557083, 1.4262956770952393, -0.18750703633071464, -1.7317701836166697, 1.0554110904290748, 0.7863549983579504, 0.3144640312460261, -2.694341451993742, -1.7842572579759883, 0.04072541689088181, 1.1849237957676644, 1.8613265763690219, -0.02870588501015, 0.024582987754410042, 2.255838657736544, -0.8234897901997741, -0.46085879890447956, 0.7779373045120065, -0.3275359819714058, -0.7620853715885492, 0.2266976150558581, -1.6665125148994269, -0.3403661546390149, 2.163774530063942, -0.17569776103107237, 0.0017418393701614686, -0.3863220961175093, -0.23254668193074243, 0.600094182920535, 1.4454255232328954, -0.07411531823787712, -0.4590766181330314, 1.2483873746197836, 0.6937370335745796, 0.304054615850903, 0.1282050670190241, -0.9963476782052268, 0.7573250780041975, 1.030235018977501, 0.45788355206083126, 0.2179323611002476, -1.2765176224547714, -0.05091228211186459, 0.7872875248289407, -1.3727816638752337, -0.24429024354267057, 0.2848800017257363, -0.9488131295734892, 1.2207557940326388, -0.150187321056821, 0.8319794732355743, -1.4875074618912505, -0.08982822957118794, -0.18921291714367677, -0.40016951985406524, -1.2794571246527122, -1.094534487829649, -0.4642133831026465, -0.35582950036557914, 0.7179682389790413, 0.30336413427558834, -1.7437205498720163], \"xaxis\": \"x11\", \"yaxis\": \"y11\"}, {\"line\": {\"color\": \"rgba(128, 128, 128, 1.0)\", \"dash\": \"solid\", \"shape\": \"linear\", \"width\": 1.3}, \"marker\": {\"size\": 2, \"symbol\": \"circle\"}, \"mode\": \"markers\", \"name\": \"C\", \"text\": \"\", \"type\": \"scatter\", \"x\": [-1.1873759401072121, -0.21272893173520116, -0.3337398117192112, -0.26956520378390764, -1.7659624936732585, -0.6978766429196865, 1.6725545487313158, 0.09259338719191819, 1.6453366231173143, -0.3833674186111683, 1.6989508724793339, 0.5983377937837228, 0.5447352846764828, 0.18099022472462933, 1.5307594863059593, 0.23142495576797836, -2.239277531098523, 0.3752910312617037, 0.2122588488728485, -0.9583627400158707, -0.026938775072069886, 0.7131953417154699, 1.2166546304056043, 0.5914997911410284, 0.8470642191414174, 1.6466958348146044, -0.3639331891040234, -1.710068176230475, -1.5574786150076614, -0.6040313136124005, 2.2301466554883644, 0.9273061531277372, -0.7307650207334397, -0.7302001437813028, -0.48750578267528044, -0.35766261050834985, -0.6725031726706149, 0.421873498857747, 0.02556409448236915, 0.4765293982838863, -1.2141185724581982, -1.639107377789116, -1.131724961813166, -0.4991893991036096, 0.8914334239727241, 0.556560970020493, -1.4675191010887423, -0.3973202818189989, -1.3272951822043146, 0.13436309845109753, 0.7554731936109603, 0.20298422685684478, 0.013433041100121399, -1.6219587781765432, -1.2919866455371372, 1.7156967381957249, 0.3421105516382237, 1.2424484347790248, -1.0511765365084793, -0.26770727452964027, 0.2996732318982424, 2.592142105551428, -0.42639407320832945, 2.1374720582633215, 0.1484491726771624, 0.09940343462618549, -0.5139219798838047, -0.8049296505862523, -0.4046966330808061, -1.3430346983946972, -0.06191568728436142, -0.4459407604275068, 0.4540494393224033, 0.8805770779046518, 1.9278319180101513, -0.27752181605053633, -2.0236715828075607, 0.9811780305866094, 2.2022300541591475, -1.3825108801347603, 0.97983023674692, -2.080809733204436, -0.5323966460427149, -1.375565887222923, 0.7640666043568605, 0.848594647794393, -1.1393736168819195, 0.17793233394983657, 1.8972293181130444, 0.959783938955475, 0.940058256679049, 0.2807262610225058, -1.1588288692589268, -1.1965036252006027, 1.2000502779767896, 1.0549663172573462, -0.6876934291592685, 0.572388846989946, -1.3302273547405212, -0.18950379001783332], \"xaxis\": \"x12\", \"y\": [0.9845430614354537, 1.4264547784811157, 1.8185224615598867, 0.2876235743837417, -0.15273863053357983, 1.0672640673775675, 0.36889847295683714, 1.7582131837067485, 0.6283354504314319, -0.16167766207986853, -0.2872649632996048, 0.8215961640829661, 0.480498537217956, 0.02075013750145252, -1.1453851914667532, 0.07800081841057309, 0.5186564001148111, 1.5079513777650961, -1.1656941375386918, -0.8055939069969118, -0.2696350033683586, -0.8286847723236382, -0.6522682365336133, 1.081691162805879, 0.1831095123488363, -0.5682789533346162, 0.9928132158925893, 1.8871253715982468, 0.4336963940136164, 0.8274590332282141, -1.3676126517313532, 0.3625391579203631, -0.4198420834785065, -1.7522618013398874, -1.0943409743490962, 1.5930933519180994, -0.3809535745932166, -0.07132020664631916, 0.21094772772557083, 1.4262956770952393, -0.18750703633071464, -1.7317701836166697, 1.0554110904290748, 0.7863549983579504, 0.3144640312460261, -2.694341451993742, -1.7842572579759883, 0.04072541689088181, 1.1849237957676644, 1.8613265763690219, -0.02870588501015, 0.024582987754410042, 2.255838657736544, -0.8234897901997741, -0.46085879890447956, 0.7779373045120065, -0.3275359819714058, -0.7620853715885492, 0.2266976150558581, -1.6665125148994269, -0.3403661546390149, 2.163774530063942, -0.17569776103107237, 0.0017418393701614686, -0.3863220961175093, -0.23254668193074243, 0.600094182920535, 1.4454255232328954, -0.07411531823787712, -0.4590766181330314, 1.2483873746197836, 0.6937370335745796, 0.304054615850903, 0.1282050670190241, -0.9963476782052268, 0.7573250780041975, 1.030235018977501, 0.45788355206083126, 0.2179323611002476, -1.2765176224547714, -0.05091228211186459, 0.7872875248289407, -1.3727816638752337, -0.24429024354267057, 0.2848800017257363, -0.9488131295734892, 1.2207557940326388, -0.150187321056821, 0.8319794732355743, -1.4875074618912505, -0.08982822957118794, -0.18921291714367677, -0.40016951985406524, -1.2794571246527122, -1.094534487829649, -0.4642133831026465, -0.35582950036557914, 0.7179682389790413, 0.30336413427558834, -1.7437205498720163], \"yaxis\": \"y12\"}, {\"line\": {\"color\": \"rgba(128, 128, 128, 1.0)\", \"dash\": \"solid\", \"shape\": \"linear\", \"width\": 1.3}, \"marker\": {\"size\": 2, \"symbol\": \"circle\"}, \"mode\": \"markers\", \"name\": \"D\", \"text\": \"\", \"type\": \"scatter\", \"x\": [-0.2531083250970203, 0.44472867520184695, -0.6880739903817269, -0.32389688390050336, -0.21066679145064116, -0.7471305568135573, 1.4644403155760901, -1.5390062758876004, -1.5425674761634856, 0.1845770072180261, -1.04983457028772, 2.958223043449747, 0.19962163438520358, 0.6809530686614672, 0.14535502903675235, -0.7188442819492274, 1.0125690660282616, 0.05224314033522782, -1.8432338689264192, -0.3483895528924191, -0.3583306084919735, 0.4761146454202297, -0.147129437965505, 1.5220538503214163, -1.3273284502582012, 0.16507303161167794, -0.0560374263769096, 0.5784265198295464, -0.2740863346688317, 2.143309560747731, 0.1671101097738608, 0.5490366739554574, 0.013215510451084333, 0.3940727215280942, -0.9521217551672523, -0.018722957509154415, 1.43946284679207, 0.5311864343840943, -0.9576730445124143, 2.615701373800367, 0.2969248462359406, -0.23254471608361083, 0.02390791000105446, -0.5815987415883015, 0.9797377817160473, 0.3983322606335077, -0.6141282028185352, 0.23784349161194623, -1.3199887141335402, 0.6996938400462953, -0.2868779707094815, 3.170323023876777, 0.10997169936554678, 1.3170088130777606, -2.658216644451961, -1.7510785196335596, 0.2911423653054329, -0.3146626882337196, 0.42671812938167997, -0.21623347798306392, 1.3913338101835877, 0.5186823638813134, 0.4992351523475857, 1.068339120041519, 0.6850632859094586, -0.4906088150209769, -0.8859045960411523, 0.3397388469656312, 1.4342595849975506, 0.09561282704554233, -1.2043279788958634, -0.5284463987481448, 0.21111175740921415, 0.6765630612537961, 0.5447339666552157, 1.9232009065877185, 0.9311243971960865, -0.5857662928038426, 0.1309340857065233, 0.6307938743323313, -1.3313404549673353, 0.6918609455835275, 1.261217754803169, 0.6246482895871643, 0.7309726569960078, 0.030697726306293666, -1.9848004838069544, -1.6463370700123259, 1.2178820207045697, 0.532948814095436, 0.3317063505971597, 0.2972599259821757, 0.5219716784009186, -1.3582358763406823, -0.3475294045762002, 0.5304741285949425, -0.7712291619711124, -0.8534484005792922, 0.2469690148994338, -0.49158233930531514], \"xaxis\": \"x13\", \"y\": [-1.1873759401072121, -0.21272893173520116, -0.3337398117192112, -0.26956520378390764, -1.7659624936732585, -0.6978766429196865, 1.6725545487313158, 0.09259338719191819, 1.6453366231173143, -0.3833674186111683, 1.6989508724793339, 0.5983377937837228, 0.5447352846764828, 0.18099022472462933, 1.5307594863059593, 0.23142495576797836, -2.239277531098523, 0.3752910312617037, 0.2122588488728485, -0.9583627400158707, -0.026938775072069886, 0.7131953417154699, 1.2166546304056043, 0.5914997911410284, 0.8470642191414174, 1.6466958348146044, -0.3639331891040234, -1.710068176230475, -1.5574786150076614, -0.6040313136124005, 2.2301466554883644, 0.9273061531277372, -0.7307650207334397, -0.7302001437813028, -0.48750578267528044, -0.35766261050834985, -0.6725031726706149, 0.421873498857747, 0.02556409448236915, 0.4765293982838863, -1.2141185724581982, -1.639107377789116, -1.131724961813166, -0.4991893991036096, 0.8914334239727241, 0.556560970020493, -1.4675191010887423, -0.3973202818189989, -1.3272951822043146, 0.13436309845109753, 0.7554731936109603, 0.20298422685684478, 0.013433041100121399, -1.6219587781765432, -1.2919866455371372, 1.7156967381957249, 0.3421105516382237, 1.2424484347790248, -1.0511765365084793, -0.26770727452964027, 0.2996732318982424, 2.592142105551428, -0.42639407320832945, 2.1374720582633215, 0.1484491726771624, 0.09940343462618549, -0.5139219798838047, -0.8049296505862523, -0.4046966330808061, -1.3430346983946972, -0.06191568728436142, -0.4459407604275068, 0.4540494393224033, 0.8805770779046518, 1.9278319180101513, -0.27752181605053633, -2.0236715828075607, 0.9811780305866094, 2.2022300541591475, -1.3825108801347603, 0.97983023674692, -2.080809733204436, -0.5323966460427149, -1.375565887222923, 0.7640666043568605, 0.848594647794393, -1.1393736168819195, 0.17793233394983657, 1.8972293181130444, 0.959783938955475, 0.940058256679049, 0.2807262610225058, -1.1588288692589268, -1.1965036252006027, 1.2000502779767896, 1.0549663172573462, -0.6876934291592685, 0.572388846989946, -1.3302273547405212, -0.18950379001783332], \"yaxis\": \"y13\"}, {\"line\": {\"color\": \"rgba(128, 128, 128, 1.0)\", \"dash\": \"solid\", \"shape\": \"linear\", \"width\": 1.3}, \"marker\": {\"size\": 2, \"symbol\": \"circle\"}, \"mode\": \"markers\", \"name\": \"D\", \"text\": \"\", \"type\": \"scatter\", \"x\": [0.2692248590674567, 2.5414565169787684, -1.3847684476344624, 1.0279604222570988, 0.32178606562036727, -0.71414958269869, 1.3286475415150187, -0.18602555159568127, -0.6240462160771314, -0.013680420743699132, 0.9216749121898704, 0.36610989844719927, -0.23086136612047775, -1.561147103539752, -1.55113276236753, 0.32854251512931804, -1.764333635340324, -0.7028625061339061, -1.435701932428522, 0.924236301167901, 0.038138911451752064, -0.7590936404033503, -0.11749600252730237, 0.39633006465495496, -0.2107745967287429, 0.5113421067521764, 1.0929602611219198, 0.18439027770308478, -1.0854390751429883, 0.5118711694135236, 0.40958311714195506, -0.41240221065986143, -0.859034971894161, -0.5529096332253796, -0.5232120174327071, -1.1530761095753999, -0.1916230903244878, -0.15954320592542995, -1.3107503419051287, -0.6670439421192467, 0.16252815279435603, 0.5864792595105315, 0.31271069415931163, -1.4156239025283626, -0.2108067683301323, 0.4009473642109201, -0.2717101826795173, -0.41699572886723774, -0.30082422068105297, 0.5047385743026007, -1.9787868569877332, 0.11751434764417365, -0.12085350747255721, 0.34364779893495206, -1.8224513199521488, -1.2065012656680196, -0.7696169392939282, -0.5111253785557218, -0.3545273834343783, 0.8978159418460043, -0.8157526385378127, -0.9572493594332675, 0.4495184342597558, 2.3261108979215734, -1.089090169046952, -0.3542045476423018, -0.43072727366645397, 1.7074628488359203, -0.5323631224416054, -0.635697712321746, 0.48855952132870645, 1.3350182547014884, 2.3452090589417276, 0.09012629968942505, -1.2522205245484084, -0.7845119830949263, -0.6424298754383452, -1.0645184185886827, 1.3427868037204183, -0.3878916530551524, -0.4621215801011234, -1.4910175723377412, 0.002686208823228683, -0.5938418999955112, 0.6179416582649397, 0.15838027440967178, -1.3072408344980595, -0.14037572981081717, 0.08944578304891387, 0.40371386655793834, -1.2090705967400097, -0.15988167399899386, -0.7102046276701807, -1.474292195815174, -0.9781606303475665, -1.2263315181857672, 1.131136855389624, 1.0786752573396445, -1.305477163909878, 0.2421897939764603], \"xaxis\": \"x14\", \"y\": [-1.1873759401072121, -0.21272893173520116, -0.3337398117192112, -0.26956520378390764, -1.7659624936732585, -0.6978766429196865, 1.6725545487313158, 0.09259338719191819, 1.6453366231173143, -0.3833674186111683, 1.6989508724793339, 0.5983377937837228, 0.5447352846764828, 0.18099022472462933, 1.5307594863059593, 0.23142495576797836, -2.239277531098523, 0.3752910312617037, 0.2122588488728485, -0.9583627400158707, -0.026938775072069886, 0.7131953417154699, 1.2166546304056043, 0.5914997911410284, 0.8470642191414174, 1.6466958348146044, -0.3639331891040234, -1.710068176230475, -1.5574786150076614, -0.6040313136124005, 2.2301466554883644, 0.9273061531277372, -0.7307650207334397, -0.7302001437813028, -0.48750578267528044, -0.35766261050834985, -0.6725031726706149, 0.421873498857747, 0.02556409448236915, 0.4765293982838863, -1.2141185724581982, -1.639107377789116, -1.131724961813166, -0.4991893991036096, 0.8914334239727241, 0.556560970020493, -1.4675191010887423, -0.3973202818189989, -1.3272951822043146, 0.13436309845109753, 0.7554731936109603, 0.20298422685684478, 0.013433041100121399, -1.6219587781765432, -1.2919866455371372, 1.7156967381957249, 0.3421105516382237, 1.2424484347790248, -1.0511765365084793, -0.26770727452964027, 0.2996732318982424, 2.592142105551428, -0.42639407320832945, 2.1374720582633215, 0.1484491726771624, 0.09940343462618549, -0.5139219798838047, -0.8049296505862523, -0.4046966330808061, -1.3430346983946972, -0.06191568728436142, -0.4459407604275068, 0.4540494393224033, 0.8805770779046518, 1.9278319180101513, -0.27752181605053633, -2.0236715828075607, 0.9811780305866094, 2.2022300541591475, -1.3825108801347603, 0.97983023674692, -2.080809733204436, -0.5323966460427149, -1.375565887222923, 0.7640666043568605, 0.848594647794393, -1.1393736168819195, 0.17793233394983657, 1.8972293181130444, 0.959783938955475, 0.940058256679049, 0.2807262610225058, -1.1588288692589268, -1.1965036252006027, 1.2000502779767896, 1.0549663172573462, -0.6876934291592685, 0.572388846989946, -1.3302273547405212, -0.18950379001783332], \"yaxis\": \"y14\"}, {\"line\": {\"color\": \"rgba(128, 128, 128, 1.0)\", \"dash\": \"solid\", \"shape\": \"linear\", \"width\": 1.3}, \"marker\": {\"size\": 2, \"symbol\": \"circle\"}, \"mode\": \"markers\", \"name\": \"D\", \"text\": \"\", \"type\": \"scatter\", \"x\": [0.9845430614354537, 1.4264547784811157, 1.8185224615598867, 0.2876235743837417, -0.15273863053357983, 1.0672640673775675, 0.36889847295683714, 1.7582131837067485, 0.6283354504314319, -0.16167766207986853, -0.2872649632996048, 0.8215961640829661, 0.480498537217956, 0.02075013750145252, -1.1453851914667532, 0.07800081841057309, 0.5186564001148111, 1.5079513777650961, -1.1656941375386918, -0.8055939069969118, -0.2696350033683586, -0.8286847723236382, -0.6522682365336133, 1.081691162805879, 0.1831095123488363, -0.5682789533346162, 0.9928132158925893, 1.8871253715982468, 0.4336963940136164, 0.8274590332282141, -1.3676126517313532, 0.3625391579203631, -0.4198420834785065, -1.7522618013398874, -1.0943409743490962, 1.5930933519180994, -0.3809535745932166, -0.07132020664631916, 0.21094772772557083, 1.4262956770952393, -0.18750703633071464, -1.7317701836166697, 1.0554110904290748, 0.7863549983579504, 0.3144640312460261, -2.694341451993742, -1.7842572579759883, 0.04072541689088181, 1.1849237957676644, 1.8613265763690219, -0.02870588501015, 0.024582987754410042, 2.255838657736544, -0.8234897901997741, -0.46085879890447956, 0.7779373045120065, -0.3275359819714058, -0.7620853715885492, 0.2266976150558581, -1.6665125148994269, -0.3403661546390149, 2.163774530063942, -0.17569776103107237, 0.0017418393701614686, -0.3863220961175093, -0.23254668193074243, 0.600094182920535, 1.4454255232328954, -0.07411531823787712, -0.4590766181330314, 1.2483873746197836, 0.6937370335745796, 0.304054615850903, 0.1282050670190241, -0.9963476782052268, 0.7573250780041975, 1.030235018977501, 0.45788355206083126, 0.2179323611002476, -1.2765176224547714, -0.05091228211186459, 0.7872875248289407, -1.3727816638752337, -0.24429024354267057, 0.2848800017257363, -0.9488131295734892, 1.2207557940326388, -0.150187321056821, 0.8319794732355743, -1.4875074618912505, -0.08982822957118794, -0.18921291714367677, -0.40016951985406524, -1.2794571246527122, -1.094534487829649, -0.4642133831026465, -0.35582950036557914, 0.7179682389790413, 0.30336413427558834, -1.7437205498720163], \"xaxis\": \"x15\", \"y\": [-1.1873759401072121, -0.21272893173520116, -0.3337398117192112, -0.26956520378390764, -1.7659624936732585, -0.6978766429196865, 1.6725545487313158, 0.09259338719191819, 1.6453366231173143, -0.3833674186111683, 1.6989508724793339, 0.5983377937837228, 0.5447352846764828, 0.18099022472462933, 1.5307594863059593, 0.23142495576797836, -2.239277531098523, 0.3752910312617037, 0.2122588488728485, -0.9583627400158707, -0.026938775072069886, 0.7131953417154699, 1.2166546304056043, 0.5914997911410284, 0.8470642191414174, 1.6466958348146044, -0.3639331891040234, -1.710068176230475, -1.5574786150076614, -0.6040313136124005, 2.2301466554883644, 0.9273061531277372, -0.7307650207334397, -0.7302001437813028, -0.48750578267528044, -0.35766261050834985, -0.6725031726706149, 0.421873498857747, 0.02556409448236915, 0.4765293982838863, -1.2141185724581982, -1.639107377789116, -1.131724961813166, -0.4991893991036096, 0.8914334239727241, 0.556560970020493, -1.4675191010887423, -0.3973202818189989, -1.3272951822043146, 0.13436309845109753, 0.7554731936109603, 0.20298422685684478, 0.013433041100121399, -1.6219587781765432, -1.2919866455371372, 1.7156967381957249, 0.3421105516382237, 1.2424484347790248, -1.0511765365084793, -0.26770727452964027, 0.2996732318982424, 2.592142105551428, -0.42639407320832945, 2.1374720582633215, 0.1484491726771624, 0.09940343462618549, -0.5139219798838047, -0.8049296505862523, -0.4046966330808061, -1.3430346983946972, -0.06191568728436142, -0.4459407604275068, 0.4540494393224033, 0.8805770779046518, 1.9278319180101513, -0.27752181605053633, -2.0236715828075607, 0.9811780305866094, 2.2022300541591475, -1.3825108801347603, 0.97983023674692, -2.080809733204436, -0.5323966460427149, -1.375565887222923, 0.7640666043568605, 0.848594647794393, -1.1393736168819195, 0.17793233394983657, 1.8972293181130444, 0.959783938955475, 0.940058256679049, 0.2807262610225058, -1.1588288692589268, -1.1965036252006027, 1.2000502779767896, 1.0549663172573462, -0.6876934291592685, 0.572388846989946, -1.3302273547405212, -0.18950379001783332], \"yaxis\": \"y15\"}, {\"histfunc\": \"count\", \"histnorm\": \"\", \"marker\": {\"color\": \"rgba(128, 0, 128, 1.0)\", \"line\": {\"color\": \"#4D5663\", \"width\": 1.3}}, \"name\": \"D\", \"nbinsx\": 10, \"opacity\": 0.8, \"orientation\": \"v\", \"type\": \"histogram\", \"x\": [-1.1873759401072121, -0.21272893173520116, -0.3337398117192112, -0.26956520378390764, -1.7659624936732585, -0.6978766429196865, 1.6725545487313158, 0.09259338719191819, 1.6453366231173143, -0.3833674186111683, 1.6989508724793339, 0.5983377937837228, 0.5447352846764828, 0.18099022472462933, 1.5307594863059593, 0.23142495576797836, -2.239277531098523, 0.3752910312617037, 0.2122588488728485, -0.9583627400158707, -0.026938775072069886, 0.7131953417154699, 1.2166546304056043, 0.5914997911410284, 0.8470642191414174, 1.6466958348146044, -0.3639331891040234, -1.710068176230475, -1.5574786150076614, -0.6040313136124005, 2.2301466554883644, 0.9273061531277372, -0.7307650207334397, -0.7302001437813028, -0.48750578267528044, -0.35766261050834985, -0.6725031726706149, 0.421873498857747, 0.02556409448236915, 0.4765293982838863, -1.2141185724581982, -1.639107377789116, -1.131724961813166, -0.4991893991036096, 0.8914334239727241, 0.556560970020493, -1.4675191010887423, -0.3973202818189989, -1.3272951822043146, 0.13436309845109753, 0.7554731936109603, 0.20298422685684478, 0.013433041100121399, -1.6219587781765432, -1.2919866455371372, 1.7156967381957249, 0.3421105516382237, 1.2424484347790248, -1.0511765365084793, -0.26770727452964027, 0.2996732318982424, 2.592142105551428, -0.42639407320832945, 2.1374720582633215, 0.1484491726771624, 0.09940343462618549, -0.5139219798838047, -0.8049296505862523, -0.4046966330808061, -1.3430346983946972, -0.06191568728436142, -0.4459407604275068, 0.4540494393224033, 0.8805770779046518, 1.9278319180101513, -0.27752181605053633, -2.0236715828075607, 0.9811780305866094, 2.2022300541591475, -1.3825108801347603, 0.97983023674692, -2.080809733204436, -0.5323966460427149, -1.375565887222923, 0.7640666043568605, 0.848594647794393, -1.1393736168819195, 0.17793233394983657, 1.8972293181130444, 0.959783938955475, 0.940058256679049, 0.2807262610225058, -1.1588288692589268, -1.1965036252006027, 1.2000502779767896, 1.0549663172573462, -0.6876934291592685, 0.572388846989946, -1.3302273547405212, -0.18950379001783332], \"xaxis\": \"x16\", \"yaxis\": \"y16\"}],                        {\"bargap\": 0.02, \"legend\": {\"bgcolor\": \"#F5F6F9\", \"font\": {\"color\": \"#4D5663\"}}, \"paper_bgcolor\": \"#F5F6F9\", \"plot_bgcolor\": \"#F5F6F9\", \"showlegend\": false, \"template\": {\"data\": {\"bar\": [{\"error_x\": {\"color\": \"#2a3f5f\"}, \"error_y\": {\"color\": \"#2a3f5f\"}, \"marker\": {\"line\": {\"color\": \"#E5ECF6\", \"width\": 0.5}}, \"type\": \"bar\"}], \"barpolar\": [{\"marker\": {\"line\": {\"color\": \"#E5ECF6\", \"width\": 0.5}}, \"type\": \"barpolar\"}], \"carpet\": [{\"aaxis\": {\"endlinecolor\": \"#2a3f5f\", \"gridcolor\": \"white\", \"linecolor\": \"white\", \"minorgridcolor\": \"white\", \"startlinecolor\": \"#2a3f5f\"}, \"baxis\": {\"endlinecolor\": \"#2a3f5f\", \"gridcolor\": \"white\", \"linecolor\": \"white\", \"minorgridcolor\": \"white\", \"startlinecolor\": \"#2a3f5f\"}, \"type\": \"carpet\"}], \"choropleth\": [{\"colorbar\": {\"outlinewidth\": 0, \"ticks\": \"\"}, \"type\": \"choropleth\"}], \"contour\": [{\"colorbar\": {\"outlinewidth\": 0, \"ticks\": \"\"}, \"colorscale\": [[0.0, \"#0d0887\"], [0.1111111111111111, \"#46039f\"], [0.2222222222222222, \"#7201a8\"], [0.3333333333333333, \"#9c179e\"], [0.4444444444444444, \"#bd3786\"], [0.5555555555555556, \"#d8576b\"], [0.6666666666666666, \"#ed7953\"], [0.7777777777777778, \"#fb9f3a\"], [0.8888888888888888, \"#fdca26\"], [1.0, \"#f0f921\"]], \"type\": \"contour\"}], \"contourcarpet\": [{\"colorbar\": {\"outlinewidth\": 0, \"ticks\": \"\"}, \"type\": \"contourcarpet\"}], \"heatmap\": [{\"colorbar\": {\"outlinewidth\": 0, \"ticks\": \"\"}, \"colorscale\": [[0.0, \"#0d0887\"], [0.1111111111111111, \"#46039f\"], [0.2222222222222222, \"#7201a8\"], [0.3333333333333333, \"#9c179e\"], [0.4444444444444444, \"#bd3786\"], [0.5555555555555556, \"#d8576b\"], [0.6666666666666666, \"#ed7953\"], [0.7777777777777778, \"#fb9f3a\"], [0.8888888888888888, \"#fdca26\"], [1.0, \"#f0f921\"]], \"type\": \"heatmap\"}], \"heatmapgl\": [{\"colorbar\": {\"outlinewidth\": 0, \"ticks\": \"\"}, \"colorscale\": [[0.0, \"#0d0887\"], [0.1111111111111111, \"#46039f\"], [0.2222222222222222, \"#7201a8\"], [0.3333333333333333, \"#9c179e\"], [0.4444444444444444, \"#bd3786\"], [0.5555555555555556, \"#d8576b\"], [0.6666666666666666, \"#ed7953\"], [0.7777777777777778, \"#fb9f3a\"], [0.8888888888888888, \"#fdca26\"], [1.0, \"#f0f921\"]], \"type\": \"heatmapgl\"}], \"histogram\": [{\"marker\": {\"colorbar\": {\"outlinewidth\": 0, \"ticks\": \"\"}}, \"type\": \"histogram\"}], \"histogram2d\": [{\"colorbar\": {\"outlinewidth\": 0, \"ticks\": \"\"}, \"colorscale\": [[0.0, \"#0d0887\"], [0.1111111111111111, \"#46039f\"], [0.2222222222222222, \"#7201a8\"], [0.3333333333333333, \"#9c179e\"], [0.4444444444444444, \"#bd3786\"], [0.5555555555555556, \"#d8576b\"], [0.6666666666666666, \"#ed7953\"], [0.7777777777777778, \"#fb9f3a\"], [0.8888888888888888, \"#fdca26\"], [1.0, \"#f0f921\"]], \"type\": \"histogram2d\"}], \"histogram2dcontour\": [{\"colorbar\": {\"outlinewidth\": 0, \"ticks\": \"\"}, \"colorscale\": [[0.0, \"#0d0887\"], [0.1111111111111111, \"#46039f\"], [0.2222222222222222, \"#7201a8\"], [0.3333333333333333, \"#9c179e\"], [0.4444444444444444, \"#bd3786\"], [0.5555555555555556, \"#d8576b\"], [0.6666666666666666, \"#ed7953\"], [0.7777777777777778, \"#fb9f3a\"], [0.8888888888888888, \"#fdca26\"], [1.0, \"#f0f921\"]], \"type\": \"histogram2dcontour\"}], \"mesh3d\": [{\"colorbar\": {\"outlinewidth\": 0, \"ticks\": \"\"}, \"type\": \"mesh3d\"}], \"parcoords\": [{\"line\": {\"colorbar\": {\"outlinewidth\": 0, \"ticks\": \"\"}}, \"type\": \"parcoords\"}], \"pie\": [{\"automargin\": true, \"type\": \"pie\"}], \"scatter\": [{\"marker\": {\"colorbar\": {\"outlinewidth\": 0, \"ticks\": \"\"}}, \"type\": \"scatter\"}], \"scatter3d\": [{\"line\": {\"colorbar\": {\"outlinewidth\": 0, \"ticks\": \"\"}}, \"marker\": {\"colorbar\": {\"outlinewidth\": 0, \"ticks\": \"\"}}, \"type\": \"scatter3d\"}], \"scattercarpet\": [{\"marker\": {\"colorbar\": {\"outlinewidth\": 0, \"ticks\": \"\"}}, \"type\": \"scattercarpet\"}], \"scattergeo\": [{\"marker\": {\"colorbar\": {\"outlinewidth\": 0, \"ticks\": \"\"}}, \"type\": \"scattergeo\"}], \"scattergl\": [{\"marker\": {\"colorbar\": {\"outlinewidth\": 0, \"ticks\": \"\"}}, \"type\": \"scattergl\"}], \"scattermapbox\": [{\"marker\": {\"colorbar\": {\"outlinewidth\": 0, \"ticks\": \"\"}}, \"type\": \"scattermapbox\"}], \"scatterpolar\": [{\"marker\": {\"colorbar\": {\"outlinewidth\": 0, \"ticks\": \"\"}}, \"type\": \"scatterpolar\"}], \"scatterpolargl\": [{\"marker\": {\"colorbar\": {\"outlinewidth\": 0, \"ticks\": \"\"}}, \"type\": \"scatterpolargl\"}], \"scatterternary\": [{\"marker\": {\"colorbar\": {\"outlinewidth\": 0, \"ticks\": \"\"}}, \"type\": \"scatterternary\"}], \"surface\": [{\"colorbar\": {\"outlinewidth\": 0, \"ticks\": \"\"}, \"colorscale\": [[0.0, \"#0d0887\"], [0.1111111111111111, \"#46039f\"], [0.2222222222222222, \"#7201a8\"], [0.3333333333333333, \"#9c179e\"], [0.4444444444444444, \"#bd3786\"], [0.5555555555555556, \"#d8576b\"], [0.6666666666666666, \"#ed7953\"], [0.7777777777777778, \"#fb9f3a\"], [0.8888888888888888, \"#fdca26\"], [1.0, \"#f0f921\"]], \"type\": \"surface\"}], \"table\": [{\"cells\": {\"fill\": {\"color\": \"#EBF0F8\"}, \"line\": {\"color\": \"white\"}}, \"header\": {\"fill\": {\"color\": \"#C8D4E3\"}, \"line\": {\"color\": \"white\"}}, \"type\": \"table\"}]}, \"layout\": {\"annotationdefaults\": {\"arrowcolor\": \"#2a3f5f\", \"arrowhead\": 0, \"arrowwidth\": 1}, \"autotypenumbers\": \"strict\", \"coloraxis\": {\"colorbar\": {\"outlinewidth\": 0, \"ticks\": \"\"}}, \"colorscale\": {\"diverging\": [[0, \"#8e0152\"], [0.1, \"#c51b7d\"], [0.2, \"#de77ae\"], [0.3, \"#f1b6da\"], [0.4, \"#fde0ef\"], [0.5, \"#f7f7f7\"], [0.6, \"#e6f5d0\"], [0.7, \"#b8e186\"], [0.8, \"#7fbc41\"], [0.9, \"#4d9221\"], [1, \"#276419\"]], \"sequential\": [[0.0, \"#0d0887\"], [0.1111111111111111, \"#46039f\"], [0.2222222222222222, \"#7201a8\"], [0.3333333333333333, \"#9c179e\"], [0.4444444444444444, \"#bd3786\"], [0.5555555555555556, \"#d8576b\"], [0.6666666666666666, \"#ed7953\"], [0.7777777777777778, \"#fb9f3a\"], [0.8888888888888888, \"#fdca26\"], [1.0, \"#f0f921\"]], \"sequentialminus\": [[0.0, \"#0d0887\"], [0.1111111111111111, \"#46039f\"], [0.2222222222222222, \"#7201a8\"], [0.3333333333333333, \"#9c179e\"], [0.4444444444444444, \"#bd3786\"], [0.5555555555555556, \"#d8576b\"], [0.6666666666666666, \"#ed7953\"], [0.7777777777777778, \"#fb9f3a\"], [0.8888888888888888, \"#fdca26\"], [1.0, \"#f0f921\"]]}, \"colorway\": [\"#636efa\", \"#EF553B\", \"#00cc96\", \"#ab63fa\", \"#FFA15A\", \"#19d3f3\", \"#FF6692\", \"#B6E880\", \"#FF97FF\", \"#FECB52\"], \"font\": {\"color\": \"#2a3f5f\"}, \"geo\": {\"bgcolor\": \"white\", \"lakecolor\": \"white\", \"landcolor\": \"#E5ECF6\", \"showlakes\": true, \"showland\": true, \"subunitcolor\": \"white\"}, \"hoverlabel\": {\"align\": \"left\"}, \"hovermode\": \"closest\", \"mapbox\": {\"style\": \"light\"}, \"paper_bgcolor\": \"white\", \"plot_bgcolor\": \"#E5ECF6\", \"polar\": {\"angularaxis\": {\"gridcolor\": \"white\", \"linecolor\": \"white\", \"ticks\": \"\"}, \"bgcolor\": \"#E5ECF6\", \"radialaxis\": {\"gridcolor\": \"white\", \"linecolor\": \"white\", \"ticks\": \"\"}}, \"scene\": {\"xaxis\": {\"backgroundcolor\": \"#E5ECF6\", \"gridcolor\": \"white\", \"gridwidth\": 2, \"linecolor\": \"white\", \"showbackground\": true, \"ticks\": \"\", \"zerolinecolor\": \"white\"}, \"yaxis\": {\"backgroundcolor\": \"#E5ECF6\", \"gridcolor\": \"white\", \"gridwidth\": 2, \"linecolor\": \"white\", \"showbackground\": true, \"ticks\": \"\", \"zerolinecolor\": \"white\"}, \"zaxis\": {\"backgroundcolor\": \"#E5ECF6\", \"gridcolor\": \"white\", \"gridwidth\": 2, \"linecolor\": \"white\", \"showbackground\": true, \"ticks\": \"\", \"zerolinecolor\": \"white\"}}, \"shapedefaults\": {\"line\": {\"color\": \"#2a3f5f\"}}, \"ternary\": {\"aaxis\": {\"gridcolor\": \"white\", \"linecolor\": \"white\", \"ticks\": \"\"}, \"baxis\": {\"gridcolor\": \"white\", \"linecolor\": \"white\", \"ticks\": \"\"}, \"bgcolor\": \"#E5ECF6\", \"caxis\": {\"gridcolor\": \"white\", \"linecolor\": \"white\", \"ticks\": \"\"}}, \"title\": {\"x\": 0.05}, \"xaxis\": {\"automargin\": true, \"gridcolor\": \"white\", \"linecolor\": \"white\", \"ticks\": \"\", \"title\": {\"standoff\": 15}, \"zerolinecolor\": \"white\", \"zerolinewidth\": 2}, \"yaxis\": {\"automargin\": true, \"gridcolor\": \"white\", \"linecolor\": \"white\", \"ticks\": \"\", \"title\": {\"standoff\": 15}, \"zerolinecolor\": \"white\", \"zerolinewidth\": 2}}}, \"title\": {\"font\": {\"color\": \"#4D5663\"}}, \"xaxis\": {\"anchor\": \"y\", \"domain\": [0.0, 0.2125], \"gridcolor\": \"#E1E5ED\", \"showgrid\": false, \"tickfont\": {\"color\": \"#4D5663\"}, \"title\": {\"font\": {\"color\": \"#4D5663\"}, \"text\": \"\"}, \"zerolinecolor\": \"#E1E5ED\"}, \"xaxis10\": {\"anchor\": \"y10\", \"domain\": [0.2625, 0.475], \"gridcolor\": \"#E1E5ED\", \"showgrid\": false, \"tickfont\": {\"color\": \"#4D5663\"}, \"title\": {\"font\": {\"color\": \"#4D5663\"}, \"text\": \"\"}, \"zerolinecolor\": \"#E1E5ED\"}, \"xaxis11\": {\"anchor\": \"y11\", \"domain\": [0.525, 0.7375], \"gridcolor\": \"#E1E5ED\", \"showgrid\": false, \"tickfont\": {\"color\": \"#4D5663\"}, \"title\": {\"font\": {\"color\": \"#4D5663\"}, \"text\": \"\"}, \"zerolinecolor\": \"#E1E5ED\"}, \"xaxis12\": {\"anchor\": \"y12\", \"domain\": [0.7875, 1.0], \"gridcolor\": \"#E1E5ED\", \"showgrid\": false, \"tickfont\": {\"color\": \"#4D5663\"}, \"title\": {\"font\": {\"color\": \"#4D5663\"}, \"text\": \"\"}, \"zerolinecolor\": \"#E1E5ED\"}, \"xaxis13\": {\"anchor\": \"y13\", \"domain\": [0.0, 0.2125], \"gridcolor\": \"#E1E5ED\", \"showgrid\": false, \"tickfont\": {\"color\": \"#4D5663\"}, \"title\": {\"font\": {\"color\": \"#4D5663\"}, \"text\": \"\"}, \"zerolinecolor\": \"#E1E5ED\"}, \"xaxis14\": {\"anchor\": \"y14\", \"domain\": [0.2625, 0.475], \"gridcolor\": \"#E1E5ED\", \"showgrid\": false, \"tickfont\": {\"color\": \"#4D5663\"}, \"title\": {\"font\": {\"color\": \"#4D5663\"}, \"text\": \"\"}, \"zerolinecolor\": \"#E1E5ED\"}, \"xaxis15\": {\"anchor\": \"y15\", \"domain\": [0.525, 0.7375], \"gridcolor\": \"#E1E5ED\", \"showgrid\": false, \"tickfont\": {\"color\": \"#4D5663\"}, \"title\": {\"font\": {\"color\": \"#4D5663\"}, \"text\": \"\"}, \"zerolinecolor\": \"#E1E5ED\"}, \"xaxis16\": {\"anchor\": \"y16\", \"domain\": [0.7875, 1.0], \"gridcolor\": \"#E1E5ED\", \"showgrid\": false, \"tickfont\": {\"color\": \"#4D5663\"}, \"title\": {\"font\": {\"color\": \"#4D5663\"}, \"text\": \"\"}, \"zerolinecolor\": \"#E1E5ED\"}, \"xaxis2\": {\"anchor\": \"y2\", \"domain\": [0.2625, 0.475], \"gridcolor\": \"#E1E5ED\", \"showgrid\": false, \"tickfont\": {\"color\": \"#4D5663\"}, \"title\": {\"font\": {\"color\": \"#4D5663\"}, \"text\": \"\"}, \"zerolinecolor\": \"#E1E5ED\"}, \"xaxis3\": {\"anchor\": \"y3\", \"domain\": [0.525, 0.7375], \"gridcolor\": \"#E1E5ED\", \"showgrid\": false, \"tickfont\": {\"color\": \"#4D5663\"}, \"title\": {\"font\": {\"color\": \"#4D5663\"}, \"text\": \"\"}, \"zerolinecolor\": \"#E1E5ED\"}, \"xaxis4\": {\"anchor\": \"y4\", \"domain\": [0.7875, 1.0], \"gridcolor\": \"#E1E5ED\", \"showgrid\": false, \"tickfont\": {\"color\": \"#4D5663\"}, \"title\": {\"font\": {\"color\": \"#4D5663\"}, \"text\": \"\"}, \"zerolinecolor\": \"#E1E5ED\"}, \"xaxis5\": {\"anchor\": \"y5\", \"domain\": [0.0, 0.2125], \"gridcolor\": \"#E1E5ED\", \"showgrid\": false, \"tickfont\": {\"color\": \"#4D5663\"}, \"title\": {\"font\": {\"color\": \"#4D5663\"}, \"text\": \"\"}, \"zerolinecolor\": \"#E1E5ED\"}, \"xaxis6\": {\"anchor\": \"y6\", \"domain\": [0.2625, 0.475], \"gridcolor\": \"#E1E5ED\", \"showgrid\": false, \"tickfont\": {\"color\": \"#4D5663\"}, \"title\": {\"font\": {\"color\": \"#4D5663\"}, \"text\": \"\"}, \"zerolinecolor\": \"#E1E5ED\"}, \"xaxis7\": {\"anchor\": \"y7\", \"domain\": [0.525, 0.7375], \"gridcolor\": \"#E1E5ED\", \"showgrid\": false, \"tickfont\": {\"color\": \"#4D5663\"}, \"title\": {\"font\": {\"color\": \"#4D5663\"}, \"text\": \"\"}, \"zerolinecolor\": \"#E1E5ED\"}, \"xaxis8\": {\"anchor\": \"y8\", \"domain\": [0.7875, 1.0], \"gridcolor\": \"#E1E5ED\", \"showgrid\": false, \"tickfont\": {\"color\": \"#4D5663\"}, \"title\": {\"font\": {\"color\": \"#4D5663\"}, \"text\": \"\"}, \"zerolinecolor\": \"#E1E5ED\"}, \"xaxis9\": {\"anchor\": \"y9\", \"domain\": [0.0, 0.2125], \"gridcolor\": \"#E1E5ED\", \"showgrid\": false, \"tickfont\": {\"color\": \"#4D5663\"}, \"title\": {\"font\": {\"color\": \"#4D5663\"}, \"text\": \"\"}, \"zerolinecolor\": \"#E1E5ED\"}, \"yaxis\": {\"anchor\": \"x\", \"domain\": [0.8025, 1.0], \"gridcolor\": \"#E1E5ED\", \"showgrid\": false, \"tickfont\": {\"color\": \"#4D5663\"}, \"title\": {\"font\": {\"color\": \"#4D5663\"}, \"text\": \"\"}, \"zerolinecolor\": \"#E1E5ED\"}, \"yaxis10\": {\"anchor\": \"x10\", \"domain\": [0.2675, 0.465], \"gridcolor\": \"#E1E5ED\", \"showgrid\": false, \"tickfont\": {\"color\": \"#4D5663\"}, \"title\": {\"font\": {\"color\": \"#4D5663\"}, \"text\": \"\"}, \"zerolinecolor\": \"#E1E5ED\"}, \"yaxis11\": {\"anchor\": \"x11\", \"domain\": [0.2675, 0.465], \"gridcolor\": \"#E1E5ED\", \"showgrid\": false, \"tickfont\": {\"color\": \"#4D5663\"}, \"title\": {\"font\": {\"color\": \"#4D5663\"}, \"text\": \"\"}, \"zerolinecolor\": \"#E1E5ED\"}, \"yaxis12\": {\"anchor\": \"x12\", \"domain\": [0.2675, 0.465], \"gridcolor\": \"#E1E5ED\", \"showgrid\": false, \"tickfont\": {\"color\": \"#4D5663\"}, \"title\": {\"font\": {\"color\": \"#4D5663\"}, \"text\": \"\"}, \"zerolinecolor\": \"#E1E5ED\"}, \"yaxis13\": {\"anchor\": \"x13\", \"domain\": [0.0, 0.1975], \"gridcolor\": \"#E1E5ED\", \"showgrid\": false, \"tickfont\": {\"color\": \"#4D5663\"}, \"title\": {\"font\": {\"color\": \"#4D5663\"}, \"text\": \"\"}, \"zerolinecolor\": \"#E1E5ED\"}, \"yaxis14\": {\"anchor\": \"x14\", \"domain\": [0.0, 0.1975], \"gridcolor\": \"#E1E5ED\", \"showgrid\": false, \"tickfont\": {\"color\": \"#4D5663\"}, \"title\": {\"font\": {\"color\": \"#4D5663\"}, \"text\": \"\"}, \"zerolinecolor\": \"#E1E5ED\"}, \"yaxis15\": {\"anchor\": \"x15\", \"domain\": [0.0, 0.1975], \"gridcolor\": \"#E1E5ED\", \"showgrid\": false, \"tickfont\": {\"color\": \"#4D5663\"}, \"title\": {\"font\": {\"color\": \"#4D5663\"}, \"text\": \"\"}, \"zerolinecolor\": \"#E1E5ED\"}, \"yaxis16\": {\"anchor\": \"x16\", \"domain\": [0.0, 0.1975], \"gridcolor\": \"#E1E5ED\", \"showgrid\": false, \"tickfont\": {\"color\": \"#4D5663\"}, \"title\": {\"font\": {\"color\": \"#4D5663\"}, \"text\": \"\"}, \"zerolinecolor\": \"#E1E5ED\"}, \"yaxis2\": {\"anchor\": \"x2\", \"domain\": [0.8025, 1.0], \"gridcolor\": \"#E1E5ED\", \"showgrid\": false, \"tickfont\": {\"color\": \"#4D5663\"}, \"title\": {\"font\": {\"color\": \"#4D5663\"}, \"text\": \"\"}, \"zerolinecolor\": \"#E1E5ED\"}, \"yaxis3\": {\"anchor\": \"x3\", \"domain\": [0.8025, 1.0], \"gridcolor\": \"#E1E5ED\", \"showgrid\": false, \"tickfont\": {\"color\": \"#4D5663\"}, \"title\": {\"font\": {\"color\": \"#4D5663\"}, \"text\": \"\"}, \"zerolinecolor\": \"#E1E5ED\"}, \"yaxis4\": {\"anchor\": \"x4\", \"domain\": [0.8025, 1.0], \"gridcolor\": \"#E1E5ED\", \"showgrid\": false, \"tickfont\": {\"color\": \"#4D5663\"}, \"title\": {\"font\": {\"color\": \"#4D5663\"}, \"text\": \"\"}, \"zerolinecolor\": \"#E1E5ED\"}, \"yaxis5\": {\"anchor\": \"x5\", \"domain\": [0.535, 0.7325], \"gridcolor\": \"#E1E5ED\", \"showgrid\": false, \"tickfont\": {\"color\": \"#4D5663\"}, \"title\": {\"font\": {\"color\": \"#4D5663\"}, \"text\": \"\"}, \"zerolinecolor\": \"#E1E5ED\"}, \"yaxis6\": {\"anchor\": \"x6\", \"domain\": [0.535, 0.7325], \"gridcolor\": \"#E1E5ED\", \"showgrid\": false, \"tickfont\": {\"color\": \"#4D5663\"}, \"title\": {\"font\": {\"color\": \"#4D5663\"}, \"text\": \"\"}, \"zerolinecolor\": \"#E1E5ED\"}, \"yaxis7\": {\"anchor\": \"x7\", \"domain\": [0.535, 0.7325], \"gridcolor\": \"#E1E5ED\", \"showgrid\": false, \"tickfont\": {\"color\": \"#4D5663\"}, \"title\": {\"font\": {\"color\": \"#4D5663\"}, \"text\": \"\"}, \"zerolinecolor\": \"#E1E5ED\"}, \"yaxis8\": {\"anchor\": \"x8\", \"domain\": [0.535, 0.7325], \"gridcolor\": \"#E1E5ED\", \"showgrid\": false, \"tickfont\": {\"color\": \"#4D5663\"}, \"title\": {\"font\": {\"color\": \"#4D5663\"}, \"text\": \"\"}, \"zerolinecolor\": \"#E1E5ED\"}, \"yaxis9\": {\"anchor\": \"x9\", \"domain\": [0.2675, 0.465], \"gridcolor\": \"#E1E5ED\", \"showgrid\": false, \"tickfont\": {\"color\": \"#4D5663\"}, \"title\": {\"font\": {\"color\": \"#4D5663\"}, \"text\": \"\"}, \"zerolinecolor\": \"#E1E5ED\"}},                        {\"showLink\": true, \"linkText\": \"Export to plot.ly\", \"plotlyServerURL\": \"https://plot.ly\", \"responsive\": true}                    ).then(function(){\n",
       "                            \n",
       "var gd = document.getElementById('06fd7353-abe9-4669-a38b-a5277dd908e0');\n",
       "var x = new MutationObserver(function (mutations, observer) {{\n",
       "        var display = window.getComputedStyle(gd).display;\n",
       "        if (!display || display === 'none') {{\n",
       "            console.log([gd, 'removed!']);\n",
       "            Plotly.purge(gd);\n",
       "            observer.disconnect();\n",
       "        }}\n",
       "}});\n",
       "\n",
       "// Listen for the removal of the full notebook cells\n",
       "var notebookContainer = gd.closest('#notebook-container');\n",
       "if (notebookContainer) {{\n",
       "    x.observe(notebookContainer, {childList: true});\n",
       "}}\n",
       "\n",
       "// Listen for the clearing of the current output cell\n",
       "var outputEl = gd.closest('.output');\n",
       "if (outputEl) {{\n",
       "    x.observe(outputEl, {childList: true});\n",
       "}}\n",
       "\n",
       "                        })                };                });            </script>        </div>"
      ]
     },
     "metadata": {},
     "output_type": "display_data"
    }
   ],
   "source": [
    "df.scatter_matrix()"
   ]
  }
 ],
 "metadata": {
  "kernelspec": {
   "display_name": "Python 3",
   "language": "python",
   "name": "python3"
  },
  "language_info": {
   "codemirror_mode": {
    "name": "ipython",
    "version": 3
   },
   "file_extension": ".py",
   "mimetype": "text/x-python",
   "name": "python",
   "nbconvert_exporter": "python",
   "pygments_lexer": "ipython3",
   "version": "3.8.2"
  }
 },
 "nbformat": 4,
 "nbformat_minor": 4
}
